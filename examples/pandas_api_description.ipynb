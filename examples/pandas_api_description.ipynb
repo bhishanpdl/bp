{
 "cells": [
  {
   "cell_type": "markdown",
   "metadata": {
    "toc": true
   },
   "source": [
    "<h1>Table of Contents<span class=\"tocSkip\"></span></h1>\n",
    "<div class=\"toc\"><ul class=\"toc-item\"><li><span><a href=\"#Description\" data-toc-modified-id=\"Description-1\"><span class=\"toc-item-num\">1&nbsp;&nbsp;</span>Description</a></span></li><li><span><a href=\"#Imports\" data-toc-modified-id=\"Imports-2\"><span class=\"toc-item-num\">2&nbsp;&nbsp;</span>Imports</a></span></li><li><span><a href=\"#Using-plotly-api-in-module-bhishan\" data-toc-modified-id=\"Using-plotly-api-in-module-bhishan-3\"><span class=\"toc-item-num\">3&nbsp;&nbsp;</span>Using plotly api in module bhishan</a></span></li></ul></div>"
   ]
  },
  {
   "cell_type": "markdown",
   "metadata": {},
   "source": [
    "# Description\n",
    "This is an example tutorial to use my module bhishan for the plotly\n",
    "extension for pandas.\n"
   ]
  },
  {
   "cell_type": "markdown",
   "metadata": {},
   "source": [
    "# Imports"
   ]
  },
  {
   "cell_type": "code",
   "execution_count": 1,
   "metadata": {
    "ExecuteTime": {
     "end_time": "2020-09-28T22:43:01.670967Z",
     "start_time": "2020-09-28T22:42:59.893542Z"
    }
   },
   "outputs": [
    {
     "name": "stdout",
     "output_type": "stream",
     "text": [
      "Bhishan Poudel 2020-09-28 \n",
      "\n",
      "CPython 3.7.7\n",
      "IPython 7.18.1\n",
      "\n",
      "compiler   : Clang 4.0.1 (tags/RELEASE_401/final)\n",
      "system     : Darwin\n",
      "release    : 19.6.0\n",
      "machine    : x86_64\n",
      "processor  : i386\n",
      "CPU cores  : 4\n",
      "interpreter: 64bit\n",
      "pandas   1.1.0\n",
      "bhishan  0.3.1\n",
      "autopep8 1.5.2\n",
      "seaborn  0.11.0\n",
      "json     2.0.9\n",
      "numpy    1.18.4\n",
      "\n"
     ]
    }
   ],
   "source": [
    "import numpy as np\n",
    "import pandas as pd\n",
    "import seaborn as sns\n",
    "import matplotlib.pyplot as plt\n",
    "\n",
    "%load_ext autoreload\n",
    "%load_ext watermark\n",
    "\n",
    "%autoreload 2\n",
    "%watermark -a \"Bhishan Poudel\" -d -v -m\n",
    "%watermark -iv"
   ]
  },
  {
   "cell_type": "code",
   "execution_count": null,
   "metadata": {},
   "outputs": [],
   "source": [
    "# my local library\n",
    "import sys\n",
    "sys.path.append(\"/Users/poudel/Dropbox/a00_Bhishan_Modules/\")\n",
    "sys.path.append(\"/Users/poudel/Dropbox/a00_Bhishan_Modules/bhishan\")\n",
    "from bhishan import bp"
   ]
  },
  {
   "cell_type": "markdown",
   "metadata": {},
   "source": [
    "# Using plotly api in module bhishan"
   ]
  },
  {
   "cell_type": "code",
   "execution_count": 2,
   "metadata": {
    "ExecuteTime": {
     "end_time": "2020-09-28T22:43:01.731046Z",
     "start_time": "2020-09-28T22:43:01.673828Z"
    }
   },
   "outputs": [],
   "source": [
    "# print(sns.get_dataset_names())"
   ]
  },
  {
   "cell_type": "code",
   "execution_count": 3,
   "metadata": {
    "ExecuteTime": {
     "end_time": "2020-09-28T22:43:01.818206Z",
     "start_time": "2020-09-28T22:43:01.736379Z"
    }
   },
   "outputs": [
    {
     "data": {
      "text/html": [
       "<div>\n",
       "<style scoped>\n",
       "    .dataframe tbody tr th:only-of-type {\n",
       "        vertical-align: middle;\n",
       "    }\n",
       "\n",
       "    .dataframe tbody tr th {\n",
       "        vertical-align: top;\n",
       "    }\n",
       "\n",
       "    .dataframe thead th {\n",
       "        text-align: right;\n",
       "    }\n",
       "</style>\n",
       "<table border=\"1\" class=\"dataframe\">\n",
       "  <thead>\n",
       "    <tr style=\"text-align: right;\">\n",
       "      <th></th>\n",
       "      <th>survived</th>\n",
       "      <th>pclass</th>\n",
       "      <th>sex</th>\n",
       "      <th>age</th>\n",
       "      <th>sibsp</th>\n",
       "      <th>parch</th>\n",
       "      <th>fare</th>\n",
       "      <th>embarked</th>\n",
       "      <th>class</th>\n",
       "      <th>who</th>\n",
       "      <th>adult_male</th>\n",
       "      <th>deck</th>\n",
       "      <th>embark_town</th>\n",
       "      <th>alive</th>\n",
       "      <th>alone</th>\n",
       "    </tr>\n",
       "  </thead>\n",
       "  <tbody>\n",
       "    <tr>\n",
       "      <th>0</th>\n",
       "      <td>0</td>\n",
       "      <td>3</td>\n",
       "      <td>male</td>\n",
       "      <td>22.0</td>\n",
       "      <td>1</td>\n",
       "      <td>0</td>\n",
       "      <td>7.2500</td>\n",
       "      <td>S</td>\n",
       "      <td>Third</td>\n",
       "      <td>man</td>\n",
       "      <td>True</td>\n",
       "      <td>NaN</td>\n",
       "      <td>Southampton</td>\n",
       "      <td>no</td>\n",
       "      <td>False</td>\n",
       "    </tr>\n",
       "    <tr>\n",
       "      <th>1</th>\n",
       "      <td>1</td>\n",
       "      <td>1</td>\n",
       "      <td>female</td>\n",
       "      <td>38.0</td>\n",
       "      <td>1</td>\n",
       "      <td>0</td>\n",
       "      <td>71.2833</td>\n",
       "      <td>C</td>\n",
       "      <td>First</td>\n",
       "      <td>woman</td>\n",
       "      <td>False</td>\n",
       "      <td>C</td>\n",
       "      <td>Cherbourg</td>\n",
       "      <td>yes</td>\n",
       "      <td>False</td>\n",
       "    </tr>\n",
       "    <tr>\n",
       "      <th>2</th>\n",
       "      <td>1</td>\n",
       "      <td>3</td>\n",
       "      <td>female</td>\n",
       "      <td>26.0</td>\n",
       "      <td>0</td>\n",
       "      <td>0</td>\n",
       "      <td>7.9250</td>\n",
       "      <td>S</td>\n",
       "      <td>Third</td>\n",
       "      <td>woman</td>\n",
       "      <td>False</td>\n",
       "      <td>NaN</td>\n",
       "      <td>Southampton</td>\n",
       "      <td>yes</td>\n",
       "      <td>True</td>\n",
       "    </tr>\n",
       "    <tr>\n",
       "      <th>3</th>\n",
       "      <td>1</td>\n",
       "      <td>1</td>\n",
       "      <td>female</td>\n",
       "      <td>35.0</td>\n",
       "      <td>1</td>\n",
       "      <td>0</td>\n",
       "      <td>53.1000</td>\n",
       "      <td>S</td>\n",
       "      <td>First</td>\n",
       "      <td>woman</td>\n",
       "      <td>False</td>\n",
       "      <td>C</td>\n",
       "      <td>Southampton</td>\n",
       "      <td>yes</td>\n",
       "      <td>False</td>\n",
       "    </tr>\n",
       "    <tr>\n",
       "      <th>4</th>\n",
       "      <td>0</td>\n",
       "      <td>3</td>\n",
       "      <td>male</td>\n",
       "      <td>35.0</td>\n",
       "      <td>0</td>\n",
       "      <td>0</td>\n",
       "      <td>8.0500</td>\n",
       "      <td>S</td>\n",
       "      <td>Third</td>\n",
       "      <td>man</td>\n",
       "      <td>True</td>\n",
       "      <td>NaN</td>\n",
       "      <td>Southampton</td>\n",
       "      <td>no</td>\n",
       "      <td>True</td>\n",
       "    </tr>\n",
       "  </tbody>\n",
       "</table>\n",
       "</div>"
      ],
      "text/plain": [
       "   survived  pclass     sex   age  sibsp  parch     fare embarked  class  \\\n",
       "0         0       3    male  22.0      1      0   7.2500        S  Third   \n",
       "1         1       1  female  38.0      1      0  71.2833        C  First   \n",
       "2         1       3  female  26.0      0      0   7.9250        S  Third   \n",
       "3         1       1  female  35.0      1      0  53.1000        S  First   \n",
       "4         0       3    male  35.0      0      0   8.0500        S  Third   \n",
       "\n",
       "     who  adult_male deck  embark_town alive  alone  \n",
       "0    man        True  NaN  Southampton    no  False  \n",
       "1  woman       False    C    Cherbourg   yes  False  \n",
       "2  woman       False  NaN  Southampton   yes   True  \n",
       "3  woman       False    C  Southampton   yes  False  \n",
       "4    man        True  NaN  Southampton    no   True  "
      ]
     },
     "execution_count": 3,
     "metadata": {},
     "output_type": "execute_result"
    }
   ],
   "source": [
    "df = sns.load_dataset('titanic')\n",
    "df.head()"
   ]
  },
  {
   "cell_type": "code",
   "execution_count": 4,
   "metadata": {
    "ExecuteTime": {
     "end_time": "2020-09-28T22:43:01.942011Z",
     "start_time": "2020-09-28T22:43:01.821554Z"
    }
   },
   "outputs": [
    {
     "data": {
      "text/html": [
       "<style  type=\"text/css\" >\n",
       "</style><table id=\"T_f70f4396_01db_11eb_a12f_acde48001122\" ><thead>    <tr>        <th class=\"blank level0\" ></th>        <th class=\"col_heading level0 col0\" >embarked</th>        <th class=\"col_heading level0 col1\" >Count</th>        <th class=\"col_heading level0 col2\" >Percent</th>        <th class=\"col_heading level0 col3\" >Cumulative Count</th>        <th class=\"col_heading level0 col4\" >Cumulative Percent</th>    </tr></thead><tbody>\n",
       "                <tr>\n",
       "                        <th id=\"T_f70f4396_01db_11eb_a12f_acde48001122level0_row0\" class=\"row_heading level0 row0\" >0</th>\n",
       "                        <td id=\"T_f70f4396_01db_11eb_a12f_acde48001122row0_col0\" class=\"data row0 col0\" >S</td>\n",
       "                        <td id=\"T_f70f4396_01db_11eb_a12f_acde48001122row0_col1\" class=\"data row0 col1\" >644</td>\n",
       "                        <td id=\"T_f70f4396_01db_11eb_a12f_acde48001122row0_col2\" class=\"data row0 col2\" >72.44%</td>\n",
       "                        <td id=\"T_f70f4396_01db_11eb_a12f_acde48001122row0_col3\" class=\"data row0 col3\" >644</td>\n",
       "                        <td id=\"T_f70f4396_01db_11eb_a12f_acde48001122row0_col4\" class=\"data row0 col4\" >72.44%</td>\n",
       "            </tr>\n",
       "            <tr>\n",
       "                        <th id=\"T_f70f4396_01db_11eb_a12f_acde48001122level0_row1\" class=\"row_heading level0 row1\" >1</th>\n",
       "                        <td id=\"T_f70f4396_01db_11eb_a12f_acde48001122row1_col0\" class=\"data row1 col0\" >C</td>\n",
       "                        <td id=\"T_f70f4396_01db_11eb_a12f_acde48001122row1_col1\" class=\"data row1 col1\" >168</td>\n",
       "                        <td id=\"T_f70f4396_01db_11eb_a12f_acde48001122row1_col2\" class=\"data row1 col2\" >18.90%</td>\n",
       "                        <td id=\"T_f70f4396_01db_11eb_a12f_acde48001122row1_col3\" class=\"data row1 col3\" >812</td>\n",
       "                        <td id=\"T_f70f4396_01db_11eb_a12f_acde48001122row1_col4\" class=\"data row1 col4\" >91.34%</td>\n",
       "            </tr>\n",
       "            <tr>\n",
       "                        <th id=\"T_f70f4396_01db_11eb_a12f_acde48001122level0_row2\" class=\"row_heading level0 row2\" >2</th>\n",
       "                        <td id=\"T_f70f4396_01db_11eb_a12f_acde48001122row2_col0\" class=\"data row2 col0\" >Q</td>\n",
       "                        <td id=\"T_f70f4396_01db_11eb_a12f_acde48001122row2_col1\" class=\"data row2 col1\" >77</td>\n",
       "                        <td id=\"T_f70f4396_01db_11eb_a12f_acde48001122row2_col2\" class=\"data row2 col2\" >8.66%</td>\n",
       "                        <td id=\"T_f70f4396_01db_11eb_a12f_acde48001122row2_col3\" class=\"data row2 col3\" >889</td>\n",
       "                        <td id=\"T_f70f4396_01db_11eb_a12f_acde48001122row2_col4\" class=\"data row2 col4\" >100.00%</td>\n",
       "            </tr>\n",
       "    </tbody></table>"
      ],
      "text/plain": [
       "<pandas.io.formats.style.Styler at 0x7fb9d5f1a890>"
      ]
     },
     "execution_count": 4,
     "metadata": {},
     "output_type": "execute_result"
    }
   ],
   "source": [
    "df.bp.freq(['embarked'],style=True)"
   ]
  },
  {
   "cell_type": "code",
   "execution_count": 5,
   "metadata": {
    "ExecuteTime": {
     "end_time": "2020-09-28T22:43:02.047957Z",
     "start_time": "2020-09-28T22:43:01.944609Z"
    }
   },
   "outputs": [
    {
     "data": {
      "text/html": [
       "<style  type=\"text/css\" >\n",
       "#T_f71e3d9c_01db_11eb_a12f_acde48001122row0_col1,#T_f71e3d9c_01db_11eb_a12f_acde48001122row2_col1,#T_f71e3d9c_01db_11eb_a12f_acde48001122row3_col1,#T_f71e3d9c_01db_11eb_a12f_acde48001122row11_col1,#T_f71e3d9c_01db_11eb_a12f_acde48001122row12_col1,#T_f71e3d9c_01db_11eb_a12f_acde48001122row13_col1,#T_f71e3d9c_01db_11eb_a12f_acde48001122row14_col1{\n",
       "            background:  salmon;\n",
       "        }#T_f71e3d9c_01db_11eb_a12f_acde48001122row0_col6,#T_f71e3d9c_01db_11eb_a12f_acde48001122row4_col8{\n",
       "            background-color:  #023858;\n",
       "            color:  #f1f1f1;\n",
       "        }#T_f71e3d9c_01db_11eb_a12f_acde48001122row0_col8,#T_f71e3d9c_01db_11eb_a12f_acde48001122row1_col8,#T_f71e3d9c_01db_11eb_a12f_acde48001122row2_col6,#T_f71e3d9c_01db_11eb_a12f_acde48001122row2_col8,#T_f71e3d9c_01db_11eb_a12f_acde48001122row3_col6,#T_f71e3d9c_01db_11eb_a12f_acde48001122row3_col8,#T_f71e3d9c_01db_11eb_a12f_acde48001122row4_col6,#T_f71e3d9c_01db_11eb_a12f_acde48001122row5_col6,#T_f71e3d9c_01db_11eb_a12f_acde48001122row6_col6,#T_f71e3d9c_01db_11eb_a12f_acde48001122row7_col6,#T_f71e3d9c_01db_11eb_a12f_acde48001122row8_col6,#T_f71e3d9c_01db_11eb_a12f_acde48001122row9_col6,#T_f71e3d9c_01db_11eb_a12f_acde48001122row10_col6,#T_f71e3d9c_01db_11eb_a12f_acde48001122row10_col8,#T_f71e3d9c_01db_11eb_a12f_acde48001122row11_col6,#T_f71e3d9c_01db_11eb_a12f_acde48001122row11_col8,#T_f71e3d9c_01db_11eb_a12f_acde48001122row12_col6,#T_f71e3d9c_01db_11eb_a12f_acde48001122row12_col8,#T_f71e3d9c_01db_11eb_a12f_acde48001122row13_col6,#T_f71e3d9c_01db_11eb_a12f_acde48001122row13_col8,#T_f71e3d9c_01db_11eb_a12f_acde48001122row14_col6,#T_f71e3d9c_01db_11eb_a12f_acde48001122row14_col8{\n",
       "            background-color:  #fff7fb;\n",
       "            color:  #000000;\n",
       "        }#T_f71e3d9c_01db_11eb_a12f_acde48001122row1_col6{\n",
       "            background-color:  #ced0e6;\n",
       "            color:  #000000;\n",
       "        }#T_f71e3d9c_01db_11eb_a12f_acde48001122row5_col8{\n",
       "            background-color:  #045483;\n",
       "            color:  #f1f1f1;\n",
       "        }#T_f71e3d9c_01db_11eb_a12f_acde48001122row6_col8{\n",
       "            background-color:  #05659f;\n",
       "            color:  #f1f1f1;\n",
       "        }#T_f71e3d9c_01db_11eb_a12f_acde48001122row7_col8,#T_f71e3d9c_01db_11eb_a12f_acde48001122row8_col8{\n",
       "            background-color:  #69a5cc;\n",
       "            color:  #000000;\n",
       "        }#T_f71e3d9c_01db_11eb_a12f_acde48001122row9_col8{\n",
       "            background-color:  #fcf4fa;\n",
       "            color:  #000000;\n",
       "        }</style><table id=\"T_f71e3d9c_01db_11eb_a12f_acde48001122\" ><thead>    <tr>        <th class=\"blank level0\" ></th>        <th class=\"col_heading level0 col0\" >Feature</th>        <th class=\"col_heading level0 col1\" >Type</th>        <th class=\"col_heading level0 col2\" >N</th>        <th class=\"col_heading level0 col3\" >Count</th>        <th class=\"col_heading level0 col4\" >Unique</th>        <th class=\"col_heading level0 col5\" >Missing</th>        <th class=\"col_heading level0 col6\" >MissingPct</th>        <th class=\"col_heading level0 col7\" >Zeros</th>        <th class=\"col_heading level0 col8\" >ZerosPct</th>        <th class=\"col_heading level0 col9\" >mean</th>        <th class=\"col_heading level0 col10\" >std</th>        <th class=\"col_heading level0 col11\" >min</th>        <th class=\"col_heading level0 col12\" >max</th>        <th class=\"col_heading level0 col13\" >25%</th>        <th class=\"col_heading level0 col14\" >50%</th>        <th class=\"col_heading level0 col15\" >75%</th>    </tr></thead><tbody>\n",
       "                <tr>\n",
       "                        <th id=\"T_f71e3d9c_01db_11eb_a12f_acde48001122level0_row0\" class=\"row_heading level0 row0\" >11</th>\n",
       "                        <td id=\"T_f71e3d9c_01db_11eb_a12f_acde48001122row0_col0\" class=\"data row0 col0\" >deck</td>\n",
       "                        <td id=\"T_f71e3d9c_01db_11eb_a12f_acde48001122row0_col1\" class=\"data row0 col1\" >category</td>\n",
       "                        <td id=\"T_f71e3d9c_01db_11eb_a12f_acde48001122row0_col2\" class=\"data row0 col2\" >891</td>\n",
       "                        <td id=\"T_f71e3d9c_01db_11eb_a12f_acde48001122row0_col3\" class=\"data row0 col3\" >203</td>\n",
       "                        <td id=\"T_f71e3d9c_01db_11eb_a12f_acde48001122row0_col4\" class=\"data row0 col4\" >7</td>\n",
       "                        <td id=\"T_f71e3d9c_01db_11eb_a12f_acde48001122row0_col5\" class=\"data row0 col5\" >688</td>\n",
       "                        <td id=\"T_f71e3d9c_01db_11eb_a12f_acde48001122row0_col6\" class=\"data row0 col6\" >77.22</td>\n",
       "                        <td id=\"T_f71e3d9c_01db_11eb_a12f_acde48001122row0_col7\" class=\"data row0 col7\" >0</td>\n",
       "                        <td id=\"T_f71e3d9c_01db_11eb_a12f_acde48001122row0_col8\" class=\"data row0 col8\" >0.00</td>\n",
       "                        <td id=\"T_f71e3d9c_01db_11eb_a12f_acde48001122row0_col9\" class=\"data row0 col9\" ></td>\n",
       "                        <td id=\"T_f71e3d9c_01db_11eb_a12f_acde48001122row0_col10\" class=\"data row0 col10\" ></td>\n",
       "                        <td id=\"T_f71e3d9c_01db_11eb_a12f_acde48001122row0_col11\" class=\"data row0 col11\" ></td>\n",
       "                        <td id=\"T_f71e3d9c_01db_11eb_a12f_acde48001122row0_col12\" class=\"data row0 col12\" ></td>\n",
       "                        <td id=\"T_f71e3d9c_01db_11eb_a12f_acde48001122row0_col13\" class=\"data row0 col13\" ></td>\n",
       "                        <td id=\"T_f71e3d9c_01db_11eb_a12f_acde48001122row0_col14\" class=\"data row0 col14\" ></td>\n",
       "                        <td id=\"T_f71e3d9c_01db_11eb_a12f_acde48001122row0_col15\" class=\"data row0 col15\" ></td>\n",
       "            </tr>\n",
       "            <tr>\n",
       "                        <th id=\"T_f71e3d9c_01db_11eb_a12f_acde48001122level0_row1\" class=\"row_heading level0 row1\" >3</th>\n",
       "                        <td id=\"T_f71e3d9c_01db_11eb_a12f_acde48001122row1_col0\" class=\"data row1 col0\" >age</td>\n",
       "                        <td id=\"T_f71e3d9c_01db_11eb_a12f_acde48001122row1_col1\" class=\"data row1 col1\" >float64</td>\n",
       "                        <td id=\"T_f71e3d9c_01db_11eb_a12f_acde48001122row1_col2\" class=\"data row1 col2\" >891</td>\n",
       "                        <td id=\"T_f71e3d9c_01db_11eb_a12f_acde48001122row1_col3\" class=\"data row1 col3\" >714</td>\n",
       "                        <td id=\"T_f71e3d9c_01db_11eb_a12f_acde48001122row1_col4\" class=\"data row1 col4\" >88</td>\n",
       "                        <td id=\"T_f71e3d9c_01db_11eb_a12f_acde48001122row1_col5\" class=\"data row1 col5\" >177</td>\n",
       "                        <td id=\"T_f71e3d9c_01db_11eb_a12f_acde48001122row1_col6\" class=\"data row1 col6\" >19.87</td>\n",
       "                        <td id=\"T_f71e3d9c_01db_11eb_a12f_acde48001122row1_col7\" class=\"data row1 col7\" >0</td>\n",
       "                        <td id=\"T_f71e3d9c_01db_11eb_a12f_acde48001122row1_col8\" class=\"data row1 col8\" >0.00</td>\n",
       "                        <td id=\"T_f71e3d9c_01db_11eb_a12f_acde48001122row1_col9\" class=\"data row1 col9\" >29.70</td>\n",
       "                        <td id=\"T_f71e3d9c_01db_11eb_a12f_acde48001122row1_col10\" class=\"data row1 col10\" >14.53</td>\n",
       "                        <td id=\"T_f71e3d9c_01db_11eb_a12f_acde48001122row1_col11\" class=\"data row1 col11\" >0.42</td>\n",
       "                        <td id=\"T_f71e3d9c_01db_11eb_a12f_acde48001122row1_col12\" class=\"data row1 col12\" >80.00</td>\n",
       "                        <td id=\"T_f71e3d9c_01db_11eb_a12f_acde48001122row1_col13\" class=\"data row1 col13\" >20.12</td>\n",
       "                        <td id=\"T_f71e3d9c_01db_11eb_a12f_acde48001122row1_col14\" class=\"data row1 col14\" >28.00</td>\n",
       "                        <td id=\"T_f71e3d9c_01db_11eb_a12f_acde48001122row1_col15\" class=\"data row1 col15\" >38.00</td>\n",
       "            </tr>\n",
       "            <tr>\n",
       "                        <th id=\"T_f71e3d9c_01db_11eb_a12f_acde48001122level0_row2\" class=\"row_heading level0 row2\" >7</th>\n",
       "                        <td id=\"T_f71e3d9c_01db_11eb_a12f_acde48001122row2_col0\" class=\"data row2 col0\" >embarked</td>\n",
       "                        <td id=\"T_f71e3d9c_01db_11eb_a12f_acde48001122row2_col1\" class=\"data row2 col1\" >object</td>\n",
       "                        <td id=\"T_f71e3d9c_01db_11eb_a12f_acde48001122row2_col2\" class=\"data row2 col2\" >891</td>\n",
       "                        <td id=\"T_f71e3d9c_01db_11eb_a12f_acde48001122row2_col3\" class=\"data row2 col3\" >889</td>\n",
       "                        <td id=\"T_f71e3d9c_01db_11eb_a12f_acde48001122row2_col4\" class=\"data row2 col4\" >3</td>\n",
       "                        <td id=\"T_f71e3d9c_01db_11eb_a12f_acde48001122row2_col5\" class=\"data row2 col5\" >2</td>\n",
       "                        <td id=\"T_f71e3d9c_01db_11eb_a12f_acde48001122row2_col6\" class=\"data row2 col6\" >0.22</td>\n",
       "                        <td id=\"T_f71e3d9c_01db_11eb_a12f_acde48001122row2_col7\" class=\"data row2 col7\" >0</td>\n",
       "                        <td id=\"T_f71e3d9c_01db_11eb_a12f_acde48001122row2_col8\" class=\"data row2 col8\" >0.00</td>\n",
       "                        <td id=\"T_f71e3d9c_01db_11eb_a12f_acde48001122row2_col9\" class=\"data row2 col9\" ></td>\n",
       "                        <td id=\"T_f71e3d9c_01db_11eb_a12f_acde48001122row2_col10\" class=\"data row2 col10\" ></td>\n",
       "                        <td id=\"T_f71e3d9c_01db_11eb_a12f_acde48001122row2_col11\" class=\"data row2 col11\" ></td>\n",
       "                        <td id=\"T_f71e3d9c_01db_11eb_a12f_acde48001122row2_col12\" class=\"data row2 col12\" ></td>\n",
       "                        <td id=\"T_f71e3d9c_01db_11eb_a12f_acde48001122row2_col13\" class=\"data row2 col13\" ></td>\n",
       "                        <td id=\"T_f71e3d9c_01db_11eb_a12f_acde48001122row2_col14\" class=\"data row2 col14\" ></td>\n",
       "                        <td id=\"T_f71e3d9c_01db_11eb_a12f_acde48001122row2_col15\" class=\"data row2 col15\" ></td>\n",
       "            </tr>\n",
       "            <tr>\n",
       "                        <th id=\"T_f71e3d9c_01db_11eb_a12f_acde48001122level0_row3\" class=\"row_heading level0 row3\" >12</th>\n",
       "                        <td id=\"T_f71e3d9c_01db_11eb_a12f_acde48001122row3_col0\" class=\"data row3 col0\" >embark_town</td>\n",
       "                        <td id=\"T_f71e3d9c_01db_11eb_a12f_acde48001122row3_col1\" class=\"data row3 col1\" >object</td>\n",
       "                        <td id=\"T_f71e3d9c_01db_11eb_a12f_acde48001122row3_col2\" class=\"data row3 col2\" >891</td>\n",
       "                        <td id=\"T_f71e3d9c_01db_11eb_a12f_acde48001122row3_col3\" class=\"data row3 col3\" >889</td>\n",
       "                        <td id=\"T_f71e3d9c_01db_11eb_a12f_acde48001122row3_col4\" class=\"data row3 col4\" >3</td>\n",
       "                        <td id=\"T_f71e3d9c_01db_11eb_a12f_acde48001122row3_col5\" class=\"data row3 col5\" >2</td>\n",
       "                        <td id=\"T_f71e3d9c_01db_11eb_a12f_acde48001122row3_col6\" class=\"data row3 col6\" >0.22</td>\n",
       "                        <td id=\"T_f71e3d9c_01db_11eb_a12f_acde48001122row3_col7\" class=\"data row3 col7\" >0</td>\n",
       "                        <td id=\"T_f71e3d9c_01db_11eb_a12f_acde48001122row3_col8\" class=\"data row3 col8\" >0.00</td>\n",
       "                        <td id=\"T_f71e3d9c_01db_11eb_a12f_acde48001122row3_col9\" class=\"data row3 col9\" ></td>\n",
       "                        <td id=\"T_f71e3d9c_01db_11eb_a12f_acde48001122row3_col10\" class=\"data row3 col10\" ></td>\n",
       "                        <td id=\"T_f71e3d9c_01db_11eb_a12f_acde48001122row3_col11\" class=\"data row3 col11\" ></td>\n",
       "                        <td id=\"T_f71e3d9c_01db_11eb_a12f_acde48001122row3_col12\" class=\"data row3 col12\" ></td>\n",
       "                        <td id=\"T_f71e3d9c_01db_11eb_a12f_acde48001122row3_col13\" class=\"data row3 col13\" ></td>\n",
       "                        <td id=\"T_f71e3d9c_01db_11eb_a12f_acde48001122row3_col14\" class=\"data row3 col14\" ></td>\n",
       "                        <td id=\"T_f71e3d9c_01db_11eb_a12f_acde48001122row3_col15\" class=\"data row3 col15\" ></td>\n",
       "            </tr>\n",
       "            <tr>\n",
       "                        <th id=\"T_f71e3d9c_01db_11eb_a12f_acde48001122level0_row4\" class=\"row_heading level0 row4\" >5</th>\n",
       "                        <td id=\"T_f71e3d9c_01db_11eb_a12f_acde48001122row4_col0\" class=\"data row4 col0\" >parch</td>\n",
       "                        <td id=\"T_f71e3d9c_01db_11eb_a12f_acde48001122row4_col1\" class=\"data row4 col1\" >int64</td>\n",
       "                        <td id=\"T_f71e3d9c_01db_11eb_a12f_acde48001122row4_col2\" class=\"data row4 col2\" >891</td>\n",
       "                        <td id=\"T_f71e3d9c_01db_11eb_a12f_acde48001122row4_col3\" class=\"data row4 col3\" >891</td>\n",
       "                        <td id=\"T_f71e3d9c_01db_11eb_a12f_acde48001122row4_col4\" class=\"data row4 col4\" >7</td>\n",
       "                        <td id=\"T_f71e3d9c_01db_11eb_a12f_acde48001122row4_col5\" class=\"data row4 col5\" >0</td>\n",
       "                        <td id=\"T_f71e3d9c_01db_11eb_a12f_acde48001122row4_col6\" class=\"data row4 col6\" >0.00</td>\n",
       "                        <td id=\"T_f71e3d9c_01db_11eb_a12f_acde48001122row4_col7\" class=\"data row4 col7\" >678</td>\n",
       "                        <td id=\"T_f71e3d9c_01db_11eb_a12f_acde48001122row4_col8\" class=\"data row4 col8\" >76.09</td>\n",
       "                        <td id=\"T_f71e3d9c_01db_11eb_a12f_acde48001122row4_col9\" class=\"data row4 col9\" >0.38</td>\n",
       "                        <td id=\"T_f71e3d9c_01db_11eb_a12f_acde48001122row4_col10\" class=\"data row4 col10\" >0.81</td>\n",
       "                        <td id=\"T_f71e3d9c_01db_11eb_a12f_acde48001122row4_col11\" class=\"data row4 col11\" >0.00</td>\n",
       "                        <td id=\"T_f71e3d9c_01db_11eb_a12f_acde48001122row4_col12\" class=\"data row4 col12\" >6.00</td>\n",
       "                        <td id=\"T_f71e3d9c_01db_11eb_a12f_acde48001122row4_col13\" class=\"data row4 col13\" >0.00</td>\n",
       "                        <td id=\"T_f71e3d9c_01db_11eb_a12f_acde48001122row4_col14\" class=\"data row4 col14\" >0.00</td>\n",
       "                        <td id=\"T_f71e3d9c_01db_11eb_a12f_acde48001122row4_col15\" class=\"data row4 col15\" >0.00</td>\n",
       "            </tr>\n",
       "            <tr>\n",
       "                        <th id=\"T_f71e3d9c_01db_11eb_a12f_acde48001122level0_row5\" class=\"row_heading level0 row5\" >4</th>\n",
       "                        <td id=\"T_f71e3d9c_01db_11eb_a12f_acde48001122row5_col0\" class=\"data row5 col0\" >sibsp</td>\n",
       "                        <td id=\"T_f71e3d9c_01db_11eb_a12f_acde48001122row5_col1\" class=\"data row5 col1\" >int64</td>\n",
       "                        <td id=\"T_f71e3d9c_01db_11eb_a12f_acde48001122row5_col2\" class=\"data row5 col2\" >891</td>\n",
       "                        <td id=\"T_f71e3d9c_01db_11eb_a12f_acde48001122row5_col3\" class=\"data row5 col3\" >891</td>\n",
       "                        <td id=\"T_f71e3d9c_01db_11eb_a12f_acde48001122row5_col4\" class=\"data row5 col4\" >7</td>\n",
       "                        <td id=\"T_f71e3d9c_01db_11eb_a12f_acde48001122row5_col5\" class=\"data row5 col5\" >0</td>\n",
       "                        <td id=\"T_f71e3d9c_01db_11eb_a12f_acde48001122row5_col6\" class=\"data row5 col6\" >0.00</td>\n",
       "                        <td id=\"T_f71e3d9c_01db_11eb_a12f_acde48001122row5_col7\" class=\"data row5 col7\" >608</td>\n",
       "                        <td id=\"T_f71e3d9c_01db_11eb_a12f_acde48001122row5_col8\" class=\"data row5 col8\" >68.24</td>\n",
       "                        <td id=\"T_f71e3d9c_01db_11eb_a12f_acde48001122row5_col9\" class=\"data row5 col9\" >0.52</td>\n",
       "                        <td id=\"T_f71e3d9c_01db_11eb_a12f_acde48001122row5_col10\" class=\"data row5 col10\" >1.10</td>\n",
       "                        <td id=\"T_f71e3d9c_01db_11eb_a12f_acde48001122row5_col11\" class=\"data row5 col11\" >0.00</td>\n",
       "                        <td id=\"T_f71e3d9c_01db_11eb_a12f_acde48001122row5_col12\" class=\"data row5 col12\" >8.00</td>\n",
       "                        <td id=\"T_f71e3d9c_01db_11eb_a12f_acde48001122row5_col13\" class=\"data row5 col13\" >0.00</td>\n",
       "                        <td id=\"T_f71e3d9c_01db_11eb_a12f_acde48001122row5_col14\" class=\"data row5 col14\" >0.00</td>\n",
       "                        <td id=\"T_f71e3d9c_01db_11eb_a12f_acde48001122row5_col15\" class=\"data row5 col15\" >1.00</td>\n",
       "            </tr>\n",
       "            <tr>\n",
       "                        <th id=\"T_f71e3d9c_01db_11eb_a12f_acde48001122level0_row6\" class=\"row_heading level0 row6\" >0</th>\n",
       "                        <td id=\"T_f71e3d9c_01db_11eb_a12f_acde48001122row6_col0\" class=\"data row6 col0\" >survived</td>\n",
       "                        <td id=\"T_f71e3d9c_01db_11eb_a12f_acde48001122row6_col1\" class=\"data row6 col1\" >int64</td>\n",
       "                        <td id=\"T_f71e3d9c_01db_11eb_a12f_acde48001122row6_col2\" class=\"data row6 col2\" >891</td>\n",
       "                        <td id=\"T_f71e3d9c_01db_11eb_a12f_acde48001122row6_col3\" class=\"data row6 col3\" >891</td>\n",
       "                        <td id=\"T_f71e3d9c_01db_11eb_a12f_acde48001122row6_col4\" class=\"data row6 col4\" >2</td>\n",
       "                        <td id=\"T_f71e3d9c_01db_11eb_a12f_acde48001122row6_col5\" class=\"data row6 col5\" >0</td>\n",
       "                        <td id=\"T_f71e3d9c_01db_11eb_a12f_acde48001122row6_col6\" class=\"data row6 col6\" >0.00</td>\n",
       "                        <td id=\"T_f71e3d9c_01db_11eb_a12f_acde48001122row6_col7\" class=\"data row6 col7\" >549</td>\n",
       "                        <td id=\"T_f71e3d9c_01db_11eb_a12f_acde48001122row6_col8\" class=\"data row6 col8\" >61.62</td>\n",
       "                        <td id=\"T_f71e3d9c_01db_11eb_a12f_acde48001122row6_col9\" class=\"data row6 col9\" >0.38</td>\n",
       "                        <td id=\"T_f71e3d9c_01db_11eb_a12f_acde48001122row6_col10\" class=\"data row6 col10\" >0.49</td>\n",
       "                        <td id=\"T_f71e3d9c_01db_11eb_a12f_acde48001122row6_col11\" class=\"data row6 col11\" >0.00</td>\n",
       "                        <td id=\"T_f71e3d9c_01db_11eb_a12f_acde48001122row6_col12\" class=\"data row6 col12\" >1.00</td>\n",
       "                        <td id=\"T_f71e3d9c_01db_11eb_a12f_acde48001122row6_col13\" class=\"data row6 col13\" >0.00</td>\n",
       "                        <td id=\"T_f71e3d9c_01db_11eb_a12f_acde48001122row6_col14\" class=\"data row6 col14\" >0.00</td>\n",
       "                        <td id=\"T_f71e3d9c_01db_11eb_a12f_acde48001122row6_col15\" class=\"data row6 col15\" >1.00</td>\n",
       "            </tr>\n",
       "            <tr>\n",
       "                        <th id=\"T_f71e3d9c_01db_11eb_a12f_acde48001122level0_row7\" class=\"row_heading level0 row7\" >10</th>\n",
       "                        <td id=\"T_f71e3d9c_01db_11eb_a12f_acde48001122row7_col0\" class=\"data row7 col0\" >adult_male</td>\n",
       "                        <td id=\"T_f71e3d9c_01db_11eb_a12f_acde48001122row7_col1\" class=\"data row7 col1\" >bool</td>\n",
       "                        <td id=\"T_f71e3d9c_01db_11eb_a12f_acde48001122row7_col2\" class=\"data row7 col2\" >891</td>\n",
       "                        <td id=\"T_f71e3d9c_01db_11eb_a12f_acde48001122row7_col3\" class=\"data row7 col3\" >891</td>\n",
       "                        <td id=\"T_f71e3d9c_01db_11eb_a12f_acde48001122row7_col4\" class=\"data row7 col4\" >2</td>\n",
       "                        <td id=\"T_f71e3d9c_01db_11eb_a12f_acde48001122row7_col5\" class=\"data row7 col5\" >0</td>\n",
       "                        <td id=\"T_f71e3d9c_01db_11eb_a12f_acde48001122row7_col6\" class=\"data row7 col6\" >0.00</td>\n",
       "                        <td id=\"T_f71e3d9c_01db_11eb_a12f_acde48001122row7_col7\" class=\"data row7 col7\" >354</td>\n",
       "                        <td id=\"T_f71e3d9c_01db_11eb_a12f_acde48001122row7_col8\" class=\"data row7 col8\" >39.73</td>\n",
       "                        <td id=\"T_f71e3d9c_01db_11eb_a12f_acde48001122row7_col9\" class=\"data row7 col9\" ></td>\n",
       "                        <td id=\"T_f71e3d9c_01db_11eb_a12f_acde48001122row7_col10\" class=\"data row7 col10\" ></td>\n",
       "                        <td id=\"T_f71e3d9c_01db_11eb_a12f_acde48001122row7_col11\" class=\"data row7 col11\" ></td>\n",
       "                        <td id=\"T_f71e3d9c_01db_11eb_a12f_acde48001122row7_col12\" class=\"data row7 col12\" ></td>\n",
       "                        <td id=\"T_f71e3d9c_01db_11eb_a12f_acde48001122row7_col13\" class=\"data row7 col13\" ></td>\n",
       "                        <td id=\"T_f71e3d9c_01db_11eb_a12f_acde48001122row7_col14\" class=\"data row7 col14\" ></td>\n",
       "                        <td id=\"T_f71e3d9c_01db_11eb_a12f_acde48001122row7_col15\" class=\"data row7 col15\" ></td>\n",
       "            </tr>\n",
       "            <tr>\n",
       "                        <th id=\"T_f71e3d9c_01db_11eb_a12f_acde48001122level0_row8\" class=\"row_heading level0 row8\" >14</th>\n",
       "                        <td id=\"T_f71e3d9c_01db_11eb_a12f_acde48001122row8_col0\" class=\"data row8 col0\" >alone</td>\n",
       "                        <td id=\"T_f71e3d9c_01db_11eb_a12f_acde48001122row8_col1\" class=\"data row8 col1\" >bool</td>\n",
       "                        <td id=\"T_f71e3d9c_01db_11eb_a12f_acde48001122row8_col2\" class=\"data row8 col2\" >891</td>\n",
       "                        <td id=\"T_f71e3d9c_01db_11eb_a12f_acde48001122row8_col3\" class=\"data row8 col3\" >891</td>\n",
       "                        <td id=\"T_f71e3d9c_01db_11eb_a12f_acde48001122row8_col4\" class=\"data row8 col4\" >2</td>\n",
       "                        <td id=\"T_f71e3d9c_01db_11eb_a12f_acde48001122row8_col5\" class=\"data row8 col5\" >0</td>\n",
       "                        <td id=\"T_f71e3d9c_01db_11eb_a12f_acde48001122row8_col6\" class=\"data row8 col6\" >0.00</td>\n",
       "                        <td id=\"T_f71e3d9c_01db_11eb_a12f_acde48001122row8_col7\" class=\"data row8 col7\" >354</td>\n",
       "                        <td id=\"T_f71e3d9c_01db_11eb_a12f_acde48001122row8_col8\" class=\"data row8 col8\" >39.73</td>\n",
       "                        <td id=\"T_f71e3d9c_01db_11eb_a12f_acde48001122row8_col9\" class=\"data row8 col9\" ></td>\n",
       "                        <td id=\"T_f71e3d9c_01db_11eb_a12f_acde48001122row8_col10\" class=\"data row8 col10\" ></td>\n",
       "                        <td id=\"T_f71e3d9c_01db_11eb_a12f_acde48001122row8_col11\" class=\"data row8 col11\" ></td>\n",
       "                        <td id=\"T_f71e3d9c_01db_11eb_a12f_acde48001122row8_col12\" class=\"data row8 col12\" ></td>\n",
       "                        <td id=\"T_f71e3d9c_01db_11eb_a12f_acde48001122row8_col13\" class=\"data row8 col13\" ></td>\n",
       "                        <td id=\"T_f71e3d9c_01db_11eb_a12f_acde48001122row8_col14\" class=\"data row8 col14\" ></td>\n",
       "                        <td id=\"T_f71e3d9c_01db_11eb_a12f_acde48001122row8_col15\" class=\"data row8 col15\" ></td>\n",
       "            </tr>\n",
       "            <tr>\n",
       "                        <th id=\"T_f71e3d9c_01db_11eb_a12f_acde48001122level0_row9\" class=\"row_heading level0 row9\" >6</th>\n",
       "                        <td id=\"T_f71e3d9c_01db_11eb_a12f_acde48001122row9_col0\" class=\"data row9 col0\" >fare</td>\n",
       "                        <td id=\"T_f71e3d9c_01db_11eb_a12f_acde48001122row9_col1\" class=\"data row9 col1\" >float64</td>\n",
       "                        <td id=\"T_f71e3d9c_01db_11eb_a12f_acde48001122row9_col2\" class=\"data row9 col2\" >891</td>\n",
       "                        <td id=\"T_f71e3d9c_01db_11eb_a12f_acde48001122row9_col3\" class=\"data row9 col3\" >891</td>\n",
       "                        <td id=\"T_f71e3d9c_01db_11eb_a12f_acde48001122row9_col4\" class=\"data row9 col4\" >248</td>\n",
       "                        <td id=\"T_f71e3d9c_01db_11eb_a12f_acde48001122row9_col5\" class=\"data row9 col5\" >0</td>\n",
       "                        <td id=\"T_f71e3d9c_01db_11eb_a12f_acde48001122row9_col6\" class=\"data row9 col6\" >0.00</td>\n",
       "                        <td id=\"T_f71e3d9c_01db_11eb_a12f_acde48001122row9_col7\" class=\"data row9 col7\" >15</td>\n",
       "                        <td id=\"T_f71e3d9c_01db_11eb_a12f_acde48001122row9_col8\" class=\"data row9 col8\" >1.68</td>\n",
       "                        <td id=\"T_f71e3d9c_01db_11eb_a12f_acde48001122row9_col9\" class=\"data row9 col9\" >32.20</td>\n",
       "                        <td id=\"T_f71e3d9c_01db_11eb_a12f_acde48001122row9_col10\" class=\"data row9 col10\" >49.69</td>\n",
       "                        <td id=\"T_f71e3d9c_01db_11eb_a12f_acde48001122row9_col11\" class=\"data row9 col11\" >0.00</td>\n",
       "                        <td id=\"T_f71e3d9c_01db_11eb_a12f_acde48001122row9_col12\" class=\"data row9 col12\" >512.33</td>\n",
       "                        <td id=\"T_f71e3d9c_01db_11eb_a12f_acde48001122row9_col13\" class=\"data row9 col13\" >7.91</td>\n",
       "                        <td id=\"T_f71e3d9c_01db_11eb_a12f_acde48001122row9_col14\" class=\"data row9 col14\" >14.45</td>\n",
       "                        <td id=\"T_f71e3d9c_01db_11eb_a12f_acde48001122row9_col15\" class=\"data row9 col15\" >31.00</td>\n",
       "            </tr>\n",
       "            <tr>\n",
       "                        <th id=\"T_f71e3d9c_01db_11eb_a12f_acde48001122level0_row10\" class=\"row_heading level0 row10\" >1</th>\n",
       "                        <td id=\"T_f71e3d9c_01db_11eb_a12f_acde48001122row10_col0\" class=\"data row10 col0\" >pclass</td>\n",
       "                        <td id=\"T_f71e3d9c_01db_11eb_a12f_acde48001122row10_col1\" class=\"data row10 col1\" >int64</td>\n",
       "                        <td id=\"T_f71e3d9c_01db_11eb_a12f_acde48001122row10_col2\" class=\"data row10 col2\" >891</td>\n",
       "                        <td id=\"T_f71e3d9c_01db_11eb_a12f_acde48001122row10_col3\" class=\"data row10 col3\" >891</td>\n",
       "                        <td id=\"T_f71e3d9c_01db_11eb_a12f_acde48001122row10_col4\" class=\"data row10 col4\" >3</td>\n",
       "                        <td id=\"T_f71e3d9c_01db_11eb_a12f_acde48001122row10_col5\" class=\"data row10 col5\" >0</td>\n",
       "                        <td id=\"T_f71e3d9c_01db_11eb_a12f_acde48001122row10_col6\" class=\"data row10 col6\" >0.00</td>\n",
       "                        <td id=\"T_f71e3d9c_01db_11eb_a12f_acde48001122row10_col7\" class=\"data row10 col7\" >0</td>\n",
       "                        <td id=\"T_f71e3d9c_01db_11eb_a12f_acde48001122row10_col8\" class=\"data row10 col8\" >0.00</td>\n",
       "                        <td id=\"T_f71e3d9c_01db_11eb_a12f_acde48001122row10_col9\" class=\"data row10 col9\" >2.31</td>\n",
       "                        <td id=\"T_f71e3d9c_01db_11eb_a12f_acde48001122row10_col10\" class=\"data row10 col10\" >0.84</td>\n",
       "                        <td id=\"T_f71e3d9c_01db_11eb_a12f_acde48001122row10_col11\" class=\"data row10 col11\" >1.00</td>\n",
       "                        <td id=\"T_f71e3d9c_01db_11eb_a12f_acde48001122row10_col12\" class=\"data row10 col12\" >3.00</td>\n",
       "                        <td id=\"T_f71e3d9c_01db_11eb_a12f_acde48001122row10_col13\" class=\"data row10 col13\" >2.00</td>\n",
       "                        <td id=\"T_f71e3d9c_01db_11eb_a12f_acde48001122row10_col14\" class=\"data row10 col14\" >3.00</td>\n",
       "                        <td id=\"T_f71e3d9c_01db_11eb_a12f_acde48001122row10_col15\" class=\"data row10 col15\" >3.00</td>\n",
       "            </tr>\n",
       "            <tr>\n",
       "                        <th id=\"T_f71e3d9c_01db_11eb_a12f_acde48001122level0_row11\" class=\"row_heading level0 row11\" >2</th>\n",
       "                        <td id=\"T_f71e3d9c_01db_11eb_a12f_acde48001122row11_col0\" class=\"data row11 col0\" >sex</td>\n",
       "                        <td id=\"T_f71e3d9c_01db_11eb_a12f_acde48001122row11_col1\" class=\"data row11 col1\" >object</td>\n",
       "                        <td id=\"T_f71e3d9c_01db_11eb_a12f_acde48001122row11_col2\" class=\"data row11 col2\" >891</td>\n",
       "                        <td id=\"T_f71e3d9c_01db_11eb_a12f_acde48001122row11_col3\" class=\"data row11 col3\" >891</td>\n",
       "                        <td id=\"T_f71e3d9c_01db_11eb_a12f_acde48001122row11_col4\" class=\"data row11 col4\" >2</td>\n",
       "                        <td id=\"T_f71e3d9c_01db_11eb_a12f_acde48001122row11_col5\" class=\"data row11 col5\" >0</td>\n",
       "                        <td id=\"T_f71e3d9c_01db_11eb_a12f_acde48001122row11_col6\" class=\"data row11 col6\" >0.00</td>\n",
       "                        <td id=\"T_f71e3d9c_01db_11eb_a12f_acde48001122row11_col7\" class=\"data row11 col7\" >0</td>\n",
       "                        <td id=\"T_f71e3d9c_01db_11eb_a12f_acde48001122row11_col8\" class=\"data row11 col8\" >0.00</td>\n",
       "                        <td id=\"T_f71e3d9c_01db_11eb_a12f_acde48001122row11_col9\" class=\"data row11 col9\" ></td>\n",
       "                        <td id=\"T_f71e3d9c_01db_11eb_a12f_acde48001122row11_col10\" class=\"data row11 col10\" ></td>\n",
       "                        <td id=\"T_f71e3d9c_01db_11eb_a12f_acde48001122row11_col11\" class=\"data row11 col11\" ></td>\n",
       "                        <td id=\"T_f71e3d9c_01db_11eb_a12f_acde48001122row11_col12\" class=\"data row11 col12\" ></td>\n",
       "                        <td id=\"T_f71e3d9c_01db_11eb_a12f_acde48001122row11_col13\" class=\"data row11 col13\" ></td>\n",
       "                        <td id=\"T_f71e3d9c_01db_11eb_a12f_acde48001122row11_col14\" class=\"data row11 col14\" ></td>\n",
       "                        <td id=\"T_f71e3d9c_01db_11eb_a12f_acde48001122row11_col15\" class=\"data row11 col15\" ></td>\n",
       "            </tr>\n",
       "            <tr>\n",
       "                        <th id=\"T_f71e3d9c_01db_11eb_a12f_acde48001122level0_row12\" class=\"row_heading level0 row12\" >8</th>\n",
       "                        <td id=\"T_f71e3d9c_01db_11eb_a12f_acde48001122row12_col0\" class=\"data row12 col0\" >class</td>\n",
       "                        <td id=\"T_f71e3d9c_01db_11eb_a12f_acde48001122row12_col1\" class=\"data row12 col1\" >category</td>\n",
       "                        <td id=\"T_f71e3d9c_01db_11eb_a12f_acde48001122row12_col2\" class=\"data row12 col2\" >891</td>\n",
       "                        <td id=\"T_f71e3d9c_01db_11eb_a12f_acde48001122row12_col3\" class=\"data row12 col3\" >891</td>\n",
       "                        <td id=\"T_f71e3d9c_01db_11eb_a12f_acde48001122row12_col4\" class=\"data row12 col4\" >3</td>\n",
       "                        <td id=\"T_f71e3d9c_01db_11eb_a12f_acde48001122row12_col5\" class=\"data row12 col5\" >0</td>\n",
       "                        <td id=\"T_f71e3d9c_01db_11eb_a12f_acde48001122row12_col6\" class=\"data row12 col6\" >0.00</td>\n",
       "                        <td id=\"T_f71e3d9c_01db_11eb_a12f_acde48001122row12_col7\" class=\"data row12 col7\" >0</td>\n",
       "                        <td id=\"T_f71e3d9c_01db_11eb_a12f_acde48001122row12_col8\" class=\"data row12 col8\" >0.00</td>\n",
       "                        <td id=\"T_f71e3d9c_01db_11eb_a12f_acde48001122row12_col9\" class=\"data row12 col9\" ></td>\n",
       "                        <td id=\"T_f71e3d9c_01db_11eb_a12f_acde48001122row12_col10\" class=\"data row12 col10\" ></td>\n",
       "                        <td id=\"T_f71e3d9c_01db_11eb_a12f_acde48001122row12_col11\" class=\"data row12 col11\" ></td>\n",
       "                        <td id=\"T_f71e3d9c_01db_11eb_a12f_acde48001122row12_col12\" class=\"data row12 col12\" ></td>\n",
       "                        <td id=\"T_f71e3d9c_01db_11eb_a12f_acde48001122row12_col13\" class=\"data row12 col13\" ></td>\n",
       "                        <td id=\"T_f71e3d9c_01db_11eb_a12f_acde48001122row12_col14\" class=\"data row12 col14\" ></td>\n",
       "                        <td id=\"T_f71e3d9c_01db_11eb_a12f_acde48001122row12_col15\" class=\"data row12 col15\" ></td>\n",
       "            </tr>\n",
       "            <tr>\n",
       "                        <th id=\"T_f71e3d9c_01db_11eb_a12f_acde48001122level0_row13\" class=\"row_heading level0 row13\" >9</th>\n",
       "                        <td id=\"T_f71e3d9c_01db_11eb_a12f_acde48001122row13_col0\" class=\"data row13 col0\" >who</td>\n",
       "                        <td id=\"T_f71e3d9c_01db_11eb_a12f_acde48001122row13_col1\" class=\"data row13 col1\" >object</td>\n",
       "                        <td id=\"T_f71e3d9c_01db_11eb_a12f_acde48001122row13_col2\" class=\"data row13 col2\" >891</td>\n",
       "                        <td id=\"T_f71e3d9c_01db_11eb_a12f_acde48001122row13_col3\" class=\"data row13 col3\" >891</td>\n",
       "                        <td id=\"T_f71e3d9c_01db_11eb_a12f_acde48001122row13_col4\" class=\"data row13 col4\" >3</td>\n",
       "                        <td id=\"T_f71e3d9c_01db_11eb_a12f_acde48001122row13_col5\" class=\"data row13 col5\" >0</td>\n",
       "                        <td id=\"T_f71e3d9c_01db_11eb_a12f_acde48001122row13_col6\" class=\"data row13 col6\" >0.00</td>\n",
       "                        <td id=\"T_f71e3d9c_01db_11eb_a12f_acde48001122row13_col7\" class=\"data row13 col7\" >0</td>\n",
       "                        <td id=\"T_f71e3d9c_01db_11eb_a12f_acde48001122row13_col8\" class=\"data row13 col8\" >0.00</td>\n",
       "                        <td id=\"T_f71e3d9c_01db_11eb_a12f_acde48001122row13_col9\" class=\"data row13 col9\" ></td>\n",
       "                        <td id=\"T_f71e3d9c_01db_11eb_a12f_acde48001122row13_col10\" class=\"data row13 col10\" ></td>\n",
       "                        <td id=\"T_f71e3d9c_01db_11eb_a12f_acde48001122row13_col11\" class=\"data row13 col11\" ></td>\n",
       "                        <td id=\"T_f71e3d9c_01db_11eb_a12f_acde48001122row13_col12\" class=\"data row13 col12\" ></td>\n",
       "                        <td id=\"T_f71e3d9c_01db_11eb_a12f_acde48001122row13_col13\" class=\"data row13 col13\" ></td>\n",
       "                        <td id=\"T_f71e3d9c_01db_11eb_a12f_acde48001122row13_col14\" class=\"data row13 col14\" ></td>\n",
       "                        <td id=\"T_f71e3d9c_01db_11eb_a12f_acde48001122row13_col15\" class=\"data row13 col15\" ></td>\n",
       "            </tr>\n",
       "            <tr>\n",
       "                        <th id=\"T_f71e3d9c_01db_11eb_a12f_acde48001122level0_row14\" class=\"row_heading level0 row14\" >13</th>\n",
       "                        <td id=\"T_f71e3d9c_01db_11eb_a12f_acde48001122row14_col0\" class=\"data row14 col0\" >alive</td>\n",
       "                        <td id=\"T_f71e3d9c_01db_11eb_a12f_acde48001122row14_col1\" class=\"data row14 col1\" >object</td>\n",
       "                        <td id=\"T_f71e3d9c_01db_11eb_a12f_acde48001122row14_col2\" class=\"data row14 col2\" >891</td>\n",
       "                        <td id=\"T_f71e3d9c_01db_11eb_a12f_acde48001122row14_col3\" class=\"data row14 col3\" >891</td>\n",
       "                        <td id=\"T_f71e3d9c_01db_11eb_a12f_acde48001122row14_col4\" class=\"data row14 col4\" >2</td>\n",
       "                        <td id=\"T_f71e3d9c_01db_11eb_a12f_acde48001122row14_col5\" class=\"data row14 col5\" >0</td>\n",
       "                        <td id=\"T_f71e3d9c_01db_11eb_a12f_acde48001122row14_col6\" class=\"data row14 col6\" >0.00</td>\n",
       "                        <td id=\"T_f71e3d9c_01db_11eb_a12f_acde48001122row14_col7\" class=\"data row14 col7\" >0</td>\n",
       "                        <td id=\"T_f71e3d9c_01db_11eb_a12f_acde48001122row14_col8\" class=\"data row14 col8\" >0.00</td>\n",
       "                        <td id=\"T_f71e3d9c_01db_11eb_a12f_acde48001122row14_col9\" class=\"data row14 col9\" ></td>\n",
       "                        <td id=\"T_f71e3d9c_01db_11eb_a12f_acde48001122row14_col10\" class=\"data row14 col10\" ></td>\n",
       "                        <td id=\"T_f71e3d9c_01db_11eb_a12f_acde48001122row14_col11\" class=\"data row14 col11\" ></td>\n",
       "                        <td id=\"T_f71e3d9c_01db_11eb_a12f_acde48001122row14_col12\" class=\"data row14 col12\" ></td>\n",
       "                        <td id=\"T_f71e3d9c_01db_11eb_a12f_acde48001122row14_col13\" class=\"data row14 col13\" ></td>\n",
       "                        <td id=\"T_f71e3d9c_01db_11eb_a12f_acde48001122row14_col14\" class=\"data row14 col14\" ></td>\n",
       "                        <td id=\"T_f71e3d9c_01db_11eb_a12f_acde48001122row14_col15\" class=\"data row14 col15\" ></td>\n",
       "            </tr>\n",
       "    </tbody></table>"
      ],
      "text/plain": [
       "<pandas.io.formats.style.Styler at 0x7fb9d5e6f6d0>"
      ]
     },
     "execution_count": 5,
     "metadata": {},
     "output_type": "execute_result"
    }
   ],
   "source": [
    "df.bp.describe()"
   ]
  },
  {
   "cell_type": "code",
   "execution_count": 6,
   "metadata": {
    "ExecuteTime": {
     "end_time": "2020-09-28T22:43:02.097979Z",
     "start_time": "2020-09-28T22:43:02.049860Z"
    }
   },
   "outputs": [
    {
     "data": {
      "text/plain": [
       "[]"
      ]
     },
     "execution_count": 6,
     "metadata": {},
     "output_type": "execute_result"
    }
   ],
   "source": [
    "df.bp.get_duplicate_columns()"
   ]
  },
  {
   "cell_type": "code",
   "execution_count": 7,
   "metadata": {
    "ExecuteTime": {
     "end_time": "2020-09-28T22:43:02.137152Z",
     "start_time": "2020-09-28T22:43:02.099799Z"
    }
   },
   "outputs": [
    {
     "data": {
      "text/plain": [
       "survived         int64\n",
       "pclass           int64\n",
       "sex             object\n",
       "age            float64\n",
       "sibsp            int64\n",
       "parch            int64\n",
       "fare           float64\n",
       "embarked        object\n",
       "class           object\n",
       "who             object\n",
       "adult_male        bool\n",
       "deck            object\n",
       "embark_town     object\n",
       "alive           object\n",
       "alone             bool\n",
       "dtype: object"
      ]
     },
     "execution_count": 7,
     "metadata": {},
     "output_type": "execute_result"
    }
   ],
   "source": [
    "df.dtypes"
   ]
  },
  {
   "cell_type": "code",
   "execution_count": 8,
   "metadata": {
    "ExecuteTime": {
     "end_time": "2020-09-28T22:43:02.185925Z",
     "start_time": "2020-09-28T22:43:02.139244Z"
    }
   },
   "outputs": [
    {
     "data": {
      "text/html": [
       "<div>\n",
       "<style scoped>\n",
       "    .dataframe tbody tr th:only-of-type {\n",
       "        vertical-align: middle;\n",
       "    }\n",
       "\n",
       "    .dataframe tbody tr th {\n",
       "        vertical-align: top;\n",
       "    }\n",
       "\n",
       "    .dataframe thead th {\n",
       "        text-align: right;\n",
       "    }\n",
       "</style>\n",
       "<table border=\"1\" class=\"dataframe\">\n",
       "  <thead>\n",
       "    <tr style=\"text-align: right;\">\n",
       "      <th></th>\n",
       "      <th>a</th>\n",
       "      <th>b</th>\n",
       "      <th>a_dup</th>\n",
       "    </tr>\n",
       "  </thead>\n",
       "  <tbody>\n",
       "    <tr>\n",
       "      <th>0</th>\n",
       "      <td>0</td>\n",
       "      <td>1</td>\n",
       "      <td>0</td>\n",
       "    </tr>\n",
       "    <tr>\n",
       "      <th>1</th>\n",
       "      <td>1</td>\n",
       "      <td>2</td>\n",
       "      <td>1</td>\n",
       "    </tr>\n",
       "    <tr>\n",
       "      <th>2</th>\n",
       "      <td>2</td>\n",
       "      <td>3</td>\n",
       "      <td>2</td>\n",
       "    </tr>\n",
       "  </tbody>\n",
       "</table>\n",
       "</div>"
      ],
      "text/plain": [
       "   a  b  a_dup\n",
       "0  0  1      0\n",
       "1  1  2      1\n",
       "2  2  3      2"
      ]
     },
     "execution_count": 8,
     "metadata": {},
     "output_type": "execute_result"
    }
   ],
   "source": [
    "df1 = pd.DataFrame({'a': range(3),'b':range(1,4),'a_dup':range(3)})\n",
    "df1"
   ]
  },
  {
   "cell_type": "code",
   "execution_count": 9,
   "metadata": {
    "ExecuteTime": {
     "end_time": "2020-09-28T22:43:02.235248Z",
     "start_time": "2020-09-28T22:43:02.190994Z"
    }
   },
   "outputs": [
    {
     "name": "stdout",
     "output_type": "stream",
     "text": [
      "a == a_dup\n"
     ]
    },
    {
     "data": {
      "text/plain": [
       "['a_dup']"
      ]
     },
     "execution_count": 9,
     "metadata": {},
     "output_type": "execute_result"
    }
   ],
   "source": [
    "df1.bp.get_duplicate_columns()"
   ]
  },
  {
   "cell_type": "code",
   "execution_count": 10,
   "metadata": {
    "ExecuteTime": {
     "end_time": "2020-09-28T22:43:02.807256Z",
     "start_time": "2020-09-28T22:43:02.239121Z"
    }
   },
   "outputs": [
    {
     "name": "stdout",
     "output_type": "stream",
     "text": [
      "Missing values high threshold = 80%\n",
      "\n",
      "Number of missing values features: 4\n",
      "cols_missing_high = []\n",
      "cols_missing_low = ['deck', 'age', 'embarked', 'embark_town']\n"
     ]
    },
    {
     "data": {
      "text/html": [
       "<style  type=\"text/css\" >\n",
       "#T_f77e57f4_01db_11eb_a12f_acde48001122row0_col1,#T_f77e57f4_01db_11eb_a12f_acde48001122row2_col1,#T_f77e57f4_01db_11eb_a12f_acde48001122row3_col1{\n",
       "            background:  salmon;\n",
       "        }#T_f77e57f4_01db_11eb_a12f_acde48001122row0_col6{\n",
       "            background-color:  #023858;\n",
       "            color:  #f1f1f1;\n",
       "        }#T_f77e57f4_01db_11eb_a12f_acde48001122row0_col7,#T_f77e57f4_01db_11eb_a12f_acde48001122row1_col7,#T_f77e57f4_01db_11eb_a12f_acde48001122row2_col6,#T_f77e57f4_01db_11eb_a12f_acde48001122row2_col7,#T_f77e57f4_01db_11eb_a12f_acde48001122row3_col6,#T_f77e57f4_01db_11eb_a12f_acde48001122row3_col7{\n",
       "            background-color:  #fff7fb;\n",
       "            color:  #000000;\n",
       "        }#T_f77e57f4_01db_11eb_a12f_acde48001122row1_col6{\n",
       "            background-color:  #ced0e6;\n",
       "            color:  #000000;\n",
       "        }</style><table id=\"T_f77e57f4_01db_11eb_a12f_acde48001122\" ><thead>    <tr>        <th class=\"blank level0\" ></th>        <th class=\"col_heading level0 col0\" >Feature</th>        <th class=\"col_heading level0 col1\" >Type</th>        <th class=\"col_heading level0 col2\" >Count</th>        <th class=\"col_heading level0 col3\" >Missing</th>        <th class=\"col_heading level0 col4\" >Zeros</th>        <th class=\"col_heading level0 col5\" >Unique</th>        <th class=\"col_heading level0 col6\" >MissingPct</th>        <th class=\"col_heading level0 col7\" >ZerosPct</th>        <th class=\"col_heading level0 col8\" >count</th>        <th class=\"col_heading level0 col9\" >mean</th>        <th class=\"col_heading level0 col10\" >std</th>        <th class=\"col_heading level0 col11\" >min</th>        <th class=\"col_heading level0 col12\" >25%</th>        <th class=\"col_heading level0 col13\" >50%</th>        <th class=\"col_heading level0 col14\" >75%</th>        <th class=\"col_heading level0 col15\" >max</th>    </tr></thead><tbody>\n",
       "                <tr>\n",
       "                        <th id=\"T_f77e57f4_01db_11eb_a12f_acde48001122level0_row0\" class=\"row_heading level0 row0\" >11</th>\n",
       "                        <td id=\"T_f77e57f4_01db_11eb_a12f_acde48001122row0_col0\" class=\"data row0 col0\" >deck</td>\n",
       "                        <td id=\"T_f77e57f4_01db_11eb_a12f_acde48001122row0_col1\" class=\"data row0 col1\" >object</td>\n",
       "                        <td id=\"T_f77e57f4_01db_11eb_a12f_acde48001122row0_col2\" class=\"data row0 col2\" >891</td>\n",
       "                        <td id=\"T_f77e57f4_01db_11eb_a12f_acde48001122row0_col3\" class=\"data row0 col3\" >688</td>\n",
       "                        <td id=\"T_f77e57f4_01db_11eb_a12f_acde48001122row0_col4\" class=\"data row0 col4\" >0</td>\n",
       "                        <td id=\"T_f77e57f4_01db_11eb_a12f_acde48001122row0_col5\" class=\"data row0 col5\" >7</td>\n",
       "                        <td id=\"T_f77e57f4_01db_11eb_a12f_acde48001122row0_col6\" class=\"data row0 col6\" >77.216611</td>\n",
       "                        <td id=\"T_f77e57f4_01db_11eb_a12f_acde48001122row0_col7\" class=\"data row0 col7\" >0.000000</td>\n",
       "                        <td id=\"T_f77e57f4_01db_11eb_a12f_acde48001122row0_col8\" class=\"data row0 col8\" ></td>\n",
       "                        <td id=\"T_f77e57f4_01db_11eb_a12f_acde48001122row0_col9\" class=\"data row0 col9\" ></td>\n",
       "                        <td id=\"T_f77e57f4_01db_11eb_a12f_acde48001122row0_col10\" class=\"data row0 col10\" ></td>\n",
       "                        <td id=\"T_f77e57f4_01db_11eb_a12f_acde48001122row0_col11\" class=\"data row0 col11\" ></td>\n",
       "                        <td id=\"T_f77e57f4_01db_11eb_a12f_acde48001122row0_col12\" class=\"data row0 col12\" ></td>\n",
       "                        <td id=\"T_f77e57f4_01db_11eb_a12f_acde48001122row0_col13\" class=\"data row0 col13\" ></td>\n",
       "                        <td id=\"T_f77e57f4_01db_11eb_a12f_acde48001122row0_col14\" class=\"data row0 col14\" ></td>\n",
       "                        <td id=\"T_f77e57f4_01db_11eb_a12f_acde48001122row0_col15\" class=\"data row0 col15\" ></td>\n",
       "            </tr>\n",
       "            <tr>\n",
       "                        <th id=\"T_f77e57f4_01db_11eb_a12f_acde48001122level0_row1\" class=\"row_heading level0 row1\" >3</th>\n",
       "                        <td id=\"T_f77e57f4_01db_11eb_a12f_acde48001122row1_col0\" class=\"data row1 col0\" >age</td>\n",
       "                        <td id=\"T_f77e57f4_01db_11eb_a12f_acde48001122row1_col1\" class=\"data row1 col1\" >float64</td>\n",
       "                        <td id=\"T_f77e57f4_01db_11eb_a12f_acde48001122row1_col2\" class=\"data row1 col2\" >891</td>\n",
       "                        <td id=\"T_f77e57f4_01db_11eb_a12f_acde48001122row1_col3\" class=\"data row1 col3\" >177</td>\n",
       "                        <td id=\"T_f77e57f4_01db_11eb_a12f_acde48001122row1_col4\" class=\"data row1 col4\" >0</td>\n",
       "                        <td id=\"T_f77e57f4_01db_11eb_a12f_acde48001122row1_col5\" class=\"data row1 col5\" >88</td>\n",
       "                        <td id=\"T_f77e57f4_01db_11eb_a12f_acde48001122row1_col6\" class=\"data row1 col6\" >19.865320</td>\n",
       "                        <td id=\"T_f77e57f4_01db_11eb_a12f_acde48001122row1_col7\" class=\"data row1 col7\" >0.000000</td>\n",
       "                        <td id=\"T_f77e57f4_01db_11eb_a12f_acde48001122row1_col8\" class=\"data row1 col8\" >714.000000</td>\n",
       "                        <td id=\"T_f77e57f4_01db_11eb_a12f_acde48001122row1_col9\" class=\"data row1 col9\" >29.699118</td>\n",
       "                        <td id=\"T_f77e57f4_01db_11eb_a12f_acde48001122row1_col10\" class=\"data row1 col10\" >14.526497</td>\n",
       "                        <td id=\"T_f77e57f4_01db_11eb_a12f_acde48001122row1_col11\" class=\"data row1 col11\" >0.420000</td>\n",
       "                        <td id=\"T_f77e57f4_01db_11eb_a12f_acde48001122row1_col12\" class=\"data row1 col12\" >20.125000</td>\n",
       "                        <td id=\"T_f77e57f4_01db_11eb_a12f_acde48001122row1_col13\" class=\"data row1 col13\" >28.000000</td>\n",
       "                        <td id=\"T_f77e57f4_01db_11eb_a12f_acde48001122row1_col14\" class=\"data row1 col14\" >38.000000</td>\n",
       "                        <td id=\"T_f77e57f4_01db_11eb_a12f_acde48001122row1_col15\" class=\"data row1 col15\" >80.000000</td>\n",
       "            </tr>\n",
       "            <tr>\n",
       "                        <th id=\"T_f77e57f4_01db_11eb_a12f_acde48001122level0_row2\" class=\"row_heading level0 row2\" >7</th>\n",
       "                        <td id=\"T_f77e57f4_01db_11eb_a12f_acde48001122row2_col0\" class=\"data row2 col0\" >embarked</td>\n",
       "                        <td id=\"T_f77e57f4_01db_11eb_a12f_acde48001122row2_col1\" class=\"data row2 col1\" >object</td>\n",
       "                        <td id=\"T_f77e57f4_01db_11eb_a12f_acde48001122row2_col2\" class=\"data row2 col2\" >891</td>\n",
       "                        <td id=\"T_f77e57f4_01db_11eb_a12f_acde48001122row2_col3\" class=\"data row2 col3\" >2</td>\n",
       "                        <td id=\"T_f77e57f4_01db_11eb_a12f_acde48001122row2_col4\" class=\"data row2 col4\" >0</td>\n",
       "                        <td id=\"T_f77e57f4_01db_11eb_a12f_acde48001122row2_col5\" class=\"data row2 col5\" >3</td>\n",
       "                        <td id=\"T_f77e57f4_01db_11eb_a12f_acde48001122row2_col6\" class=\"data row2 col6\" >0.224467</td>\n",
       "                        <td id=\"T_f77e57f4_01db_11eb_a12f_acde48001122row2_col7\" class=\"data row2 col7\" >0.000000</td>\n",
       "                        <td id=\"T_f77e57f4_01db_11eb_a12f_acde48001122row2_col8\" class=\"data row2 col8\" ></td>\n",
       "                        <td id=\"T_f77e57f4_01db_11eb_a12f_acde48001122row2_col9\" class=\"data row2 col9\" ></td>\n",
       "                        <td id=\"T_f77e57f4_01db_11eb_a12f_acde48001122row2_col10\" class=\"data row2 col10\" ></td>\n",
       "                        <td id=\"T_f77e57f4_01db_11eb_a12f_acde48001122row2_col11\" class=\"data row2 col11\" ></td>\n",
       "                        <td id=\"T_f77e57f4_01db_11eb_a12f_acde48001122row2_col12\" class=\"data row2 col12\" ></td>\n",
       "                        <td id=\"T_f77e57f4_01db_11eb_a12f_acde48001122row2_col13\" class=\"data row2 col13\" ></td>\n",
       "                        <td id=\"T_f77e57f4_01db_11eb_a12f_acde48001122row2_col14\" class=\"data row2 col14\" ></td>\n",
       "                        <td id=\"T_f77e57f4_01db_11eb_a12f_acde48001122row2_col15\" class=\"data row2 col15\" ></td>\n",
       "            </tr>\n",
       "            <tr>\n",
       "                        <th id=\"T_f77e57f4_01db_11eb_a12f_acde48001122level0_row3\" class=\"row_heading level0 row3\" >12</th>\n",
       "                        <td id=\"T_f77e57f4_01db_11eb_a12f_acde48001122row3_col0\" class=\"data row3 col0\" >embark_town</td>\n",
       "                        <td id=\"T_f77e57f4_01db_11eb_a12f_acde48001122row3_col1\" class=\"data row3 col1\" >object</td>\n",
       "                        <td id=\"T_f77e57f4_01db_11eb_a12f_acde48001122row3_col2\" class=\"data row3 col2\" >891</td>\n",
       "                        <td id=\"T_f77e57f4_01db_11eb_a12f_acde48001122row3_col3\" class=\"data row3 col3\" >2</td>\n",
       "                        <td id=\"T_f77e57f4_01db_11eb_a12f_acde48001122row3_col4\" class=\"data row3 col4\" >0</td>\n",
       "                        <td id=\"T_f77e57f4_01db_11eb_a12f_acde48001122row3_col5\" class=\"data row3 col5\" >3</td>\n",
       "                        <td id=\"T_f77e57f4_01db_11eb_a12f_acde48001122row3_col6\" class=\"data row3 col6\" >0.224467</td>\n",
       "                        <td id=\"T_f77e57f4_01db_11eb_a12f_acde48001122row3_col7\" class=\"data row3 col7\" >0.000000</td>\n",
       "                        <td id=\"T_f77e57f4_01db_11eb_a12f_acde48001122row3_col8\" class=\"data row3 col8\" ></td>\n",
       "                        <td id=\"T_f77e57f4_01db_11eb_a12f_acde48001122row3_col9\" class=\"data row3 col9\" ></td>\n",
       "                        <td id=\"T_f77e57f4_01db_11eb_a12f_acde48001122row3_col10\" class=\"data row3 col10\" ></td>\n",
       "                        <td id=\"T_f77e57f4_01db_11eb_a12f_acde48001122row3_col11\" class=\"data row3 col11\" ></td>\n",
       "                        <td id=\"T_f77e57f4_01db_11eb_a12f_acde48001122row3_col12\" class=\"data row3 col12\" ></td>\n",
       "                        <td id=\"T_f77e57f4_01db_11eb_a12f_acde48001122row3_col13\" class=\"data row3 col13\" ></td>\n",
       "                        <td id=\"T_f77e57f4_01db_11eb_a12f_acde48001122row3_col14\" class=\"data row3 col14\" ></td>\n",
       "                        <td id=\"T_f77e57f4_01db_11eb_a12f_acde48001122row3_col15\" class=\"data row3 col15\" ></td>\n",
       "            </tr>\n",
       "    </tbody></table>"
      ],
      "text/plain": [
       "<pandas.io.formats.style.Styler at 0x7fb9d730f850>"
      ]
     },
     "execution_count": 10,
     "metadata": {},
     "output_type": "execute_result"
    },
    {
     "data": {
      "image/png": "[encoded data removed]",
      "text/plain": [
       "<Figure size 576x432 with 1 Axes>"
      ]
     },
     "metadata": {},
     "output_type": "display_data"
    }
   ],
   "source": [
    "df.bp.missing()"
   ]
  },
  {
   "cell_type": "code",
   "execution_count": null,
   "metadata": {},
   "outputs": [],
   "source": []
  }
 ],
 "metadata": {
  "kernelspec": {
   "display_name": "Python (dataSc)",
   "language": "python",
   "name": "datasc"
  },
  "language_info": {
   "codemirror_mode": {
    "name": "ipython",
    "version": 3
   },
   "file_extension": ".py",
   "mimetype": "text/x-python",
   "name": "python",
   "nbconvert_exporter": "python",
   "pygments_lexer": "ipython3",
   "version": "3.7.7"
  },
  "toc": {
   "base_numbering": 1,
   "nav_menu": {},
   "number_sections": true,
   "sideBar": true,
   "skip_h1_title": false,
   "title_cell": "Table of Contents",
   "title_sidebar": "Contents",
   "toc_cell": true,
   "toc_position": {},
   "toc_section_display": true,
   "toc_window_display": true
  },
  "varInspector": {
   "cols": {
    "lenName": 16,
    "lenType": 16,
    "lenVar": 40
   },
   "kernels_config": {
    "python": {
     "delete_cmd_postfix": "",
     "delete_cmd_prefix": "del ",
     "library": "var_list.py",
     "varRefreshCmd": "print(var_dic_list())"
    },
    "r": {
     "delete_cmd_postfix": ") ",
     "delete_cmd_prefix": "rm(",
     "library": "var_list.r",
     "varRefreshCmd": "cat(var_dic_list()) "
    }
   },
   "types_to_exclude": [
    "module",
    "function",
    "builtin_function_or_method",
    "instance",
    "_Feature"
   ],
   "window_display": false
  }
 },
 "nbformat": 4,
 "nbformat_minor": 4
}
