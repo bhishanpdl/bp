{
 "cells": [
  {
   "cell_type": "markdown",
   "metadata": {
    "toc": true
   },
   "source": [
    "<h1>Table of Contents<span class=\"tocSkip\"></span></h1>\n",
    "<div class=\"toc\"><ul class=\"toc-item\"><li><span><a href=\"#Description\" data-toc-modified-id=\"Description-1\"><span class=\"toc-item-num\">1&nbsp;&nbsp;</span>Description</a></span></li><li><span><a href=\"#Imports\" data-toc-modified-id=\"Imports-2\"><span class=\"toc-item-num\">2&nbsp;&nbsp;</span>Imports</a></span></li><li><span><a href=\"#Using-plotly-api-in-module-bhishan\" data-toc-modified-id=\"Using-plotly-api-in-module-bhishan-3\"><span class=\"toc-item-num\">3&nbsp;&nbsp;</span>Using plotly api in module bhishan</a></span></li><li><span><a href=\"#Correlation\" data-toc-modified-id=\"Correlation-4\"><span class=\"toc-item-num\">4&nbsp;&nbsp;</span>Correlation</a></span></li><li><span><a href=\"#Partial-Correlation\" data-toc-modified-id=\"Partial-Correlation-5\"><span class=\"toc-item-num\">5&nbsp;&nbsp;</span>Partial Correlation</a></span></li><li><span><a href=\"#Outliers\" data-toc-modified-id=\"Outliers-6\"><span class=\"toc-item-num\">6&nbsp;&nbsp;</span>Outliers</a></span></li><li><span><a href=\"#Kernel-Density\" data-toc-modified-id=\"Kernel-Density-7\"><span class=\"toc-item-num\">7&nbsp;&nbsp;</span>Kernel Density</a></span></li></ul></div>"
   ]
  },
  {
   "cell_type": "markdown",
   "metadata": {},
   "source": [
    "# Description\n",
    "This is an example tutorial to use my module bhishan for the plotly\n",
    "extension for pandas.\n"
   ]
  },
  {
   "cell_type": "markdown",
   "metadata": {},
   "source": [
    "# Imports"
   ]
  },
  {
   "cell_type": "code",
   "execution_count": 1,
   "metadata": {
    "ExecuteTime": {
     "end_time": "2021-07-11T16:28:12.084703Z",
     "start_time": "2021-07-11T16:28:10.769738Z"
    }
   },
   "outputs": [
    {
     "name": "stdout",
     "output_type": "stream",
     "text": [
      "Bhishan Poudel 2021-07-11 \n",
      "\n",
      "CPython 3.7.7\n",
      "IPython 7.22.0\n",
      "\n",
      "compiler   : Clang 4.0.1 (tags/RELEASE_401/final)\n",
      "system     : Darwin\n",
      "release    : 19.6.0\n",
      "machine    : x86_64\n",
      "processor  : i386\n",
      "CPU cores  : 4\n",
      "interpreter: 64bit\n",
      "seaborn 0.11.0\n",
      "numpy   1.19.5\n",
      "pandas  1.2.4\n",
      "\n"
     ]
    }
   ],
   "source": [
    "import numpy as np\n",
    "import pandas as pd\n",
    "import matplotlib.pyplot as plt\n",
    "import seaborn as sns\n",
    "\n",
    "%load_ext autoreload\n",
    "%load_ext watermark\n",
    "\n",
    "%autoreload 2\n",
    "%watermark -a \"Bhishan Poudel\" -d -v -m\n",
    "%watermark -iv"
   ]
  },
  {
   "cell_type": "code",
   "execution_count": 2,
   "metadata": {
    "ExecuteTime": {
     "end_time": "2021-07-11T16:28:12.641631Z",
     "start_time": "2021-07-11T16:28:12.088459Z"
    }
   },
   "outputs": [],
   "source": [
    "# my local library\n",
    "import sys\n",
    "sys.path.append(\"/Users/poudel/Dropbox/a00_Bhishan_Modules/\")\n",
    "sys.path.append(\"/Users/poudel/Dropbox/a00_Bhishan_Modules/bhishan\")\n",
    "from bhishan import bp"
   ]
  },
  {
   "cell_type": "markdown",
   "metadata": {},
   "source": [
    "# Using plotly api in module bhishan"
   ]
  },
  {
   "cell_type": "code",
   "execution_count": 3,
   "metadata": {
    "ExecuteTime": {
     "end_time": "2021-07-11T16:28:12.686167Z",
     "start_time": "2021-07-11T16:28:12.645435Z"
    }
   },
   "outputs": [],
   "source": [
    "# print(sns.get_dataset_names())"
   ]
  },
  {
   "cell_type": "code",
   "execution_count": 4,
   "metadata": {
    "ExecuteTime": {
     "end_time": "2021-07-11T16:28:12.744317Z",
     "start_time": "2021-07-11T16:28:12.689273Z"
    }
   },
   "outputs": [
    {
     "data": {
      "text/html": [
       "<div>\n",
       "<style scoped>\n",
       "    .dataframe tbody tr th:only-of-type {\n",
       "        vertical-align: middle;\n",
       "    }\n",
       "\n",
       "    .dataframe tbody tr th {\n",
       "        vertical-align: top;\n",
       "    }\n",
       "\n",
       "    .dataframe thead th {\n",
       "        text-align: right;\n",
       "    }\n",
       "</style>\n",
       "<table border=\"1\" class=\"dataframe\">\n",
       "  <thead>\n",
       "    <tr style=\"text-align: right;\">\n",
       "      <th></th>\n",
       "      <th>survived</th>\n",
       "      <th>pclass</th>\n",
       "      <th>sex</th>\n",
       "      <th>age</th>\n",
       "      <th>sibsp</th>\n",
       "      <th>parch</th>\n",
       "      <th>fare</th>\n",
       "      <th>embarked</th>\n",
       "      <th>class</th>\n",
       "      <th>who</th>\n",
       "      <th>adult_male</th>\n",
       "      <th>deck</th>\n",
       "      <th>embark_town</th>\n",
       "      <th>alive</th>\n",
       "      <th>alone</th>\n",
       "    </tr>\n",
       "  </thead>\n",
       "  <tbody>\n",
       "    <tr>\n",
       "      <th>0</th>\n",
       "      <td>0</td>\n",
       "      <td>3</td>\n",
       "      <td>male</td>\n",
       "      <td>22.0</td>\n",
       "      <td>1</td>\n",
       "      <td>0</td>\n",
       "      <td>7.2500</td>\n",
       "      <td>S</td>\n",
       "      <td>Third</td>\n",
       "      <td>man</td>\n",
       "      <td>True</td>\n",
       "      <td>NaN</td>\n",
       "      <td>Southampton</td>\n",
       "      <td>no</td>\n",
       "      <td>False</td>\n",
       "    </tr>\n",
       "    <tr>\n",
       "      <th>1</th>\n",
       "      <td>1</td>\n",
       "      <td>1</td>\n",
       "      <td>female</td>\n",
       "      <td>38.0</td>\n",
       "      <td>1</td>\n",
       "      <td>0</td>\n",
       "      <td>71.2833</td>\n",
       "      <td>C</td>\n",
       "      <td>First</td>\n",
       "      <td>woman</td>\n",
       "      <td>False</td>\n",
       "      <td>C</td>\n",
       "      <td>Cherbourg</td>\n",
       "      <td>yes</td>\n",
       "      <td>False</td>\n",
       "    </tr>\n",
       "    <tr>\n",
       "      <th>2</th>\n",
       "      <td>1</td>\n",
       "      <td>3</td>\n",
       "      <td>female</td>\n",
       "      <td>26.0</td>\n",
       "      <td>0</td>\n",
       "      <td>0</td>\n",
       "      <td>7.9250</td>\n",
       "      <td>S</td>\n",
       "      <td>Third</td>\n",
       "      <td>woman</td>\n",
       "      <td>False</td>\n",
       "      <td>NaN</td>\n",
       "      <td>Southampton</td>\n",
       "      <td>yes</td>\n",
       "      <td>True</td>\n",
       "    </tr>\n",
       "    <tr>\n",
       "      <th>3</th>\n",
       "      <td>1</td>\n",
       "      <td>1</td>\n",
       "      <td>female</td>\n",
       "      <td>35.0</td>\n",
       "      <td>1</td>\n",
       "      <td>0</td>\n",
       "      <td>53.1000</td>\n",
       "      <td>S</td>\n",
       "      <td>First</td>\n",
       "      <td>woman</td>\n",
       "      <td>False</td>\n",
       "      <td>C</td>\n",
       "      <td>Southampton</td>\n",
       "      <td>yes</td>\n",
       "      <td>False</td>\n",
       "    </tr>\n",
       "    <tr>\n",
       "      <th>4</th>\n",
       "      <td>0</td>\n",
       "      <td>3</td>\n",
       "      <td>male</td>\n",
       "      <td>35.0</td>\n",
       "      <td>0</td>\n",
       "      <td>0</td>\n",
       "      <td>8.0500</td>\n",
       "      <td>S</td>\n",
       "      <td>Third</td>\n",
       "      <td>man</td>\n",
       "      <td>True</td>\n",
       "      <td>NaN</td>\n",
       "      <td>Southampton</td>\n",
       "      <td>no</td>\n",
       "      <td>True</td>\n",
       "    </tr>\n",
       "  </tbody>\n",
       "</table>\n",
       "</div>"
      ],
      "text/plain": [
       "   survived  pclass     sex   age  sibsp  parch     fare embarked  class  \\\n",
       "0         0       3    male  22.0      1      0   7.2500        S  Third   \n",
       "1         1       1  female  38.0      1      0  71.2833        C  First   \n",
       "2         1       3  female  26.0      0      0   7.9250        S  Third   \n",
       "3         1       1  female  35.0      1      0  53.1000        S  First   \n",
       "4         0       3    male  35.0      0      0   8.0500        S  Third   \n",
       "\n",
       "     who  adult_male deck  embark_town alive  alone  \n",
       "0    man        True  NaN  Southampton    no  False  \n",
       "1  woman       False    C    Cherbourg   yes  False  \n",
       "2  woman       False  NaN  Southampton   yes   True  \n",
       "3  woman       False    C  Southampton   yes  False  \n",
       "4    man        True  NaN  Southampton    no   True  "
      ]
     },
     "execution_count": 4,
     "metadata": {},
     "output_type": "execute_result"
    }
   ],
   "source": [
    "df = sns.load_dataset('titanic')\n",
    "df.head()"
   ]
  },
  {
   "cell_type": "markdown",
   "metadata": {},
   "source": [
    "# Correlation"
   ]
  },
  {
   "cell_type": "code",
   "execution_count": 5,
   "metadata": {
    "ExecuteTime": {
     "end_time": "2021-07-11T16:28:13.658358Z",
     "start_time": "2021-07-11T16:28:12.747579Z"
    }
   },
   "outputs": [
    {
     "data": {
      "image/png": "[encoded data removed]",
      "text/plain": [
       "<Figure size 864x576 with 2 Axes>"
      ]
     },
     "metadata": {},
     "output_type": "display_data"
    }
   ],
   "source": [
    "df.bp.plot_corr(xrot=0)"
   ]
  },
  {
   "cell_type": "code",
   "execution_count": 6,
   "metadata": {
    "ExecuteTime": {
     "end_time": "2021-07-11T16:28:14.535157Z",
     "start_time": "2021-07-11T16:28:13.661071Z"
    }
   },
   "outputs": [
    {
     "data": {
      "image/png": "[encoded data removed]",
      "text/plain": [
       "<Figure size 864x576 with 2 Axes>"
      ]
     },
     "metadata": {},
     "output_type": "display_data"
    }
   ],
   "source": [
    "df.bp.plot_corr(target='survived')"
   ]
  },
  {
   "cell_type": "code",
   "execution_count": 7,
   "metadata": {
    "ExecuteTime": {
     "end_time": "2021-07-11T16:28:15.214832Z",
     "start_time": "2021-07-11T16:28:14.537739Z"
    }
   },
   "outputs": [
    {
     "data": {
      "image/png": "[encoded data removed]",
      "text/plain": [
       "<Figure size 864x576 with 2 Axes>"
      ]
     },
     "metadata": {},
     "output_type": "display_data"
    }
   ],
   "source": [
    "target = 'survived'\n",
    "df_few_cols = df[['age','fare']]\n",
    "df_few_cols.merge(df[target],left_index=True,right_index=True)\\\n",
    "           .bp.plot_corr()"
   ]
  },
  {
   "cell_type": "code",
   "execution_count": 8,
   "metadata": {
    "ExecuteTime": {
     "end_time": "2021-07-11T16:28:15.414848Z",
     "start_time": "2021-07-11T16:28:15.219383Z"
    }
   },
   "outputs": [
    {
     "data": {
      "text/html": [
       "<style  type=\"text/css\" >\n",
       "    #T_a6cc9_ th {\n",
       "          font-size: 7pt;\n",
       "    }    #T_a6cc9_ td {\n",
       "          padding: 0em 0em;\n",
       "    }    #T_a6cc9_ th:hover {\n",
       "          font-size: 12pt;\n",
       "    }    #T_a6cc9_ tr:hover td:hover {\n",
       "          max-width: 200px;\n",
       "          font-size: 12pt;\n",
       "    }#T_a6cc9_row0_col0,#T_a6cc9_row1_col1,#T_a6cc9_row2_col2,#T_a6cc9_row3_col3,#T_a6cc9_row4_col4,#T_a6cc9_row5_col5,#T_a6cc9_row6_col6,#T_a6cc9_row7_col7{\n",
       "            background-color:  #053061;\n",
       "            color:  #f1f1f1;\n",
       "            max-width:  80px;\n",
       "            font-size:  10pt;\n",
       "        }#T_a6cc9_row0_col1{\n",
       "            background-color:  #bf3338;\n",
       "            color:  #f1f1f1;\n",
       "            max-width:  80px;\n",
       "            font-size:  10pt;\n",
       "        }#T_a6cc9_row0_col2{\n",
       "            background-color:  #f5a886;\n",
       "            color:  #000000;\n",
       "            max-width:  80px;\n",
       "            font-size:  10pt;\n",
       "        }#T_a6cc9_row0_col3{\n",
       "            background-color:  #f7b799;\n",
       "            color:  #000000;\n",
       "            max-width:  80px;\n",
       "            font-size:  10pt;\n",
       "        }#T_a6cc9_row0_col4{\n",
       "            background-color:  #fcdecd;\n",
       "            color:  #000000;\n",
       "            max-width:  80px;\n",
       "            font-size:  10pt;\n",
       "        }#T_a6cc9_row0_col5,#T_a6cc9_row5_col0{\n",
       "            background-color:  #eff3f5;\n",
       "            color:  #000000;\n",
       "            max-width:  80px;\n",
       "            font-size:  10pt;\n",
       "        }#T_a6cc9_row0_col6,#T_a6cc9_row1_col5,#T_a6cc9_row2_col1,#T_a6cc9_row3_col7,#T_a6cc9_row4_col7,#T_a6cc9_row5_col1,#T_a6cc9_row6_col0,#T_a6cc9_row7_col3,#T_a6cc9_row7_col4{\n",
       "            background-color:  #67001f;\n",
       "            color:  #f1f1f1;\n",
       "            max-width:  80px;\n",
       "            font-size:  10pt;\n",
       "        }#T_a6cc9_row0_col7{\n",
       "            background-color:  #de735c;\n",
       "            color:  #000000;\n",
       "            max-width:  80px;\n",
       "            font-size:  10pt;\n",
       "        }#T_a6cc9_row1_col0,#T_a6cc9_row6_col4{\n",
       "            background-color:  #be3036;\n",
       "            color:  #f1f1f1;\n",
       "            max-width:  80px;\n",
       "            font-size:  10pt;\n",
       "        }#T_a6cc9_row1_col2{\n",
       "            background-color:  #b72230;\n",
       "            color:  #f1f1f1;\n",
       "            max-width:  80px;\n",
       "            font-size:  10pt;\n",
       "        }#T_a6cc9_row1_col3{\n",
       "            background-color:  #fdddcb;\n",
       "            color:  #000000;\n",
       "            max-width:  80px;\n",
       "            font-size:  10pt;\n",
       "        }#T_a6cc9_row1_col4{\n",
       "            background-color:  #fac8af;\n",
       "            color:  #000000;\n",
       "            max-width:  80px;\n",
       "            font-size:  10pt;\n",
       "        }#T_a6cc9_row1_col6,#T_a6cc9_row2_col7,#T_a6cc9_row5_col2{\n",
       "            background-color:  #fcdfcf;\n",
       "            color:  #000000;\n",
       "            max-width:  80px;\n",
       "            font-size:  10pt;\n",
       "        }#T_a6cc9_row1_col7{\n",
       "            background-color:  #fae7dc;\n",
       "            color:  #000000;\n",
       "            max-width:  80px;\n",
       "            font-size:  10pt;\n",
       "        }#T_a6cc9_row2_col0{\n",
       "            background-color:  #da6853;\n",
       "            color:  #000000;\n",
       "            max-width:  80px;\n",
       "            font-size:  10pt;\n",
       "        }#T_a6cc9_row2_col3{\n",
       "            background-color:  #870a24;\n",
       "            color:  #f1f1f1;\n",
       "            max-width:  80px;\n",
       "            font-size:  10pt;\n",
       "        }#T_a6cc9_row2_col4{\n",
       "            background-color:  #bd2d35;\n",
       "            color:  #f1f1f1;\n",
       "            max-width:  80px;\n",
       "            font-size:  10pt;\n",
       "        }#T_a6cc9_row2_col5{\n",
       "            background-color:  #f7b99c;\n",
       "            color:  #000000;\n",
       "            max-width:  80px;\n",
       "            font-size:  10pt;\n",
       "        }#T_a6cc9_row2_col6{\n",
       "            background-color:  #f9f0eb;\n",
       "            color:  #000000;\n",
       "            max-width:  80px;\n",
       "            font-size:  10pt;\n",
       "        }#T_a6cc9_row3_col0{\n",
       "            background-color:  #f8bda1;\n",
       "            color:  #000000;\n",
       "            max-width:  80px;\n",
       "            font-size:  10pt;\n",
       "        }#T_a6cc9_row3_col1,#T_a6cc9_row4_col0,#T_a6cc9_row6_col1{\n",
       "            background-color:  #fce0d0;\n",
       "            color:  #000000;\n",
       "            max-width:  80px;\n",
       "            font-size:  10pt;\n",
       "        }#T_a6cc9_row3_col2{\n",
       "            background-color:  #cc4c44;\n",
       "            color:  #f1f1f1;\n",
       "            max-width:  80px;\n",
       "            font-size:  10pt;\n",
       "        }#T_a6cc9_row3_col4,#T_a6cc9_row4_col3{\n",
       "            background-color:  #bddbea;\n",
       "            color:  #000000;\n",
       "            max-width:  80px;\n",
       "            font-size:  10pt;\n",
       "        }#T_a6cc9_row3_col5{\n",
       "            background-color:  #f9efe9;\n",
       "            color:  #000000;\n",
       "            max-width:  80px;\n",
       "            font-size:  10pt;\n",
       "        }#T_a6cc9_row3_col6{\n",
       "            background-color:  #d86551;\n",
       "            color:  #000000;\n",
       "            max-width:  80px;\n",
       "            font-size:  10pt;\n",
       "        }#T_a6cc9_row4_col1{\n",
       "            background-color:  #fbd0b9;\n",
       "            color:  #000000;\n",
       "            max-width:  80px;\n",
       "            font-size:  10pt;\n",
       "        }#T_a6cc9_row4_col2{\n",
       "            background-color:  #e48066;\n",
       "            color:  #000000;\n",
       "            max-width:  80px;\n",
       "            font-size:  10pt;\n",
       "        }#T_a6cc9_row4_col5{\n",
       "            background-color:  #f5f6f7;\n",
       "            color:  #000000;\n",
       "            max-width:  80px;\n",
       "            font-size:  10pt;\n",
       "        }#T_a6cc9_row4_col6{\n",
       "            background-color:  #c2383a;\n",
       "            color:  #f1f1f1;\n",
       "            max-width:  80px;\n",
       "            font-size:  10pt;\n",
       "        }#T_a6cc9_row5_col3{\n",
       "            background-color:  #f9ebe3;\n",
       "            color:  #000000;\n",
       "            max-width:  80px;\n",
       "            font-size:  10pt;\n",
       "        }#T_a6cc9_row5_col4,#T_a6cc9_row7_col2{\n",
       "            background-color:  #f7f5f4;\n",
       "            color:  #000000;\n",
       "            max-width:  80px;\n",
       "            font-size:  10pt;\n",
       "        }#T_a6cc9_row5_col6{\n",
       "            background-color:  #e17860;\n",
       "            color:  #000000;\n",
       "            max-width:  80px;\n",
       "            font-size:  10pt;\n",
       "        }#T_a6cc9_row5_col7{\n",
       "            background-color:  #ce4f45;\n",
       "            color:  #000000;\n",
       "            max-width:  80px;\n",
       "            font-size:  10pt;\n",
       "        }#T_a6cc9_row6_col2{\n",
       "            background-color:  #e9f0f4;\n",
       "            color:  #000000;\n",
       "            max-width:  80px;\n",
       "            font-size:  10pt;\n",
       "        }#T_a6cc9_row6_col3{\n",
       "            background-color:  #d35a4a;\n",
       "            color:  #000000;\n",
       "            max-width:  80px;\n",
       "            font-size:  10pt;\n",
       "        }#T_a6cc9_row6_col5,#T_a6cc9_row7_col0{\n",
       "            background-color:  #e27b62;\n",
       "            color:  #000000;\n",
       "            max-width:  80px;\n",
       "            font-size:  10pt;\n",
       "        }#T_a6cc9_row6_col7{\n",
       "            background-color:  #c5dfec;\n",
       "            color:  #000000;\n",
       "            max-width:  80px;\n",
       "            font-size:  10pt;\n",
       "        }#T_a6cc9_row7_col1{\n",
       "            background-color:  #faeae1;\n",
       "            color:  #000000;\n",
       "            max-width:  80px;\n",
       "            font-size:  10pt;\n",
       "        }#T_a6cc9_row7_col5{\n",
       "            background-color:  #d55d4c;\n",
       "            color:  #000000;\n",
       "            max-width:  80px;\n",
       "            font-size:  10pt;\n",
       "        }#T_a6cc9_row7_col6{\n",
       "            background-color:  #c2ddec;\n",
       "            color:  #000000;\n",
       "            max-width:  80px;\n",
       "            font-size:  10pt;\n",
       "        }</style><table id=\"T_a6cc9_\" ><caption>Hover to magify</caption><thead>    <tr>        <th class=\"blank level0\" ></th>        <th class=\"col_heading level0 col0\" >survived</th>        <th class=\"col_heading level0 col1\" >pclass</th>        <th class=\"col_heading level0 col2\" >age</th>        <th class=\"col_heading level0 col3\" >sibsp</th>        <th class=\"col_heading level0 col4\" >parch</th>        <th class=\"col_heading level0 col5\" >fare</th>        <th class=\"col_heading level0 col6\" >adult_male</th>        <th class=\"col_heading level0 col7\" >alone</th>    </tr></thead><tbody>\n",
       "                <tr>\n",
       "                        <th id=\"T_a6cc9_level0_row0\" class=\"row_heading level0 row0\" >survived</th>\n",
       "                        <td id=\"T_a6cc9_row0_col0\" class=\"data row0 col0\" >1.00</td>\n",
       "                        <td id=\"T_a6cc9_row0_col1\" class=\"data row0 col1\" >-0.34</td>\n",
       "                        <td id=\"T_a6cc9_row0_col2\" class=\"data row0 col2\" >-0.08</td>\n",
       "                        <td id=\"T_a6cc9_row0_col3\" class=\"data row0 col3\" >-0.04</td>\n",
       "                        <td id=\"T_a6cc9_row0_col4\" class=\"data row0 col4\" >0.08</td>\n",
       "                        <td id=\"T_a6cc9_row0_col5\" class=\"data row0 col5\" >0.26</td>\n",
       "                        <td id=\"T_a6cc9_row0_col6\" class=\"data row0 col6\" >-0.56</td>\n",
       "                        <td id=\"T_a6cc9_row0_col7\" class=\"data row0 col7\" >-0.20</td>\n",
       "            </tr>\n",
       "            <tr>\n",
       "                        <th id=\"T_a6cc9_level0_row1\" class=\"row_heading level0 row1\" >pclass</th>\n",
       "                        <td id=\"T_a6cc9_row1_col0\" class=\"data row1 col0\" >-0.34</td>\n",
       "                        <td id=\"T_a6cc9_row1_col1\" class=\"data row1 col1\" >1.00</td>\n",
       "                        <td id=\"T_a6cc9_row1_col2\" class=\"data row1 col2\" >-0.37</td>\n",
       "                        <td id=\"T_a6cc9_row1_col3\" class=\"data row1 col3\" >0.08</td>\n",
       "                        <td id=\"T_a6cc9_row1_col4\" class=\"data row1 col4\" >0.02</td>\n",
       "                        <td id=\"T_a6cc9_row1_col5\" class=\"data row1 col5\" >-0.55</td>\n",
       "                        <td id=\"T_a6cc9_row1_col6\" class=\"data row1 col6\" >0.09</td>\n",
       "                        <td id=\"T_a6cc9_row1_col7\" class=\"data row1 col7\" >0.14</td>\n",
       "            </tr>\n",
       "            <tr>\n",
       "                        <th id=\"T_a6cc9_level0_row2\" class=\"row_heading level0 row2\" >age</th>\n",
       "                        <td id=\"T_a6cc9_row2_col0\" class=\"data row2 col0\" >-0.08</td>\n",
       "                        <td id=\"T_a6cc9_row2_col1\" class=\"data row2 col1\" >-0.37</td>\n",
       "                        <td id=\"T_a6cc9_row2_col2\" class=\"data row2 col2\" >1.00</td>\n",
       "                        <td id=\"T_a6cc9_row2_col3\" class=\"data row2 col3\" >-0.31</td>\n",
       "                        <td id=\"T_a6cc9_row2_col4\" class=\"data row2 col4\" >-0.19</td>\n",
       "                        <td id=\"T_a6cc9_row2_col5\" class=\"data row2 col5\" >0.10</td>\n",
       "                        <td id=\"T_a6cc9_row2_col6\" class=\"data row2 col6\" >0.28</td>\n",
       "                        <td id=\"T_a6cc9_row2_col7\" class=\"data row2 col7\" >0.20</td>\n",
       "            </tr>\n",
       "            <tr>\n",
       "                        <th id=\"T_a6cc9_level0_row3\" class=\"row_heading level0 row3\" >sibsp</th>\n",
       "                        <td id=\"T_a6cc9_row3_col0\" class=\"data row3 col0\" >-0.04</td>\n",
       "                        <td id=\"T_a6cc9_row3_col1\" class=\"data row3 col1\" >0.08</td>\n",
       "                        <td id=\"T_a6cc9_row3_col2\" class=\"data row3 col2\" >-0.31</td>\n",
       "                        <td id=\"T_a6cc9_row3_col3\" class=\"data row3 col3\" >1.00</td>\n",
       "                        <td id=\"T_a6cc9_row3_col4\" class=\"data row3 col4\" >0.41</td>\n",
       "                        <td id=\"T_a6cc9_row3_col5\" class=\"data row3 col5\" >0.16</td>\n",
       "                        <td id=\"T_a6cc9_row3_col6\" class=\"data row3 col6\" >-0.25</td>\n",
       "                        <td id=\"T_a6cc9_row3_col7\" class=\"data row3 col7\" >-0.58</td>\n",
       "            </tr>\n",
       "            <tr>\n",
       "                        <th id=\"T_a6cc9_level0_row4\" class=\"row_heading level0 row4\" >parch</th>\n",
       "                        <td id=\"T_a6cc9_row4_col0\" class=\"data row4 col0\" >0.08</td>\n",
       "                        <td id=\"T_a6cc9_row4_col1\" class=\"data row4 col1\" >0.02</td>\n",
       "                        <td id=\"T_a6cc9_row4_col2\" class=\"data row4 col2\" >-0.19</td>\n",
       "                        <td id=\"T_a6cc9_row4_col3\" class=\"data row4 col3\" >0.41</td>\n",
       "                        <td id=\"T_a6cc9_row4_col4\" class=\"data row4 col4\" >1.00</td>\n",
       "                        <td id=\"T_a6cc9_row4_col5\" class=\"data row4 col5\" >0.22</td>\n",
       "                        <td id=\"T_a6cc9_row4_col6\" class=\"data row4 col6\" >-0.35</td>\n",
       "                        <td id=\"T_a6cc9_row4_col7\" class=\"data row4 col7\" >-0.58</td>\n",
       "            </tr>\n",
       "            <tr>\n",
       "                        <th id=\"T_a6cc9_level0_row5\" class=\"row_heading level0 row5\" >fare</th>\n",
       "                        <td id=\"T_a6cc9_row5_col0\" class=\"data row5 col0\" >0.26</td>\n",
       "                        <td id=\"T_a6cc9_row5_col1\" class=\"data row5 col1\" >-0.55</td>\n",
       "                        <td id=\"T_a6cc9_row5_col2\" class=\"data row5 col2\" >0.10</td>\n",
       "                        <td id=\"T_a6cc9_row5_col3\" class=\"data row5 col3\" >0.16</td>\n",
       "                        <td id=\"T_a6cc9_row5_col4\" class=\"data row5 col4\" >0.22</td>\n",
       "                        <td id=\"T_a6cc9_row5_col5\" class=\"data row5 col5\" >1.00</td>\n",
       "                        <td id=\"T_a6cc9_row5_col6\" class=\"data row5 col6\" >-0.18</td>\n",
       "                        <td id=\"T_a6cc9_row5_col7\" class=\"data row5 col7\" >-0.27</td>\n",
       "            </tr>\n",
       "            <tr>\n",
       "                        <th id=\"T_a6cc9_level0_row6\" class=\"row_heading level0 row6\" >adult_male</th>\n",
       "                        <td id=\"T_a6cc9_row6_col0\" class=\"data row6 col0\" >-0.56</td>\n",
       "                        <td id=\"T_a6cc9_row6_col1\" class=\"data row6 col1\" >0.09</td>\n",
       "                        <td id=\"T_a6cc9_row6_col2\" class=\"data row6 col2\" >0.28</td>\n",
       "                        <td id=\"T_a6cc9_row6_col3\" class=\"data row6 col3\" >-0.25</td>\n",
       "                        <td id=\"T_a6cc9_row6_col4\" class=\"data row6 col4\" >-0.35</td>\n",
       "                        <td id=\"T_a6cc9_row6_col5\" class=\"data row6 col5\" >-0.18</td>\n",
       "                        <td id=\"T_a6cc9_row6_col6\" class=\"data row6 col6\" >1.00</td>\n",
       "                        <td id=\"T_a6cc9_row6_col7\" class=\"data row6 col7\" >0.40</td>\n",
       "            </tr>\n",
       "            <tr>\n",
       "                        <th id=\"T_a6cc9_level0_row7\" class=\"row_heading level0 row7\" >alone</th>\n",
       "                        <td id=\"T_a6cc9_row7_col0\" class=\"data row7 col0\" >-0.20</td>\n",
       "                        <td id=\"T_a6cc9_row7_col1\" class=\"data row7 col1\" >0.14</td>\n",
       "                        <td id=\"T_a6cc9_row7_col2\" class=\"data row7 col2\" >0.20</td>\n",
       "                        <td id=\"T_a6cc9_row7_col3\" class=\"data row7 col3\" >-0.58</td>\n",
       "                        <td id=\"T_a6cc9_row7_col4\" class=\"data row7 col4\" >-0.58</td>\n",
       "                        <td id=\"T_a6cc9_row7_col5\" class=\"data row7 col5\" >-0.27</td>\n",
       "                        <td id=\"T_a6cc9_row7_col6\" class=\"data row7 col6\" >0.40</td>\n",
       "                        <td id=\"T_a6cc9_row7_col7\" class=\"data row7 col7\" >1.00</td>\n",
       "            </tr>\n",
       "    </tbody></table>"
      ],
      "text/plain": [
       "<pandas.io.formats.style.Styler at 0x7ff41c94c750>"
      ]
     },
     "execution_count": 8,
     "metadata": {},
     "output_type": "execute_result"
    }
   ],
   "source": [
    "df.bp.plot_corr_style()"
   ]
  },
  {
   "cell_type": "code",
   "execution_count": 9,
   "metadata": {
    "ExecuteTime": {
     "end_time": "2021-07-11T16:28:15.475979Z",
     "start_time": "2021-07-11T16:28:15.423831Z"
    }
   },
   "outputs": [],
   "source": [
    "# df.bp.plot_corr_sns()"
   ]
  },
  {
   "cell_type": "code",
   "execution_count": 10,
   "metadata": {
    "ExecuteTime": {
     "end_time": "2021-07-11T16:28:15.529431Z",
     "start_time": "2021-07-11T16:28:15.478067Z"
    }
   },
   "outputs": [
    {
     "data": {
      "text/html": [
       "<style  type=\"text/css\" >\n",
       "#T_d8ed9_row0_col6,#T_d8ed9_row1_col5,#T_d8ed9_row3_col7,#T_d8ed9_row4_col7,#T_d8ed9_row5_col1,#T_d8ed9_row6_col0,#T_d8ed9_row7_col3,#T_d8ed9_row7_col4{\n",
       "            background:  salmon;\n",
       "        }</style><table id=\"T_d8ed9_\" ><thead>    <tr>        <th class=\"blank level0\" ></th>        <th class=\"col_heading level0 col0\" >survived</th>        <th class=\"col_heading level0 col1\" >pclass</th>        <th class=\"col_heading level0 col2\" >age</th>        <th class=\"col_heading level0 col3\" >sibsp</th>        <th class=\"col_heading level0 col4\" >parch</th>        <th class=\"col_heading level0 col5\" >fare</th>        <th class=\"col_heading level0 col6\" >adult_male</th>        <th class=\"col_heading level0 col7\" >alone</th>    </tr></thead><tbody>\n",
       "                <tr>\n",
       "                        <th id=\"T_d8ed9_level0_row0\" class=\"row_heading level0 row0\" >survived</th>\n",
       "                        <td id=\"T_d8ed9_row0_col0\" class=\"data row0 col0\" >1.000000</td>\n",
       "                        <td id=\"T_d8ed9_row0_col1\" class=\"data row0 col1\" >-0.338481</td>\n",
       "                        <td id=\"T_d8ed9_row0_col2\" class=\"data row0 col2\" >-0.077221</td>\n",
       "                        <td id=\"T_d8ed9_row0_col3\" class=\"data row0 col3\" >-0.035322</td>\n",
       "                        <td id=\"T_d8ed9_row0_col4\" class=\"data row0 col4\" >0.081629</td>\n",
       "                        <td id=\"T_d8ed9_row0_col5\" class=\"data row0 col5\" >0.257307</td>\n",
       "                        <td id=\"T_d8ed9_row0_col6\" class=\"data row0 col6\" >-0.557080</td>\n",
       "                        <td id=\"T_d8ed9_row0_col7\" class=\"data row0 col7\" >-0.203367</td>\n",
       "            </tr>\n",
       "            <tr>\n",
       "                        <th id=\"T_d8ed9_level0_row1\" class=\"row_heading level0 row1\" >pclass</th>\n",
       "                        <td id=\"T_d8ed9_row1_col0\" class=\"data row1 col0\" >-0.338481</td>\n",
       "                        <td id=\"T_d8ed9_row1_col1\" class=\"data row1 col1\" >1.000000</td>\n",
       "                        <td id=\"T_d8ed9_row1_col2\" class=\"data row1 col2\" >-0.369226</td>\n",
       "                        <td id=\"T_d8ed9_row1_col3\" class=\"data row1 col3\" >0.083081</td>\n",
       "                        <td id=\"T_d8ed9_row1_col4\" class=\"data row1 col4\" >0.018443</td>\n",
       "                        <td id=\"T_d8ed9_row1_col5\" class=\"data row1 col5\" >-0.549500</td>\n",
       "                        <td id=\"T_d8ed9_row1_col6\" class=\"data row1 col6\" >0.094035</td>\n",
       "                        <td id=\"T_d8ed9_row1_col7\" class=\"data row1 col7\" >0.135207</td>\n",
       "            </tr>\n",
       "            <tr>\n",
       "                        <th id=\"T_d8ed9_level0_row2\" class=\"row_heading level0 row2\" >age</th>\n",
       "                        <td id=\"T_d8ed9_row2_col0\" class=\"data row2 col0\" >-0.077221</td>\n",
       "                        <td id=\"T_d8ed9_row2_col1\" class=\"data row2 col1\" >-0.369226</td>\n",
       "                        <td id=\"T_d8ed9_row2_col2\" class=\"data row2 col2\" >1.000000</td>\n",
       "                        <td id=\"T_d8ed9_row2_col3\" class=\"data row2 col3\" >-0.308247</td>\n",
       "                        <td id=\"T_d8ed9_row2_col4\" class=\"data row2 col4\" >-0.189119</td>\n",
       "                        <td id=\"T_d8ed9_row2_col5\" class=\"data row2 col5\" >0.096067</td>\n",
       "                        <td id=\"T_d8ed9_row2_col6\" class=\"data row2 col6\" >0.280328</td>\n",
       "                        <td id=\"T_d8ed9_row2_col7\" class=\"data row2 col7\" >0.198270</td>\n",
       "            </tr>\n",
       "            <tr>\n",
       "                        <th id=\"T_d8ed9_level0_row3\" class=\"row_heading level0 row3\" >sibsp</th>\n",
       "                        <td id=\"T_d8ed9_row3_col0\" class=\"data row3 col0\" >-0.035322</td>\n",
       "                        <td id=\"T_d8ed9_row3_col1\" class=\"data row3 col1\" >0.083081</td>\n",
       "                        <td id=\"T_d8ed9_row3_col2\" class=\"data row3 col2\" >-0.308247</td>\n",
       "                        <td id=\"T_d8ed9_row3_col3\" class=\"data row3 col3\" >1.000000</td>\n",
       "                        <td id=\"T_d8ed9_row3_col4\" class=\"data row3 col4\" >0.414838</td>\n",
       "                        <td id=\"T_d8ed9_row3_col5\" class=\"data row3 col5\" >0.159651</td>\n",
       "                        <td id=\"T_d8ed9_row3_col6\" class=\"data row3 col6\" >-0.253586</td>\n",
       "                        <td id=\"T_d8ed9_row3_col7\" class=\"data row3 col7\" >-0.584471</td>\n",
       "            </tr>\n",
       "            <tr>\n",
       "                        <th id=\"T_d8ed9_level0_row4\" class=\"row_heading level0 row4\" >parch</th>\n",
       "                        <td id=\"T_d8ed9_row4_col0\" class=\"data row4 col0\" >0.081629</td>\n",
       "                        <td id=\"T_d8ed9_row4_col1\" class=\"data row4 col1\" >0.018443</td>\n",
       "                        <td id=\"T_d8ed9_row4_col2\" class=\"data row4 col2\" >-0.189119</td>\n",
       "                        <td id=\"T_d8ed9_row4_col3\" class=\"data row4 col3\" >0.414838</td>\n",
       "                        <td id=\"T_d8ed9_row4_col4\" class=\"data row4 col4\" >1.000000</td>\n",
       "                        <td id=\"T_d8ed9_row4_col5\" class=\"data row4 col5\" >0.216225</td>\n",
       "                        <td id=\"T_d8ed9_row4_col6\" class=\"data row4 col6\" >-0.349943</td>\n",
       "                        <td id=\"T_d8ed9_row4_col7\" class=\"data row4 col7\" >-0.583398</td>\n",
       "            </tr>\n",
       "            <tr>\n",
       "                        <th id=\"T_d8ed9_level0_row5\" class=\"row_heading level0 row5\" >fare</th>\n",
       "                        <td id=\"T_d8ed9_row5_col0\" class=\"data row5 col0\" >0.257307</td>\n",
       "                        <td id=\"T_d8ed9_row5_col1\" class=\"data row5 col1\" >-0.549500</td>\n",
       "                        <td id=\"T_d8ed9_row5_col2\" class=\"data row5 col2\" >0.096067</td>\n",
       "                        <td id=\"T_d8ed9_row5_col3\" class=\"data row5 col3\" >0.159651</td>\n",
       "                        <td id=\"T_d8ed9_row5_col4\" class=\"data row5 col4\" >0.216225</td>\n",
       "                        <td id=\"T_d8ed9_row5_col5\" class=\"data row5 col5\" >1.000000</td>\n",
       "                        <td id=\"T_d8ed9_row5_col6\" class=\"data row5 col6\" >-0.182024</td>\n",
       "                        <td id=\"T_d8ed9_row5_col7\" class=\"data row5 col7\" >-0.271832</td>\n",
       "            </tr>\n",
       "            <tr>\n",
       "                        <th id=\"T_d8ed9_level0_row6\" class=\"row_heading level0 row6\" >adult_male</th>\n",
       "                        <td id=\"T_d8ed9_row6_col0\" class=\"data row6 col0\" >-0.557080</td>\n",
       "                        <td id=\"T_d8ed9_row6_col1\" class=\"data row6 col1\" >0.094035</td>\n",
       "                        <td id=\"T_d8ed9_row6_col2\" class=\"data row6 col2\" >0.280328</td>\n",
       "                        <td id=\"T_d8ed9_row6_col3\" class=\"data row6 col3\" >-0.253586</td>\n",
       "                        <td id=\"T_d8ed9_row6_col4\" class=\"data row6 col4\" >-0.349943</td>\n",
       "                        <td id=\"T_d8ed9_row6_col5\" class=\"data row6 col5\" >-0.182024</td>\n",
       "                        <td id=\"T_d8ed9_row6_col6\" class=\"data row6 col6\" >1.000000</td>\n",
       "                        <td id=\"T_d8ed9_row6_col7\" class=\"data row6 col7\" >0.404744</td>\n",
       "            </tr>\n",
       "            <tr>\n",
       "                        <th id=\"T_d8ed9_level0_row7\" class=\"row_heading level0 row7\" >alone</th>\n",
       "                        <td id=\"T_d8ed9_row7_col0\" class=\"data row7 col0\" >-0.203367</td>\n",
       "                        <td id=\"T_d8ed9_row7_col1\" class=\"data row7 col1\" >0.135207</td>\n",
       "                        <td id=\"T_d8ed9_row7_col2\" class=\"data row7 col2\" >0.198270</td>\n",
       "                        <td id=\"T_d8ed9_row7_col3\" class=\"data row7 col3\" >-0.584471</td>\n",
       "                        <td id=\"T_d8ed9_row7_col4\" class=\"data row7 col4\" >-0.583398</td>\n",
       "                        <td id=\"T_d8ed9_row7_col5\" class=\"data row7 col5\" >-0.271832</td>\n",
       "                        <td id=\"T_d8ed9_row7_col6\" class=\"data row7 col6\" >0.404744</td>\n",
       "                        <td id=\"T_d8ed9_row7_col7\" class=\"data row7 col7\" >1.000000</td>\n",
       "            </tr>\n",
       "    </tbody></table>"
      ],
      "text/plain": [
       "<pandas.io.formats.style.Styler at 0x7ff42361a750>"
      ]
     },
     "execution_count": 10,
     "metadata": {},
     "output_type": "execute_result"
    }
   ],
   "source": [
    "df.corr().style.apply(lambda x: [\"background: salmon\" if  (abs(v) > 0.5 and v!=1) else \"\" for v in x], axis = 1)"
   ]
  },
  {
   "cell_type": "code",
   "execution_count": 11,
   "metadata": {
    "ExecuteTime": {
     "end_time": "2021-07-11T16:28:15.607829Z",
     "start_time": "2021-07-11T16:28:15.531849Z"
    }
   },
   "outputs": [
    {
     "name": "stdout",
     "output_type": "stream",
     "text": [
      "cols_high_corr = ['pclass', 'adult_male', 'sibsp', 'fare', 'survived', 'alone', 'parch']\n",
      "cols_high_corr1 = ['fare', 'survived', 'parch', 'alone']\n",
      "cols_high_corr2 = ['pclass', 'adult_male', 'alone', 'sibsp']\n",
      "cols_high_corr_drop = ['fare', 'parch', 'survived']\n"
     ]
    },
    {
     "data": {
      "text/html": [
       "<style  type=\"text/css\" >\n",
       "#T_00b26_row0_col2{\n",
       "            background-color:  #023858;\n",
       "            color:  #f1f1f1;\n",
       "        }#T_00b26_row1_col2{\n",
       "            background-color:  #056aa6;\n",
       "            color:  #f1f1f1;\n",
       "        }#T_00b26_row2_col2{\n",
       "            background-color:  #fbf3f9;\n",
       "            color:  #000000;\n",
       "        }#T_00b26_row3_col2{\n",
       "            background-color:  #fff7fb;\n",
       "            color:  #000000;\n",
       "        }</style><table id=\"T_00b26_\" ><thead>    <tr>        <th class=\"blank level0\" ></th>        <th class=\"col_heading level0 col0\" >feature1</th>        <th class=\"col_heading level0 col1\" >feature2</th>        <th class=\"col_heading level0 col2\" >corr</th>    </tr></thead><tbody>\n",
       "                <tr>\n",
       "                        <th id=\"T_00b26_level0_row0\" class=\"row_heading level0 row0\" >0</th>\n",
       "                        <td id=\"T_00b26_row0_col0\" class=\"data row0 col0\" >fare</td>\n",
       "                        <td id=\"T_00b26_row0_col1\" class=\"data row0 col1\" >pclass</td>\n",
       "                        <td id=\"T_00b26_row0_col2\" class=\"data row0 col2\" >-0.549500</td>\n",
       "            </tr>\n",
       "            <tr>\n",
       "                        <th id=\"T_00b26_level0_row1\" class=\"row_heading level0 row1\" >1</th>\n",
       "                        <td id=\"T_00b26_row1_col0\" class=\"data row1 col0\" >survived</td>\n",
       "                        <td id=\"T_00b26_row1_col1\" class=\"data row1 col1\" >adult_male</td>\n",
       "                        <td id=\"T_00b26_row1_col2\" class=\"data row1 col2\" >-0.557080</td>\n",
       "            </tr>\n",
       "            <tr>\n",
       "                        <th id=\"T_00b26_level0_row2\" class=\"row_heading level0 row2\" >2</th>\n",
       "                        <td id=\"T_00b26_row2_col0\" class=\"data row2 col0\" >parch</td>\n",
       "                        <td id=\"T_00b26_row2_col1\" class=\"data row2 col1\" >alone</td>\n",
       "                        <td id=\"T_00b26_row2_col2\" class=\"data row2 col2\" >-0.583398</td>\n",
       "            </tr>\n",
       "            <tr>\n",
       "                        <th id=\"T_00b26_level0_row3\" class=\"row_heading level0 row3\" >3</th>\n",
       "                        <td id=\"T_00b26_row3_col0\" class=\"data row3 col0\" >alone</td>\n",
       "                        <td id=\"T_00b26_row3_col1\" class=\"data row3 col1\" >sibsp</td>\n",
       "                        <td id=\"T_00b26_row3_col2\" class=\"data row3 col2\" >-0.584471</td>\n",
       "            </tr>\n",
       "    </tbody></table>"
      ],
      "text/plain": [
       "<pandas.io.formats.style.Styler at 0x7ff41b440c50>"
      ]
     },
     "metadata": {},
     "output_type": "display_data"
    }
   ],
   "source": [
    "df.bp.corr_high(thr=0.5,disp=True)"
   ]
  },
  {
   "cell_type": "code",
   "execution_count": 12,
   "metadata": {
    "ExecuteTime": {
     "end_time": "2021-07-11T16:28:15.657394Z",
     "start_time": "2021-07-11T16:28:15.610641Z"
    }
   },
   "outputs": [],
   "source": [
    "cols_high_corr_drop = ['fare', 'parch', 'survived']"
   ]
  },
  {
   "cell_type": "code",
   "execution_count": 13,
   "metadata": {
    "ExecuteTime": {
     "end_time": "2021-07-11T16:28:15.716543Z",
     "start_time": "2021-07-11T16:28:15.659716Z"
    }
   },
   "outputs": [
    {
     "data": {
      "text/html": [
       "<div>\n",
       "<style scoped>\n",
       "    .dataframe tbody tr th:only-of-type {\n",
       "        vertical-align: middle;\n",
       "    }\n",
       "\n",
       "    .dataframe tbody tr th {\n",
       "        vertical-align: top;\n",
       "    }\n",
       "\n",
       "    .dataframe thead th {\n",
       "        text-align: right;\n",
       "    }\n",
       "</style>\n",
       "<table border=\"1\" class=\"dataframe\">\n",
       "  <thead>\n",
       "    <tr style=\"text-align: right;\">\n",
       "      <th></th>\n",
       "      <th>pclass</th>\n",
       "      <th>age</th>\n",
       "      <th>sibsp</th>\n",
       "      <th>adult_male</th>\n",
       "      <th>alone</th>\n",
       "    </tr>\n",
       "  </thead>\n",
       "  <tbody>\n",
       "    <tr>\n",
       "      <th>pclass</th>\n",
       "      <td>1.000000</td>\n",
       "      <td>-0.369226</td>\n",
       "      <td>0.083081</td>\n",
       "      <td>0.094035</td>\n",
       "      <td>0.135207</td>\n",
       "    </tr>\n",
       "    <tr>\n",
       "      <th>age</th>\n",
       "      <td>-0.369226</td>\n",
       "      <td>1.000000</td>\n",
       "      <td>-0.308247</td>\n",
       "      <td>0.280328</td>\n",
       "      <td>0.198270</td>\n",
       "    </tr>\n",
       "    <tr>\n",
       "      <th>sibsp</th>\n",
       "      <td>0.083081</td>\n",
       "      <td>-0.308247</td>\n",
       "      <td>1.000000</td>\n",
       "      <td>-0.253586</td>\n",
       "      <td>-0.584471</td>\n",
       "    </tr>\n",
       "    <tr>\n",
       "      <th>adult_male</th>\n",
       "      <td>0.094035</td>\n",
       "      <td>0.280328</td>\n",
       "      <td>-0.253586</td>\n",
       "      <td>1.000000</td>\n",
       "      <td>0.404744</td>\n",
       "    </tr>\n",
       "    <tr>\n",
       "      <th>alone</th>\n",
       "      <td>0.135207</td>\n",
       "      <td>0.198270</td>\n",
       "      <td>-0.584471</td>\n",
       "      <td>0.404744</td>\n",
       "      <td>1.000000</td>\n",
       "    </tr>\n",
       "  </tbody>\n",
       "</table>\n",
       "</div>"
      ],
      "text/plain": [
       "              pclass       age     sibsp  adult_male     alone\n",
       "pclass      1.000000 -0.369226  0.083081    0.094035  0.135207\n",
       "age        -0.369226  1.000000 -0.308247    0.280328  0.198270\n",
       "sibsp       0.083081 -0.308247  1.000000   -0.253586 -0.584471\n",
       "adult_male  0.094035  0.280328 -0.253586    1.000000  0.404744\n",
       "alone       0.135207  0.198270 -0.584471    0.404744  1.000000"
      ]
     },
     "execution_count": 13,
     "metadata": {},
     "output_type": "execute_result"
    }
   ],
   "source": [
    "df1 = df.drop(cols_high_corr_drop,axis=1)\n",
    "df1.corr()"
   ]
  },
  {
   "cell_type": "markdown",
   "metadata": {},
   "source": [
    "# Partial Correlation"
   ]
  },
  {
   "cell_type": "code",
   "execution_count": 14,
   "metadata": {
    "ExecuteTime": {
     "end_time": "2021-07-11T16:28:15.801627Z",
     "start_time": "2021-07-11T16:28:15.719095Z"
    }
   },
   "outputs": [
    {
     "data": {
      "text/html": [
       "<style  type=\"text/css\" >\n",
       "#T_4005c_row1_col2,#T_4005c_row2_col1{\n",
       "            background:  salmon;\n",
       "        }</style><table id=\"T_4005c_\" ><thead>    <tr>        <th class=\"blank level0\" ></th>        <th class=\"col_heading level0 col0\" >survived</th>        <th class=\"col_heading level0 col1\" >pclass</th>        <th class=\"col_heading level0 col2\" >age</th>        <th class=\"col_heading level0 col3\" >sibsp</th>        <th class=\"col_heading level0 col4\" >parch</th>        <th class=\"col_heading level0 col5\" >fare</th>    </tr></thead><tbody>\n",
       "                <tr>\n",
       "                        <th id=\"T_4005c_level0_row0\" class=\"row_heading level0 row0\" >survived</th>\n",
       "                        <td id=\"T_4005c_row0_col0\" class=\"data row0 col0\" >1.000000</td>\n",
       "                        <td id=\"T_4005c_row0_col1\" class=\"data row0 col1\" >0.115371</td>\n",
       "                        <td id=\"T_4005c_row0_col2\" class=\"data row0 col2\" >0.111542</td>\n",
       "                        <td id=\"T_4005c_row0_col3\" class=\"data row0 col3\" >-0.028674</td>\n",
       "                        <td id=\"T_4005c_row0_col4\" class=\"data row0 col4\" >0.082447</td>\n",
       "                        <td id=\"T_4005c_row0_col5\" class=\"data row0 col5\" >0.301210</td>\n",
       "            </tr>\n",
       "            <tr>\n",
       "                        <th id=\"T_4005c_level0_row1\" class=\"row_heading level0 row1\" >pclass</th>\n",
       "                        <td id=\"T_4005c_row1_col0\" class=\"data row1 col0\" >0.115371</td>\n",
       "                        <td id=\"T_4005c_row1_col1\" class=\"data row1 col1\" >1.000000</td>\n",
       "                        <td id=\"T_4005c_row1_col2\" class=\"data row1 col2\" >0.571910</td>\n",
       "                        <td id=\"T_4005c_row1_col3\" class=\"data row1 col3\" >0.306844</td>\n",
       "                        <td id=\"T_4005c_row1_col4\" class=\"data row1 col4\" >0.173285</td>\n",
       "                        <td id=\"T_4005c_row1_col5\" class=\"data row1 col5\" >-0.315652</td>\n",
       "            </tr>\n",
       "            <tr>\n",
       "                        <th id=\"T_4005c_level0_row2\" class=\"row_heading level0 row2\" >age</th>\n",
       "                        <td id=\"T_4005c_row2_col0\" class=\"data row2 col0\" >0.111542</td>\n",
       "                        <td id=\"T_4005c_row2_col1\" class=\"data row2 col1\" >0.571910</td>\n",
       "                        <td id=\"T_4005c_row2_col2\" class=\"data row2 col2\" >1.000000</td>\n",
       "                        <td id=\"T_4005c_row2_col3\" class=\"data row2 col3\" >-0.192800</td>\n",
       "                        <td id=\"T_4005c_row2_col4\" class=\"data row2 col4\" >-0.095105</td>\n",
       "                        <td id=\"T_4005c_row2_col5\" class=\"data row2 col5\" >0.392652</td>\n",
       "            </tr>\n",
       "            <tr>\n",
       "                        <th id=\"T_4005c_level0_row3\" class=\"row_heading level0 row3\" >sibsp</th>\n",
       "                        <td id=\"T_4005c_row3_col0\" class=\"data row3 col0\" >-0.028674</td>\n",
       "                        <td id=\"T_4005c_row3_col1\" class=\"data row3 col1\" >0.306844</td>\n",
       "                        <td id=\"T_4005c_row3_col2\" class=\"data row3 col2\" >-0.192800</td>\n",
       "                        <td id=\"T_4005c_row3_col3\" class=\"data row3 col3\" >1.000000</td>\n",
       "                        <td id=\"T_4005c_row3_col4\" class=\"data row3 col4\" >0.324787</td>\n",
       "                        <td id=\"T_4005c_row3_col5\" class=\"data row3 col5\" >0.211403</td>\n",
       "            </tr>\n",
       "            <tr>\n",
       "                        <th id=\"T_4005c_level0_row4\" class=\"row_heading level0 row4\" >parch</th>\n",
       "                        <td id=\"T_4005c_row4_col0\" class=\"data row4 col0\" >0.082447</td>\n",
       "                        <td id=\"T_4005c_row4_col1\" class=\"data row4 col1\" >0.173285</td>\n",
       "                        <td id=\"T_4005c_row4_col2\" class=\"data row4 col2\" >-0.095105</td>\n",
       "                        <td id=\"T_4005c_row4_col3\" class=\"data row4 col3\" >0.324787</td>\n",
       "                        <td id=\"T_4005c_row4_col4\" class=\"data row4 col4\" >1.000000</td>\n",
       "                        <td id=\"T_4005c_row4_col5\" class=\"data row4 col5\" >0.199136</td>\n",
       "            </tr>\n",
       "            <tr>\n",
       "                        <th id=\"T_4005c_level0_row5\" class=\"row_heading level0 row5\" >fare</th>\n",
       "                        <td id=\"T_4005c_row5_col0\" class=\"data row5 col0\" >0.301210</td>\n",
       "                        <td id=\"T_4005c_row5_col1\" class=\"data row5 col1\" >-0.315652</td>\n",
       "                        <td id=\"T_4005c_row5_col2\" class=\"data row5 col2\" >0.392652</td>\n",
       "                        <td id=\"T_4005c_row5_col3\" class=\"data row5 col3\" >0.211403</td>\n",
       "                        <td id=\"T_4005c_row5_col4\" class=\"data row5 col4\" >0.199136</td>\n",
       "                        <td id=\"T_4005c_row5_col5\" class=\"data row5 col5\" >1.000000</td>\n",
       "            </tr>\n",
       "    </tbody></table>"
      ],
      "text/plain": [
       "<pandas.io.formats.style.Styler at 0x7ff41c946a50>"
      ]
     },
     "execution_count": 14,
     "metadata": {},
     "output_type": "execute_result"
    }
   ],
   "source": [
    "df.bp.partial_corr(thr=0.3,disp=True)"
   ]
  },
  {
   "cell_type": "code",
   "execution_count": 15,
   "metadata": {
    "ExecuteTime": {
     "end_time": "2021-07-11T16:28:15.861927Z",
     "start_time": "2021-07-11T16:28:15.805276Z"
    }
   },
   "outputs": [
    {
     "data": {
      "text/html": [
       "<div>\n",
       "<style scoped>\n",
       "    .dataframe tbody tr th:only-of-type {\n",
       "        vertical-align: middle;\n",
       "    }\n",
       "\n",
       "    .dataframe tbody tr th {\n",
       "        vertical-align: top;\n",
       "    }\n",
       "\n",
       "    .dataframe thead th {\n",
       "        text-align: right;\n",
       "    }\n",
       "</style>\n",
       "<table border=\"1\" class=\"dataframe\">\n",
       "  <thead>\n",
       "    <tr style=\"text-align: right;\">\n",
       "      <th></th>\n",
       "      <th>fare</th>\n",
       "      <th>age</th>\n",
       "    </tr>\n",
       "  </thead>\n",
       "  <tbody>\n",
       "    <tr>\n",
       "      <th>fare</th>\n",
       "      <td>1.000000</td>\n",
       "      <td>0.096067</td>\n",
       "    </tr>\n",
       "    <tr>\n",
       "      <th>age</th>\n",
       "      <td>0.096067</td>\n",
       "      <td>1.000000</td>\n",
       "    </tr>\n",
       "  </tbody>\n",
       "</table>\n",
       "</div>"
      ],
      "text/plain": [
       "          fare       age\n",
       "fare  1.000000  0.096067\n",
       "age   0.096067  1.000000"
      ]
     },
     "execution_count": 15,
     "metadata": {},
     "output_type": "execute_result"
    }
   ],
   "source": [
    "df.bp.partial_corr(['fare','age'])"
   ]
  },
  {
   "cell_type": "markdown",
   "metadata": {},
   "source": [
    "# Outliers"
   ]
  },
  {
   "cell_type": "code",
   "execution_count": 16,
   "metadata": {
    "ExecuteTime": {
     "end_time": "2021-07-11T16:28:16.483333Z",
     "start_time": "2021-07-11T16:28:15.864412Z"
    }
   },
   "outputs": [
    {
     "data": {
      "text/html": [
       "<div>\n",
       "<style scoped>\n",
       "    .dataframe tbody tr th:only-of-type {\n",
       "        vertical-align: middle;\n",
       "    }\n",
       "\n",
       "    .dataframe tbody tr th {\n",
       "        vertical-align: top;\n",
       "    }\n",
       "\n",
       "    .dataframe thead th {\n",
       "        text-align: right;\n",
       "    }\n",
       "</style>\n",
       "<table border=\"1\" class=\"dataframe\">\n",
       "  <thead>\n",
       "    <tr style=\"text-align: right;\">\n",
       "      <th></th>\n",
       "      <th>age</th>\n",
       "    </tr>\n",
       "  </thead>\n",
       "  <tbody>\n",
       "    <tr>\n",
       "      <th>33</th>\n",
       "      <td>66.0</td>\n",
       "    </tr>\n",
       "    <tr>\n",
       "      <th>54</th>\n",
       "      <td>65.0</td>\n",
       "    </tr>\n",
       "    <tr>\n",
       "      <th>96</th>\n",
       "      <td>71.0</td>\n",
       "    </tr>\n",
       "    <tr>\n",
       "      <th>116</th>\n",
       "      <td>70.5</td>\n",
       "    </tr>\n",
       "    <tr>\n",
       "      <th>280</th>\n",
       "      <td>65.0</td>\n",
       "    </tr>\n",
       "    <tr>\n",
       "      <th>456</th>\n",
       "      <td>65.0</td>\n",
       "    </tr>\n",
       "    <tr>\n",
       "      <th>493</th>\n",
       "      <td>71.0</td>\n",
       "    </tr>\n",
       "    <tr>\n",
       "      <th>630</th>\n",
       "      <td>80.0</td>\n",
       "    </tr>\n",
       "    <tr>\n",
       "      <th>672</th>\n",
       "      <td>70.0</td>\n",
       "    </tr>\n",
       "    <tr>\n",
       "      <th>745</th>\n",
       "      <td>70.0</td>\n",
       "    </tr>\n",
       "    <tr>\n",
       "      <th>851</th>\n",
       "      <td>74.0</td>\n",
       "    </tr>\n",
       "  </tbody>\n",
       "</table>\n",
       "</div>"
      ],
      "text/plain": [
       "      age\n",
       "33   66.0\n",
       "54   65.0\n",
       "96   71.0\n",
       "116  70.5\n",
       "280  65.0\n",
       "456  65.0\n",
       "493  71.0\n",
       "630  80.0\n",
       "672  70.0\n",
       "745  70.0\n",
       "851  74.0"
      ]
     },
     "execution_count": 16,
     "metadata": {},
     "output_type": "execute_result"
    },
    {
     "data": {
      "image/png": "[encoded data removed]",
      "text/plain": [
       "<Figure size 432x288 with 1 Axes>"
      ]
     },
     "metadata": {},
     "output_type": "display_data"
    }
   ],
   "source": [
    "ser_outliers = df.bp.outliers_tukey('age')\n",
    "ser_outliers"
   ]
  },
  {
   "cell_type": "code",
   "execution_count": 17,
   "metadata": {
    "ExecuteTime": {
     "end_time": "2021-07-11T16:28:16.563823Z",
     "start_time": "2021-07-11T16:28:16.488666Z"
    }
   },
   "outputs": [
    {
     "data": {
      "text/html": [
       "<div>\n",
       "<style scoped>\n",
       "    .dataframe tbody tr th:only-of-type {\n",
       "        vertical-align: middle;\n",
       "    }\n",
       "\n",
       "    .dataframe tbody tr th {\n",
       "        vertical-align: top;\n",
       "    }\n",
       "\n",
       "    .dataframe thead th {\n",
       "        text-align: right;\n",
       "    }\n",
       "</style>\n",
       "<table border=\"1\" class=\"dataframe\">\n",
       "  <thead>\n",
       "    <tr style=\"text-align: right;\">\n",
       "      <th></th>\n",
       "      <th>age</th>\n",
       "    </tr>\n",
       "  </thead>\n",
       "  <tbody>\n",
       "    <tr>\n",
       "      <th>498</th>\n",
       "      <td>80.0</td>\n",
       "    </tr>\n",
       "    <tr>\n",
       "      <th>679</th>\n",
       "      <td>74.0</td>\n",
       "    </tr>\n",
       "    <tr>\n",
       "      <th>74</th>\n",
       "      <td>71.0</td>\n",
       "    </tr>\n",
       "    <tr>\n",
       "      <th>393</th>\n",
       "      <td>71.0</td>\n",
       "    </tr>\n",
       "    <tr>\n",
       "      <th>91</th>\n",
       "      <td>70.5</td>\n",
       "    </tr>\n",
       "    <tr>\n",
       "      <th>531</th>\n",
       "      <td>70.0</td>\n",
       "    </tr>\n",
       "    <tr>\n",
       "      <th>592</th>\n",
       "      <td>70.0</td>\n",
       "    </tr>\n",
       "    <tr>\n",
       "      <th>25</th>\n",
       "      <td>66.0</td>\n",
       "    </tr>\n",
       "    <tr>\n",
       "      <th>366</th>\n",
       "      <td>65.0</td>\n",
       "    </tr>\n",
       "    <tr>\n",
       "      <th>225</th>\n",
       "      <td>65.0</td>\n",
       "    </tr>\n",
       "    <tr>\n",
       "      <th>40</th>\n",
       "      <td>65.0</td>\n",
       "    </tr>\n",
       "    <tr>\n",
       "      <th>351</th>\n",
       "      <td>64.0</td>\n",
       "    </tr>\n",
       "    <tr>\n",
       "      <th>433</th>\n",
       "      <td>64.0</td>\n",
       "    </tr>\n",
       "    <tr>\n",
       "      <th>385</th>\n",
       "      <td>63.0</td>\n",
       "    </tr>\n",
       "    <tr>\n",
       "      <th>221</th>\n",
       "      <td>63.0</td>\n",
       "    </tr>\n",
       "  </tbody>\n",
       "</table>\n",
       "</div>"
      ],
      "text/plain": [
       "      age\n",
       "498  80.0\n",
       "679  74.0\n",
       "74   71.0\n",
       "393  71.0\n",
       "91   70.5\n",
       "531  70.0\n",
       "592  70.0\n",
       "25   66.0\n",
       "366  65.0\n",
       "225  65.0\n",
       "40   65.0\n",
       "351  64.0\n",
       "433  64.0\n",
       "385  63.0\n",
       "221  63.0"
      ]
     },
     "execution_count": 17,
     "metadata": {},
     "output_type": "execute_result"
    }
   ],
   "source": [
    "col = 'age'\n",
    "df1 = df.dropna(subset=[col]).reset_index(drop=True)\n",
    "idx_outliers, val_outliers = df1.bp.outliers_kde(col)\n",
    "df1.loc[idx_outliers,[col]]"
   ]
  },
  {
   "cell_type": "markdown",
   "metadata": {
    "ExecuteTime": {
     "end_time": "2020-06-21T23:30:23.959237Z",
     "start_time": "2020-06-21T23:30:23.912556Z"
    }
   },
   "source": [
    "# Kernel Density"
   ]
  },
  {
   "cell_type": "code",
   "execution_count": 18,
   "metadata": {
    "ExecuteTime": {
     "end_time": "2021-07-11T16:28:17.503005Z",
     "start_time": "2021-07-11T16:28:16.567522Z"
    }
   },
   "outputs": [
    {
     "data": {
      "image/png": "[encoded data removed]",
      "text/plain": [
       "<Figure size 864x576 with 1 Axes>"
      ]
     },
     "metadata": {},
     "output_type": "display_data"
    }
   ],
   "source": [
    "df.bp.compare_kde_binn('age','survived')"
   ]
  },
  {
   "cell_type": "code",
   "execution_count": null,
   "metadata": {},
   "outputs": [],
   "source": []
  }
 ],
 "metadata": {
  "kernelspec": {
   "display_name": "Python (dataSc)",
   "language": "python",
   "name": "datasc"
  },
  "language_info": {
   "codemirror_mode": {
    "name": "ipython",
    "version": 3
   },
   "file_extension": ".py",
   "mimetype": "text/x-python",
   "name": "python",
   "nbconvert_exporter": "python",
   "pygments_lexer": "ipython3",
   "version": "3.7.7"
  },
  "toc": {
   "base_numbering": 1,
   "nav_menu": {},
   "number_sections": true,
   "sideBar": true,
   "skip_h1_title": false,
   "title_cell": "Table of Contents",
   "title_sidebar": "Contents",
   "toc_cell": true,
   "toc_position": {},
   "toc_section_display": true,
   "toc_window_display": true
  },
  "varInspector": {
   "cols": {
    "lenName": 16,
    "lenType": 16,
    "lenVar": 40
   },
   "kernels_config": {
    "python": {
     "delete_cmd_postfix": "",
     "delete_cmd_prefix": "del ",
     "library": "var_list.py",
     "varRefreshCmd": "print(var_dic_list())"
    },
    "r": {
     "delete_cmd_postfix": ") ",
     "delete_cmd_prefix": "rm(",
     "library": "var_list.r",
     "varRefreshCmd": "cat(var_dic_list()) "
    }
   },
   "types_to_exclude": [
    "module",
    "function",
    "builtin_function_or_method",
    "instance",
    "_Feature"
   ],
   "window_display": false
  }
 },
 "nbformat": 4,
 "nbformat_minor": 4
}
