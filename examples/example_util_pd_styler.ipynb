{
 "cells": [
  {
   "cell_type": "markdown",
   "id": "9f7b5b49",
   "metadata": {
    "toc": true
   },
   "source": [
    "<h1>Table of Contents<span class=\"tocSkip\"></span></h1>\n",
    "<div class=\"toc\"><ul class=\"toc-item\"><li><span><a href=\"#style-rows\" data-toc-modified-id=\"style-rows-1\"><span class=\"toc-item-num\">1&nbsp;&nbsp;</span>style rows</a></span></li><li><span><a href=\"#style-columns\" data-toc-modified-id=\"style-columns-2\"><span class=\"toc-item-num\">2&nbsp;&nbsp;</span>style columns</a></span></li><li><span><a href=\"#style-diagonal\" data-toc-modified-id=\"style-diagonal-3\"><span class=\"toc-item-num\">3&nbsp;&nbsp;</span>style diagonal</a></span></li><li><span><a href=\"#style-rows-and-columns\" data-toc-modified-id=\"style-rows-and-columns-4\"><span class=\"toc-item-num\">4&nbsp;&nbsp;</span>style rows and columns</a></span></li><li><span><a href=\"#style-rows,-columns-and-diagonals\" data-toc-modified-id=\"style-rows,-columns-and-diagonals-5\"><span class=\"toc-item-num\">5&nbsp;&nbsp;</span>style rows, columns and diagonals</a></span></li><li><span><a href=\"#style-cell-using-value\" data-toc-modified-id=\"style-cell-using-value-6\"><span class=\"toc-item-num\">6&nbsp;&nbsp;</span>style cell using value</a></span></li><li><span><a href=\"#style-cell-using-dataframe-as-x\" data-toc-modified-id=\"style-cell-using-dataframe-as-x-7\"><span class=\"toc-item-num\">7&nbsp;&nbsp;</span>style cell using dataframe as x</a></span></li></ul></div>"
   ]
  },
  {
   "cell_type": "code",
   "execution_count": 1,
   "id": "f33c8d37",
   "metadata": {
    "ExecuteTime": {
     "end_time": "2021-08-04T21:18:32.197183Z",
     "start_time": "2021-08-04T21:18:28.914976Z"
    }
   },
   "outputs": [],
   "source": [
    "import numpy as np\n",
    "import pandas as pd\n",
    "import seaborn as sns\n",
    "\n",
    "from bhishan import bp"
   ]
  },
  {
   "cell_type": "code",
   "execution_count": 2,
   "id": "7d1b359a",
   "metadata": {
    "ExecuteTime": {
     "end_time": "2021-08-04T21:18:32.225073Z",
     "start_time": "2021-08-04T21:18:32.199145Z"
    }
   },
   "outputs": [
    {
     "data": {
      "text/html": [
       "<div>\n",
       "<style scoped>\n",
       "    .dataframe tbody tr th:only-of-type {\n",
       "        vertical-align: middle;\n",
       "    }\n",
       "\n",
       "    .dataframe tbody tr th {\n",
       "        vertical-align: top;\n",
       "    }\n",
       "\n",
       "    .dataframe thead th {\n",
       "        text-align: right;\n",
       "    }\n",
       "</style>\n",
       "<table border=\"1\" class=\"dataframe\">\n",
       "  <thead>\n",
       "    <tr style=\"text-align: right;\">\n",
       "      <th></th>\n",
       "      <th>A</th>\n",
       "      <th>B</th>\n",
       "      <th>C</th>\n",
       "      <th>D</th>\n",
       "    </tr>\n",
       "  </thead>\n",
       "  <tbody>\n",
       "    <tr>\n",
       "      <th>100</th>\n",
       "      <td>10</td>\n",
       "      <td>USA</td>\n",
       "      <td>100</td>\n",
       "      <td>Washington</td>\n",
       "    </tr>\n",
       "    <tr>\n",
       "      <th>101</th>\n",
       "      <td>20</td>\n",
       "      <td>Japan</td>\n",
       "      <td>200</td>\n",
       "      <td>Tokyo</td>\n",
       "    </tr>\n",
       "    <tr>\n",
       "      <th>102</th>\n",
       "      <td>30</td>\n",
       "      <td>Germany</td>\n",
       "      <td>300</td>\n",
       "      <td>Brussles</td>\n",
       "    </tr>\n",
       "  </tbody>\n",
       "</table>\n",
       "</div>"
      ],
      "text/plain": [
       "      A        B    C           D\n",
       "100  10      USA  100  Washington\n",
       "101  20    Japan  200       Tokyo\n",
       "102  30  Germany  300    Brussles"
      ]
     },
     "execution_count": 2,
     "metadata": {},
     "output_type": "execute_result"
    }
   ],
   "source": [
    "df = pd.DataFrame({'A':[10,20,30],\n",
    "            'B':['USA','Japan','Germany'],\n",
    "            'C': [100,200,300],\n",
    "             'D': ['Washington','Tokyo','Brussles']})\n",
    "\n",
    "df.index = df.index + 100\n",
    "\n",
    "df"
   ]
  },
  {
   "cell_type": "code",
   "execution_count": 3,
   "id": "b0ff12cf",
   "metadata": {
    "ExecuteTime": {
     "end_time": "2021-08-04T21:18:32.244944Z",
     "start_time": "2021-08-04T21:18:32.234760Z"
    }
   },
   "outputs": [
    {
     "data": {
      "text/html": [
       "<div>\n",
       "<style scoped>\n",
       "    .dataframe tbody tr th:only-of-type {\n",
       "        vertical-align: middle;\n",
       "    }\n",
       "\n",
       "    .dataframe tbody tr th {\n",
       "        vertical-align: top;\n",
       "    }\n",
       "\n",
       "    .dataframe thead th {\n",
       "        text-align: right;\n",
       "    }\n",
       "</style>\n",
       "<table border=\"1\" class=\"dataframe\">\n",
       "  <thead>\n",
       "    <tr style=\"text-align: right;\">\n",
       "      <th></th>\n",
       "      <th>A</th>\n",
       "      <th>B</th>\n",
       "      <th>C</th>\n",
       "      <th>D</th>\n",
       "    </tr>\n",
       "  </thead>\n",
       "  <tbody>\n",
       "    <tr>\n",
       "      <th>a</th>\n",
       "      <td>10</td>\n",
       "      <td>USA</td>\n",
       "      <td>100</td>\n",
       "      <td>Washington</td>\n",
       "    </tr>\n",
       "    <tr>\n",
       "      <th>b</th>\n",
       "      <td>20</td>\n",
       "      <td>Japan</td>\n",
       "      <td>200</td>\n",
       "      <td>Tokyo</td>\n",
       "    </tr>\n",
       "    <tr>\n",
       "      <th>c</th>\n",
       "      <td>30</td>\n",
       "      <td>Germany</td>\n",
       "      <td>300</td>\n",
       "      <td>Brussles</td>\n",
       "    </tr>\n",
       "  </tbody>\n",
       "</table>\n",
       "</div>"
      ],
      "text/plain": [
       "    A        B    C           D\n",
       "a  10      USA  100  Washington\n",
       "b  20    Japan  200       Tokyo\n",
       "c  30  Germany  300    Brussles"
      ]
     },
     "execution_count": 3,
     "metadata": {},
     "output_type": "execute_result"
    }
   ],
   "source": [
    "df2 = df.copy()\n",
    "df2.index = list('abc')\n",
    "df2"
   ]
  },
  {
   "cell_type": "markdown",
   "id": "e14ab05c",
   "metadata": {},
   "source": [
    "# style rows"
   ]
  },
  {
   "cell_type": "code",
   "execution_count": 4,
   "id": "f17fa2e1",
   "metadata": {
    "ExecuteTime": {
     "end_time": "2021-08-04T21:18:32.254471Z",
     "start_time": "2021-08-04T21:18:32.246890Z"
    }
   },
   "outputs": [],
   "source": [
    "def _style_rows(df,rows=None,colors='lightblue'):\n",
    "    # if df is Styler, make it dataframe\n",
    "    if isinstance(df,pd.io.formats.style.Styler):\n",
    "        df = df.data\n",
    "\n",
    "    # if rows is None, make it first index\n",
    "    if rows is None:\n",
    "        rows = [df.index[0]]\n",
    "\n",
    "    # if cols is integer or str, make it list\n",
    "    if type(rows) in [int,str]:\n",
    "        rows = [rows]\n",
    "\n",
    "    # if index name is not integer, use integer to get nth index\n",
    "    if not isinstance(df.index[0],int):\n",
    "        if isinstance(rows[0], int):\n",
    "            rows = list(df.index[rows])\n",
    "\n",
    "    # create colors\n",
    "    if colors is None:\n",
    "        colors = ['salmon'] * len(rows)\n",
    "\n",
    "    # if color is string, make list\n",
    "    if isinstance(colors,str):\n",
    "        colors = [colors]*len(rows)\n",
    "\n",
    "    df_str = pd.DataFrame(\"\", index=df.index, columns=df.columns)\n",
    "\n",
    "    for row,color in zip(rows,colors):\n",
    "        attr = f\"background-color: {color}\"\n",
    "        if row in df.index:\n",
    "            df_str.loc[row,:] = attr\n",
    "    return df_str"
   ]
  },
  {
   "cell_type": "code",
   "execution_count": 5,
   "id": "42a4c55e",
   "metadata": {
    "ExecuteTime": {
     "end_time": "2021-08-04T21:18:32.356375Z",
     "start_time": "2021-08-04T21:18:32.258283Z"
    }
   },
   "outputs": [
    {
     "data": {
      "text/html": [
       "<div>\n",
       "<style scoped>\n",
       "    .dataframe tbody tr th:only-of-type {\n",
       "        vertical-align: middle;\n",
       "    }\n",
       "\n",
       "    .dataframe tbody tr th {\n",
       "        vertical-align: top;\n",
       "    }\n",
       "\n",
       "    .dataframe thead th {\n",
       "        text-align: right;\n",
       "    }\n",
       "</style>\n",
       "<table border=\"1\" class=\"dataframe\">\n",
       "  <thead>\n",
       "    <tr style=\"text-align: right;\">\n",
       "      <th></th>\n",
       "      <th>A</th>\n",
       "      <th>B</th>\n",
       "      <th>C</th>\n",
       "      <th>D</th>\n",
       "    </tr>\n",
       "  </thead>\n",
       "  <tbody>\n",
       "    <tr>\n",
       "      <th>100</th>\n",
       "      <td>10</td>\n",
       "      <td>USA</td>\n",
       "      <td>100</td>\n",
       "      <td>Washington</td>\n",
       "    </tr>\n",
       "    <tr>\n",
       "      <th>101</th>\n",
       "      <td>20</td>\n",
       "      <td>Japan</td>\n",
       "      <td>200</td>\n",
       "      <td>Tokyo</td>\n",
       "    </tr>\n",
       "    <tr>\n",
       "      <th>102</th>\n",
       "      <td>30</td>\n",
       "      <td>Germany</td>\n",
       "      <td>300</td>\n",
       "      <td>Brussles</td>\n",
       "    </tr>\n",
       "  </tbody>\n",
       "</table>\n",
       "</div>"
      ],
      "text/plain": [
       "      A        B    C           D\n",
       "100  10      USA  100  Washington\n",
       "101  20    Japan  200       Tokyo\n",
       "102  30  Germany  300    Brussles"
      ]
     },
     "metadata": {},
     "output_type": "display_data"
    },
    {
     "data": {
      "text/html": [
       "<div>\n",
       "<style scoped>\n",
       "    .dataframe tbody tr th:only-of-type {\n",
       "        vertical-align: middle;\n",
       "    }\n",
       "\n",
       "    .dataframe tbody tr th {\n",
       "        vertical-align: top;\n",
       "    }\n",
       "\n",
       "    .dataframe thead th {\n",
       "        text-align: right;\n",
       "    }\n",
       "</style>\n",
       "<table border=\"1\" class=\"dataframe\">\n",
       "  <thead>\n",
       "    <tr style=\"text-align: right;\">\n",
       "      <th></th>\n",
       "      <th>A</th>\n",
       "      <th>B</th>\n",
       "      <th>C</th>\n",
       "      <th>D</th>\n",
       "    </tr>\n",
       "  </thead>\n",
       "  <tbody>\n",
       "    <tr>\n",
       "      <th>100</th>\n",
       "      <td>background-color: lightblue</td>\n",
       "      <td>background-color: lightblue</td>\n",
       "      <td>background-color: lightblue</td>\n",
       "      <td>background-color: lightblue</td>\n",
       "    </tr>\n",
       "    <tr>\n",
       "      <th>101</th>\n",
       "      <td></td>\n",
       "      <td></td>\n",
       "      <td></td>\n",
       "      <td></td>\n",
       "    </tr>\n",
       "    <tr>\n",
       "      <th>102</th>\n",
       "      <td></td>\n",
       "      <td></td>\n",
       "      <td></td>\n",
       "      <td></td>\n",
       "    </tr>\n",
       "  </tbody>\n",
       "</table>\n",
       "</div>"
      ],
      "text/plain": [
       "                               A                            B  \\\n",
       "100  background-color: lightblue  background-color: lightblue   \n",
       "101                                                             \n",
       "102                                                             \n",
       "\n",
       "                               C                            D  \n",
       "100  background-color: lightblue  background-color: lightblue  \n",
       "101                                                            \n",
       "102                                                            "
      ]
     },
     "metadata": {},
     "output_type": "display_data"
    },
    {
     "name": "stdout",
     "output_type": "stream",
     "text": [
      "(3, 4)\n",
      "(3, 4)\n"
     ]
    },
    {
     "data": {
      "text/html": [
       "<style  type=\"text/css\" >\n",
       "#T_f8c21_row0_col0,#T_f8c21_row0_col1,#T_f8c21_row0_col2,#T_f8c21_row0_col3{\n",
       "            background-color:  lightblue;\n",
       "        }</style><table id=\"T_f8c21_\" ><thead>    <tr>        <th class=\"blank level0\" ></th>        <th class=\"col_heading level0 col0\" >A</th>        <th class=\"col_heading level0 col1\" >B</th>        <th class=\"col_heading level0 col2\" >C</th>        <th class=\"col_heading level0 col3\" >D</th>    </tr></thead><tbody>\n",
       "                <tr>\n",
       "                        <th id=\"T_f8c21_level0_row0\" class=\"row_heading level0 row0\" >100</th>\n",
       "                        <td id=\"T_f8c21_row0_col0\" class=\"data row0 col0\" >10</td>\n",
       "                        <td id=\"T_f8c21_row0_col1\" class=\"data row0 col1\" >USA</td>\n",
       "                        <td id=\"T_f8c21_row0_col2\" class=\"data row0 col2\" >100</td>\n",
       "                        <td id=\"T_f8c21_row0_col3\" class=\"data row0 col3\" >Washington</td>\n",
       "            </tr>\n",
       "            <tr>\n",
       "                        <th id=\"T_f8c21_level0_row1\" class=\"row_heading level0 row1\" >101</th>\n",
       "                        <td id=\"T_f8c21_row1_col0\" class=\"data row1 col0\" >20</td>\n",
       "                        <td id=\"T_f8c21_row1_col1\" class=\"data row1 col1\" >Japan</td>\n",
       "                        <td id=\"T_f8c21_row1_col2\" class=\"data row1 col2\" >200</td>\n",
       "                        <td id=\"T_f8c21_row1_col3\" class=\"data row1 col3\" >Tokyo</td>\n",
       "            </tr>\n",
       "            <tr>\n",
       "                        <th id=\"T_f8c21_level0_row2\" class=\"row_heading level0 row2\" >102</th>\n",
       "                        <td id=\"T_f8c21_row2_col0\" class=\"data row2 col0\" >30</td>\n",
       "                        <td id=\"T_f8c21_row2_col1\" class=\"data row2 col1\" >Germany</td>\n",
       "                        <td id=\"T_f8c21_row2_col2\" class=\"data row2 col2\" >300</td>\n",
       "                        <td id=\"T_f8c21_row2_col3\" class=\"data row2 col3\" >Brussles</td>\n",
       "            </tr>\n",
       "    </tbody></table>"
      ],
      "text/plain": [
       "<pandas.io.formats.style.Styler at 0x7fb15da81550>"
      ]
     },
     "execution_count": 5,
     "metadata": {},
     "output_type": "execute_result"
    }
   ],
   "source": [
    "df_str = _style_rows(df)\n",
    "\n",
    "display(df)\n",
    "display(df_str)\n",
    "\n",
    "print(df.shape)\n",
    "print(df_str.shape)\n",
    "\n",
    "df_style = df.style.apply(_style_rows, axis=None)\n",
    "df_style"
   ]
  },
  {
   "cell_type": "code",
   "execution_count": 6,
   "id": "e02ea425",
   "metadata": {
    "ExecuteTime": {
     "end_time": "2021-08-04T21:18:32.373554Z",
     "start_time": "2021-08-04T21:18:32.360153Z"
    }
   },
   "outputs": [
    {
     "data": {
      "text/html": [
       "<style  type=\"text/css\" >\n",
       "#T_7fa01_row1_col0,#T_7fa01_row1_col1,#T_7fa01_row1_col2,#T_7fa01_row1_col3{\n",
       "            background-color:  lightblue;\n",
       "        }</style><table id=\"T_7fa01_\" ><thead>    <tr>        <th class=\"blank level0\" ></th>        <th class=\"col_heading level0 col0\" >A</th>        <th class=\"col_heading level0 col1\" >B</th>        <th class=\"col_heading level0 col2\" >C</th>        <th class=\"col_heading level0 col3\" >D</th>    </tr></thead><tbody>\n",
       "                <tr>\n",
       "                        <th id=\"T_7fa01_level0_row0\" class=\"row_heading level0 row0\" >100</th>\n",
       "                        <td id=\"T_7fa01_row0_col0\" class=\"data row0 col0\" >10</td>\n",
       "                        <td id=\"T_7fa01_row0_col1\" class=\"data row0 col1\" >USA</td>\n",
       "                        <td id=\"T_7fa01_row0_col2\" class=\"data row0 col2\" >100</td>\n",
       "                        <td id=\"T_7fa01_row0_col3\" class=\"data row0 col3\" >Washington</td>\n",
       "            </tr>\n",
       "            <tr>\n",
       "                        <th id=\"T_7fa01_level0_row1\" class=\"row_heading level0 row1\" >101</th>\n",
       "                        <td id=\"T_7fa01_row1_col0\" class=\"data row1 col0\" >20</td>\n",
       "                        <td id=\"T_7fa01_row1_col1\" class=\"data row1 col1\" >Japan</td>\n",
       "                        <td id=\"T_7fa01_row1_col2\" class=\"data row1 col2\" >200</td>\n",
       "                        <td id=\"T_7fa01_row1_col3\" class=\"data row1 col3\" >Tokyo</td>\n",
       "            </tr>\n",
       "            <tr>\n",
       "                        <th id=\"T_7fa01_level0_row2\" class=\"row_heading level0 row2\" >102</th>\n",
       "                        <td id=\"T_7fa01_row2_col0\" class=\"data row2 col0\" >30</td>\n",
       "                        <td id=\"T_7fa01_row2_col1\" class=\"data row2 col1\" >Germany</td>\n",
       "                        <td id=\"T_7fa01_row2_col2\" class=\"data row2 col2\" >300</td>\n",
       "                        <td id=\"T_7fa01_row2_col3\" class=\"data row2 col3\" >Brussles</td>\n",
       "            </tr>\n",
       "    </tbody></table>"
      ],
      "text/plain": [
       "<pandas.io.formats.style.Styler at 0x7fb15da2fa30>"
      ]
     },
     "execution_count": 6,
     "metadata": {},
     "output_type": "execute_result"
    }
   ],
   "source": [
    "df.style.apply(_style_rows, axis=None,rows=101)"
   ]
  },
  {
   "cell_type": "code",
   "execution_count": 7,
   "id": "664776f9",
   "metadata": {
    "ExecuteTime": {
     "end_time": "2021-08-04T21:18:32.393978Z",
     "start_time": "2021-08-04T21:18:32.377176Z"
    }
   },
   "outputs": [
    {
     "data": {
      "text/html": [
       "<style  type=\"text/css\" >\n",
       "</style><table id=\"T_4138b_\" ><thead>    <tr>        <th class=\"blank level0\" ></th>        <th class=\"col_heading level0 col0\" >A</th>        <th class=\"col_heading level0 col1\" >B</th>        <th class=\"col_heading level0 col2\" >C</th>        <th class=\"col_heading level0 col3\" >D</th>    </tr></thead><tbody>\n",
       "                <tr>\n",
       "                        <th id=\"T_4138b_level0_row0\" class=\"row_heading level0 row0\" >100</th>\n",
       "                        <td id=\"T_4138b_row0_col0\" class=\"data row0 col0\" >10</td>\n",
       "                        <td id=\"T_4138b_row0_col1\" class=\"data row0 col1\" >USA</td>\n",
       "                        <td id=\"T_4138b_row0_col2\" class=\"data row0 col2\" >100</td>\n",
       "                        <td id=\"T_4138b_row0_col3\" class=\"data row0 col3\" >Washington</td>\n",
       "            </tr>\n",
       "            <tr>\n",
       "                        <th id=\"T_4138b_level0_row1\" class=\"row_heading level0 row1\" >101</th>\n",
       "                        <td id=\"T_4138b_row1_col0\" class=\"data row1 col0\" >20</td>\n",
       "                        <td id=\"T_4138b_row1_col1\" class=\"data row1 col1\" >Japan</td>\n",
       "                        <td id=\"T_4138b_row1_col2\" class=\"data row1 col2\" >200</td>\n",
       "                        <td id=\"T_4138b_row1_col3\" class=\"data row1 col3\" >Tokyo</td>\n",
       "            </tr>\n",
       "            <tr>\n",
       "                        <th id=\"T_4138b_level0_row2\" class=\"row_heading level0 row2\" >102</th>\n",
       "                        <td id=\"T_4138b_row2_col0\" class=\"data row2 col0\" >30</td>\n",
       "                        <td id=\"T_4138b_row2_col1\" class=\"data row2 col1\" >Germany</td>\n",
       "                        <td id=\"T_4138b_row2_col2\" class=\"data row2 col2\" >300</td>\n",
       "                        <td id=\"T_4138b_row2_col3\" class=\"data row2 col3\" >Brussles</td>\n",
       "            </tr>\n",
       "    </tbody></table>"
      ],
      "text/plain": [
       "<pandas.io.formats.style.Styler at 0x7fb15da81970>"
      ]
     },
     "execution_count": 7,
     "metadata": {},
     "output_type": "execute_result"
    }
   ],
   "source": [
    "df.style.apply(_style_rows, axis=None,rows=0)"
   ]
  },
  {
   "cell_type": "code",
   "execution_count": 8,
   "id": "791cf246",
   "metadata": {
    "ExecuteTime": {
     "end_time": "2021-08-04T21:18:32.411012Z",
     "start_time": "2021-08-04T21:18:32.396087Z"
    }
   },
   "outputs": [
    {
     "data": {
      "text/html": [
       "<style  type=\"text/css\" >\n",
       "#T_2aaf5_row0_col0,#T_2aaf5_row0_col1,#T_2aaf5_row0_col2,#T_2aaf5_row0_col3{\n",
       "            background-color:  lightblue;\n",
       "        }</style><table id=\"T_2aaf5_\" ><thead>    <tr>        <th class=\"blank level0\" ></th>        <th class=\"col_heading level0 col0\" >A</th>        <th class=\"col_heading level0 col1\" >B</th>        <th class=\"col_heading level0 col2\" >C</th>        <th class=\"col_heading level0 col3\" >D</th>    </tr></thead><tbody>\n",
       "                <tr>\n",
       "                        <th id=\"T_2aaf5_level0_row0\" class=\"row_heading level0 row0\" >a</th>\n",
       "                        <td id=\"T_2aaf5_row0_col0\" class=\"data row0 col0\" >10</td>\n",
       "                        <td id=\"T_2aaf5_row0_col1\" class=\"data row0 col1\" >USA</td>\n",
       "                        <td id=\"T_2aaf5_row0_col2\" class=\"data row0 col2\" >100</td>\n",
       "                        <td id=\"T_2aaf5_row0_col3\" class=\"data row0 col3\" >Washington</td>\n",
       "            </tr>\n",
       "            <tr>\n",
       "                        <th id=\"T_2aaf5_level0_row1\" class=\"row_heading level0 row1\" >b</th>\n",
       "                        <td id=\"T_2aaf5_row1_col0\" class=\"data row1 col0\" >20</td>\n",
       "                        <td id=\"T_2aaf5_row1_col1\" class=\"data row1 col1\" >Japan</td>\n",
       "                        <td id=\"T_2aaf5_row1_col2\" class=\"data row1 col2\" >200</td>\n",
       "                        <td id=\"T_2aaf5_row1_col3\" class=\"data row1 col3\" >Tokyo</td>\n",
       "            </tr>\n",
       "            <tr>\n",
       "                        <th id=\"T_2aaf5_level0_row2\" class=\"row_heading level0 row2\" >c</th>\n",
       "                        <td id=\"T_2aaf5_row2_col0\" class=\"data row2 col0\" >30</td>\n",
       "                        <td id=\"T_2aaf5_row2_col1\" class=\"data row2 col1\" >Germany</td>\n",
       "                        <td id=\"T_2aaf5_row2_col2\" class=\"data row2 col2\" >300</td>\n",
       "                        <td id=\"T_2aaf5_row2_col3\" class=\"data row2 col3\" >Brussles</td>\n",
       "            </tr>\n",
       "    </tbody></table>"
      ],
      "text/plain": [
       "<pandas.io.formats.style.Styler at 0x7fb15da2fd60>"
      ]
     },
     "execution_count": 8,
     "metadata": {},
     "output_type": "execute_result"
    }
   ],
   "source": [
    "df2.style.apply(_style_rows, axis=None,rows=0)"
   ]
  },
  {
   "cell_type": "code",
   "execution_count": 9,
   "id": "aa99bec4",
   "metadata": {
    "ExecuteTime": {
     "end_time": "2021-08-04T21:18:32.427705Z",
     "start_time": "2021-08-04T21:18:32.414504Z"
    },
    "scrolled": true
   },
   "outputs": [
    {
     "name": "stdout",
     "output_type": "stream",
     "text": [
      "ERROR: '0' is not in Index.\n"
     ]
    },
    {
     "data": {
      "text/html": [
       "<style  type=\"text/css\" >\n",
       "</style><table id=\"T_cac0d_\" ><thead>    <tr>        <th class=\"blank level0\" ></th>        <th class=\"col_heading level0 col0\" >A</th>        <th class=\"col_heading level0 col1\" >B</th>        <th class=\"col_heading level0 col2\" >C</th>        <th class=\"col_heading level0 col3\" >D</th>    </tr></thead><tbody>\n",
       "                <tr>\n",
       "                        <th id=\"T_cac0d_level0_row0\" class=\"row_heading level0 row0\" >100</th>\n",
       "                        <td id=\"T_cac0d_row0_col0\" class=\"data row0 col0\" >10</td>\n",
       "                        <td id=\"T_cac0d_row0_col1\" class=\"data row0 col1\" >USA</td>\n",
       "                        <td id=\"T_cac0d_row0_col2\" class=\"data row0 col2\" >100</td>\n",
       "                        <td id=\"T_cac0d_row0_col3\" class=\"data row0 col3\" >Washington</td>\n",
       "            </tr>\n",
       "            <tr>\n",
       "                        <th id=\"T_cac0d_level0_row1\" class=\"row_heading level0 row1\" >101</th>\n",
       "                        <td id=\"T_cac0d_row1_col0\" class=\"data row1 col0\" >20</td>\n",
       "                        <td id=\"T_cac0d_row1_col1\" class=\"data row1 col1\" >Japan</td>\n",
       "                        <td id=\"T_cac0d_row1_col2\" class=\"data row1 col2\" >200</td>\n",
       "                        <td id=\"T_cac0d_row1_col3\" class=\"data row1 col3\" >Tokyo</td>\n",
       "            </tr>\n",
       "            <tr>\n",
       "                        <th id=\"T_cac0d_level0_row2\" class=\"row_heading level0 row2\" >102</th>\n",
       "                        <td id=\"T_cac0d_row2_col0\" class=\"data row2 col0\" >30</td>\n",
       "                        <td id=\"T_cac0d_row2_col1\" class=\"data row2 col1\" >Germany</td>\n",
       "                        <td id=\"T_cac0d_row2_col2\" class=\"data row2 col2\" >300</td>\n",
       "                        <td id=\"T_cac0d_row2_col3\" class=\"data row2 col3\" >Brussles</td>\n",
       "            </tr>\n",
       "    </tbody></table>"
      ],
      "text/plain": [
       "<pandas.io.formats.style.Styler at 0x7fb15dab20d0>"
      ]
     },
     "execution_count": 9,
     "metadata": {},
     "output_type": "execute_result"
    }
   ],
   "source": [
    "bp.style_rows(df,0)"
   ]
  },
  {
   "cell_type": "code",
   "execution_count": 10,
   "id": "d3fdbc2f",
   "metadata": {
    "ExecuteTime": {
     "end_time": "2021-08-04T21:18:32.440191Z",
     "start_time": "2021-08-04T21:18:32.429546Z"
    }
   },
   "outputs": [
    {
     "name": "stdout",
     "output_type": "stream",
     "text": [
      "ERROR: '1' is not in Index.\n"
     ]
    },
    {
     "data": {
      "text/html": [
       "<style  type=\"text/css\" >\n",
       "</style><table id=\"T_2d2ec_\" ><thead>    <tr>        <th class=\"blank level0\" ></th>        <th class=\"col_heading level0 col0\" >A</th>        <th class=\"col_heading level0 col1\" >B</th>        <th class=\"col_heading level0 col2\" >C</th>        <th class=\"col_heading level0 col3\" >D</th>    </tr></thead><tbody>\n",
       "                <tr>\n",
       "                        <th id=\"T_2d2ec_level0_row0\" class=\"row_heading level0 row0\" >100</th>\n",
       "                        <td id=\"T_2d2ec_row0_col0\" class=\"data row0 col0\" >10</td>\n",
       "                        <td id=\"T_2d2ec_row0_col1\" class=\"data row0 col1\" >USA</td>\n",
       "                        <td id=\"T_2d2ec_row0_col2\" class=\"data row0 col2\" >100</td>\n",
       "                        <td id=\"T_2d2ec_row0_col3\" class=\"data row0 col3\" >Washington</td>\n",
       "            </tr>\n",
       "            <tr>\n",
       "                        <th id=\"T_2d2ec_level0_row1\" class=\"row_heading level0 row1\" >101</th>\n",
       "                        <td id=\"T_2d2ec_row1_col0\" class=\"data row1 col0\" >20</td>\n",
       "                        <td id=\"T_2d2ec_row1_col1\" class=\"data row1 col1\" >Japan</td>\n",
       "                        <td id=\"T_2d2ec_row1_col2\" class=\"data row1 col2\" >200</td>\n",
       "                        <td id=\"T_2d2ec_row1_col3\" class=\"data row1 col3\" >Tokyo</td>\n",
       "            </tr>\n",
       "            <tr>\n",
       "                        <th id=\"T_2d2ec_level0_row2\" class=\"row_heading level0 row2\" >102</th>\n",
       "                        <td id=\"T_2d2ec_row2_col0\" class=\"data row2 col0\" >30</td>\n",
       "                        <td id=\"T_2d2ec_row2_col1\" class=\"data row2 col1\" >Germany</td>\n",
       "                        <td id=\"T_2d2ec_row2_col2\" class=\"data row2 col2\" >300</td>\n",
       "                        <td id=\"T_2d2ec_row2_col3\" class=\"data row2 col3\" >Brussles</td>\n",
       "            </tr>\n",
       "    </tbody></table>"
      ],
      "text/plain": [
       "<pandas.io.formats.style.Styler at 0x7fb15dab2940>"
      ]
     },
     "execution_count": 10,
     "metadata": {},
     "output_type": "execute_result"
    }
   ],
   "source": [
    "bp.style_rows(df,1)"
   ]
  },
  {
   "cell_type": "code",
   "execution_count": 11,
   "id": "3c815c1d",
   "metadata": {
    "ExecuteTime": {
     "end_time": "2021-08-04T21:18:32.466101Z",
     "start_time": "2021-08-04T21:18:32.442097Z"
    }
   },
   "outputs": [
    {
     "data": {
      "text/html": [
       "<style  type=\"text/css\" >\n",
       "#T_a4189_row0_col0,#T_a4189_row0_col1,#T_a4189_row0_col2,#T_a4189_row0_col3{\n",
       "            background-color:  lightblue;\n",
       "        }</style><table id=\"T_a4189_\" ><thead>    <tr>        <th class=\"blank level0\" ></th>        <th class=\"col_heading level0 col0\" >A</th>        <th class=\"col_heading level0 col1\" >B</th>        <th class=\"col_heading level0 col2\" >C</th>        <th class=\"col_heading level0 col3\" >D</th>    </tr></thead><tbody>\n",
       "                <tr>\n",
       "                        <th id=\"T_a4189_level0_row0\" class=\"row_heading level0 row0\" >a</th>\n",
       "                        <td id=\"T_a4189_row0_col0\" class=\"data row0 col0\" >10</td>\n",
       "                        <td id=\"T_a4189_row0_col1\" class=\"data row0 col1\" >USA</td>\n",
       "                        <td id=\"T_a4189_row0_col2\" class=\"data row0 col2\" >100</td>\n",
       "                        <td id=\"T_a4189_row0_col3\" class=\"data row0 col3\" >Washington</td>\n",
       "            </tr>\n",
       "            <tr>\n",
       "                        <th id=\"T_a4189_level0_row1\" class=\"row_heading level0 row1\" >b</th>\n",
       "                        <td id=\"T_a4189_row1_col0\" class=\"data row1 col0\" >20</td>\n",
       "                        <td id=\"T_a4189_row1_col1\" class=\"data row1 col1\" >Japan</td>\n",
       "                        <td id=\"T_a4189_row1_col2\" class=\"data row1 col2\" >200</td>\n",
       "                        <td id=\"T_a4189_row1_col3\" class=\"data row1 col3\" >Tokyo</td>\n",
       "            </tr>\n",
       "            <tr>\n",
       "                        <th id=\"T_a4189_level0_row2\" class=\"row_heading level0 row2\" >c</th>\n",
       "                        <td id=\"T_a4189_row2_col0\" class=\"data row2 col0\" >30</td>\n",
       "                        <td id=\"T_a4189_row2_col1\" class=\"data row2 col1\" >Germany</td>\n",
       "                        <td id=\"T_a4189_row2_col2\" class=\"data row2 col2\" >300</td>\n",
       "                        <td id=\"T_a4189_row2_col3\" class=\"data row2 col3\" >Brussles</td>\n",
       "            </tr>\n",
       "    </tbody></table>"
      ],
      "text/plain": [
       "<pandas.io.formats.style.Styler at 0x7fb15daa02b0>"
      ]
     },
     "execution_count": 11,
     "metadata": {},
     "output_type": "execute_result"
    }
   ],
   "source": [
    "bp.style_rows(df2,0)"
   ]
  },
  {
   "cell_type": "code",
   "execution_count": 12,
   "id": "f03a2017",
   "metadata": {
    "ExecuteTime": {
     "end_time": "2021-08-04T21:18:32.481648Z",
     "start_time": "2021-08-04T21:18:32.467743Z"
    }
   },
   "outputs": [
    {
     "data": {
      "text/html": [
       "<style  type=\"text/css\" >\n",
       "#T_8cfd1_row0_col0,#T_8cfd1_row0_col1,#T_8cfd1_row0_col2,#T_8cfd1_row0_col3{\n",
       "            background-color:  lightblue;\n",
       "        }</style><table id=\"T_8cfd1_\" ><thead>    <tr>        <th class=\"blank level0\" ></th>        <th class=\"col_heading level0 col0\" >A</th>        <th class=\"col_heading level0 col1\" >B</th>        <th class=\"col_heading level0 col2\" >C</th>        <th class=\"col_heading level0 col3\" >D</th>    </tr></thead><tbody>\n",
       "                <tr>\n",
       "                        <th id=\"T_8cfd1_level0_row0\" class=\"row_heading level0 row0\" >a</th>\n",
       "                        <td id=\"T_8cfd1_row0_col0\" class=\"data row0 col0\" >10</td>\n",
       "                        <td id=\"T_8cfd1_row0_col1\" class=\"data row0 col1\" >USA</td>\n",
       "                        <td id=\"T_8cfd1_row0_col2\" class=\"data row0 col2\" >100</td>\n",
       "                        <td id=\"T_8cfd1_row0_col3\" class=\"data row0 col3\" >Washington</td>\n",
       "            </tr>\n",
       "            <tr>\n",
       "                        <th id=\"T_8cfd1_level0_row1\" class=\"row_heading level0 row1\" >b</th>\n",
       "                        <td id=\"T_8cfd1_row1_col0\" class=\"data row1 col0\" >20</td>\n",
       "                        <td id=\"T_8cfd1_row1_col1\" class=\"data row1 col1\" >Japan</td>\n",
       "                        <td id=\"T_8cfd1_row1_col2\" class=\"data row1 col2\" >200</td>\n",
       "                        <td id=\"T_8cfd1_row1_col3\" class=\"data row1 col3\" >Tokyo</td>\n",
       "            </tr>\n",
       "            <tr>\n",
       "                        <th id=\"T_8cfd1_level0_row2\" class=\"row_heading level0 row2\" >c</th>\n",
       "                        <td id=\"T_8cfd1_row2_col0\" class=\"data row2 col0\" >30</td>\n",
       "                        <td id=\"T_8cfd1_row2_col1\" class=\"data row2 col1\" >Germany</td>\n",
       "                        <td id=\"T_8cfd1_row2_col2\" class=\"data row2 col2\" >300</td>\n",
       "                        <td id=\"T_8cfd1_row2_col3\" class=\"data row2 col3\" >Brussles</td>\n",
       "            </tr>\n",
       "    </tbody></table>"
      ],
      "text/plain": [
       "<pandas.io.formats.style.Styler at 0x7fb15da817c0>"
      ]
     },
     "execution_count": 12,
     "metadata": {},
     "output_type": "execute_result"
    }
   ],
   "source": [
    "bp.style_rows(df2,'a')"
   ]
  },
  {
   "cell_type": "code",
   "execution_count": 13,
   "id": "250b8677",
   "metadata": {
    "ExecuteTime": {
     "end_time": "2021-08-04T21:18:32.522012Z",
     "start_time": "2021-08-04T21:18:32.483269Z"
    }
   },
   "outputs": [
    {
     "data": {
      "text/html": [
       "<div>\n",
       "<style scoped>\n",
       "    .dataframe tbody tr th:only-of-type {\n",
       "        vertical-align: middle;\n",
       "    }\n",
       "\n",
       "    .dataframe tbody tr th {\n",
       "        vertical-align: top;\n",
       "    }\n",
       "\n",
       "    .dataframe thead tr th {\n",
       "        text-align: left;\n",
       "    }\n",
       "\n",
       "    .dataframe thead tr:last-of-type th {\n",
       "        text-align: right;\n",
       "    }\n",
       "</style>\n",
       "<table border=\"1\" class=\"dataframe\">\n",
       "  <thead>\n",
       "    <tr>\n",
       "      <th></th>\n",
       "      <th></th>\n",
       "      <th colspan=\"2\" halign=\"left\">fare</th>\n",
       "    </tr>\n",
       "    <tr>\n",
       "      <th></th>\n",
       "      <th></th>\n",
       "      <th>sum</th>\n",
       "      <th>count</th>\n",
       "    </tr>\n",
       "    <tr>\n",
       "      <th>sex</th>\n",
       "      <th>class</th>\n",
       "      <th></th>\n",
       "      <th></th>\n",
       "    </tr>\n",
       "  </thead>\n",
       "  <tbody>\n",
       "    <tr>\n",
       "      <th rowspan=\"3\" valign=\"top\">female</th>\n",
       "      <th>First</th>\n",
       "      <td>124.3833</td>\n",
       "      <td>2</td>\n",
       "    </tr>\n",
       "    <tr>\n",
       "      <th>Second</th>\n",
       "      <td>0.0000</td>\n",
       "      <td>0</td>\n",
       "    </tr>\n",
       "    <tr>\n",
       "      <th>Third</th>\n",
       "      <td>7.9250</td>\n",
       "      <td>1</td>\n",
       "    </tr>\n",
       "    <tr>\n",
       "      <th rowspan=\"3\" valign=\"top\">male</th>\n",
       "      <th>First</th>\n",
       "      <td>0.0000</td>\n",
       "      <td>0</td>\n",
       "    </tr>\n",
       "    <tr>\n",
       "      <th>Second</th>\n",
       "      <td>0.0000</td>\n",
       "      <td>0</td>\n",
       "    </tr>\n",
       "    <tr>\n",
       "      <th>Third</th>\n",
       "      <td>15.3000</td>\n",
       "      <td>2</td>\n",
       "    </tr>\n",
       "  </tbody>\n",
       "</table>\n",
       "</div>"
      ],
      "text/plain": [
       "                   fare      \n",
       "                    sum count\n",
       "sex    class                 \n",
       "female First   124.3833     2\n",
       "       Second    0.0000     0\n",
       "       Third     7.9250     1\n",
       "male   First     0.0000     0\n",
       "       Second    0.0000     0\n",
       "       Third    15.3000     2"
      ]
     },
     "execution_count": 13,
     "metadata": {},
     "output_type": "execute_result"
    }
   ],
   "source": [
    "titanic = sns.load_dataset('titanic')\n",
    "titanic = titanic.head()\n",
    "dfmi = titanic.groupby(['sex', 'class']).agg({'fare': ['sum','count']})\n",
    "dfmi"
   ]
  },
  {
   "cell_type": "code",
   "execution_count": 14,
   "id": "e260c86a",
   "metadata": {
    "ExecuteTime": {
     "end_time": "2021-08-04T21:18:32.545011Z",
     "start_time": "2021-08-04T21:18:32.526006Z"
    }
   },
   "outputs": [
    {
     "data": {
      "text/html": [
       "<style  type=\"text/css\" >\n",
       "#T_298f1_row4_col0,#T_298f1_row4_col1{\n",
       "            background:  lightblue;\n",
       "        }</style><table id=\"T_298f1_\" ><thead>    <tr>        <th class=\"blank\" ></th>        <th class=\"blank level0\" ></th>        <th class=\"col_heading level0 col0\" colspan=\"2\">fare</th>    </tr>    <tr>        <th class=\"blank\" ></th>        <th class=\"blank level1\" ></th>        <th class=\"col_heading level1 col0\" >sum</th>        <th class=\"col_heading level1 col1\" >count</th>    </tr>    <tr>        <th class=\"index_name level0\" >sex</th>        <th class=\"index_name level1\" >class</th>        <th class=\"blank\" ></th>        <th class=\"blank\" ></th>    </tr></thead><tbody>\n",
       "                <tr>\n",
       "                        <th id=\"T_298f1_level0_row0\" class=\"row_heading level0 row0\" rowspan=\"3\">female</th>\n",
       "                        <th id=\"T_298f1_level1_row0\" class=\"row_heading level1 row0\" >First</th>\n",
       "                        <td id=\"T_298f1_row0_col0\" class=\"data row0 col0\" >124.383300</td>\n",
       "                        <td id=\"T_298f1_row0_col1\" class=\"data row0 col1\" >2</td>\n",
       "            </tr>\n",
       "            <tr>\n",
       "                                <th id=\"T_298f1_level1_row1\" class=\"row_heading level1 row1\" >Second</th>\n",
       "                        <td id=\"T_298f1_row1_col0\" class=\"data row1 col0\" >0.000000</td>\n",
       "                        <td id=\"T_298f1_row1_col1\" class=\"data row1 col1\" >0</td>\n",
       "            </tr>\n",
       "            <tr>\n",
       "                                <th id=\"T_298f1_level1_row2\" class=\"row_heading level1 row2\" >Third</th>\n",
       "                        <td id=\"T_298f1_row2_col0\" class=\"data row2 col0\" >7.925000</td>\n",
       "                        <td id=\"T_298f1_row2_col1\" class=\"data row2 col1\" >1</td>\n",
       "            </tr>\n",
       "            <tr>\n",
       "                        <th id=\"T_298f1_level0_row3\" class=\"row_heading level0 row3\" rowspan=\"3\">male</th>\n",
       "                        <th id=\"T_298f1_level1_row3\" class=\"row_heading level1 row3\" >First</th>\n",
       "                        <td id=\"T_298f1_row3_col0\" class=\"data row3 col0\" >0.000000</td>\n",
       "                        <td id=\"T_298f1_row3_col1\" class=\"data row3 col1\" >0</td>\n",
       "            </tr>\n",
       "            <tr>\n",
       "                                <th id=\"T_298f1_level1_row4\" class=\"row_heading level1 row4\" >Second</th>\n",
       "                        <td id=\"T_298f1_row4_col0\" class=\"data row4 col0\" >0.000000</td>\n",
       "                        <td id=\"T_298f1_row4_col1\" class=\"data row4 col1\" >0</td>\n",
       "            </tr>\n",
       "            <tr>\n",
       "                                <th id=\"T_298f1_level1_row5\" class=\"row_heading level1 row5\" >Third</th>\n",
       "                        <td id=\"T_298f1_row5_col0\" class=\"data row5 col0\" >15.300000</td>\n",
       "                        <td id=\"T_298f1_row5_col1\" class=\"data row5 col1\" >2</td>\n",
       "            </tr>\n",
       "    </tbody></table>"
      ],
      "text/plain": [
       "<pandas.io.formats.style.Styler at 0x7fb15daa0af0>"
      ]
     },
     "execution_count": 14,
     "metadata": {},
     "output_type": "execute_result"
    }
   ],
   "source": [
    "bp.style_row_mi(dfmi,('male','Second'))"
   ]
  },
  {
   "cell_type": "code",
   "execution_count": 15,
   "id": "06cc7739",
   "metadata": {
    "ExecuteTime": {
     "end_time": "2021-08-04T21:18:32.585815Z",
     "start_time": "2021-08-04T21:18:32.552289Z"
    }
   },
   "outputs": [
    {
     "data": {
      "text/html": [
       "<style  type=\"text/css\" >\n",
       "#T_e5820_row3_col0,#T_e5820_row3_col1,#T_e5820_row4_col0,#T_e5820_row4_col1,#T_e5820_row5_col0,#T_e5820_row5_col1{\n",
       "            background:  lightblue;\n",
       "        }</style><table id=\"T_e5820_\" ><thead>    <tr>        <th class=\"blank\" ></th>        <th class=\"blank level0\" ></th>        <th class=\"col_heading level0 col0\" colspan=\"2\">fare</th>    </tr>    <tr>        <th class=\"blank\" ></th>        <th class=\"blank level1\" ></th>        <th class=\"col_heading level1 col0\" >sum</th>        <th class=\"col_heading level1 col1\" >count</th>    </tr>    <tr>        <th class=\"index_name level0\" >sex</th>        <th class=\"index_name level1\" >class</th>        <th class=\"blank\" ></th>        <th class=\"blank\" ></th>    </tr></thead><tbody>\n",
       "                <tr>\n",
       "                        <th id=\"T_e5820_level0_row0\" class=\"row_heading level0 row0\" rowspan=\"3\">female</th>\n",
       "                        <th id=\"T_e5820_level1_row0\" class=\"row_heading level1 row0\" >First</th>\n",
       "                        <td id=\"T_e5820_row0_col0\" class=\"data row0 col0\" >124.383300</td>\n",
       "                        <td id=\"T_e5820_row0_col1\" class=\"data row0 col1\" >2</td>\n",
       "            </tr>\n",
       "            <tr>\n",
       "                                <th id=\"T_e5820_level1_row1\" class=\"row_heading level1 row1\" >Second</th>\n",
       "                        <td id=\"T_e5820_row1_col0\" class=\"data row1 col0\" >0.000000</td>\n",
       "                        <td id=\"T_e5820_row1_col1\" class=\"data row1 col1\" >0</td>\n",
       "            </tr>\n",
       "            <tr>\n",
       "                                <th id=\"T_e5820_level1_row2\" class=\"row_heading level1 row2\" >Third</th>\n",
       "                        <td id=\"T_e5820_row2_col0\" class=\"data row2 col0\" >7.925000</td>\n",
       "                        <td id=\"T_e5820_row2_col1\" class=\"data row2 col1\" >1</td>\n",
       "            </tr>\n",
       "            <tr>\n",
       "                        <th id=\"T_e5820_level0_row3\" class=\"row_heading level0 row3\" rowspan=\"3\">male</th>\n",
       "                        <th id=\"T_e5820_level1_row3\" class=\"row_heading level1 row3\" >First</th>\n",
       "                        <td id=\"T_e5820_row3_col0\" class=\"data row3 col0\" >0.000000</td>\n",
       "                        <td id=\"T_e5820_row3_col1\" class=\"data row3 col1\" >0</td>\n",
       "            </tr>\n",
       "            <tr>\n",
       "                                <th id=\"T_e5820_level1_row4\" class=\"row_heading level1 row4\" >Second</th>\n",
       "                        <td id=\"T_e5820_row4_col0\" class=\"data row4 col0\" >0.000000</td>\n",
       "                        <td id=\"T_e5820_row4_col1\" class=\"data row4 col1\" >0</td>\n",
       "            </tr>\n",
       "            <tr>\n",
       "                                <th id=\"T_e5820_level1_row5\" class=\"row_heading level1 row5\" >Third</th>\n",
       "                        <td id=\"T_e5820_row5_col0\" class=\"data row5 col0\" >15.300000</td>\n",
       "                        <td id=\"T_e5820_row5_col1\" class=\"data row5 col1\" >2</td>\n",
       "            </tr>\n",
       "    </tbody></table>"
      ],
      "text/plain": [
       "<pandas.io.formats.style.Styler at 0x7fb15dac4cd0>"
      ]
     },
     "execution_count": 15,
     "metadata": {},
     "output_type": "execute_result"
    }
   ],
   "source": [
    "bp.style_row_mi(dfmi,('male','*'))"
   ]
  },
  {
   "cell_type": "markdown",
   "id": "c5b199ee",
   "metadata": {},
   "source": [
    "# style columns"
   ]
  },
  {
   "cell_type": "code",
   "execution_count": 16,
   "id": "b2d486bb",
   "metadata": {
    "ExecuteTime": {
     "end_time": "2021-08-04T21:18:32.605342Z",
     "start_time": "2021-08-04T21:18:32.592765Z"
    }
   },
   "outputs": [],
   "source": [
    "def _style_cols(df,cols=None,colors='salmon'):\n",
    "    # if df is Styler, make it dataframe\n",
    "    if isinstance(df,pd.io.formats.style.Styler):\n",
    "        df = df.data\n",
    "\n",
    "    # if cols is None, make it first column\n",
    "    if cols is None:\n",
    "        cols = [df.columns[0]]\n",
    "\n",
    "    # if cols is integer or str, make it list\n",
    "    if type(cols) in [int,str]:\n",
    "        cols = [cols]\n",
    "\n",
    "    # if column name is not integer, use integer to get nth column\n",
    "    if not isinstance(df.columns[0],int):\n",
    "        if isinstance(cols[0], int):\n",
    "            cols = list(df.columns[cols])\n",
    "\n",
    "    # create colors\n",
    "    if colors is None:\n",
    "        colors = ['salmon'] * len(cols)\n",
    "\n",
    "    # if color is string, make list\n",
    "    if isinstance(colors,str):\n",
    "        colors = [colors]*len(cols)\n",
    "\n",
    "    df_str = pd.DataFrame(\"\", index=df.index, columns=df.columns)\n",
    "\n",
    "    for col,color in zip(cols,colors):\n",
    "        attr = f\"background-color: {color}\"\n",
    "        if col in df.columns:\n",
    "            df_str.loc[:, col] = attr\n",
    "    return df_str"
   ]
  },
  {
   "cell_type": "code",
   "execution_count": 17,
   "id": "85204b04",
   "metadata": {
    "ExecuteTime": {
     "end_time": "2021-08-04T21:18:32.639661Z",
     "start_time": "2021-08-04T21:18:32.612900Z"
    }
   },
   "outputs": [
    {
     "data": {
      "text/html": [
       "<div>\n",
       "<style scoped>\n",
       "    .dataframe tbody tr th:only-of-type {\n",
       "        vertical-align: middle;\n",
       "    }\n",
       "\n",
       "    .dataframe tbody tr th {\n",
       "        vertical-align: top;\n",
       "    }\n",
       "\n",
       "    .dataframe thead th {\n",
       "        text-align: right;\n",
       "    }\n",
       "</style>\n",
       "<table border=\"1\" class=\"dataframe\">\n",
       "  <thead>\n",
       "    <tr style=\"text-align: right;\">\n",
       "      <th></th>\n",
       "      <th>A</th>\n",
       "      <th>B</th>\n",
       "      <th>C</th>\n",
       "      <th>D</th>\n",
       "    </tr>\n",
       "  </thead>\n",
       "  <tbody>\n",
       "    <tr>\n",
       "      <th>100</th>\n",
       "      <td>10</td>\n",
       "      <td>USA</td>\n",
       "      <td>100</td>\n",
       "      <td>Washington</td>\n",
       "    </tr>\n",
       "    <tr>\n",
       "      <th>101</th>\n",
       "      <td>20</td>\n",
       "      <td>Japan</td>\n",
       "      <td>200</td>\n",
       "      <td>Tokyo</td>\n",
       "    </tr>\n",
       "    <tr>\n",
       "      <th>102</th>\n",
       "      <td>30</td>\n",
       "      <td>Germany</td>\n",
       "      <td>300</td>\n",
       "      <td>Brussles</td>\n",
       "    </tr>\n",
       "  </tbody>\n",
       "</table>\n",
       "</div>"
      ],
      "text/plain": [
       "      A        B    C           D\n",
       "100  10      USA  100  Washington\n",
       "101  20    Japan  200       Tokyo\n",
       "102  30  Germany  300    Brussles"
      ]
     },
     "metadata": {},
     "output_type": "display_data"
    },
    {
     "data": {
      "text/html": [
       "<div>\n",
       "<style scoped>\n",
       "    .dataframe tbody tr th:only-of-type {\n",
       "        vertical-align: middle;\n",
       "    }\n",
       "\n",
       "    .dataframe tbody tr th {\n",
       "        vertical-align: top;\n",
       "    }\n",
       "\n",
       "    .dataframe thead th {\n",
       "        text-align: right;\n",
       "    }\n",
       "</style>\n",
       "<table border=\"1\" class=\"dataframe\">\n",
       "  <thead>\n",
       "    <tr style=\"text-align: right;\">\n",
       "      <th></th>\n",
       "      <th>A</th>\n",
       "      <th>B</th>\n",
       "      <th>C</th>\n",
       "      <th>D</th>\n",
       "    </tr>\n",
       "  </thead>\n",
       "  <tbody>\n",
       "    <tr>\n",
       "      <th>100</th>\n",
       "      <td>background-color: salmon</td>\n",
       "      <td></td>\n",
       "      <td></td>\n",
       "      <td></td>\n",
       "    </tr>\n",
       "    <tr>\n",
       "      <th>101</th>\n",
       "      <td>background-color: salmon</td>\n",
       "      <td></td>\n",
       "      <td></td>\n",
       "      <td></td>\n",
       "    </tr>\n",
       "    <tr>\n",
       "      <th>102</th>\n",
       "      <td>background-color: salmon</td>\n",
       "      <td></td>\n",
       "      <td></td>\n",
       "      <td></td>\n",
       "    </tr>\n",
       "  </tbody>\n",
       "</table>\n",
       "</div>"
      ],
      "text/plain": [
       "                            A B C D\n",
       "100  background-color: salmon      \n",
       "101  background-color: salmon      \n",
       "102  background-color: salmon      "
      ]
     },
     "metadata": {},
     "output_type": "display_data"
    },
    {
     "name": "stdout",
     "output_type": "stream",
     "text": [
      "(3, 4)\n",
      "(3, 4)\n"
     ]
    },
    {
     "data": {
      "text/html": [
       "<style  type=\"text/css\" >\n",
       "#T_a793a_row0_col1,#T_a793a_row1_col1,#T_a793a_row2_col1{\n",
       "            background-color:  salmon;\n",
       "        }</style><table id=\"T_a793a_\" ><thead>    <tr>        <th class=\"blank level0\" ></th>        <th class=\"col_heading level0 col0\" >A</th>        <th class=\"col_heading level0 col1\" >B</th>        <th class=\"col_heading level0 col2\" >C</th>        <th class=\"col_heading level0 col3\" >D</th>    </tr></thead><tbody>\n",
       "                <tr>\n",
       "                        <th id=\"T_a793a_level0_row0\" class=\"row_heading level0 row0\" >100</th>\n",
       "                        <td id=\"T_a793a_row0_col0\" class=\"data row0 col0\" >10</td>\n",
       "                        <td id=\"T_a793a_row0_col1\" class=\"data row0 col1\" >USA</td>\n",
       "                        <td id=\"T_a793a_row0_col2\" class=\"data row0 col2\" >100</td>\n",
       "                        <td id=\"T_a793a_row0_col3\" class=\"data row0 col3\" >Washington</td>\n",
       "            </tr>\n",
       "            <tr>\n",
       "                        <th id=\"T_a793a_level0_row1\" class=\"row_heading level0 row1\" >101</th>\n",
       "                        <td id=\"T_a793a_row1_col0\" class=\"data row1 col0\" >20</td>\n",
       "                        <td id=\"T_a793a_row1_col1\" class=\"data row1 col1\" >Japan</td>\n",
       "                        <td id=\"T_a793a_row1_col2\" class=\"data row1 col2\" >200</td>\n",
       "                        <td id=\"T_a793a_row1_col3\" class=\"data row1 col3\" >Tokyo</td>\n",
       "            </tr>\n",
       "            <tr>\n",
       "                        <th id=\"T_a793a_level0_row2\" class=\"row_heading level0 row2\" >102</th>\n",
       "                        <td id=\"T_a793a_row2_col0\" class=\"data row2 col0\" >30</td>\n",
       "                        <td id=\"T_a793a_row2_col1\" class=\"data row2 col1\" >Germany</td>\n",
       "                        <td id=\"T_a793a_row2_col2\" class=\"data row2 col2\" >300</td>\n",
       "                        <td id=\"T_a793a_row2_col3\" class=\"data row2 col3\" >Brussles</td>\n",
       "            </tr>\n",
       "    </tbody></table>"
      ],
      "text/plain": [
       "<pandas.io.formats.style.Styler at 0x7fb15dd62d90>"
      ]
     },
     "execution_count": 17,
     "metadata": {},
     "output_type": "execute_result"
    }
   ],
   "source": [
    "df_str = _style_cols(df)\n",
    "\n",
    "display(df)\n",
    "display(df_str)\n",
    "\n",
    "print(df.shape)\n",
    "print(df_str.shape)\n",
    "\n",
    "df_style = df.style.apply(_style_cols, axis=None,cols=1)\n",
    "df_style"
   ]
  },
  {
   "cell_type": "code",
   "execution_count": 18,
   "id": "740b787f",
   "metadata": {
    "ExecuteTime": {
     "end_time": "2021-08-04T21:18:32.659400Z",
     "start_time": "2021-08-04T21:18:32.641454Z"
    }
   },
   "outputs": [
    {
     "data": {
      "text/html": [
       "<style  type=\"text/css\" >\n",
       "#T_94ff7_row0_col0,#T_94ff7_row1_col0,#T_94ff7_row2_col0{\n",
       "            background-color:  salmon;\n",
       "        }</style><table id=\"T_94ff7_\" ><thead>    <tr>        <th class=\"blank level0\" ></th>        <th class=\"col_heading level0 col0\" >A</th>        <th class=\"col_heading level0 col1\" >B</th>        <th class=\"col_heading level0 col2\" >C</th>        <th class=\"col_heading level0 col3\" >D</th>    </tr></thead><tbody>\n",
       "                <tr>\n",
       "                        <th id=\"T_94ff7_level0_row0\" class=\"row_heading level0 row0\" >100</th>\n",
       "                        <td id=\"T_94ff7_row0_col0\" class=\"data row0 col0\" >10</td>\n",
       "                        <td id=\"T_94ff7_row0_col1\" class=\"data row0 col1\" >USA</td>\n",
       "                        <td id=\"T_94ff7_row0_col2\" class=\"data row0 col2\" >100</td>\n",
       "                        <td id=\"T_94ff7_row0_col3\" class=\"data row0 col3\" >Washington</td>\n",
       "            </tr>\n",
       "            <tr>\n",
       "                        <th id=\"T_94ff7_level0_row1\" class=\"row_heading level0 row1\" >101</th>\n",
       "                        <td id=\"T_94ff7_row1_col0\" class=\"data row1 col0\" >20</td>\n",
       "                        <td id=\"T_94ff7_row1_col1\" class=\"data row1 col1\" >Japan</td>\n",
       "                        <td id=\"T_94ff7_row1_col2\" class=\"data row1 col2\" >200</td>\n",
       "                        <td id=\"T_94ff7_row1_col3\" class=\"data row1 col3\" >Tokyo</td>\n",
       "            </tr>\n",
       "            <tr>\n",
       "                        <th id=\"T_94ff7_level0_row2\" class=\"row_heading level0 row2\" >102</th>\n",
       "                        <td id=\"T_94ff7_row2_col0\" class=\"data row2 col0\" >30</td>\n",
       "                        <td id=\"T_94ff7_row2_col1\" class=\"data row2 col1\" >Germany</td>\n",
       "                        <td id=\"T_94ff7_row2_col2\" class=\"data row2 col2\" >300</td>\n",
       "                        <td id=\"T_94ff7_row2_col3\" class=\"data row2 col3\" >Brussles</td>\n",
       "            </tr>\n",
       "    </tbody></table>"
      ],
      "text/plain": [
       "<pandas.io.formats.style.Styler at 0x7fb15dd62b80>"
      ]
     },
     "execution_count": 18,
     "metadata": {},
     "output_type": "execute_result"
    }
   ],
   "source": [
    "bp.style_cols(df,0)"
   ]
  },
  {
   "cell_type": "code",
   "execution_count": 19,
   "id": "fbba28b8",
   "metadata": {
    "ExecuteTime": {
     "end_time": "2021-08-04T21:18:32.686922Z",
     "start_time": "2021-08-04T21:18:32.665530Z"
    }
   },
   "outputs": [
    {
     "data": {
      "text/html": [
       "<style  type=\"text/css\" >\n",
       "#T_71b88_row0_col1,#T_71b88_row1_col1,#T_71b88_row2_col1{\n",
       "            background-color:  salmon;\n",
       "        }</style><table id=\"T_71b88_\" ><thead>    <tr>        <th class=\"blank level0\" ></th>        <th class=\"col_heading level0 col0\" >A</th>        <th class=\"col_heading level0 col1\" >B</th>        <th class=\"col_heading level0 col2\" >C</th>        <th class=\"col_heading level0 col3\" >D</th>    </tr></thead><tbody>\n",
       "                <tr>\n",
       "                        <th id=\"T_71b88_level0_row0\" class=\"row_heading level0 row0\" >100</th>\n",
       "                        <td id=\"T_71b88_row0_col0\" class=\"data row0 col0\" >10</td>\n",
       "                        <td id=\"T_71b88_row0_col1\" class=\"data row0 col1\" >USA</td>\n",
       "                        <td id=\"T_71b88_row0_col2\" class=\"data row0 col2\" >100</td>\n",
       "                        <td id=\"T_71b88_row0_col3\" class=\"data row0 col3\" >Washington</td>\n",
       "            </tr>\n",
       "            <tr>\n",
       "                        <th id=\"T_71b88_level0_row1\" class=\"row_heading level0 row1\" >101</th>\n",
       "                        <td id=\"T_71b88_row1_col0\" class=\"data row1 col0\" >20</td>\n",
       "                        <td id=\"T_71b88_row1_col1\" class=\"data row1 col1\" >Japan</td>\n",
       "                        <td id=\"T_71b88_row1_col2\" class=\"data row1 col2\" >200</td>\n",
       "                        <td id=\"T_71b88_row1_col3\" class=\"data row1 col3\" >Tokyo</td>\n",
       "            </tr>\n",
       "            <tr>\n",
       "                        <th id=\"T_71b88_level0_row2\" class=\"row_heading level0 row2\" >102</th>\n",
       "                        <td id=\"T_71b88_row2_col0\" class=\"data row2 col0\" >30</td>\n",
       "                        <td id=\"T_71b88_row2_col1\" class=\"data row2 col1\" >Germany</td>\n",
       "                        <td id=\"T_71b88_row2_col2\" class=\"data row2 col2\" >300</td>\n",
       "                        <td id=\"T_71b88_row2_col3\" class=\"data row2 col3\" >Brussles</td>\n",
       "            </tr>\n",
       "    </tbody></table>"
      ],
      "text/plain": [
       "<pandas.io.formats.style.Styler at 0x7fb15dd62c40>"
      ]
     },
     "execution_count": 19,
     "metadata": {},
     "output_type": "execute_result"
    }
   ],
   "source": [
    "bp.style_cols(df,1)"
   ]
  },
  {
   "cell_type": "code",
   "execution_count": 20,
   "id": "0876eab8",
   "metadata": {
    "ExecuteTime": {
     "end_time": "2021-08-04T21:18:32.711967Z",
     "start_time": "2021-08-04T21:18:32.694684Z"
    }
   },
   "outputs": [
    {
     "data": {
      "text/html": [
       "<style  type=\"text/css\" >\n",
       "#T_d5fbe_row0_col2,#T_d5fbe_row1_col2,#T_d5fbe_row2_col2{\n",
       "            background-color:  salmon;\n",
       "        }</style><table id=\"T_d5fbe_\" ><thead>    <tr>        <th class=\"blank level0\" ></th>        <th class=\"col_heading level0 col0\" >A</th>        <th class=\"col_heading level0 col1\" >B</th>        <th class=\"col_heading level0 col2\" >C</th>        <th class=\"col_heading level0 col3\" >D</th>    </tr></thead><tbody>\n",
       "                <tr>\n",
       "                        <th id=\"T_d5fbe_level0_row0\" class=\"row_heading level0 row0\" >100</th>\n",
       "                        <td id=\"T_d5fbe_row0_col0\" class=\"data row0 col0\" >10</td>\n",
       "                        <td id=\"T_d5fbe_row0_col1\" class=\"data row0 col1\" >USA</td>\n",
       "                        <td id=\"T_d5fbe_row0_col2\" class=\"data row0 col2\" >100</td>\n",
       "                        <td id=\"T_d5fbe_row0_col3\" class=\"data row0 col3\" >Washington</td>\n",
       "            </tr>\n",
       "            <tr>\n",
       "                        <th id=\"T_d5fbe_level0_row1\" class=\"row_heading level0 row1\" >101</th>\n",
       "                        <td id=\"T_d5fbe_row1_col0\" class=\"data row1 col0\" >20</td>\n",
       "                        <td id=\"T_d5fbe_row1_col1\" class=\"data row1 col1\" >Japan</td>\n",
       "                        <td id=\"T_d5fbe_row1_col2\" class=\"data row1 col2\" >200</td>\n",
       "                        <td id=\"T_d5fbe_row1_col3\" class=\"data row1 col3\" >Tokyo</td>\n",
       "            </tr>\n",
       "            <tr>\n",
       "                        <th id=\"T_d5fbe_level0_row2\" class=\"row_heading level0 row2\" >102</th>\n",
       "                        <td id=\"T_d5fbe_row2_col0\" class=\"data row2 col0\" >30</td>\n",
       "                        <td id=\"T_d5fbe_row2_col1\" class=\"data row2 col1\" >Germany</td>\n",
       "                        <td id=\"T_d5fbe_row2_col2\" class=\"data row2 col2\" >300</td>\n",
       "                        <td id=\"T_d5fbe_row2_col3\" class=\"data row2 col3\" >Brussles</td>\n",
       "            </tr>\n",
       "    </tbody></table>"
      ],
      "text/plain": [
       "<pandas.io.formats.style.Styler at 0x7fb15dd71d30>"
      ]
     },
     "execution_count": 20,
     "metadata": {},
     "output_type": "execute_result"
    }
   ],
   "source": [
    "bp.style_cols(df,'C')"
   ]
  },
  {
   "cell_type": "markdown",
   "id": "3c717a3e",
   "metadata": {},
   "source": [
    "# style diagonal"
   ]
  },
  {
   "cell_type": "code",
   "execution_count": 21,
   "id": "895efbd0",
   "metadata": {
    "ExecuteTime": {
     "end_time": "2021-08-04T21:18:32.742275Z",
     "start_time": "2021-08-04T21:18:32.720504Z"
    }
   },
   "outputs": [
    {
     "data": {
      "text/html": [
       "<style  type=\"text/css\" >\n",
       "#T_d8df6_row0_col0,#T_d8df6_row1_col1,#T_d8df6_row2_col2{\n",
       "            background-color:  lightgreen;\n",
       "        }#T_d8df6_row0_col2,#T_d8df6_row2_col0{\n",
       "            background-color:  salmon;\n",
       "        }</style><table id=\"T_d8df6_\" ><thead>    <tr>        <th class=\"blank level0\" ></th>        <th class=\"col_heading level0 col0\" >A</th>        <th class=\"col_heading level0 col1\" >B</th>        <th class=\"col_heading level0 col2\" >C</th>        <th class=\"col_heading level0 col3\" >D</th>    </tr></thead><tbody>\n",
       "                <tr>\n",
       "                        <th id=\"T_d8df6_level0_row0\" class=\"row_heading level0 row0\" >100</th>\n",
       "                        <td id=\"T_d8df6_row0_col0\" class=\"data row0 col0\" >10</td>\n",
       "                        <td id=\"T_d8df6_row0_col1\" class=\"data row0 col1\" >USA</td>\n",
       "                        <td id=\"T_d8df6_row0_col2\" class=\"data row0 col2\" >100</td>\n",
       "                        <td id=\"T_d8df6_row0_col3\" class=\"data row0 col3\" >Washington</td>\n",
       "            </tr>\n",
       "            <tr>\n",
       "                        <th id=\"T_d8df6_level0_row1\" class=\"row_heading level0 row1\" >101</th>\n",
       "                        <td id=\"T_d8df6_row1_col0\" class=\"data row1 col0\" >20</td>\n",
       "                        <td id=\"T_d8df6_row1_col1\" class=\"data row1 col1\" >Japan</td>\n",
       "                        <td id=\"T_d8df6_row1_col2\" class=\"data row1 col2\" >200</td>\n",
       "                        <td id=\"T_d8df6_row1_col3\" class=\"data row1 col3\" >Tokyo</td>\n",
       "            </tr>\n",
       "            <tr>\n",
       "                        <th id=\"T_d8df6_level0_row2\" class=\"row_heading level0 row2\" >102</th>\n",
       "                        <td id=\"T_d8df6_row2_col0\" class=\"data row2 col0\" >30</td>\n",
       "                        <td id=\"T_d8df6_row2_col1\" class=\"data row2 col1\" >Germany</td>\n",
       "                        <td id=\"T_d8df6_row2_col2\" class=\"data row2 col2\" >300</td>\n",
       "                        <td id=\"T_d8df6_row2_col3\" class=\"data row2 col3\" >Brussles</td>\n",
       "            </tr>\n",
       "    </tbody></table>"
      ],
      "text/plain": [
       "<pandas.io.formats.style.Styler at 0x7fb15dd716a0>"
      ]
     },
     "execution_count": 21,
     "metadata": {},
     "output_type": "execute_result"
    }
   ],
   "source": [
    "bp.style_diags(df)"
   ]
  },
  {
   "cell_type": "code",
   "execution_count": 22,
   "id": "78c4b7ef",
   "metadata": {
    "ExecuteTime": {
     "end_time": "2021-08-04T21:18:32.785076Z",
     "start_time": "2021-08-04T21:18:32.749155Z"
    }
   },
   "outputs": [
    {
     "data": {
      "text/html": [
       "<style  type=\"text/css\" >\n",
       "#T_a78e9_row0_col2,#T_a78e9_row1_col1,#T_a78e9_row2_col0{\n",
       "            background-color:  salmon;\n",
       "        }</style><table id=\"T_a78e9_\" ><thead>    <tr>        <th class=\"blank level0\" ></th>        <th class=\"col_heading level0 col0\" >A</th>        <th class=\"col_heading level0 col1\" >B</th>        <th class=\"col_heading level0 col2\" >C</th>        <th class=\"col_heading level0 col3\" >D</th>    </tr></thead><tbody>\n",
       "                <tr>\n",
       "                        <th id=\"T_a78e9_level0_row0\" class=\"row_heading level0 row0\" >100</th>\n",
       "                        <td id=\"T_a78e9_row0_col0\" class=\"data row0 col0\" >10</td>\n",
       "                        <td id=\"T_a78e9_row0_col1\" class=\"data row0 col1\" >USA</td>\n",
       "                        <td id=\"T_a78e9_row0_col2\" class=\"data row0 col2\" >100</td>\n",
       "                        <td id=\"T_a78e9_row0_col3\" class=\"data row0 col3\" >Washington</td>\n",
       "            </tr>\n",
       "            <tr>\n",
       "                        <th id=\"T_a78e9_level0_row1\" class=\"row_heading level0 row1\" >101</th>\n",
       "                        <td id=\"T_a78e9_row1_col0\" class=\"data row1 col0\" >20</td>\n",
       "                        <td id=\"T_a78e9_row1_col1\" class=\"data row1 col1\" >Japan</td>\n",
       "                        <td id=\"T_a78e9_row1_col2\" class=\"data row1 col2\" >200</td>\n",
       "                        <td id=\"T_a78e9_row1_col3\" class=\"data row1 col3\" >Tokyo</td>\n",
       "            </tr>\n",
       "            <tr>\n",
       "                        <th id=\"T_a78e9_level0_row2\" class=\"row_heading level0 row2\" >102</th>\n",
       "                        <td id=\"T_a78e9_row2_col0\" class=\"data row2 col0\" >30</td>\n",
       "                        <td id=\"T_a78e9_row2_col1\" class=\"data row2 col1\" >Germany</td>\n",
       "                        <td id=\"T_a78e9_row2_col2\" class=\"data row2 col2\" >300</td>\n",
       "                        <td id=\"T_a78e9_row2_col3\" class=\"data row2 col3\" >Brussles</td>\n",
       "            </tr>\n",
       "    </tbody></table>"
      ],
      "text/plain": [
       "<pandas.io.formats.style.Styler at 0x7fb15dd81340>"
      ]
     },
     "execution_count": 22,
     "metadata": {},
     "output_type": "execute_result"
    }
   ],
   "source": [
    "bp.style_diags(df,diag='second')"
   ]
  },
  {
   "cell_type": "markdown",
   "id": "19802169",
   "metadata": {
    "ExecuteTime": {
     "end_time": "2021-08-04T18:32:37.120655Z",
     "start_time": "2021-08-04T18:32:37.048938Z"
    }
   },
   "source": [
    "# style rows and columns"
   ]
  },
  {
   "cell_type": "code",
   "execution_count": 23,
   "id": "a66fd8f5",
   "metadata": {
    "ExecuteTime": {
     "end_time": "2021-08-04T21:18:32.823630Z",
     "start_time": "2021-08-04T21:18:32.801493Z"
    }
   },
   "outputs": [
    {
     "data": {
      "text/html": [
       "<div>\n",
       "<style scoped>\n",
       "    .dataframe tbody tr th:only-of-type {\n",
       "        vertical-align: middle;\n",
       "    }\n",
       "\n",
       "    .dataframe tbody tr th {\n",
       "        vertical-align: top;\n",
       "    }\n",
       "\n",
       "    .dataframe thead th {\n",
       "        text-align: right;\n",
       "    }\n",
       "</style>\n",
       "<table border=\"1\" class=\"dataframe\">\n",
       "  <thead>\n",
       "    <tr style=\"text-align: right;\">\n",
       "      <th></th>\n",
       "      <th>A</th>\n",
       "      <th>B</th>\n",
       "      <th>C</th>\n",
       "      <th>D</th>\n",
       "    </tr>\n",
       "  </thead>\n",
       "  <tbody>\n",
       "    <tr>\n",
       "      <th>100</th>\n",
       "      <td>10</td>\n",
       "      <td>USA</td>\n",
       "      <td>100</td>\n",
       "      <td>Washington</td>\n",
       "    </tr>\n",
       "    <tr>\n",
       "      <th>101</th>\n",
       "      <td>20</td>\n",
       "      <td>Japan</td>\n",
       "      <td>200</td>\n",
       "      <td>Tokyo</td>\n",
       "    </tr>\n",
       "    <tr>\n",
       "      <th>102</th>\n",
       "      <td>30</td>\n",
       "      <td>Germany</td>\n",
       "      <td>300</td>\n",
       "      <td>Brussles</td>\n",
       "    </tr>\n",
       "  </tbody>\n",
       "</table>\n",
       "</div>"
      ],
      "text/plain": [
       "      A        B    C           D\n",
       "100  10      USA  100  Washington\n",
       "101  20    Japan  200       Tokyo\n",
       "102  30  Germany  300    Brussles"
      ]
     },
     "execution_count": 23,
     "metadata": {},
     "output_type": "execute_result"
    }
   ],
   "source": [
    "df"
   ]
  },
  {
   "cell_type": "code",
   "execution_count": 24,
   "id": "dd3431ef",
   "metadata": {
    "ExecuteTime": {
     "end_time": "2021-08-04T21:18:32.893514Z",
     "start_time": "2021-08-04T21:18:32.863070Z"
    }
   },
   "outputs": [
    {
     "data": {
      "text/html": [
       "<style  type=\"text/css\" >\n",
       "#T_d428c_row0_col0,#T_d428c_row0_col1,#T_d428c_row0_col3{\n",
       "            background-color:  lightblue;\n",
       "        }#T_d428c_row0_col2{\n",
       "            background-color:  lightblue;\n",
       "            background-color:  salmon;\n",
       "        }#T_d428c_row1_col2,#T_d428c_row2_col2{\n",
       "            background-color:  salmon;\n",
       "        }</style><table id=\"T_d428c_\" ><thead>    <tr>        <th class=\"blank level0\" ></th>        <th class=\"col_heading level0 col0\" >A</th>        <th class=\"col_heading level0 col1\" >B</th>        <th class=\"col_heading level0 col2\" >C</th>        <th class=\"col_heading level0 col3\" >D</th>    </tr></thead><tbody>\n",
       "                <tr>\n",
       "                        <th id=\"T_d428c_level0_row0\" class=\"row_heading level0 row0\" >100</th>\n",
       "                        <td id=\"T_d428c_row0_col0\" class=\"data row0 col0\" >10</td>\n",
       "                        <td id=\"T_d428c_row0_col1\" class=\"data row0 col1\" >USA</td>\n",
       "                        <td id=\"T_d428c_row0_col2\" class=\"data row0 col2\" >100</td>\n",
       "                        <td id=\"T_d428c_row0_col3\" class=\"data row0 col3\" >Washington</td>\n",
       "            </tr>\n",
       "            <tr>\n",
       "                        <th id=\"T_d428c_level0_row1\" class=\"row_heading level0 row1\" >101</th>\n",
       "                        <td id=\"T_d428c_row1_col0\" class=\"data row1 col0\" >20</td>\n",
       "                        <td id=\"T_d428c_row1_col1\" class=\"data row1 col1\" >Japan</td>\n",
       "                        <td id=\"T_d428c_row1_col2\" class=\"data row1 col2\" >200</td>\n",
       "                        <td id=\"T_d428c_row1_col3\" class=\"data row1 col3\" >Tokyo</td>\n",
       "            </tr>\n",
       "            <tr>\n",
       "                        <th id=\"T_d428c_level0_row2\" class=\"row_heading level0 row2\" >102</th>\n",
       "                        <td id=\"T_d428c_row2_col0\" class=\"data row2 col0\" >30</td>\n",
       "                        <td id=\"T_d428c_row2_col1\" class=\"data row2 col1\" >Germany</td>\n",
       "                        <td id=\"T_d428c_row2_col2\" class=\"data row2 col2\" >300</td>\n",
       "                        <td id=\"T_d428c_row2_col3\" class=\"data row2 col3\" >Brussles</td>\n",
       "            </tr>\n",
       "    </tbody></table>"
      ],
      "text/plain": [
       "<pandas.io.formats.style.Styler at 0x7fb15dab24c0>"
      ]
     },
     "execution_count": 24,
     "metadata": {},
     "output_type": "execute_result"
    }
   ],
   "source": [
    "bp.style_rowscols(df,rows=100,cols=2)"
   ]
  },
  {
   "cell_type": "markdown",
   "id": "d0e3ca18",
   "metadata": {},
   "source": [
    "# style rows, columns and diagonals"
   ]
  },
  {
   "cell_type": "code",
   "execution_count": 25,
   "id": "32e956f9",
   "metadata": {
    "ExecuteTime": {
     "end_time": "2021-08-04T21:18:32.912438Z",
     "start_time": "2021-08-04T21:18:32.896496Z"
    }
   },
   "outputs": [],
   "source": [
    "def _style_rows(\n",
    "    df,\n",
    "    rows=None,\n",
    "    colors='lightblue'\n",
    "    ):\n",
    "    # if df is Styler, make it dataframe\n",
    "    if isinstance(df,pd.io.formats.style.Styler):\n",
    "        df = df.data\n",
    "\n",
    "    # if rows is None, make it first index\n",
    "    if rows is None:\n",
    "        rows = [df.index[0]]\n",
    "\n",
    "    # if cols is integer or str, make it list\n",
    "    if type(rows) in [int,str]:\n",
    "        rows = [rows]\n",
    "\n",
    "    # if index name is not integer, use integer to get nth index\n",
    "    if not isinstance(df.index[0],int):\n",
    "        if isinstance(rows[0], int):\n",
    "            rows = list(df.index[rows])\n",
    "\n",
    "    # create colors\n",
    "    if colors is None:\n",
    "        colors = ['salmon'] * len(rows)\n",
    "\n",
    "    # if color is string, make list\n",
    "    if isinstance(colors,str):\n",
    "        colors = [colors]*len(rows)\n",
    "\n",
    "    df_str = pd.DataFrame(\"\", index=df.index, columns=df.columns)\n",
    "\n",
    "    for row,color in zip(rows,colors):\n",
    "        attr = f\"background-color: {color}\"\n",
    "        if row not in df.index:\n",
    "            print(f\"ERROR: '{row}' is not in Index.\")\n",
    "        if row in df.index:\n",
    "            df_str.loc[row,:] = attr\n",
    "    return df_str"
   ]
  },
  {
   "cell_type": "code",
   "execution_count": 26,
   "id": "f6c38850",
   "metadata": {
    "ExecuteTime": {
     "end_time": "2021-08-04T21:18:32.934196Z",
     "start_time": "2021-08-04T21:18:32.921285Z"
    }
   },
   "outputs": [],
   "source": [
    "def _style_cols(\n",
    "    df,\n",
    "    cols=None,\n",
    "    colors='salmon'\n",
    "    ):\n",
    "    # if df is Styler, make it dataframe\n",
    "    if isinstance(df,pd.io.formats.style.Styler):\n",
    "        df = df.data\n",
    "\n",
    "    # if cols is None, make it first column\n",
    "    if cols is None:\n",
    "        cols = [df.columns[0]]\n",
    "\n",
    "    # if cols is integer or str, make it list\n",
    "    if type(cols) in [int,str]:\n",
    "        cols = [cols]\n",
    "\n",
    "    # if column name is not integer, use integer to get nth column\n",
    "    if not isinstance(df.columns[0],int):\n",
    "        if isinstance(cols[0], int):\n",
    "            cols = list(df.columns[cols])\n",
    "\n",
    "    # create colors\n",
    "    if colors is None:\n",
    "        colors = ['salmon'] * len(cols)\n",
    "\n",
    "    # if color is string, make list\n",
    "    if isinstance(colors,str):\n",
    "        colors = [colors]*len(cols)\n",
    "\n",
    "    df_str = pd.DataFrame(\"\", index=df.index, columns=df.columns)\n",
    "\n",
    "    for col,color in zip(cols,colors):\n",
    "        attr = f\"background-color: {color}\"\n",
    "        if col not in df.columns:\n",
    "            print(f\"ERROR: '{col}' is not in Columns.\")\n",
    "        if col in df.columns:\n",
    "            df_str.loc[:, col] = attr\n",
    "    return df_str"
   ]
  },
  {
   "cell_type": "code",
   "execution_count": 27,
   "id": "b1dc6aa0",
   "metadata": {
    "ExecuteTime": {
     "end_time": "2021-08-04T21:18:32.943490Z",
     "start_time": "2021-08-04T21:18:32.937153Z"
    }
   },
   "outputs": [],
   "source": [
    "def _style_diags(\n",
    "    df,\n",
    "    diag='both',\n",
    "    c1='lightgreen',\n",
    "    c2='salmon'\n",
    "    ):\n",
    "    # colors\n",
    "    attr1 = f'background-color: {c1}'\n",
    "    attr2 = f'background-color: {c2}'\n",
    "\n",
    "    # empty array\n",
    "    arr_str = np.full(df.shape, '', dtype='<U32')\n",
    "\n",
    "    # main diagonal\n",
    "    if diag==0 or str(diag).startswith('f'):\n",
    "        np.fill_diagonal(arr_str, attr1)\n",
    "\n",
    "    # second diagonal\n",
    "    if diag==1 or str(diag).startswith('s'):\n",
    "        np.fill_diagonal(np.flipud(arr_str), attr2)\n",
    "\n",
    "    # both\n",
    "    if diag==2 or diag=='both':\n",
    "        np.fill_diagonal(np.flipud(arr_str), attr2)\n",
    "        np.fill_diagonal(arr_str, attr1)\n",
    "\n",
    "    # df style\n",
    "    df_str = pd.DataFrame(arr_str, index=df.index, columns=df.columns)\n",
    "\n",
    "    return df_str"
   ]
  },
  {
   "cell_type": "code",
   "execution_count": 28,
   "id": "00425cd0",
   "metadata": {
    "ExecuteTime": {
     "end_time": "2021-08-04T21:18:32.965460Z",
     "start_time": "2021-08-04T21:18:32.945948Z"
    }
   },
   "outputs": [
    {
     "data": {
      "text/html": [
       "<style  type=\"text/css\" >\n",
       "#T_be944_row0_col0{\n",
       "            background-color:  lightblue;\n",
       "            background-color:  salmon;\n",
       "            background-color:  lightgreen;\n",
       "        }#T_be944_row0_col1,#T_be944_row0_col2,#T_be944_row0_col3{\n",
       "            background-color:  lightblue;\n",
       "        }#T_be944_row1_col0,#T_be944_row2_col0{\n",
       "            background-color:  salmon;\n",
       "        }#T_be944_row1_col1,#T_be944_row2_col2{\n",
       "            background-color:  lightgreen;\n",
       "        }</style><table id=\"T_be944_\" ><thead>    <tr>        <th class=\"blank level0\" ></th>        <th class=\"col_heading level0 col0\" >A</th>        <th class=\"col_heading level0 col1\" >B</th>        <th class=\"col_heading level0 col2\" >C</th>        <th class=\"col_heading level0 col3\" >D</th>    </tr></thead><tbody>\n",
       "                <tr>\n",
       "                        <th id=\"T_be944_level0_row0\" class=\"row_heading level0 row0\" >100</th>\n",
       "                        <td id=\"T_be944_row0_col0\" class=\"data row0 col0\" >10</td>\n",
       "                        <td id=\"T_be944_row0_col1\" class=\"data row0 col1\" >USA</td>\n",
       "                        <td id=\"T_be944_row0_col2\" class=\"data row0 col2\" >100</td>\n",
       "                        <td id=\"T_be944_row0_col3\" class=\"data row0 col3\" >Washington</td>\n",
       "            </tr>\n",
       "            <tr>\n",
       "                        <th id=\"T_be944_level0_row1\" class=\"row_heading level0 row1\" >101</th>\n",
       "                        <td id=\"T_be944_row1_col0\" class=\"data row1 col0\" >20</td>\n",
       "                        <td id=\"T_be944_row1_col1\" class=\"data row1 col1\" >Japan</td>\n",
       "                        <td id=\"T_be944_row1_col2\" class=\"data row1 col2\" >200</td>\n",
       "                        <td id=\"T_be944_row1_col3\" class=\"data row1 col3\" >Tokyo</td>\n",
       "            </tr>\n",
       "            <tr>\n",
       "                        <th id=\"T_be944_level0_row2\" class=\"row_heading level0 row2\" >102</th>\n",
       "                        <td id=\"T_be944_row2_col0\" class=\"data row2 col0\" >30</td>\n",
       "                        <td id=\"T_be944_row2_col1\" class=\"data row2 col1\" >Germany</td>\n",
       "                        <td id=\"T_be944_row2_col2\" class=\"data row2 col2\" >300</td>\n",
       "                        <td id=\"T_be944_row2_col3\" class=\"data row2 col3\" >Brussles</td>\n",
       "            </tr>\n",
       "    </tbody></table>"
      ],
      "text/plain": [
       "<pandas.io.formats.style.Styler at 0x7fb15dd712b0>"
      ]
     },
     "execution_count": 28,
     "metadata": {},
     "output_type": "execute_result"
    }
   ],
   "source": [
    "c1 = 'lightblue'\n",
    "c2 = 'salmon'\n",
    "c3 = 'yellow'\n",
    "rows = 100\n",
    "cols = 0\n",
    "diag = 0\n",
    "\n",
    "\n",
    "(df.style\n",
    "    .apply(_style_rows, axis=None, colors=c1, rows=rows)\n",
    "    .apply(_style_cols, axis=None, colors=c2, cols=cols)\n",
    "    .apply(_style_diags, axis=None, diag=0)\n",
    ")"
   ]
  },
  {
   "cell_type": "code",
   "execution_count": 29,
   "id": "1483177a",
   "metadata": {
    "ExecuteTime": {
     "end_time": "2021-08-04T21:18:33.013644Z",
     "start_time": "2021-08-04T21:18:32.970510Z"
    }
   },
   "outputs": [
    {
     "name": "stdout",
     "output_type": "stream",
     "text": [
      "ERROR: '-1' is not in Index.\n"
     ]
    },
    {
     "data": {
      "text/html": [
       "<style  type=\"text/css\" >\n",
       "#T_7560d_row0_col0,#T_7560d_row0_col2,#T_7560d_row1_col1,#T_7560d_row2_col0,#T_7560d_row2_col2{\n",
       "            background-color:  khaki;\n",
       "        }#T_7560d_row0_col3,#T_7560d_row1_col3,#T_7560d_row2_col3{\n",
       "            background-color:  salmon;\n",
       "        }</style><table id=\"T_7560d_\" ><thead>    <tr>        <th class=\"blank level0\" ></th>        <th class=\"col_heading level0 col0\" >A</th>        <th class=\"col_heading level0 col1\" >B</th>        <th class=\"col_heading level0 col2\" >C</th>        <th class=\"col_heading level0 col3\" >D</th>    </tr></thead><tbody>\n",
       "                <tr>\n",
       "                        <th id=\"T_7560d_level0_row0\" class=\"row_heading level0 row0\" >100</th>\n",
       "                        <td id=\"T_7560d_row0_col0\" class=\"data row0 col0\" >10</td>\n",
       "                        <td id=\"T_7560d_row0_col1\" class=\"data row0 col1\" >USA</td>\n",
       "                        <td id=\"T_7560d_row0_col2\" class=\"data row0 col2\" >100</td>\n",
       "                        <td id=\"T_7560d_row0_col3\" class=\"data row0 col3\" >Washington</td>\n",
       "            </tr>\n",
       "            <tr>\n",
       "                        <th id=\"T_7560d_level0_row1\" class=\"row_heading level0 row1\" >101</th>\n",
       "                        <td id=\"T_7560d_row1_col0\" class=\"data row1 col0\" >20</td>\n",
       "                        <td id=\"T_7560d_row1_col1\" class=\"data row1 col1\" >Japan</td>\n",
       "                        <td id=\"T_7560d_row1_col2\" class=\"data row1 col2\" >200</td>\n",
       "                        <td id=\"T_7560d_row1_col3\" class=\"data row1 col3\" >Tokyo</td>\n",
       "            </tr>\n",
       "            <tr>\n",
       "                        <th id=\"T_7560d_level0_row2\" class=\"row_heading level0 row2\" >102</th>\n",
       "                        <td id=\"T_7560d_row2_col0\" class=\"data row2 col0\" >30</td>\n",
       "                        <td id=\"T_7560d_row2_col1\" class=\"data row2 col1\" >Germany</td>\n",
       "                        <td id=\"T_7560d_row2_col2\" class=\"data row2 col2\" >300</td>\n",
       "                        <td id=\"T_7560d_row2_col3\" class=\"data row2 col3\" >Brussles</td>\n",
       "            </tr>\n",
       "    </tbody></table>"
      ],
      "text/plain": [
       "<pandas.io.formats.style.Styler at 0x7fb15dab2790>"
      ]
     },
     "execution_count": 29,
     "metadata": {},
     "output_type": "execute_result"
    }
   ],
   "source": [
    "bp.style_rcd(df)"
   ]
  },
  {
   "cell_type": "code",
   "execution_count": 30,
   "id": "ec76311e",
   "metadata": {
    "ExecuteTime": {
     "end_time": "2021-08-04T21:18:33.040145Z",
     "start_time": "2021-08-04T21:18:33.017685Z"
    }
   },
   "outputs": [
    {
     "data": {
      "text/html": [
       "<style  type=\"text/css\" >\n",
       "#T_5fd22_row0_col0,#T_5fd22_row1_col1{\n",
       "            background-color:  khaki;\n",
       "        }#T_5fd22_row0_col3,#T_5fd22_row1_col3{\n",
       "            background-color:  salmon;\n",
       "        }#T_5fd22_row2_col0,#T_5fd22_row2_col1{\n",
       "            background-color:  lightblue;\n",
       "        }#T_5fd22_row2_col2{\n",
       "            background-color:  lightblue;\n",
       "            background-color:  khaki;\n",
       "        }#T_5fd22_row2_col3{\n",
       "            background-color:  lightblue;\n",
       "            background-color:  salmon;\n",
       "        }</style><table id=\"T_5fd22_\" ><thead>    <tr>        <th class=\"blank level0\" ></th>        <th class=\"col_heading level0 col0\" >A</th>        <th class=\"col_heading level0 col1\" >B</th>        <th class=\"col_heading level0 col2\" >C</th>        <th class=\"col_heading level0 col3\" >D</th>    </tr></thead><tbody>\n",
       "                <tr>\n",
       "                        <th id=\"T_5fd22_level0_row0\" class=\"row_heading level0 row0\" >a</th>\n",
       "                        <td id=\"T_5fd22_row0_col0\" class=\"data row0 col0\" >10</td>\n",
       "                        <td id=\"T_5fd22_row0_col1\" class=\"data row0 col1\" >USA</td>\n",
       "                        <td id=\"T_5fd22_row0_col2\" class=\"data row0 col2\" >100</td>\n",
       "                        <td id=\"T_5fd22_row0_col3\" class=\"data row0 col3\" >Washington</td>\n",
       "            </tr>\n",
       "            <tr>\n",
       "                        <th id=\"T_5fd22_level0_row1\" class=\"row_heading level0 row1\" >b</th>\n",
       "                        <td id=\"T_5fd22_row1_col0\" class=\"data row1 col0\" >20</td>\n",
       "                        <td id=\"T_5fd22_row1_col1\" class=\"data row1 col1\" >Japan</td>\n",
       "                        <td id=\"T_5fd22_row1_col2\" class=\"data row1 col2\" >200</td>\n",
       "                        <td id=\"T_5fd22_row1_col3\" class=\"data row1 col3\" >Tokyo</td>\n",
       "            </tr>\n",
       "            <tr>\n",
       "                        <th id=\"T_5fd22_level0_row2\" class=\"row_heading level0 row2\" >c</th>\n",
       "                        <td id=\"T_5fd22_row2_col0\" class=\"data row2 col0\" >30</td>\n",
       "                        <td id=\"T_5fd22_row2_col1\" class=\"data row2 col1\" >Germany</td>\n",
       "                        <td id=\"T_5fd22_row2_col2\" class=\"data row2 col2\" >300</td>\n",
       "                        <td id=\"T_5fd22_row2_col3\" class=\"data row2 col3\" >Brussles</td>\n",
       "            </tr>\n",
       "    </tbody></table>"
      ],
      "text/plain": [
       "<pandas.io.formats.style.Styler at 0x7fb15757b640>"
      ]
     },
     "execution_count": 30,
     "metadata": {},
     "output_type": "execute_result"
    }
   ],
   "source": [
    "bp.style_rcd(df2,diag=0)"
   ]
  },
  {
   "cell_type": "markdown",
   "id": "be39c49b",
   "metadata": {},
   "source": [
    "# style cell using value"
   ]
  },
  {
   "cell_type": "code",
   "execution_count": 31,
   "id": "55818013",
   "metadata": {
    "ExecuteTime": {
     "end_time": "2021-08-04T21:18:33.065511Z",
     "start_time": "2021-08-04T21:18:33.043474Z"
    }
   },
   "outputs": [
    {
     "data": {
      "text/html": [
       "<div>\n",
       "<style scoped>\n",
       "    .dataframe tbody tr th:only-of-type {\n",
       "        vertical-align: middle;\n",
       "    }\n",
       "\n",
       "    .dataframe tbody tr th {\n",
       "        vertical-align: top;\n",
       "    }\n",
       "\n",
       "    .dataframe thead th {\n",
       "        text-align: right;\n",
       "    }\n",
       "</style>\n",
       "<table border=\"1\" class=\"dataframe\">\n",
       "  <thead>\n",
       "    <tr style=\"text-align: right;\">\n",
       "      <th></th>\n",
       "      <th>survived</th>\n",
       "      <th>pclass</th>\n",
       "      <th>sex</th>\n",
       "      <th>age</th>\n",
       "      <th>sibsp</th>\n",
       "      <th>parch</th>\n",
       "      <th>fare</th>\n",
       "      <th>embarked</th>\n",
       "      <th>class</th>\n",
       "      <th>who</th>\n",
       "      <th>adult_male</th>\n",
       "      <th>deck</th>\n",
       "      <th>embark_town</th>\n",
       "      <th>alive</th>\n",
       "      <th>alone</th>\n",
       "    </tr>\n",
       "  </thead>\n",
       "  <tbody>\n",
       "    <tr>\n",
       "      <th>0</th>\n",
       "      <td>0</td>\n",
       "      <td>3</td>\n",
       "      <td>male</td>\n",
       "      <td>22.0</td>\n",
       "      <td>1</td>\n",
       "      <td>0</td>\n",
       "      <td>7.2500</td>\n",
       "      <td>S</td>\n",
       "      <td>Third</td>\n",
       "      <td>man</td>\n",
       "      <td>True</td>\n",
       "      <td>NaN</td>\n",
       "      <td>Southampton</td>\n",
       "      <td>no</td>\n",
       "      <td>False</td>\n",
       "    </tr>\n",
       "    <tr>\n",
       "      <th>1</th>\n",
       "      <td>1</td>\n",
       "      <td>1</td>\n",
       "      <td>female</td>\n",
       "      <td>38.0</td>\n",
       "      <td>1</td>\n",
       "      <td>0</td>\n",
       "      <td>71.2833</td>\n",
       "      <td>C</td>\n",
       "      <td>First</td>\n",
       "      <td>woman</td>\n",
       "      <td>False</td>\n",
       "      <td>C</td>\n",
       "      <td>Cherbourg</td>\n",
       "      <td>yes</td>\n",
       "      <td>False</td>\n",
       "    </tr>\n",
       "    <tr>\n",
       "      <th>2</th>\n",
       "      <td>1</td>\n",
       "      <td>3</td>\n",
       "      <td>female</td>\n",
       "      <td>26.0</td>\n",
       "      <td>0</td>\n",
       "      <td>0</td>\n",
       "      <td>7.9250</td>\n",
       "      <td>S</td>\n",
       "      <td>Third</td>\n",
       "      <td>woman</td>\n",
       "      <td>False</td>\n",
       "      <td>NaN</td>\n",
       "      <td>Southampton</td>\n",
       "      <td>yes</td>\n",
       "      <td>True</td>\n",
       "    </tr>\n",
       "    <tr>\n",
       "      <th>3</th>\n",
       "      <td>1</td>\n",
       "      <td>1</td>\n",
       "      <td>female</td>\n",
       "      <td>35.0</td>\n",
       "      <td>1</td>\n",
       "      <td>0</td>\n",
       "      <td>53.1000</td>\n",
       "      <td>S</td>\n",
       "      <td>First</td>\n",
       "      <td>woman</td>\n",
       "      <td>False</td>\n",
       "      <td>C</td>\n",
       "      <td>Southampton</td>\n",
       "      <td>yes</td>\n",
       "      <td>False</td>\n",
       "    </tr>\n",
       "    <tr>\n",
       "      <th>4</th>\n",
       "      <td>0</td>\n",
       "      <td>3</td>\n",
       "      <td>male</td>\n",
       "      <td>35.0</td>\n",
       "      <td>0</td>\n",
       "      <td>0</td>\n",
       "      <td>8.0500</td>\n",
       "      <td>S</td>\n",
       "      <td>Third</td>\n",
       "      <td>man</td>\n",
       "      <td>True</td>\n",
       "      <td>NaN</td>\n",
       "      <td>Southampton</td>\n",
       "      <td>no</td>\n",
       "      <td>True</td>\n",
       "    </tr>\n",
       "  </tbody>\n",
       "</table>\n",
       "</div>"
      ],
      "text/plain": [
       "   survived  pclass     sex   age  sibsp  parch     fare embarked  class  \\\n",
       "0         0       3    male  22.0      1      0   7.2500        S  Third   \n",
       "1         1       1  female  38.0      1      0  71.2833        C  First   \n",
       "2         1       3  female  26.0      0      0   7.9250        S  Third   \n",
       "3         1       1  female  35.0      1      0  53.1000        S  First   \n",
       "4         0       3    male  35.0      0      0   8.0500        S  Third   \n",
       "\n",
       "     who  adult_male deck  embark_town alive  alone  \n",
       "0    man        True  NaN  Southampton    no  False  \n",
       "1  woman       False    C    Cherbourg   yes  False  \n",
       "2  woman       False  NaN  Southampton   yes   True  \n",
       "3  woman       False    C  Southampton   yes  False  \n",
       "4    man        True  NaN  Southampton    no   True  "
      ]
     },
     "execution_count": 31,
     "metadata": {},
     "output_type": "execute_result"
    }
   ],
   "source": [
    "df = sns.load_dataset('titanic')\n",
    "df1 = df.head()\n",
    "df1"
   ]
  },
  {
   "cell_type": "code",
   "execution_count": 32,
   "id": "83c4d0de",
   "metadata": {
    "ExecuteTime": {
     "end_time": "2021-08-04T21:18:33.106892Z",
     "start_time": "2021-08-04T21:18:33.069825Z"
    }
   },
   "outputs": [
    {
     "data": {
      "text/html": [
       "<style  type=\"text/css\" >\n",
       "#T_e4d82_row0_col1,#T_e4d82_row0_col4,#T_e4d82_row1_col0,#T_e4d82_row1_col1,#T_e4d82_row1_col4,#T_e4d82_row2_col0,#T_e4d82_row2_col1,#T_e4d82_row3_col0,#T_e4d82_row3_col1,#T_e4d82_row3_col4,#T_e4d82_row4_col1{\n",
       "            background:  lightgreen;\n",
       "        }</style><table id=\"T_e4d82_\" ><thead>    <tr>        <th class=\"blank level0\" ></th>        <th class=\"col_heading level0 col0\" >survived</th>        <th class=\"col_heading level0 col1\" >pclass</th>        <th class=\"col_heading level0 col2\" >sex</th>        <th class=\"col_heading level0 col3\" >age</th>        <th class=\"col_heading level0 col4\" >sibsp</th>        <th class=\"col_heading level0 col5\" >parch</th>        <th class=\"col_heading level0 col6\" >fare</th>        <th class=\"col_heading level0 col7\" >embarked</th>        <th class=\"col_heading level0 col8\" >class</th>        <th class=\"col_heading level0 col9\" >who</th>        <th class=\"col_heading level0 col10\" >adult_male</th>        <th class=\"col_heading level0 col11\" >deck</th>        <th class=\"col_heading level0 col12\" >embark_town</th>        <th class=\"col_heading level0 col13\" >alive</th>        <th class=\"col_heading level0 col14\" >alone</th>    </tr></thead><tbody>\n",
       "                <tr>\n",
       "                        <th id=\"T_e4d82_level0_row0\" class=\"row_heading level0 row0\" >0</th>\n",
       "                        <td id=\"T_e4d82_row0_col0\" class=\"data row0 col0\" >0</td>\n",
       "                        <td id=\"T_e4d82_row0_col1\" class=\"data row0 col1\" >3</td>\n",
       "                        <td id=\"T_e4d82_row0_col2\" class=\"data row0 col2\" >male</td>\n",
       "                        <td id=\"T_e4d82_row0_col3\" class=\"data row0 col3\" >22.000000</td>\n",
       "                        <td id=\"T_e4d82_row0_col4\" class=\"data row0 col4\" >1</td>\n",
       "                        <td id=\"T_e4d82_row0_col5\" class=\"data row0 col5\" >0</td>\n",
       "                        <td id=\"T_e4d82_row0_col6\" class=\"data row0 col6\" >7.250000</td>\n",
       "                        <td id=\"T_e4d82_row0_col7\" class=\"data row0 col7\" >S</td>\n",
       "                        <td id=\"T_e4d82_row0_col8\" class=\"data row0 col8\" >Third</td>\n",
       "                        <td id=\"T_e4d82_row0_col9\" class=\"data row0 col9\" >man</td>\n",
       "                        <td id=\"T_e4d82_row0_col10\" class=\"data row0 col10\" >True</td>\n",
       "                        <td id=\"T_e4d82_row0_col11\" class=\"data row0 col11\" >nan</td>\n",
       "                        <td id=\"T_e4d82_row0_col12\" class=\"data row0 col12\" >Southampton</td>\n",
       "                        <td id=\"T_e4d82_row0_col13\" class=\"data row0 col13\" >no</td>\n",
       "                        <td id=\"T_e4d82_row0_col14\" class=\"data row0 col14\" >False</td>\n",
       "            </tr>\n",
       "            <tr>\n",
       "                        <th id=\"T_e4d82_level0_row1\" class=\"row_heading level0 row1\" >1</th>\n",
       "                        <td id=\"T_e4d82_row1_col0\" class=\"data row1 col0\" >1</td>\n",
       "                        <td id=\"T_e4d82_row1_col1\" class=\"data row1 col1\" >1</td>\n",
       "                        <td id=\"T_e4d82_row1_col2\" class=\"data row1 col2\" >female</td>\n",
       "                        <td id=\"T_e4d82_row1_col3\" class=\"data row1 col3\" >38.000000</td>\n",
       "                        <td id=\"T_e4d82_row1_col4\" class=\"data row1 col4\" >1</td>\n",
       "                        <td id=\"T_e4d82_row1_col5\" class=\"data row1 col5\" >0</td>\n",
       "                        <td id=\"T_e4d82_row1_col6\" class=\"data row1 col6\" >71.283300</td>\n",
       "                        <td id=\"T_e4d82_row1_col7\" class=\"data row1 col7\" >C</td>\n",
       "                        <td id=\"T_e4d82_row1_col8\" class=\"data row1 col8\" >First</td>\n",
       "                        <td id=\"T_e4d82_row1_col9\" class=\"data row1 col9\" >woman</td>\n",
       "                        <td id=\"T_e4d82_row1_col10\" class=\"data row1 col10\" >False</td>\n",
       "                        <td id=\"T_e4d82_row1_col11\" class=\"data row1 col11\" >C</td>\n",
       "                        <td id=\"T_e4d82_row1_col12\" class=\"data row1 col12\" >Cherbourg</td>\n",
       "                        <td id=\"T_e4d82_row1_col13\" class=\"data row1 col13\" >yes</td>\n",
       "                        <td id=\"T_e4d82_row1_col14\" class=\"data row1 col14\" >False</td>\n",
       "            </tr>\n",
       "            <tr>\n",
       "                        <th id=\"T_e4d82_level0_row2\" class=\"row_heading level0 row2\" >2</th>\n",
       "                        <td id=\"T_e4d82_row2_col0\" class=\"data row2 col0\" >1</td>\n",
       "                        <td id=\"T_e4d82_row2_col1\" class=\"data row2 col1\" >3</td>\n",
       "                        <td id=\"T_e4d82_row2_col2\" class=\"data row2 col2\" >female</td>\n",
       "                        <td id=\"T_e4d82_row2_col3\" class=\"data row2 col3\" >26.000000</td>\n",
       "                        <td id=\"T_e4d82_row2_col4\" class=\"data row2 col4\" >0</td>\n",
       "                        <td id=\"T_e4d82_row2_col5\" class=\"data row2 col5\" >0</td>\n",
       "                        <td id=\"T_e4d82_row2_col6\" class=\"data row2 col6\" >7.925000</td>\n",
       "                        <td id=\"T_e4d82_row2_col7\" class=\"data row2 col7\" >S</td>\n",
       "                        <td id=\"T_e4d82_row2_col8\" class=\"data row2 col8\" >Third</td>\n",
       "                        <td id=\"T_e4d82_row2_col9\" class=\"data row2 col9\" >woman</td>\n",
       "                        <td id=\"T_e4d82_row2_col10\" class=\"data row2 col10\" >False</td>\n",
       "                        <td id=\"T_e4d82_row2_col11\" class=\"data row2 col11\" >nan</td>\n",
       "                        <td id=\"T_e4d82_row2_col12\" class=\"data row2 col12\" >Southampton</td>\n",
       "                        <td id=\"T_e4d82_row2_col13\" class=\"data row2 col13\" >yes</td>\n",
       "                        <td id=\"T_e4d82_row2_col14\" class=\"data row2 col14\" >True</td>\n",
       "            </tr>\n",
       "            <tr>\n",
       "                        <th id=\"T_e4d82_level0_row3\" class=\"row_heading level0 row3\" >3</th>\n",
       "                        <td id=\"T_e4d82_row3_col0\" class=\"data row3 col0\" >1</td>\n",
       "                        <td id=\"T_e4d82_row3_col1\" class=\"data row3 col1\" >1</td>\n",
       "                        <td id=\"T_e4d82_row3_col2\" class=\"data row3 col2\" >female</td>\n",
       "                        <td id=\"T_e4d82_row3_col3\" class=\"data row3 col3\" >35.000000</td>\n",
       "                        <td id=\"T_e4d82_row3_col4\" class=\"data row3 col4\" >1</td>\n",
       "                        <td id=\"T_e4d82_row3_col5\" class=\"data row3 col5\" >0</td>\n",
       "                        <td id=\"T_e4d82_row3_col6\" class=\"data row3 col6\" >53.100000</td>\n",
       "                        <td id=\"T_e4d82_row3_col7\" class=\"data row3 col7\" >S</td>\n",
       "                        <td id=\"T_e4d82_row3_col8\" class=\"data row3 col8\" >First</td>\n",
       "                        <td id=\"T_e4d82_row3_col9\" class=\"data row3 col9\" >woman</td>\n",
       "                        <td id=\"T_e4d82_row3_col10\" class=\"data row3 col10\" >False</td>\n",
       "                        <td id=\"T_e4d82_row3_col11\" class=\"data row3 col11\" >C</td>\n",
       "                        <td id=\"T_e4d82_row3_col12\" class=\"data row3 col12\" >Southampton</td>\n",
       "                        <td id=\"T_e4d82_row3_col13\" class=\"data row3 col13\" >yes</td>\n",
       "                        <td id=\"T_e4d82_row3_col14\" class=\"data row3 col14\" >False</td>\n",
       "            </tr>\n",
       "            <tr>\n",
       "                        <th id=\"T_e4d82_level0_row4\" class=\"row_heading level0 row4\" >4</th>\n",
       "                        <td id=\"T_e4d82_row4_col0\" class=\"data row4 col0\" >0</td>\n",
       "                        <td id=\"T_e4d82_row4_col1\" class=\"data row4 col1\" >3</td>\n",
       "                        <td id=\"T_e4d82_row4_col2\" class=\"data row4 col2\" >male</td>\n",
       "                        <td id=\"T_e4d82_row4_col3\" class=\"data row4 col3\" >35.000000</td>\n",
       "                        <td id=\"T_e4d82_row4_col4\" class=\"data row4 col4\" >0</td>\n",
       "                        <td id=\"T_e4d82_row4_col5\" class=\"data row4 col5\" >0</td>\n",
       "                        <td id=\"T_e4d82_row4_col6\" class=\"data row4 col6\" >8.050000</td>\n",
       "                        <td id=\"T_e4d82_row4_col7\" class=\"data row4 col7\" >S</td>\n",
       "                        <td id=\"T_e4d82_row4_col8\" class=\"data row4 col8\" >Third</td>\n",
       "                        <td id=\"T_e4d82_row4_col9\" class=\"data row4 col9\" >man</td>\n",
       "                        <td id=\"T_e4d82_row4_col10\" class=\"data row4 col10\" >True</td>\n",
       "                        <td id=\"T_e4d82_row4_col11\" class=\"data row4 col11\" >nan</td>\n",
       "                        <td id=\"T_e4d82_row4_col12\" class=\"data row4 col12\" >Southampton</td>\n",
       "                        <td id=\"T_e4d82_row4_col13\" class=\"data row4 col13\" >no</td>\n",
       "                        <td id=\"T_e4d82_row4_col14\" class=\"data row4 col14\" >True</td>\n",
       "            </tr>\n",
       "    </tbody></table>"
      ],
      "text/plain": [
       "<pandas.io.formats.style.Styler at 0x7fb15dd62220>"
      ]
     },
     "execution_count": 32,
     "metadata": {},
     "output_type": "execute_result"
    }
   ],
   "source": [
    "cond = \"type(v) in [int,float] and 1<=v<=3\"\n",
    "\n",
    "bp.style_cellv(df1, cond)"
   ]
  },
  {
   "cell_type": "code",
   "execution_count": 33,
   "id": "08686dd2",
   "metadata": {
    "ExecuteTime": {
     "end_time": "2021-08-04T21:18:33.139271Z",
     "start_time": "2021-08-04T21:18:33.111548Z"
    }
   },
   "outputs": [
    {
     "data": {
      "text/html": [
       "<style  type=\"text/css\" >\n",
       "#T_4c2c0_row2_col0{\n",
       "            background:  lightgreen;\n",
       "        }</style><table id=\"T_4c2c0_\" ><thead>    <tr>        <th class=\"blank level0\" ></th>        <th class=\"col_heading level0 col0\" >survived</th>        <th class=\"col_heading level0 col1\" >pclass</th>        <th class=\"col_heading level0 col2\" >sex</th>        <th class=\"col_heading level0 col3\" >age</th>        <th class=\"col_heading level0 col4\" >sibsp</th>        <th class=\"col_heading level0 col5\" >parch</th>        <th class=\"col_heading level0 col6\" >fare</th>        <th class=\"col_heading level0 col7\" >embarked</th>        <th class=\"col_heading level0 col8\" >class</th>        <th class=\"col_heading level0 col9\" >who</th>        <th class=\"col_heading level0 col10\" >adult_male</th>        <th class=\"col_heading level0 col11\" >deck</th>        <th class=\"col_heading level0 col12\" >embark_town</th>        <th class=\"col_heading level0 col13\" >alive</th>        <th class=\"col_heading level0 col14\" >alone</th>    </tr></thead><tbody>\n",
       "                <tr>\n",
       "                        <th id=\"T_4c2c0_level0_row0\" class=\"row_heading level0 row0\" >0</th>\n",
       "                        <td id=\"T_4c2c0_row0_col0\" class=\"data row0 col0\" >0</td>\n",
       "                        <td id=\"T_4c2c0_row0_col1\" class=\"data row0 col1\" >3</td>\n",
       "                        <td id=\"T_4c2c0_row0_col2\" class=\"data row0 col2\" >male</td>\n",
       "                        <td id=\"T_4c2c0_row0_col3\" class=\"data row0 col3\" >22.000000</td>\n",
       "                        <td id=\"T_4c2c0_row0_col4\" class=\"data row0 col4\" >1</td>\n",
       "                        <td id=\"T_4c2c0_row0_col5\" class=\"data row0 col5\" >0</td>\n",
       "                        <td id=\"T_4c2c0_row0_col6\" class=\"data row0 col6\" >7.250000</td>\n",
       "                        <td id=\"T_4c2c0_row0_col7\" class=\"data row0 col7\" >S</td>\n",
       "                        <td id=\"T_4c2c0_row0_col8\" class=\"data row0 col8\" >Third</td>\n",
       "                        <td id=\"T_4c2c0_row0_col9\" class=\"data row0 col9\" >man</td>\n",
       "                        <td id=\"T_4c2c0_row0_col10\" class=\"data row0 col10\" >True</td>\n",
       "                        <td id=\"T_4c2c0_row0_col11\" class=\"data row0 col11\" >nan</td>\n",
       "                        <td id=\"T_4c2c0_row0_col12\" class=\"data row0 col12\" >Southampton</td>\n",
       "                        <td id=\"T_4c2c0_row0_col13\" class=\"data row0 col13\" >no</td>\n",
       "                        <td id=\"T_4c2c0_row0_col14\" class=\"data row0 col14\" >False</td>\n",
       "            </tr>\n",
       "            <tr>\n",
       "                        <th id=\"T_4c2c0_level0_row1\" class=\"row_heading level0 row1\" >1</th>\n",
       "                        <td id=\"T_4c2c0_row1_col0\" class=\"data row1 col0\" >1</td>\n",
       "                        <td id=\"T_4c2c0_row1_col1\" class=\"data row1 col1\" >1</td>\n",
       "                        <td id=\"T_4c2c0_row1_col2\" class=\"data row1 col2\" >female</td>\n",
       "                        <td id=\"T_4c2c0_row1_col3\" class=\"data row1 col3\" >38.000000</td>\n",
       "                        <td id=\"T_4c2c0_row1_col4\" class=\"data row1 col4\" >1</td>\n",
       "                        <td id=\"T_4c2c0_row1_col5\" class=\"data row1 col5\" >0</td>\n",
       "                        <td id=\"T_4c2c0_row1_col6\" class=\"data row1 col6\" >71.283300</td>\n",
       "                        <td id=\"T_4c2c0_row1_col7\" class=\"data row1 col7\" >C</td>\n",
       "                        <td id=\"T_4c2c0_row1_col8\" class=\"data row1 col8\" >First</td>\n",
       "                        <td id=\"T_4c2c0_row1_col9\" class=\"data row1 col9\" >woman</td>\n",
       "                        <td id=\"T_4c2c0_row1_col10\" class=\"data row1 col10\" >False</td>\n",
       "                        <td id=\"T_4c2c0_row1_col11\" class=\"data row1 col11\" >C</td>\n",
       "                        <td id=\"T_4c2c0_row1_col12\" class=\"data row1 col12\" >Cherbourg</td>\n",
       "                        <td id=\"T_4c2c0_row1_col13\" class=\"data row1 col13\" >yes</td>\n",
       "                        <td id=\"T_4c2c0_row1_col14\" class=\"data row1 col14\" >False</td>\n",
       "            </tr>\n",
       "            <tr>\n",
       "                        <th id=\"T_4c2c0_level0_row2\" class=\"row_heading level0 row2\" >2</th>\n",
       "                        <td id=\"T_4c2c0_row2_col0\" class=\"data row2 col0\" >1</td>\n",
       "                        <td id=\"T_4c2c0_row2_col1\" class=\"data row2 col1\" >3</td>\n",
       "                        <td id=\"T_4c2c0_row2_col2\" class=\"data row2 col2\" >female</td>\n",
       "                        <td id=\"T_4c2c0_row2_col3\" class=\"data row2 col3\" >26.000000</td>\n",
       "                        <td id=\"T_4c2c0_row2_col4\" class=\"data row2 col4\" >0</td>\n",
       "                        <td id=\"T_4c2c0_row2_col5\" class=\"data row2 col5\" >0</td>\n",
       "                        <td id=\"T_4c2c0_row2_col6\" class=\"data row2 col6\" >7.925000</td>\n",
       "                        <td id=\"T_4c2c0_row2_col7\" class=\"data row2 col7\" >S</td>\n",
       "                        <td id=\"T_4c2c0_row2_col8\" class=\"data row2 col8\" >Third</td>\n",
       "                        <td id=\"T_4c2c0_row2_col9\" class=\"data row2 col9\" >woman</td>\n",
       "                        <td id=\"T_4c2c0_row2_col10\" class=\"data row2 col10\" >False</td>\n",
       "                        <td id=\"T_4c2c0_row2_col11\" class=\"data row2 col11\" >nan</td>\n",
       "                        <td id=\"T_4c2c0_row2_col12\" class=\"data row2 col12\" >Southampton</td>\n",
       "                        <td id=\"T_4c2c0_row2_col13\" class=\"data row2 col13\" >yes</td>\n",
       "                        <td id=\"T_4c2c0_row2_col14\" class=\"data row2 col14\" >True</td>\n",
       "            </tr>\n",
       "            <tr>\n",
       "                        <th id=\"T_4c2c0_level0_row3\" class=\"row_heading level0 row3\" >3</th>\n",
       "                        <td id=\"T_4c2c0_row3_col0\" class=\"data row3 col0\" >1</td>\n",
       "                        <td id=\"T_4c2c0_row3_col1\" class=\"data row3 col1\" >1</td>\n",
       "                        <td id=\"T_4c2c0_row3_col2\" class=\"data row3 col2\" >female</td>\n",
       "                        <td id=\"T_4c2c0_row3_col3\" class=\"data row3 col3\" >35.000000</td>\n",
       "                        <td id=\"T_4c2c0_row3_col4\" class=\"data row3 col4\" >1</td>\n",
       "                        <td id=\"T_4c2c0_row3_col5\" class=\"data row3 col5\" >0</td>\n",
       "                        <td id=\"T_4c2c0_row3_col6\" class=\"data row3 col6\" >53.100000</td>\n",
       "                        <td id=\"T_4c2c0_row3_col7\" class=\"data row3 col7\" >S</td>\n",
       "                        <td id=\"T_4c2c0_row3_col8\" class=\"data row3 col8\" >First</td>\n",
       "                        <td id=\"T_4c2c0_row3_col9\" class=\"data row3 col9\" >woman</td>\n",
       "                        <td id=\"T_4c2c0_row3_col10\" class=\"data row3 col10\" >False</td>\n",
       "                        <td id=\"T_4c2c0_row3_col11\" class=\"data row3 col11\" >C</td>\n",
       "                        <td id=\"T_4c2c0_row3_col12\" class=\"data row3 col12\" >Southampton</td>\n",
       "                        <td id=\"T_4c2c0_row3_col13\" class=\"data row3 col13\" >yes</td>\n",
       "                        <td id=\"T_4c2c0_row3_col14\" class=\"data row3 col14\" >False</td>\n",
       "            </tr>\n",
       "            <tr>\n",
       "                        <th id=\"T_4c2c0_level0_row4\" class=\"row_heading level0 row4\" >4</th>\n",
       "                        <td id=\"T_4c2c0_row4_col0\" class=\"data row4 col0\" >0</td>\n",
       "                        <td id=\"T_4c2c0_row4_col1\" class=\"data row4 col1\" >3</td>\n",
       "                        <td id=\"T_4c2c0_row4_col2\" class=\"data row4 col2\" >male</td>\n",
       "                        <td id=\"T_4c2c0_row4_col3\" class=\"data row4 col3\" >35.000000</td>\n",
       "                        <td id=\"T_4c2c0_row4_col4\" class=\"data row4 col4\" >0</td>\n",
       "                        <td id=\"T_4c2c0_row4_col5\" class=\"data row4 col5\" >0</td>\n",
       "                        <td id=\"T_4c2c0_row4_col6\" class=\"data row4 col6\" >8.050000</td>\n",
       "                        <td id=\"T_4c2c0_row4_col7\" class=\"data row4 col7\" >S</td>\n",
       "                        <td id=\"T_4c2c0_row4_col8\" class=\"data row4 col8\" >Third</td>\n",
       "                        <td id=\"T_4c2c0_row4_col9\" class=\"data row4 col9\" >man</td>\n",
       "                        <td id=\"T_4c2c0_row4_col10\" class=\"data row4 col10\" >True</td>\n",
       "                        <td id=\"T_4c2c0_row4_col11\" class=\"data row4 col11\" >nan</td>\n",
       "                        <td id=\"T_4c2c0_row4_col12\" class=\"data row4 col12\" >Southampton</td>\n",
       "                        <td id=\"T_4c2c0_row4_col13\" class=\"data row4 col13\" >no</td>\n",
       "                        <td id=\"T_4c2c0_row4_col14\" class=\"data row4 col14\" >True</td>\n",
       "            </tr>\n",
       "    </tbody></table>"
      ],
      "text/plain": [
       "<pandas.io.formats.style.Styler at 0x7fb15dabab20>"
      ]
     },
     "execution_count": 33,
     "metadata": {},
     "output_type": "execute_result"
    }
   ],
   "source": [
    "bp.style_cellv(df1, \"v==1\",idx=2)"
   ]
  },
  {
   "cell_type": "code",
   "execution_count": 34,
   "id": "3c3a8e28",
   "metadata": {
    "ExecuteTime": {
     "end_time": "2021-08-04T21:18:33.181442Z",
     "start_time": "2021-08-04T21:18:33.142012Z"
    }
   },
   "outputs": [
    {
     "data": {
      "text/html": [
       "<style  type=\"text/css\" >\n",
       "#T_3cef7_row0_col1,#T_3cef7_row0_col7,#T_3cef7_row2_col1,#T_3cef7_row2_col7,#T_3cef7_row3_col7,#T_3cef7_row4_col1,#T_3cef7_row4_col7{\n",
       "            background:  lightgreen;\n",
       "        }</style><table id=\"T_3cef7_\" ><thead>    <tr>        <th class=\"blank level0\" ></th>        <th class=\"col_heading level0 col0\" >survived</th>        <th class=\"col_heading level0 col1\" >pclass</th>        <th class=\"col_heading level0 col2\" >sex</th>        <th class=\"col_heading level0 col3\" >age</th>        <th class=\"col_heading level0 col4\" >sibsp</th>        <th class=\"col_heading level0 col5\" >parch</th>        <th class=\"col_heading level0 col6\" >fare</th>        <th class=\"col_heading level0 col7\" >embarked</th>        <th class=\"col_heading level0 col8\" >class</th>        <th class=\"col_heading level0 col9\" >who</th>        <th class=\"col_heading level0 col10\" >adult_male</th>        <th class=\"col_heading level0 col11\" >deck</th>        <th class=\"col_heading level0 col12\" >embark_town</th>        <th class=\"col_heading level0 col13\" >alive</th>        <th class=\"col_heading level0 col14\" >alone</th>    </tr></thead><tbody>\n",
       "                <tr>\n",
       "                        <th id=\"T_3cef7_level0_row0\" class=\"row_heading level0 row0\" >0</th>\n",
       "                        <td id=\"T_3cef7_row0_col0\" class=\"data row0 col0\" >0</td>\n",
       "                        <td id=\"T_3cef7_row0_col1\" class=\"data row0 col1\" >3</td>\n",
       "                        <td id=\"T_3cef7_row0_col2\" class=\"data row0 col2\" >male</td>\n",
       "                        <td id=\"T_3cef7_row0_col3\" class=\"data row0 col3\" >22.000000</td>\n",
       "                        <td id=\"T_3cef7_row0_col4\" class=\"data row0 col4\" >1</td>\n",
       "                        <td id=\"T_3cef7_row0_col5\" class=\"data row0 col5\" >0</td>\n",
       "                        <td id=\"T_3cef7_row0_col6\" class=\"data row0 col6\" >7.250000</td>\n",
       "                        <td id=\"T_3cef7_row0_col7\" class=\"data row0 col7\" >S</td>\n",
       "                        <td id=\"T_3cef7_row0_col8\" class=\"data row0 col8\" >Third</td>\n",
       "                        <td id=\"T_3cef7_row0_col9\" class=\"data row0 col9\" >man</td>\n",
       "                        <td id=\"T_3cef7_row0_col10\" class=\"data row0 col10\" >True</td>\n",
       "                        <td id=\"T_3cef7_row0_col11\" class=\"data row0 col11\" >nan</td>\n",
       "                        <td id=\"T_3cef7_row0_col12\" class=\"data row0 col12\" >Southampton</td>\n",
       "                        <td id=\"T_3cef7_row0_col13\" class=\"data row0 col13\" >no</td>\n",
       "                        <td id=\"T_3cef7_row0_col14\" class=\"data row0 col14\" >False</td>\n",
       "            </tr>\n",
       "            <tr>\n",
       "                        <th id=\"T_3cef7_level0_row1\" class=\"row_heading level0 row1\" >1</th>\n",
       "                        <td id=\"T_3cef7_row1_col0\" class=\"data row1 col0\" >1</td>\n",
       "                        <td id=\"T_3cef7_row1_col1\" class=\"data row1 col1\" >1</td>\n",
       "                        <td id=\"T_3cef7_row1_col2\" class=\"data row1 col2\" >female</td>\n",
       "                        <td id=\"T_3cef7_row1_col3\" class=\"data row1 col3\" >38.000000</td>\n",
       "                        <td id=\"T_3cef7_row1_col4\" class=\"data row1 col4\" >1</td>\n",
       "                        <td id=\"T_3cef7_row1_col5\" class=\"data row1 col5\" >0</td>\n",
       "                        <td id=\"T_3cef7_row1_col6\" class=\"data row1 col6\" >71.283300</td>\n",
       "                        <td id=\"T_3cef7_row1_col7\" class=\"data row1 col7\" >C</td>\n",
       "                        <td id=\"T_3cef7_row1_col8\" class=\"data row1 col8\" >First</td>\n",
       "                        <td id=\"T_3cef7_row1_col9\" class=\"data row1 col9\" >woman</td>\n",
       "                        <td id=\"T_3cef7_row1_col10\" class=\"data row1 col10\" >False</td>\n",
       "                        <td id=\"T_3cef7_row1_col11\" class=\"data row1 col11\" >C</td>\n",
       "                        <td id=\"T_3cef7_row1_col12\" class=\"data row1 col12\" >Cherbourg</td>\n",
       "                        <td id=\"T_3cef7_row1_col13\" class=\"data row1 col13\" >yes</td>\n",
       "                        <td id=\"T_3cef7_row1_col14\" class=\"data row1 col14\" >False</td>\n",
       "            </tr>\n",
       "            <tr>\n",
       "                        <th id=\"T_3cef7_level0_row2\" class=\"row_heading level0 row2\" >2</th>\n",
       "                        <td id=\"T_3cef7_row2_col0\" class=\"data row2 col0\" >1</td>\n",
       "                        <td id=\"T_3cef7_row2_col1\" class=\"data row2 col1\" >3</td>\n",
       "                        <td id=\"T_3cef7_row2_col2\" class=\"data row2 col2\" >female</td>\n",
       "                        <td id=\"T_3cef7_row2_col3\" class=\"data row2 col3\" >26.000000</td>\n",
       "                        <td id=\"T_3cef7_row2_col4\" class=\"data row2 col4\" >0</td>\n",
       "                        <td id=\"T_3cef7_row2_col5\" class=\"data row2 col5\" >0</td>\n",
       "                        <td id=\"T_3cef7_row2_col6\" class=\"data row2 col6\" >7.925000</td>\n",
       "                        <td id=\"T_3cef7_row2_col7\" class=\"data row2 col7\" >S</td>\n",
       "                        <td id=\"T_3cef7_row2_col8\" class=\"data row2 col8\" >Third</td>\n",
       "                        <td id=\"T_3cef7_row2_col9\" class=\"data row2 col9\" >woman</td>\n",
       "                        <td id=\"T_3cef7_row2_col10\" class=\"data row2 col10\" >False</td>\n",
       "                        <td id=\"T_3cef7_row2_col11\" class=\"data row2 col11\" >nan</td>\n",
       "                        <td id=\"T_3cef7_row2_col12\" class=\"data row2 col12\" >Southampton</td>\n",
       "                        <td id=\"T_3cef7_row2_col13\" class=\"data row2 col13\" >yes</td>\n",
       "                        <td id=\"T_3cef7_row2_col14\" class=\"data row2 col14\" >True</td>\n",
       "            </tr>\n",
       "            <tr>\n",
       "                        <th id=\"T_3cef7_level0_row3\" class=\"row_heading level0 row3\" >3</th>\n",
       "                        <td id=\"T_3cef7_row3_col0\" class=\"data row3 col0\" >1</td>\n",
       "                        <td id=\"T_3cef7_row3_col1\" class=\"data row3 col1\" >1</td>\n",
       "                        <td id=\"T_3cef7_row3_col2\" class=\"data row3 col2\" >female</td>\n",
       "                        <td id=\"T_3cef7_row3_col3\" class=\"data row3 col3\" >35.000000</td>\n",
       "                        <td id=\"T_3cef7_row3_col4\" class=\"data row3 col4\" >1</td>\n",
       "                        <td id=\"T_3cef7_row3_col5\" class=\"data row3 col5\" >0</td>\n",
       "                        <td id=\"T_3cef7_row3_col6\" class=\"data row3 col6\" >53.100000</td>\n",
       "                        <td id=\"T_3cef7_row3_col7\" class=\"data row3 col7\" >S</td>\n",
       "                        <td id=\"T_3cef7_row3_col8\" class=\"data row3 col8\" >First</td>\n",
       "                        <td id=\"T_3cef7_row3_col9\" class=\"data row3 col9\" >woman</td>\n",
       "                        <td id=\"T_3cef7_row3_col10\" class=\"data row3 col10\" >False</td>\n",
       "                        <td id=\"T_3cef7_row3_col11\" class=\"data row3 col11\" >C</td>\n",
       "                        <td id=\"T_3cef7_row3_col12\" class=\"data row3 col12\" >Southampton</td>\n",
       "                        <td id=\"T_3cef7_row3_col13\" class=\"data row3 col13\" >yes</td>\n",
       "                        <td id=\"T_3cef7_row3_col14\" class=\"data row3 col14\" >False</td>\n",
       "            </tr>\n",
       "            <tr>\n",
       "                        <th id=\"T_3cef7_level0_row4\" class=\"row_heading level0 row4\" >4</th>\n",
       "                        <td id=\"T_3cef7_row4_col0\" class=\"data row4 col0\" >0</td>\n",
       "                        <td id=\"T_3cef7_row4_col1\" class=\"data row4 col1\" >3</td>\n",
       "                        <td id=\"T_3cef7_row4_col2\" class=\"data row4 col2\" >male</td>\n",
       "                        <td id=\"T_3cef7_row4_col3\" class=\"data row4 col3\" >35.000000</td>\n",
       "                        <td id=\"T_3cef7_row4_col4\" class=\"data row4 col4\" >0</td>\n",
       "                        <td id=\"T_3cef7_row4_col5\" class=\"data row4 col5\" >0</td>\n",
       "                        <td id=\"T_3cef7_row4_col6\" class=\"data row4 col6\" >8.050000</td>\n",
       "                        <td id=\"T_3cef7_row4_col7\" class=\"data row4 col7\" >S</td>\n",
       "                        <td id=\"T_3cef7_row4_col8\" class=\"data row4 col8\" >Third</td>\n",
       "                        <td id=\"T_3cef7_row4_col9\" class=\"data row4 col9\" >man</td>\n",
       "                        <td id=\"T_3cef7_row4_col10\" class=\"data row4 col10\" >True</td>\n",
       "                        <td id=\"T_3cef7_row4_col11\" class=\"data row4 col11\" >nan</td>\n",
       "                        <td id=\"T_3cef7_row4_col12\" class=\"data row4 col12\" >Southampton</td>\n",
       "                        <td id=\"T_3cef7_row4_col13\" class=\"data row4 col13\" >no</td>\n",
       "                        <td id=\"T_3cef7_row4_col14\" class=\"data row4 col14\" >True</td>\n",
       "            </tr>\n",
       "    </tbody></table>"
      ],
      "text/plain": [
       "<pandas.io.formats.style.Styler at 0x7fb15dd874c0>"
      ]
     },
     "execution_count": 34,
     "metadata": {},
     "output_type": "execute_result"
    }
   ],
   "source": [
    "cond = \"v in [3,'S']\"\n",
    "bp.style_cellv(df1,cond)"
   ]
  },
  {
   "cell_type": "code",
   "execution_count": 35,
   "id": "360f58f1",
   "metadata": {
    "ExecuteTime": {
     "end_time": "2021-08-04T21:18:33.219447Z",
     "start_time": "2021-08-04T21:18:33.185139Z"
    }
   },
   "outputs": [
    {
     "data": {
      "text/html": [
       "<style  type=\"text/css\" >\n",
       "#T_c37e2_row1_col1,#T_c37e2_row3_col1{\n",
       "            background:  lightgreen;\n",
       "        }</style><table id=\"T_c37e2_\" ><thead>    <tr>        <th class=\"blank level0\" ></th>        <th class=\"col_heading level0 col0\" >survived</th>        <th class=\"col_heading level0 col1\" >pclass</th>        <th class=\"col_heading level0 col2\" >sex</th>        <th class=\"col_heading level0 col3\" >age</th>        <th class=\"col_heading level0 col4\" >sibsp</th>        <th class=\"col_heading level0 col5\" >parch</th>        <th class=\"col_heading level0 col6\" >fare</th>        <th class=\"col_heading level0 col7\" >embarked</th>        <th class=\"col_heading level0 col8\" >class</th>        <th class=\"col_heading level0 col9\" >who</th>        <th class=\"col_heading level0 col10\" >adult_male</th>        <th class=\"col_heading level0 col11\" >deck</th>        <th class=\"col_heading level0 col12\" >embark_town</th>        <th class=\"col_heading level0 col13\" >alive</th>        <th class=\"col_heading level0 col14\" >alone</th>    </tr></thead><tbody>\n",
       "                <tr>\n",
       "                        <th id=\"T_c37e2_level0_row0\" class=\"row_heading level0 row0\" >0</th>\n",
       "                        <td id=\"T_c37e2_row0_col0\" class=\"data row0 col0\" >0</td>\n",
       "                        <td id=\"T_c37e2_row0_col1\" class=\"data row0 col1\" >3</td>\n",
       "                        <td id=\"T_c37e2_row0_col2\" class=\"data row0 col2\" >male</td>\n",
       "                        <td id=\"T_c37e2_row0_col3\" class=\"data row0 col3\" >22.000000</td>\n",
       "                        <td id=\"T_c37e2_row0_col4\" class=\"data row0 col4\" >1</td>\n",
       "                        <td id=\"T_c37e2_row0_col5\" class=\"data row0 col5\" >0</td>\n",
       "                        <td id=\"T_c37e2_row0_col6\" class=\"data row0 col6\" >7.250000</td>\n",
       "                        <td id=\"T_c37e2_row0_col7\" class=\"data row0 col7\" >S</td>\n",
       "                        <td id=\"T_c37e2_row0_col8\" class=\"data row0 col8\" >Third</td>\n",
       "                        <td id=\"T_c37e2_row0_col9\" class=\"data row0 col9\" >man</td>\n",
       "                        <td id=\"T_c37e2_row0_col10\" class=\"data row0 col10\" >True</td>\n",
       "                        <td id=\"T_c37e2_row0_col11\" class=\"data row0 col11\" >nan</td>\n",
       "                        <td id=\"T_c37e2_row0_col12\" class=\"data row0 col12\" >Southampton</td>\n",
       "                        <td id=\"T_c37e2_row0_col13\" class=\"data row0 col13\" >no</td>\n",
       "                        <td id=\"T_c37e2_row0_col14\" class=\"data row0 col14\" >False</td>\n",
       "            </tr>\n",
       "            <tr>\n",
       "                        <th id=\"T_c37e2_level0_row1\" class=\"row_heading level0 row1\" >1</th>\n",
       "                        <td id=\"T_c37e2_row1_col0\" class=\"data row1 col0\" >1</td>\n",
       "                        <td id=\"T_c37e2_row1_col1\" class=\"data row1 col1\" >1</td>\n",
       "                        <td id=\"T_c37e2_row1_col2\" class=\"data row1 col2\" >female</td>\n",
       "                        <td id=\"T_c37e2_row1_col3\" class=\"data row1 col3\" >38.000000</td>\n",
       "                        <td id=\"T_c37e2_row1_col4\" class=\"data row1 col4\" >1</td>\n",
       "                        <td id=\"T_c37e2_row1_col5\" class=\"data row1 col5\" >0</td>\n",
       "                        <td id=\"T_c37e2_row1_col6\" class=\"data row1 col6\" >71.283300</td>\n",
       "                        <td id=\"T_c37e2_row1_col7\" class=\"data row1 col7\" >C</td>\n",
       "                        <td id=\"T_c37e2_row1_col8\" class=\"data row1 col8\" >First</td>\n",
       "                        <td id=\"T_c37e2_row1_col9\" class=\"data row1 col9\" >woman</td>\n",
       "                        <td id=\"T_c37e2_row1_col10\" class=\"data row1 col10\" >False</td>\n",
       "                        <td id=\"T_c37e2_row1_col11\" class=\"data row1 col11\" >C</td>\n",
       "                        <td id=\"T_c37e2_row1_col12\" class=\"data row1 col12\" >Cherbourg</td>\n",
       "                        <td id=\"T_c37e2_row1_col13\" class=\"data row1 col13\" >yes</td>\n",
       "                        <td id=\"T_c37e2_row1_col14\" class=\"data row1 col14\" >False</td>\n",
       "            </tr>\n",
       "            <tr>\n",
       "                        <th id=\"T_c37e2_level0_row2\" class=\"row_heading level0 row2\" >2</th>\n",
       "                        <td id=\"T_c37e2_row2_col0\" class=\"data row2 col0\" >1</td>\n",
       "                        <td id=\"T_c37e2_row2_col1\" class=\"data row2 col1\" >3</td>\n",
       "                        <td id=\"T_c37e2_row2_col2\" class=\"data row2 col2\" >female</td>\n",
       "                        <td id=\"T_c37e2_row2_col3\" class=\"data row2 col3\" >26.000000</td>\n",
       "                        <td id=\"T_c37e2_row2_col4\" class=\"data row2 col4\" >0</td>\n",
       "                        <td id=\"T_c37e2_row2_col5\" class=\"data row2 col5\" >0</td>\n",
       "                        <td id=\"T_c37e2_row2_col6\" class=\"data row2 col6\" >7.925000</td>\n",
       "                        <td id=\"T_c37e2_row2_col7\" class=\"data row2 col7\" >S</td>\n",
       "                        <td id=\"T_c37e2_row2_col8\" class=\"data row2 col8\" >Third</td>\n",
       "                        <td id=\"T_c37e2_row2_col9\" class=\"data row2 col9\" >woman</td>\n",
       "                        <td id=\"T_c37e2_row2_col10\" class=\"data row2 col10\" >False</td>\n",
       "                        <td id=\"T_c37e2_row2_col11\" class=\"data row2 col11\" >nan</td>\n",
       "                        <td id=\"T_c37e2_row2_col12\" class=\"data row2 col12\" >Southampton</td>\n",
       "                        <td id=\"T_c37e2_row2_col13\" class=\"data row2 col13\" >yes</td>\n",
       "                        <td id=\"T_c37e2_row2_col14\" class=\"data row2 col14\" >True</td>\n",
       "            </tr>\n",
       "            <tr>\n",
       "                        <th id=\"T_c37e2_level0_row3\" class=\"row_heading level0 row3\" >3</th>\n",
       "                        <td id=\"T_c37e2_row3_col0\" class=\"data row3 col0\" >1</td>\n",
       "                        <td id=\"T_c37e2_row3_col1\" class=\"data row3 col1\" >1</td>\n",
       "                        <td id=\"T_c37e2_row3_col2\" class=\"data row3 col2\" >female</td>\n",
       "                        <td id=\"T_c37e2_row3_col3\" class=\"data row3 col3\" >35.000000</td>\n",
       "                        <td id=\"T_c37e2_row3_col4\" class=\"data row3 col4\" >1</td>\n",
       "                        <td id=\"T_c37e2_row3_col5\" class=\"data row3 col5\" >0</td>\n",
       "                        <td id=\"T_c37e2_row3_col6\" class=\"data row3 col6\" >53.100000</td>\n",
       "                        <td id=\"T_c37e2_row3_col7\" class=\"data row3 col7\" >S</td>\n",
       "                        <td id=\"T_c37e2_row3_col8\" class=\"data row3 col8\" >First</td>\n",
       "                        <td id=\"T_c37e2_row3_col9\" class=\"data row3 col9\" >woman</td>\n",
       "                        <td id=\"T_c37e2_row3_col10\" class=\"data row3 col10\" >False</td>\n",
       "                        <td id=\"T_c37e2_row3_col11\" class=\"data row3 col11\" >C</td>\n",
       "                        <td id=\"T_c37e2_row3_col12\" class=\"data row3 col12\" >Southampton</td>\n",
       "                        <td id=\"T_c37e2_row3_col13\" class=\"data row3 col13\" >yes</td>\n",
       "                        <td id=\"T_c37e2_row3_col14\" class=\"data row3 col14\" >False</td>\n",
       "            </tr>\n",
       "            <tr>\n",
       "                        <th id=\"T_c37e2_level0_row4\" class=\"row_heading level0 row4\" >4</th>\n",
       "                        <td id=\"T_c37e2_row4_col0\" class=\"data row4 col0\" >0</td>\n",
       "                        <td id=\"T_c37e2_row4_col1\" class=\"data row4 col1\" >3</td>\n",
       "                        <td id=\"T_c37e2_row4_col2\" class=\"data row4 col2\" >male</td>\n",
       "                        <td id=\"T_c37e2_row4_col3\" class=\"data row4 col3\" >35.000000</td>\n",
       "                        <td id=\"T_c37e2_row4_col4\" class=\"data row4 col4\" >0</td>\n",
       "                        <td id=\"T_c37e2_row4_col5\" class=\"data row4 col5\" >0</td>\n",
       "                        <td id=\"T_c37e2_row4_col6\" class=\"data row4 col6\" >8.050000</td>\n",
       "                        <td id=\"T_c37e2_row4_col7\" class=\"data row4 col7\" >S</td>\n",
       "                        <td id=\"T_c37e2_row4_col8\" class=\"data row4 col8\" >Third</td>\n",
       "                        <td id=\"T_c37e2_row4_col9\" class=\"data row4 col9\" >man</td>\n",
       "                        <td id=\"T_c37e2_row4_col10\" class=\"data row4 col10\" >True</td>\n",
       "                        <td id=\"T_c37e2_row4_col11\" class=\"data row4 col11\" >nan</td>\n",
       "                        <td id=\"T_c37e2_row4_col12\" class=\"data row4 col12\" >Southampton</td>\n",
       "                        <td id=\"T_c37e2_row4_col13\" class=\"data row4 col13\" >no</td>\n",
       "                        <td id=\"T_c37e2_row4_col14\" class=\"data row4 col14\" >True</td>\n",
       "            </tr>\n",
       "    </tbody></table>"
      ],
      "text/plain": [
       "<pandas.io.formats.style.Styler at 0x7fb15dd81df0>"
      ]
     },
     "execution_count": 35,
     "metadata": {},
     "output_type": "execute_result"
    }
   ],
   "source": [
    "bp.style_cellv(df1, \"v==1\",col='pclass')"
   ]
  },
  {
   "cell_type": "markdown",
   "id": "389d7a18",
   "metadata": {},
   "source": [
    "# style cell using dataframe as x"
   ]
  },
  {
   "cell_type": "code",
   "execution_count": 36,
   "id": "10627ad3",
   "metadata": {
    "ExecuteTime": {
     "end_time": "2021-08-04T21:18:33.242707Z",
     "start_time": "2021-08-04T21:18:33.222868Z"
    }
   },
   "outputs": [
    {
     "data": {
      "text/html": [
       "<div>\n",
       "<style scoped>\n",
       "    .dataframe tbody tr th:only-of-type {\n",
       "        vertical-align: middle;\n",
       "    }\n",
       "\n",
       "    .dataframe tbody tr th {\n",
       "        vertical-align: top;\n",
       "    }\n",
       "\n",
       "    .dataframe thead th {\n",
       "        text-align: right;\n",
       "    }\n",
       "</style>\n",
       "<table border=\"1\" class=\"dataframe\">\n",
       "  <thead>\n",
       "    <tr style=\"text-align: right;\">\n",
       "      <th></th>\n",
       "      <th>survived</th>\n",
       "      <th>pclass</th>\n",
       "      <th>sex</th>\n",
       "      <th>age</th>\n",
       "      <th>sibsp</th>\n",
       "      <th>parch</th>\n",
       "      <th>fare</th>\n",
       "      <th>embarked</th>\n",
       "      <th>class</th>\n",
       "      <th>who</th>\n",
       "      <th>adult_male</th>\n",
       "      <th>deck</th>\n",
       "      <th>embark_town</th>\n",
       "      <th>alive</th>\n",
       "      <th>alone</th>\n",
       "    </tr>\n",
       "  </thead>\n",
       "  <tbody>\n",
       "    <tr>\n",
       "      <th>0</th>\n",
       "      <td>0</td>\n",
       "      <td>3</td>\n",
       "      <td>male</td>\n",
       "      <td>22.0</td>\n",
       "      <td>1</td>\n",
       "      <td>0</td>\n",
       "      <td>7.2500</td>\n",
       "      <td>S</td>\n",
       "      <td>Third</td>\n",
       "      <td>man</td>\n",
       "      <td>True</td>\n",
       "      <td>NaN</td>\n",
       "      <td>Southampton</td>\n",
       "      <td>no</td>\n",
       "      <td>False</td>\n",
       "    </tr>\n",
       "    <tr>\n",
       "      <th>1</th>\n",
       "      <td>1</td>\n",
       "      <td>1</td>\n",
       "      <td>female</td>\n",
       "      <td>38.0</td>\n",
       "      <td>1</td>\n",
       "      <td>0</td>\n",
       "      <td>71.2833</td>\n",
       "      <td>C</td>\n",
       "      <td>First</td>\n",
       "      <td>woman</td>\n",
       "      <td>False</td>\n",
       "      <td>C</td>\n",
       "      <td>Cherbourg</td>\n",
       "      <td>yes</td>\n",
       "      <td>False</td>\n",
       "    </tr>\n",
       "    <tr>\n",
       "      <th>2</th>\n",
       "      <td>1</td>\n",
       "      <td>3</td>\n",
       "      <td>female</td>\n",
       "      <td>26.0</td>\n",
       "      <td>0</td>\n",
       "      <td>0</td>\n",
       "      <td>7.9250</td>\n",
       "      <td>S</td>\n",
       "      <td>Third</td>\n",
       "      <td>woman</td>\n",
       "      <td>False</td>\n",
       "      <td>NaN</td>\n",
       "      <td>Southampton</td>\n",
       "      <td>yes</td>\n",
       "      <td>True</td>\n",
       "    </tr>\n",
       "    <tr>\n",
       "      <th>3</th>\n",
       "      <td>1</td>\n",
       "      <td>1</td>\n",
       "      <td>female</td>\n",
       "      <td>35.0</td>\n",
       "      <td>1</td>\n",
       "      <td>0</td>\n",
       "      <td>53.1000</td>\n",
       "      <td>S</td>\n",
       "      <td>First</td>\n",
       "      <td>woman</td>\n",
       "      <td>False</td>\n",
       "      <td>C</td>\n",
       "      <td>Southampton</td>\n",
       "      <td>yes</td>\n",
       "      <td>False</td>\n",
       "    </tr>\n",
       "    <tr>\n",
       "      <th>4</th>\n",
       "      <td>0</td>\n",
       "      <td>3</td>\n",
       "      <td>male</td>\n",
       "      <td>35.0</td>\n",
       "      <td>0</td>\n",
       "      <td>0</td>\n",
       "      <td>8.0500</td>\n",
       "      <td>S</td>\n",
       "      <td>Third</td>\n",
       "      <td>man</td>\n",
       "      <td>True</td>\n",
       "      <td>NaN</td>\n",
       "      <td>Southampton</td>\n",
       "      <td>no</td>\n",
       "      <td>True</td>\n",
       "    </tr>\n",
       "  </tbody>\n",
       "</table>\n",
       "</div>"
      ],
      "text/plain": [
       "   survived  pclass     sex   age  sibsp  parch     fare embarked  class  \\\n",
       "0         0       3    male  22.0      1      0   7.2500        S  Third   \n",
       "1         1       1  female  38.0      1      0  71.2833        C  First   \n",
       "2         1       3  female  26.0      0      0   7.9250        S  Third   \n",
       "3         1       1  female  35.0      1      0  53.1000        S  First   \n",
       "4         0       3    male  35.0      0      0   8.0500        S  Third   \n",
       "\n",
       "     who  adult_male deck  embark_town alive  alone  \n",
       "0    man        True  NaN  Southampton    no  False  \n",
       "1  woman       False    C    Cherbourg   yes  False  \n",
       "2  woman       False  NaN  Southampton   yes   True  \n",
       "3  woman       False    C  Southampton   yes  False  \n",
       "4    man        True  NaN  Southampton    no   True  "
      ]
     },
     "execution_count": 36,
     "metadata": {},
     "output_type": "execute_result"
    }
   ],
   "source": [
    "df1"
   ]
  },
  {
   "cell_type": "code",
   "execution_count": 37,
   "id": "6e7b9291",
   "metadata": {
    "ExecuteTime": {
     "end_time": "2021-08-04T21:18:33.276014Z",
     "start_time": "2021-08-04T21:18:33.245562Z"
    }
   },
   "outputs": [
    {
     "data": {
      "text/html": [
       "<style  type=\"text/css\" >\n",
       "#T_a4af1_row3_col0,#T_a4af1_row3_col1,#T_a4af1_row3_col2,#T_a4af1_row3_col3,#T_a4af1_row3_col4,#T_a4af1_row3_col5,#T_a4af1_row3_col6,#T_a4af1_row3_col7,#T_a4af1_row3_col8,#T_a4af1_row3_col9,#T_a4af1_row3_col10,#T_a4af1_row3_col11,#T_a4af1_row3_col12,#T_a4af1_row3_col13,#T_a4af1_row3_col14,#T_a4af1_row4_col0,#T_a4af1_row4_col1,#T_a4af1_row4_col2,#T_a4af1_row4_col3,#T_a4af1_row4_col4,#T_a4af1_row4_col5,#T_a4af1_row4_col6,#T_a4af1_row4_col7,#T_a4af1_row4_col8,#T_a4af1_row4_col9,#T_a4af1_row4_col10,#T_a4af1_row4_col11,#T_a4af1_row4_col12,#T_a4af1_row4_col13,#T_a4af1_row4_col14{\n",
       "            background-color:  lightgreen;\n",
       "        }</style><table id=\"T_a4af1_\" ><thead>    <tr>        <th class=\"blank level0\" ></th>        <th class=\"col_heading level0 col0\" >survived</th>        <th class=\"col_heading level0 col1\" >pclass</th>        <th class=\"col_heading level0 col2\" >sex</th>        <th class=\"col_heading level0 col3\" >age</th>        <th class=\"col_heading level0 col4\" >sibsp</th>        <th class=\"col_heading level0 col5\" >parch</th>        <th class=\"col_heading level0 col6\" >fare</th>        <th class=\"col_heading level0 col7\" >embarked</th>        <th class=\"col_heading level0 col8\" >class</th>        <th class=\"col_heading level0 col9\" >who</th>        <th class=\"col_heading level0 col10\" >adult_male</th>        <th class=\"col_heading level0 col11\" >deck</th>        <th class=\"col_heading level0 col12\" >embark_town</th>        <th class=\"col_heading level0 col13\" >alive</th>        <th class=\"col_heading level0 col14\" >alone</th>    </tr></thead><tbody>\n",
       "                <tr>\n",
       "                        <th id=\"T_a4af1_level0_row0\" class=\"row_heading level0 row0\" >0</th>\n",
       "                        <td id=\"T_a4af1_row0_col0\" class=\"data row0 col0\" >0</td>\n",
       "                        <td id=\"T_a4af1_row0_col1\" class=\"data row0 col1\" >3</td>\n",
       "                        <td id=\"T_a4af1_row0_col2\" class=\"data row0 col2\" >male</td>\n",
       "                        <td id=\"T_a4af1_row0_col3\" class=\"data row0 col3\" >22.000000</td>\n",
       "                        <td id=\"T_a4af1_row0_col4\" class=\"data row0 col4\" >1</td>\n",
       "                        <td id=\"T_a4af1_row0_col5\" class=\"data row0 col5\" >0</td>\n",
       "                        <td id=\"T_a4af1_row0_col6\" class=\"data row0 col6\" >7.250000</td>\n",
       "                        <td id=\"T_a4af1_row0_col7\" class=\"data row0 col7\" >S</td>\n",
       "                        <td id=\"T_a4af1_row0_col8\" class=\"data row0 col8\" >Third</td>\n",
       "                        <td id=\"T_a4af1_row0_col9\" class=\"data row0 col9\" >man</td>\n",
       "                        <td id=\"T_a4af1_row0_col10\" class=\"data row0 col10\" >True</td>\n",
       "                        <td id=\"T_a4af1_row0_col11\" class=\"data row0 col11\" >nan</td>\n",
       "                        <td id=\"T_a4af1_row0_col12\" class=\"data row0 col12\" >Southampton</td>\n",
       "                        <td id=\"T_a4af1_row0_col13\" class=\"data row0 col13\" >no</td>\n",
       "                        <td id=\"T_a4af1_row0_col14\" class=\"data row0 col14\" >False</td>\n",
       "            </tr>\n",
       "            <tr>\n",
       "                        <th id=\"T_a4af1_level0_row1\" class=\"row_heading level0 row1\" >1</th>\n",
       "                        <td id=\"T_a4af1_row1_col0\" class=\"data row1 col0\" >1</td>\n",
       "                        <td id=\"T_a4af1_row1_col1\" class=\"data row1 col1\" >1</td>\n",
       "                        <td id=\"T_a4af1_row1_col2\" class=\"data row1 col2\" >female</td>\n",
       "                        <td id=\"T_a4af1_row1_col3\" class=\"data row1 col3\" >38.000000</td>\n",
       "                        <td id=\"T_a4af1_row1_col4\" class=\"data row1 col4\" >1</td>\n",
       "                        <td id=\"T_a4af1_row1_col5\" class=\"data row1 col5\" >0</td>\n",
       "                        <td id=\"T_a4af1_row1_col6\" class=\"data row1 col6\" >71.283300</td>\n",
       "                        <td id=\"T_a4af1_row1_col7\" class=\"data row1 col7\" >C</td>\n",
       "                        <td id=\"T_a4af1_row1_col8\" class=\"data row1 col8\" >First</td>\n",
       "                        <td id=\"T_a4af1_row1_col9\" class=\"data row1 col9\" >woman</td>\n",
       "                        <td id=\"T_a4af1_row1_col10\" class=\"data row1 col10\" >False</td>\n",
       "                        <td id=\"T_a4af1_row1_col11\" class=\"data row1 col11\" >C</td>\n",
       "                        <td id=\"T_a4af1_row1_col12\" class=\"data row1 col12\" >Cherbourg</td>\n",
       "                        <td id=\"T_a4af1_row1_col13\" class=\"data row1 col13\" >yes</td>\n",
       "                        <td id=\"T_a4af1_row1_col14\" class=\"data row1 col14\" >False</td>\n",
       "            </tr>\n",
       "            <tr>\n",
       "                        <th id=\"T_a4af1_level0_row2\" class=\"row_heading level0 row2\" >2</th>\n",
       "                        <td id=\"T_a4af1_row2_col0\" class=\"data row2 col0\" >1</td>\n",
       "                        <td id=\"T_a4af1_row2_col1\" class=\"data row2 col1\" >3</td>\n",
       "                        <td id=\"T_a4af1_row2_col2\" class=\"data row2 col2\" >female</td>\n",
       "                        <td id=\"T_a4af1_row2_col3\" class=\"data row2 col3\" >26.000000</td>\n",
       "                        <td id=\"T_a4af1_row2_col4\" class=\"data row2 col4\" >0</td>\n",
       "                        <td id=\"T_a4af1_row2_col5\" class=\"data row2 col5\" >0</td>\n",
       "                        <td id=\"T_a4af1_row2_col6\" class=\"data row2 col6\" >7.925000</td>\n",
       "                        <td id=\"T_a4af1_row2_col7\" class=\"data row2 col7\" >S</td>\n",
       "                        <td id=\"T_a4af1_row2_col8\" class=\"data row2 col8\" >Third</td>\n",
       "                        <td id=\"T_a4af1_row2_col9\" class=\"data row2 col9\" >woman</td>\n",
       "                        <td id=\"T_a4af1_row2_col10\" class=\"data row2 col10\" >False</td>\n",
       "                        <td id=\"T_a4af1_row2_col11\" class=\"data row2 col11\" >nan</td>\n",
       "                        <td id=\"T_a4af1_row2_col12\" class=\"data row2 col12\" >Southampton</td>\n",
       "                        <td id=\"T_a4af1_row2_col13\" class=\"data row2 col13\" >yes</td>\n",
       "                        <td id=\"T_a4af1_row2_col14\" class=\"data row2 col14\" >True</td>\n",
       "            </tr>\n",
       "            <tr>\n",
       "                        <th id=\"T_a4af1_level0_row3\" class=\"row_heading level0 row3\" >3</th>\n",
       "                        <td id=\"T_a4af1_row3_col0\" class=\"data row3 col0\" >1</td>\n",
       "                        <td id=\"T_a4af1_row3_col1\" class=\"data row3 col1\" >1</td>\n",
       "                        <td id=\"T_a4af1_row3_col2\" class=\"data row3 col2\" >female</td>\n",
       "                        <td id=\"T_a4af1_row3_col3\" class=\"data row3 col3\" >35.000000</td>\n",
       "                        <td id=\"T_a4af1_row3_col4\" class=\"data row3 col4\" >1</td>\n",
       "                        <td id=\"T_a4af1_row3_col5\" class=\"data row3 col5\" >0</td>\n",
       "                        <td id=\"T_a4af1_row3_col6\" class=\"data row3 col6\" >53.100000</td>\n",
       "                        <td id=\"T_a4af1_row3_col7\" class=\"data row3 col7\" >S</td>\n",
       "                        <td id=\"T_a4af1_row3_col8\" class=\"data row3 col8\" >First</td>\n",
       "                        <td id=\"T_a4af1_row3_col9\" class=\"data row3 col9\" >woman</td>\n",
       "                        <td id=\"T_a4af1_row3_col10\" class=\"data row3 col10\" >False</td>\n",
       "                        <td id=\"T_a4af1_row3_col11\" class=\"data row3 col11\" >C</td>\n",
       "                        <td id=\"T_a4af1_row3_col12\" class=\"data row3 col12\" >Southampton</td>\n",
       "                        <td id=\"T_a4af1_row3_col13\" class=\"data row3 col13\" >yes</td>\n",
       "                        <td id=\"T_a4af1_row3_col14\" class=\"data row3 col14\" >False</td>\n",
       "            </tr>\n",
       "            <tr>\n",
       "                        <th id=\"T_a4af1_level0_row4\" class=\"row_heading level0 row4\" >4</th>\n",
       "                        <td id=\"T_a4af1_row4_col0\" class=\"data row4 col0\" >0</td>\n",
       "                        <td id=\"T_a4af1_row4_col1\" class=\"data row4 col1\" >3</td>\n",
       "                        <td id=\"T_a4af1_row4_col2\" class=\"data row4 col2\" >male</td>\n",
       "                        <td id=\"T_a4af1_row4_col3\" class=\"data row4 col3\" >35.000000</td>\n",
       "                        <td id=\"T_a4af1_row4_col4\" class=\"data row4 col4\" >0</td>\n",
       "                        <td id=\"T_a4af1_row4_col5\" class=\"data row4 col5\" >0</td>\n",
       "                        <td id=\"T_a4af1_row4_col6\" class=\"data row4 col6\" >8.050000</td>\n",
       "                        <td id=\"T_a4af1_row4_col7\" class=\"data row4 col7\" >S</td>\n",
       "                        <td id=\"T_a4af1_row4_col8\" class=\"data row4 col8\" >Third</td>\n",
       "                        <td id=\"T_a4af1_row4_col9\" class=\"data row4 col9\" >man</td>\n",
       "                        <td id=\"T_a4af1_row4_col10\" class=\"data row4 col10\" >True</td>\n",
       "                        <td id=\"T_a4af1_row4_col11\" class=\"data row4 col11\" >nan</td>\n",
       "                        <td id=\"T_a4af1_row4_col12\" class=\"data row4 col12\" >Southampton</td>\n",
       "                        <td id=\"T_a4af1_row4_col13\" class=\"data row4 col13\" >no</td>\n",
       "                        <td id=\"T_a4af1_row4_col14\" class=\"data row4 col14\" >True</td>\n",
       "            </tr>\n",
       "    </tbody></table>"
      ],
      "text/plain": [
       "<pandas.io.formats.style.Styler at 0x7fb15dd87250>"
      ]
     },
     "execution_count": 37,
     "metadata": {},
     "output_type": "execute_result"
    }
   ],
   "source": [
    "cond = \"x.age==35\"\n",
    "bp.style_cellx(df1,cond)"
   ]
  },
  {
   "cell_type": "code",
   "execution_count": 38,
   "id": "2801fdf3",
   "metadata": {
    "ExecuteTime": {
     "end_time": "2021-08-04T21:18:33.303537Z",
     "start_time": "2021-08-04T21:18:33.278648Z"
    }
   },
   "outputs": [
    {
     "data": {
      "text/html": [
       "<style  type=\"text/css\" >\n",
       "#T_cca5d_row2_col4,#T_cca5d_row2_col5,#T_cca5d_row2_col10{\n",
       "            background-color:  lightgreen;\n",
       "        }</style><table id=\"T_cca5d_\" ><thead>    <tr>        <th class=\"blank level0\" ></th>        <th class=\"col_heading level0 col0\" >survived</th>        <th class=\"col_heading level0 col1\" >pclass</th>        <th class=\"col_heading level0 col2\" >sex</th>        <th class=\"col_heading level0 col3\" >age</th>        <th class=\"col_heading level0 col4\" >sibsp</th>        <th class=\"col_heading level0 col5\" >parch</th>        <th class=\"col_heading level0 col6\" >fare</th>        <th class=\"col_heading level0 col7\" >embarked</th>        <th class=\"col_heading level0 col8\" >class</th>        <th class=\"col_heading level0 col9\" >who</th>        <th class=\"col_heading level0 col10\" >adult_male</th>        <th class=\"col_heading level0 col11\" >deck</th>        <th class=\"col_heading level0 col12\" >embark_town</th>        <th class=\"col_heading level0 col13\" >alive</th>        <th class=\"col_heading level0 col14\" >alone</th>    </tr></thead><tbody>\n",
       "                <tr>\n",
       "                        <th id=\"T_cca5d_level0_row0\" class=\"row_heading level0 row0\" >0</th>\n",
       "                        <td id=\"T_cca5d_row0_col0\" class=\"data row0 col0\" >0</td>\n",
       "                        <td id=\"T_cca5d_row0_col1\" class=\"data row0 col1\" >3</td>\n",
       "                        <td id=\"T_cca5d_row0_col2\" class=\"data row0 col2\" >male</td>\n",
       "                        <td id=\"T_cca5d_row0_col3\" class=\"data row0 col3\" >22.000000</td>\n",
       "                        <td id=\"T_cca5d_row0_col4\" class=\"data row0 col4\" >1</td>\n",
       "                        <td id=\"T_cca5d_row0_col5\" class=\"data row0 col5\" >0</td>\n",
       "                        <td id=\"T_cca5d_row0_col6\" class=\"data row0 col6\" >7.250000</td>\n",
       "                        <td id=\"T_cca5d_row0_col7\" class=\"data row0 col7\" >S</td>\n",
       "                        <td id=\"T_cca5d_row0_col8\" class=\"data row0 col8\" >Third</td>\n",
       "                        <td id=\"T_cca5d_row0_col9\" class=\"data row0 col9\" >man</td>\n",
       "                        <td id=\"T_cca5d_row0_col10\" class=\"data row0 col10\" >True</td>\n",
       "                        <td id=\"T_cca5d_row0_col11\" class=\"data row0 col11\" >nan</td>\n",
       "                        <td id=\"T_cca5d_row0_col12\" class=\"data row0 col12\" >Southampton</td>\n",
       "                        <td id=\"T_cca5d_row0_col13\" class=\"data row0 col13\" >no</td>\n",
       "                        <td id=\"T_cca5d_row0_col14\" class=\"data row0 col14\" >False</td>\n",
       "            </tr>\n",
       "            <tr>\n",
       "                        <th id=\"T_cca5d_level0_row1\" class=\"row_heading level0 row1\" >1</th>\n",
       "                        <td id=\"T_cca5d_row1_col0\" class=\"data row1 col0\" >1</td>\n",
       "                        <td id=\"T_cca5d_row1_col1\" class=\"data row1 col1\" >1</td>\n",
       "                        <td id=\"T_cca5d_row1_col2\" class=\"data row1 col2\" >female</td>\n",
       "                        <td id=\"T_cca5d_row1_col3\" class=\"data row1 col3\" >38.000000</td>\n",
       "                        <td id=\"T_cca5d_row1_col4\" class=\"data row1 col4\" >1</td>\n",
       "                        <td id=\"T_cca5d_row1_col5\" class=\"data row1 col5\" >0</td>\n",
       "                        <td id=\"T_cca5d_row1_col6\" class=\"data row1 col6\" >71.283300</td>\n",
       "                        <td id=\"T_cca5d_row1_col7\" class=\"data row1 col7\" >C</td>\n",
       "                        <td id=\"T_cca5d_row1_col8\" class=\"data row1 col8\" >First</td>\n",
       "                        <td id=\"T_cca5d_row1_col9\" class=\"data row1 col9\" >woman</td>\n",
       "                        <td id=\"T_cca5d_row1_col10\" class=\"data row1 col10\" >False</td>\n",
       "                        <td id=\"T_cca5d_row1_col11\" class=\"data row1 col11\" >C</td>\n",
       "                        <td id=\"T_cca5d_row1_col12\" class=\"data row1 col12\" >Cherbourg</td>\n",
       "                        <td id=\"T_cca5d_row1_col13\" class=\"data row1 col13\" >yes</td>\n",
       "                        <td id=\"T_cca5d_row1_col14\" class=\"data row1 col14\" >False</td>\n",
       "            </tr>\n",
       "            <tr>\n",
       "                        <th id=\"T_cca5d_level0_row2\" class=\"row_heading level0 row2\" >2</th>\n",
       "                        <td id=\"T_cca5d_row2_col0\" class=\"data row2 col0\" >1</td>\n",
       "                        <td id=\"T_cca5d_row2_col1\" class=\"data row2 col1\" >3</td>\n",
       "                        <td id=\"T_cca5d_row2_col2\" class=\"data row2 col2\" >female</td>\n",
       "                        <td id=\"T_cca5d_row2_col3\" class=\"data row2 col3\" >26.000000</td>\n",
       "                        <td id=\"T_cca5d_row2_col4\" class=\"data row2 col4\" >0</td>\n",
       "                        <td id=\"T_cca5d_row2_col5\" class=\"data row2 col5\" >0</td>\n",
       "                        <td id=\"T_cca5d_row2_col6\" class=\"data row2 col6\" >7.925000</td>\n",
       "                        <td id=\"T_cca5d_row2_col7\" class=\"data row2 col7\" >S</td>\n",
       "                        <td id=\"T_cca5d_row2_col8\" class=\"data row2 col8\" >Third</td>\n",
       "                        <td id=\"T_cca5d_row2_col9\" class=\"data row2 col9\" >woman</td>\n",
       "                        <td id=\"T_cca5d_row2_col10\" class=\"data row2 col10\" >False</td>\n",
       "                        <td id=\"T_cca5d_row2_col11\" class=\"data row2 col11\" >nan</td>\n",
       "                        <td id=\"T_cca5d_row2_col12\" class=\"data row2 col12\" >Southampton</td>\n",
       "                        <td id=\"T_cca5d_row2_col13\" class=\"data row2 col13\" >yes</td>\n",
       "                        <td id=\"T_cca5d_row2_col14\" class=\"data row2 col14\" >True</td>\n",
       "            </tr>\n",
       "            <tr>\n",
       "                        <th id=\"T_cca5d_level0_row3\" class=\"row_heading level0 row3\" >3</th>\n",
       "                        <td id=\"T_cca5d_row3_col0\" class=\"data row3 col0\" >1</td>\n",
       "                        <td id=\"T_cca5d_row3_col1\" class=\"data row3 col1\" >1</td>\n",
       "                        <td id=\"T_cca5d_row3_col2\" class=\"data row3 col2\" >female</td>\n",
       "                        <td id=\"T_cca5d_row3_col3\" class=\"data row3 col3\" >35.000000</td>\n",
       "                        <td id=\"T_cca5d_row3_col4\" class=\"data row3 col4\" >1</td>\n",
       "                        <td id=\"T_cca5d_row3_col5\" class=\"data row3 col5\" >0</td>\n",
       "                        <td id=\"T_cca5d_row3_col6\" class=\"data row3 col6\" >53.100000</td>\n",
       "                        <td id=\"T_cca5d_row3_col7\" class=\"data row3 col7\" >S</td>\n",
       "                        <td id=\"T_cca5d_row3_col8\" class=\"data row3 col8\" >First</td>\n",
       "                        <td id=\"T_cca5d_row3_col9\" class=\"data row3 col9\" >woman</td>\n",
       "                        <td id=\"T_cca5d_row3_col10\" class=\"data row3 col10\" >False</td>\n",
       "                        <td id=\"T_cca5d_row3_col11\" class=\"data row3 col11\" >C</td>\n",
       "                        <td id=\"T_cca5d_row3_col12\" class=\"data row3 col12\" >Southampton</td>\n",
       "                        <td id=\"T_cca5d_row3_col13\" class=\"data row3 col13\" >yes</td>\n",
       "                        <td id=\"T_cca5d_row3_col14\" class=\"data row3 col14\" >False</td>\n",
       "            </tr>\n",
       "            <tr>\n",
       "                        <th id=\"T_cca5d_level0_row4\" class=\"row_heading level0 row4\" >4</th>\n",
       "                        <td id=\"T_cca5d_row4_col0\" class=\"data row4 col0\" >0</td>\n",
       "                        <td id=\"T_cca5d_row4_col1\" class=\"data row4 col1\" >3</td>\n",
       "                        <td id=\"T_cca5d_row4_col2\" class=\"data row4 col2\" >male</td>\n",
       "                        <td id=\"T_cca5d_row4_col3\" class=\"data row4 col3\" >35.000000</td>\n",
       "                        <td id=\"T_cca5d_row4_col4\" class=\"data row4 col4\" >0</td>\n",
       "                        <td id=\"T_cca5d_row4_col5\" class=\"data row4 col5\" >0</td>\n",
       "                        <td id=\"T_cca5d_row4_col6\" class=\"data row4 col6\" >8.050000</td>\n",
       "                        <td id=\"T_cca5d_row4_col7\" class=\"data row4 col7\" >S</td>\n",
       "                        <td id=\"T_cca5d_row4_col8\" class=\"data row4 col8\" >Third</td>\n",
       "                        <td id=\"T_cca5d_row4_col9\" class=\"data row4 col9\" >man</td>\n",
       "                        <td id=\"T_cca5d_row4_col10\" class=\"data row4 col10\" >True</td>\n",
       "                        <td id=\"T_cca5d_row4_col11\" class=\"data row4 col11\" >nan</td>\n",
       "                        <td id=\"T_cca5d_row4_col12\" class=\"data row4 col12\" >Southampton</td>\n",
       "                        <td id=\"T_cca5d_row4_col13\" class=\"data row4 col13\" >no</td>\n",
       "                        <td id=\"T_cca5d_row4_col14\" class=\"data row4 col14\" >True</td>\n",
       "            </tr>\n",
       "    </tbody></table>"
      ],
      "text/plain": [
       "<pandas.io.formats.style.Styler at 0x7fb15dd870a0>"
      ]
     },
     "execution_count": 38,
     "metadata": {},
     "output_type": "execute_result"
    }
   ],
   "source": [
    "cond = \"x[x.index==2]==0\"\n",
    "bp.style_cellx(df1,cond)"
   ]
  },
  {
   "cell_type": "code",
   "execution_count": 39,
   "id": "8d1220a5",
   "metadata": {
    "ExecuteTime": {
     "end_time": "2021-08-04T21:18:33.330643Z",
     "start_time": "2021-08-04T21:18:33.306240Z"
    }
   },
   "outputs": [
    {
     "data": {
      "text/html": [
       "<style  type=\"text/css\" >\n",
       "#T_25118_row0_col4,#T_25118_row0_col10,#T_25118_row1_col0,#T_25118_row1_col1,#T_25118_row1_col4,#T_25118_row2_col0,#T_25118_row2_col14,#T_25118_row3_col0,#T_25118_row3_col1,#T_25118_row3_col4,#T_25118_row4_col10,#T_25118_row4_col14{\n",
       "            background-color:  lightgreen;\n",
       "        }</style><table id=\"T_25118_\" ><thead>    <tr>        <th class=\"blank level0\" ></th>        <th class=\"col_heading level0 col0\" >survived</th>        <th class=\"col_heading level0 col1\" >pclass</th>        <th class=\"col_heading level0 col2\" >sex</th>        <th class=\"col_heading level0 col3\" >age</th>        <th class=\"col_heading level0 col4\" >sibsp</th>        <th class=\"col_heading level0 col5\" >parch</th>        <th class=\"col_heading level0 col6\" >fare</th>        <th class=\"col_heading level0 col7\" >embarked</th>        <th class=\"col_heading level0 col8\" >class</th>        <th class=\"col_heading level0 col9\" >who</th>        <th class=\"col_heading level0 col10\" >adult_male</th>        <th class=\"col_heading level0 col11\" >deck</th>        <th class=\"col_heading level0 col12\" >embark_town</th>        <th class=\"col_heading level0 col13\" >alive</th>        <th class=\"col_heading level0 col14\" >alone</th>    </tr></thead><tbody>\n",
       "                <tr>\n",
       "                        <th id=\"T_25118_level0_row0\" class=\"row_heading level0 row0\" >0</th>\n",
       "                        <td id=\"T_25118_row0_col0\" class=\"data row0 col0\" >0</td>\n",
       "                        <td id=\"T_25118_row0_col1\" class=\"data row0 col1\" >3</td>\n",
       "                        <td id=\"T_25118_row0_col2\" class=\"data row0 col2\" >male</td>\n",
       "                        <td id=\"T_25118_row0_col3\" class=\"data row0 col3\" >22.000000</td>\n",
       "                        <td id=\"T_25118_row0_col4\" class=\"data row0 col4\" >1</td>\n",
       "                        <td id=\"T_25118_row0_col5\" class=\"data row0 col5\" >0</td>\n",
       "                        <td id=\"T_25118_row0_col6\" class=\"data row0 col6\" >7.250000</td>\n",
       "                        <td id=\"T_25118_row0_col7\" class=\"data row0 col7\" >S</td>\n",
       "                        <td id=\"T_25118_row0_col8\" class=\"data row0 col8\" >Third</td>\n",
       "                        <td id=\"T_25118_row0_col9\" class=\"data row0 col9\" >man</td>\n",
       "                        <td id=\"T_25118_row0_col10\" class=\"data row0 col10\" >True</td>\n",
       "                        <td id=\"T_25118_row0_col11\" class=\"data row0 col11\" >nan</td>\n",
       "                        <td id=\"T_25118_row0_col12\" class=\"data row0 col12\" >Southampton</td>\n",
       "                        <td id=\"T_25118_row0_col13\" class=\"data row0 col13\" >no</td>\n",
       "                        <td id=\"T_25118_row0_col14\" class=\"data row0 col14\" >False</td>\n",
       "            </tr>\n",
       "            <tr>\n",
       "                        <th id=\"T_25118_level0_row1\" class=\"row_heading level0 row1\" >1</th>\n",
       "                        <td id=\"T_25118_row1_col0\" class=\"data row1 col0\" >1</td>\n",
       "                        <td id=\"T_25118_row1_col1\" class=\"data row1 col1\" >1</td>\n",
       "                        <td id=\"T_25118_row1_col2\" class=\"data row1 col2\" >female</td>\n",
       "                        <td id=\"T_25118_row1_col3\" class=\"data row1 col3\" >38.000000</td>\n",
       "                        <td id=\"T_25118_row1_col4\" class=\"data row1 col4\" >1</td>\n",
       "                        <td id=\"T_25118_row1_col5\" class=\"data row1 col5\" >0</td>\n",
       "                        <td id=\"T_25118_row1_col6\" class=\"data row1 col6\" >71.283300</td>\n",
       "                        <td id=\"T_25118_row1_col7\" class=\"data row1 col7\" >C</td>\n",
       "                        <td id=\"T_25118_row1_col8\" class=\"data row1 col8\" >First</td>\n",
       "                        <td id=\"T_25118_row1_col9\" class=\"data row1 col9\" >woman</td>\n",
       "                        <td id=\"T_25118_row1_col10\" class=\"data row1 col10\" >False</td>\n",
       "                        <td id=\"T_25118_row1_col11\" class=\"data row1 col11\" >C</td>\n",
       "                        <td id=\"T_25118_row1_col12\" class=\"data row1 col12\" >Cherbourg</td>\n",
       "                        <td id=\"T_25118_row1_col13\" class=\"data row1 col13\" >yes</td>\n",
       "                        <td id=\"T_25118_row1_col14\" class=\"data row1 col14\" >False</td>\n",
       "            </tr>\n",
       "            <tr>\n",
       "                        <th id=\"T_25118_level0_row2\" class=\"row_heading level0 row2\" >2</th>\n",
       "                        <td id=\"T_25118_row2_col0\" class=\"data row2 col0\" >1</td>\n",
       "                        <td id=\"T_25118_row2_col1\" class=\"data row2 col1\" >3</td>\n",
       "                        <td id=\"T_25118_row2_col2\" class=\"data row2 col2\" >female</td>\n",
       "                        <td id=\"T_25118_row2_col3\" class=\"data row2 col3\" >26.000000</td>\n",
       "                        <td id=\"T_25118_row2_col4\" class=\"data row2 col4\" >0</td>\n",
       "                        <td id=\"T_25118_row2_col5\" class=\"data row2 col5\" >0</td>\n",
       "                        <td id=\"T_25118_row2_col6\" class=\"data row2 col6\" >7.925000</td>\n",
       "                        <td id=\"T_25118_row2_col7\" class=\"data row2 col7\" >S</td>\n",
       "                        <td id=\"T_25118_row2_col8\" class=\"data row2 col8\" >Third</td>\n",
       "                        <td id=\"T_25118_row2_col9\" class=\"data row2 col9\" >woman</td>\n",
       "                        <td id=\"T_25118_row2_col10\" class=\"data row2 col10\" >False</td>\n",
       "                        <td id=\"T_25118_row2_col11\" class=\"data row2 col11\" >nan</td>\n",
       "                        <td id=\"T_25118_row2_col12\" class=\"data row2 col12\" >Southampton</td>\n",
       "                        <td id=\"T_25118_row2_col13\" class=\"data row2 col13\" >yes</td>\n",
       "                        <td id=\"T_25118_row2_col14\" class=\"data row2 col14\" >True</td>\n",
       "            </tr>\n",
       "            <tr>\n",
       "                        <th id=\"T_25118_level0_row3\" class=\"row_heading level0 row3\" >3</th>\n",
       "                        <td id=\"T_25118_row3_col0\" class=\"data row3 col0\" >1</td>\n",
       "                        <td id=\"T_25118_row3_col1\" class=\"data row3 col1\" >1</td>\n",
       "                        <td id=\"T_25118_row3_col2\" class=\"data row3 col2\" >female</td>\n",
       "                        <td id=\"T_25118_row3_col3\" class=\"data row3 col3\" >35.000000</td>\n",
       "                        <td id=\"T_25118_row3_col4\" class=\"data row3 col4\" >1</td>\n",
       "                        <td id=\"T_25118_row3_col5\" class=\"data row3 col5\" >0</td>\n",
       "                        <td id=\"T_25118_row3_col6\" class=\"data row3 col6\" >53.100000</td>\n",
       "                        <td id=\"T_25118_row3_col7\" class=\"data row3 col7\" >S</td>\n",
       "                        <td id=\"T_25118_row3_col8\" class=\"data row3 col8\" >First</td>\n",
       "                        <td id=\"T_25118_row3_col9\" class=\"data row3 col9\" >woman</td>\n",
       "                        <td id=\"T_25118_row3_col10\" class=\"data row3 col10\" >False</td>\n",
       "                        <td id=\"T_25118_row3_col11\" class=\"data row3 col11\" >C</td>\n",
       "                        <td id=\"T_25118_row3_col12\" class=\"data row3 col12\" >Southampton</td>\n",
       "                        <td id=\"T_25118_row3_col13\" class=\"data row3 col13\" >yes</td>\n",
       "                        <td id=\"T_25118_row3_col14\" class=\"data row3 col14\" >False</td>\n",
       "            </tr>\n",
       "            <tr>\n",
       "                        <th id=\"T_25118_level0_row4\" class=\"row_heading level0 row4\" >4</th>\n",
       "                        <td id=\"T_25118_row4_col0\" class=\"data row4 col0\" >0</td>\n",
       "                        <td id=\"T_25118_row4_col1\" class=\"data row4 col1\" >3</td>\n",
       "                        <td id=\"T_25118_row4_col2\" class=\"data row4 col2\" >male</td>\n",
       "                        <td id=\"T_25118_row4_col3\" class=\"data row4 col3\" >35.000000</td>\n",
       "                        <td id=\"T_25118_row4_col4\" class=\"data row4 col4\" >0</td>\n",
       "                        <td id=\"T_25118_row4_col5\" class=\"data row4 col5\" >0</td>\n",
       "                        <td id=\"T_25118_row4_col6\" class=\"data row4 col6\" >8.050000</td>\n",
       "                        <td id=\"T_25118_row4_col7\" class=\"data row4 col7\" >S</td>\n",
       "                        <td id=\"T_25118_row4_col8\" class=\"data row4 col8\" >Third</td>\n",
       "                        <td id=\"T_25118_row4_col9\" class=\"data row4 col9\" >man</td>\n",
       "                        <td id=\"T_25118_row4_col10\" class=\"data row4 col10\" >True</td>\n",
       "                        <td id=\"T_25118_row4_col11\" class=\"data row4 col11\" >nan</td>\n",
       "                        <td id=\"T_25118_row4_col12\" class=\"data row4 col12\" >Southampton</td>\n",
       "                        <td id=\"T_25118_row4_col13\" class=\"data row4 col13\" >no</td>\n",
       "                        <td id=\"T_25118_row4_col14\" class=\"data row4 col14\" >True</td>\n",
       "            </tr>\n",
       "    </tbody></table>"
      ],
      "text/plain": [
       "<pandas.io.formats.style.Styler at 0x7fb15ddd6dc0>"
      ]
     },
     "execution_count": 39,
     "metadata": {},
     "output_type": "execute_result"
    }
   ],
   "source": [
    "cond = \"x==1\"\n",
    "bp.style_cellx(df1,cond)"
   ]
  },
  {
   "cell_type": "code",
   "execution_count": 40,
   "id": "df519941",
   "metadata": {
    "ExecuteTime": {
     "end_time": "2021-08-04T21:18:33.362842Z",
     "start_time": "2021-08-04T21:18:33.335683Z"
    }
   },
   "outputs": [
    {
     "data": {
      "text/html": [
       "<style  type=\"text/css\" >\n",
       "#T_daf83_row0_col4,#T_daf83_row0_col10,#T_daf83_row1_col0,#T_daf83_row1_col1,#T_daf83_row1_col4,#T_daf83_row2_col0,#T_daf83_row2_col14,#T_daf83_row3_col0,#T_daf83_row3_col1,#T_daf83_row3_col4,#T_daf83_row4_col10,#T_daf83_row4_col14{\n",
       "            background-color:  lightgreen;\n",
       "        }</style><table id=\"T_daf83_\" ><thead>    <tr>        <th class=\"blank level0\" ></th>        <th class=\"col_heading level0 col0\" >survived</th>        <th class=\"col_heading level0 col1\" >pclass</th>        <th class=\"col_heading level0 col2\" >sex</th>        <th class=\"col_heading level0 col3\" >age</th>        <th class=\"col_heading level0 col4\" >sibsp</th>        <th class=\"col_heading level0 col5\" >parch</th>        <th class=\"col_heading level0 col6\" >fare</th>        <th class=\"col_heading level0 col7\" >embarked</th>        <th class=\"col_heading level0 col8\" >class</th>        <th class=\"col_heading level0 col9\" >who</th>        <th class=\"col_heading level0 col10\" >adult_male</th>        <th class=\"col_heading level0 col11\" >deck</th>        <th class=\"col_heading level0 col12\" >embark_town</th>        <th class=\"col_heading level0 col13\" >alive</th>        <th class=\"col_heading level0 col14\" >alone</th>    </tr></thead><tbody>\n",
       "                <tr>\n",
       "                        <th id=\"T_daf83_level0_row0\" class=\"row_heading level0 row0\" >0</th>\n",
       "                        <td id=\"T_daf83_row0_col0\" class=\"data row0 col0\" >0</td>\n",
       "                        <td id=\"T_daf83_row0_col1\" class=\"data row0 col1\" >3</td>\n",
       "                        <td id=\"T_daf83_row0_col2\" class=\"data row0 col2\" >male</td>\n",
       "                        <td id=\"T_daf83_row0_col3\" class=\"data row0 col3\" >22.000000</td>\n",
       "                        <td id=\"T_daf83_row0_col4\" class=\"data row0 col4\" >1</td>\n",
       "                        <td id=\"T_daf83_row0_col5\" class=\"data row0 col5\" >0</td>\n",
       "                        <td id=\"T_daf83_row0_col6\" class=\"data row0 col6\" >7.250000</td>\n",
       "                        <td id=\"T_daf83_row0_col7\" class=\"data row0 col7\" >S</td>\n",
       "                        <td id=\"T_daf83_row0_col8\" class=\"data row0 col8\" >Third</td>\n",
       "                        <td id=\"T_daf83_row0_col9\" class=\"data row0 col9\" >man</td>\n",
       "                        <td id=\"T_daf83_row0_col10\" class=\"data row0 col10\" >True</td>\n",
       "                        <td id=\"T_daf83_row0_col11\" class=\"data row0 col11\" >nan</td>\n",
       "                        <td id=\"T_daf83_row0_col12\" class=\"data row0 col12\" >Southampton</td>\n",
       "                        <td id=\"T_daf83_row0_col13\" class=\"data row0 col13\" >no</td>\n",
       "                        <td id=\"T_daf83_row0_col14\" class=\"data row0 col14\" >False</td>\n",
       "            </tr>\n",
       "            <tr>\n",
       "                        <th id=\"T_daf83_level0_row1\" class=\"row_heading level0 row1\" >1</th>\n",
       "                        <td id=\"T_daf83_row1_col0\" class=\"data row1 col0\" >1</td>\n",
       "                        <td id=\"T_daf83_row1_col1\" class=\"data row1 col1\" >1</td>\n",
       "                        <td id=\"T_daf83_row1_col2\" class=\"data row1 col2\" >female</td>\n",
       "                        <td id=\"T_daf83_row1_col3\" class=\"data row1 col3\" >38.000000</td>\n",
       "                        <td id=\"T_daf83_row1_col4\" class=\"data row1 col4\" >1</td>\n",
       "                        <td id=\"T_daf83_row1_col5\" class=\"data row1 col5\" >0</td>\n",
       "                        <td id=\"T_daf83_row1_col6\" class=\"data row1 col6\" >71.283300</td>\n",
       "                        <td id=\"T_daf83_row1_col7\" class=\"data row1 col7\" >C</td>\n",
       "                        <td id=\"T_daf83_row1_col8\" class=\"data row1 col8\" >First</td>\n",
       "                        <td id=\"T_daf83_row1_col9\" class=\"data row1 col9\" >woman</td>\n",
       "                        <td id=\"T_daf83_row1_col10\" class=\"data row1 col10\" >False</td>\n",
       "                        <td id=\"T_daf83_row1_col11\" class=\"data row1 col11\" >C</td>\n",
       "                        <td id=\"T_daf83_row1_col12\" class=\"data row1 col12\" >Cherbourg</td>\n",
       "                        <td id=\"T_daf83_row1_col13\" class=\"data row1 col13\" >yes</td>\n",
       "                        <td id=\"T_daf83_row1_col14\" class=\"data row1 col14\" >False</td>\n",
       "            </tr>\n",
       "            <tr>\n",
       "                        <th id=\"T_daf83_level0_row2\" class=\"row_heading level0 row2\" >2</th>\n",
       "                        <td id=\"T_daf83_row2_col0\" class=\"data row2 col0\" >1</td>\n",
       "                        <td id=\"T_daf83_row2_col1\" class=\"data row2 col1\" >3</td>\n",
       "                        <td id=\"T_daf83_row2_col2\" class=\"data row2 col2\" >female</td>\n",
       "                        <td id=\"T_daf83_row2_col3\" class=\"data row2 col3\" >26.000000</td>\n",
       "                        <td id=\"T_daf83_row2_col4\" class=\"data row2 col4\" >0</td>\n",
       "                        <td id=\"T_daf83_row2_col5\" class=\"data row2 col5\" >0</td>\n",
       "                        <td id=\"T_daf83_row2_col6\" class=\"data row2 col6\" >7.925000</td>\n",
       "                        <td id=\"T_daf83_row2_col7\" class=\"data row2 col7\" >S</td>\n",
       "                        <td id=\"T_daf83_row2_col8\" class=\"data row2 col8\" >Third</td>\n",
       "                        <td id=\"T_daf83_row2_col9\" class=\"data row2 col9\" >woman</td>\n",
       "                        <td id=\"T_daf83_row2_col10\" class=\"data row2 col10\" >False</td>\n",
       "                        <td id=\"T_daf83_row2_col11\" class=\"data row2 col11\" >nan</td>\n",
       "                        <td id=\"T_daf83_row2_col12\" class=\"data row2 col12\" >Southampton</td>\n",
       "                        <td id=\"T_daf83_row2_col13\" class=\"data row2 col13\" >yes</td>\n",
       "                        <td id=\"T_daf83_row2_col14\" class=\"data row2 col14\" >True</td>\n",
       "            </tr>\n",
       "            <tr>\n",
       "                        <th id=\"T_daf83_level0_row3\" class=\"row_heading level0 row3\" >3</th>\n",
       "                        <td id=\"T_daf83_row3_col0\" class=\"data row3 col0\" >1</td>\n",
       "                        <td id=\"T_daf83_row3_col1\" class=\"data row3 col1\" >1</td>\n",
       "                        <td id=\"T_daf83_row3_col2\" class=\"data row3 col2\" >female</td>\n",
       "                        <td id=\"T_daf83_row3_col3\" class=\"data row3 col3\" >35.000000</td>\n",
       "                        <td id=\"T_daf83_row3_col4\" class=\"data row3 col4\" >1</td>\n",
       "                        <td id=\"T_daf83_row3_col5\" class=\"data row3 col5\" >0</td>\n",
       "                        <td id=\"T_daf83_row3_col6\" class=\"data row3 col6\" >53.100000</td>\n",
       "                        <td id=\"T_daf83_row3_col7\" class=\"data row3 col7\" >S</td>\n",
       "                        <td id=\"T_daf83_row3_col8\" class=\"data row3 col8\" >First</td>\n",
       "                        <td id=\"T_daf83_row3_col9\" class=\"data row3 col9\" >woman</td>\n",
       "                        <td id=\"T_daf83_row3_col10\" class=\"data row3 col10\" >False</td>\n",
       "                        <td id=\"T_daf83_row3_col11\" class=\"data row3 col11\" >C</td>\n",
       "                        <td id=\"T_daf83_row3_col12\" class=\"data row3 col12\" >Southampton</td>\n",
       "                        <td id=\"T_daf83_row3_col13\" class=\"data row3 col13\" >yes</td>\n",
       "                        <td id=\"T_daf83_row3_col14\" class=\"data row3 col14\" >False</td>\n",
       "            </tr>\n",
       "            <tr>\n",
       "                        <th id=\"T_daf83_level0_row4\" class=\"row_heading level0 row4\" >4</th>\n",
       "                        <td id=\"T_daf83_row4_col0\" class=\"data row4 col0\" >0</td>\n",
       "                        <td id=\"T_daf83_row4_col1\" class=\"data row4 col1\" >3</td>\n",
       "                        <td id=\"T_daf83_row4_col2\" class=\"data row4 col2\" >male</td>\n",
       "                        <td id=\"T_daf83_row4_col3\" class=\"data row4 col3\" >35.000000</td>\n",
       "                        <td id=\"T_daf83_row4_col4\" class=\"data row4 col4\" >0</td>\n",
       "                        <td id=\"T_daf83_row4_col5\" class=\"data row4 col5\" >0</td>\n",
       "                        <td id=\"T_daf83_row4_col6\" class=\"data row4 col6\" >8.050000</td>\n",
       "                        <td id=\"T_daf83_row4_col7\" class=\"data row4 col7\" >S</td>\n",
       "                        <td id=\"T_daf83_row4_col8\" class=\"data row4 col8\" >Third</td>\n",
       "                        <td id=\"T_daf83_row4_col9\" class=\"data row4 col9\" >man</td>\n",
       "                        <td id=\"T_daf83_row4_col10\" class=\"data row4 col10\" >True</td>\n",
       "                        <td id=\"T_daf83_row4_col11\" class=\"data row4 col11\" >nan</td>\n",
       "                        <td id=\"T_daf83_row4_col12\" class=\"data row4 col12\" >Southampton</td>\n",
       "                        <td id=\"T_daf83_row4_col13\" class=\"data row4 col13\" >no</td>\n",
       "                        <td id=\"T_daf83_row4_col14\" class=\"data row4 col14\" >True</td>\n",
       "            </tr>\n",
       "    </tbody></table>"
      ],
      "text/plain": [
       "<pandas.io.formats.style.Styler at 0x7fb15dd62730>"
      ]
     },
     "execution_count": 40,
     "metadata": {},
     "output_type": "execute_result"
    }
   ],
   "source": [
    "df1.bp.style_cellx(\"x==1\")"
   ]
  },
  {
   "cell_type": "code",
   "execution_count": 41,
   "id": "8a8893fc",
   "metadata": {
    "ExecuteTime": {
     "end_time": "2021-08-04T21:18:33.390082Z",
     "start_time": "2021-08-04T21:18:33.365529Z"
    }
   },
   "outputs": [
    {
     "data": {
      "text/html": [
       "<style  type=\"text/css\" >\n",
       "#T_598b4_row1_col0,#T_598b4_row1_col1,#T_598b4_row1_col2,#T_598b4_row1_col3,#T_598b4_row1_col4,#T_598b4_row1_col5,#T_598b4_row1_col6,#T_598b4_row1_col7,#T_598b4_row1_col8,#T_598b4_row1_col9,#T_598b4_row1_col10,#T_598b4_row1_col11,#T_598b4_row1_col12,#T_598b4_row1_col13,#T_598b4_row1_col14,#T_598b4_row3_col0,#T_598b4_row3_col1,#T_598b4_row3_col2,#T_598b4_row3_col3,#T_598b4_row3_col4,#T_598b4_row3_col5,#T_598b4_row3_col6,#T_598b4_row3_col7,#T_598b4_row3_col8,#T_598b4_row3_col9,#T_598b4_row3_col10,#T_598b4_row3_col11,#T_598b4_row3_col12,#T_598b4_row3_col13,#T_598b4_row3_col14{\n",
       "            background-color:  lightgreen;\n",
       "        }</style><table id=\"T_598b4_\" ><thead>    <tr>        <th class=\"blank level0\" ></th>        <th class=\"col_heading level0 col0\" >survived</th>        <th class=\"col_heading level0 col1\" >pclass</th>        <th class=\"col_heading level0 col2\" >sex</th>        <th class=\"col_heading level0 col3\" >age</th>        <th class=\"col_heading level0 col4\" >sibsp</th>        <th class=\"col_heading level0 col5\" >parch</th>        <th class=\"col_heading level0 col6\" >fare</th>        <th class=\"col_heading level0 col7\" >embarked</th>        <th class=\"col_heading level0 col8\" >class</th>        <th class=\"col_heading level0 col9\" >who</th>        <th class=\"col_heading level0 col10\" >adult_male</th>        <th class=\"col_heading level0 col11\" >deck</th>        <th class=\"col_heading level0 col12\" >embark_town</th>        <th class=\"col_heading level0 col13\" >alive</th>        <th class=\"col_heading level0 col14\" >alone</th>    </tr></thead><tbody>\n",
       "                <tr>\n",
       "                        <th id=\"T_598b4_level0_row0\" class=\"row_heading level0 row0\" >0</th>\n",
       "                        <td id=\"T_598b4_row0_col0\" class=\"data row0 col0\" >0</td>\n",
       "                        <td id=\"T_598b4_row0_col1\" class=\"data row0 col1\" >3</td>\n",
       "                        <td id=\"T_598b4_row0_col2\" class=\"data row0 col2\" >male</td>\n",
       "                        <td id=\"T_598b4_row0_col3\" class=\"data row0 col3\" >22.000000</td>\n",
       "                        <td id=\"T_598b4_row0_col4\" class=\"data row0 col4\" >1</td>\n",
       "                        <td id=\"T_598b4_row0_col5\" class=\"data row0 col5\" >0</td>\n",
       "                        <td id=\"T_598b4_row0_col6\" class=\"data row0 col6\" >7.250000</td>\n",
       "                        <td id=\"T_598b4_row0_col7\" class=\"data row0 col7\" >S</td>\n",
       "                        <td id=\"T_598b4_row0_col8\" class=\"data row0 col8\" >Third</td>\n",
       "                        <td id=\"T_598b4_row0_col9\" class=\"data row0 col9\" >man</td>\n",
       "                        <td id=\"T_598b4_row0_col10\" class=\"data row0 col10\" >True</td>\n",
       "                        <td id=\"T_598b4_row0_col11\" class=\"data row0 col11\" >nan</td>\n",
       "                        <td id=\"T_598b4_row0_col12\" class=\"data row0 col12\" >Southampton</td>\n",
       "                        <td id=\"T_598b4_row0_col13\" class=\"data row0 col13\" >no</td>\n",
       "                        <td id=\"T_598b4_row0_col14\" class=\"data row0 col14\" >False</td>\n",
       "            </tr>\n",
       "            <tr>\n",
       "                        <th id=\"T_598b4_level0_row1\" class=\"row_heading level0 row1\" >1</th>\n",
       "                        <td id=\"T_598b4_row1_col0\" class=\"data row1 col0\" >1</td>\n",
       "                        <td id=\"T_598b4_row1_col1\" class=\"data row1 col1\" >1</td>\n",
       "                        <td id=\"T_598b4_row1_col2\" class=\"data row1 col2\" >female</td>\n",
       "                        <td id=\"T_598b4_row1_col3\" class=\"data row1 col3\" >38.000000</td>\n",
       "                        <td id=\"T_598b4_row1_col4\" class=\"data row1 col4\" >1</td>\n",
       "                        <td id=\"T_598b4_row1_col5\" class=\"data row1 col5\" >0</td>\n",
       "                        <td id=\"T_598b4_row1_col6\" class=\"data row1 col6\" >71.283300</td>\n",
       "                        <td id=\"T_598b4_row1_col7\" class=\"data row1 col7\" >C</td>\n",
       "                        <td id=\"T_598b4_row1_col8\" class=\"data row1 col8\" >First</td>\n",
       "                        <td id=\"T_598b4_row1_col9\" class=\"data row1 col9\" >woman</td>\n",
       "                        <td id=\"T_598b4_row1_col10\" class=\"data row1 col10\" >False</td>\n",
       "                        <td id=\"T_598b4_row1_col11\" class=\"data row1 col11\" >C</td>\n",
       "                        <td id=\"T_598b4_row1_col12\" class=\"data row1 col12\" >Cherbourg</td>\n",
       "                        <td id=\"T_598b4_row1_col13\" class=\"data row1 col13\" >yes</td>\n",
       "                        <td id=\"T_598b4_row1_col14\" class=\"data row1 col14\" >False</td>\n",
       "            </tr>\n",
       "            <tr>\n",
       "                        <th id=\"T_598b4_level0_row2\" class=\"row_heading level0 row2\" >2</th>\n",
       "                        <td id=\"T_598b4_row2_col0\" class=\"data row2 col0\" >1</td>\n",
       "                        <td id=\"T_598b4_row2_col1\" class=\"data row2 col1\" >3</td>\n",
       "                        <td id=\"T_598b4_row2_col2\" class=\"data row2 col2\" >female</td>\n",
       "                        <td id=\"T_598b4_row2_col3\" class=\"data row2 col3\" >26.000000</td>\n",
       "                        <td id=\"T_598b4_row2_col4\" class=\"data row2 col4\" >0</td>\n",
       "                        <td id=\"T_598b4_row2_col5\" class=\"data row2 col5\" >0</td>\n",
       "                        <td id=\"T_598b4_row2_col6\" class=\"data row2 col6\" >7.925000</td>\n",
       "                        <td id=\"T_598b4_row2_col7\" class=\"data row2 col7\" >S</td>\n",
       "                        <td id=\"T_598b4_row2_col8\" class=\"data row2 col8\" >Third</td>\n",
       "                        <td id=\"T_598b4_row2_col9\" class=\"data row2 col9\" >woman</td>\n",
       "                        <td id=\"T_598b4_row2_col10\" class=\"data row2 col10\" >False</td>\n",
       "                        <td id=\"T_598b4_row2_col11\" class=\"data row2 col11\" >nan</td>\n",
       "                        <td id=\"T_598b4_row2_col12\" class=\"data row2 col12\" >Southampton</td>\n",
       "                        <td id=\"T_598b4_row2_col13\" class=\"data row2 col13\" >yes</td>\n",
       "                        <td id=\"T_598b4_row2_col14\" class=\"data row2 col14\" >True</td>\n",
       "            </tr>\n",
       "            <tr>\n",
       "                        <th id=\"T_598b4_level0_row3\" class=\"row_heading level0 row3\" >3</th>\n",
       "                        <td id=\"T_598b4_row3_col0\" class=\"data row3 col0\" >1</td>\n",
       "                        <td id=\"T_598b4_row3_col1\" class=\"data row3 col1\" >1</td>\n",
       "                        <td id=\"T_598b4_row3_col2\" class=\"data row3 col2\" >female</td>\n",
       "                        <td id=\"T_598b4_row3_col3\" class=\"data row3 col3\" >35.000000</td>\n",
       "                        <td id=\"T_598b4_row3_col4\" class=\"data row3 col4\" >1</td>\n",
       "                        <td id=\"T_598b4_row3_col5\" class=\"data row3 col5\" >0</td>\n",
       "                        <td id=\"T_598b4_row3_col6\" class=\"data row3 col6\" >53.100000</td>\n",
       "                        <td id=\"T_598b4_row3_col7\" class=\"data row3 col7\" >S</td>\n",
       "                        <td id=\"T_598b4_row3_col8\" class=\"data row3 col8\" >First</td>\n",
       "                        <td id=\"T_598b4_row3_col9\" class=\"data row3 col9\" >woman</td>\n",
       "                        <td id=\"T_598b4_row3_col10\" class=\"data row3 col10\" >False</td>\n",
       "                        <td id=\"T_598b4_row3_col11\" class=\"data row3 col11\" >C</td>\n",
       "                        <td id=\"T_598b4_row3_col12\" class=\"data row3 col12\" >Southampton</td>\n",
       "                        <td id=\"T_598b4_row3_col13\" class=\"data row3 col13\" >yes</td>\n",
       "                        <td id=\"T_598b4_row3_col14\" class=\"data row3 col14\" >False</td>\n",
       "            </tr>\n",
       "            <tr>\n",
       "                        <th id=\"T_598b4_level0_row4\" class=\"row_heading level0 row4\" >4</th>\n",
       "                        <td id=\"T_598b4_row4_col0\" class=\"data row4 col0\" >0</td>\n",
       "                        <td id=\"T_598b4_row4_col1\" class=\"data row4 col1\" >3</td>\n",
       "                        <td id=\"T_598b4_row4_col2\" class=\"data row4 col2\" >male</td>\n",
       "                        <td id=\"T_598b4_row4_col3\" class=\"data row4 col3\" >35.000000</td>\n",
       "                        <td id=\"T_598b4_row4_col4\" class=\"data row4 col4\" >0</td>\n",
       "                        <td id=\"T_598b4_row4_col5\" class=\"data row4 col5\" >0</td>\n",
       "                        <td id=\"T_598b4_row4_col6\" class=\"data row4 col6\" >8.050000</td>\n",
       "                        <td id=\"T_598b4_row4_col7\" class=\"data row4 col7\" >S</td>\n",
       "                        <td id=\"T_598b4_row4_col8\" class=\"data row4 col8\" >Third</td>\n",
       "                        <td id=\"T_598b4_row4_col9\" class=\"data row4 col9\" >man</td>\n",
       "                        <td id=\"T_598b4_row4_col10\" class=\"data row4 col10\" >True</td>\n",
       "                        <td id=\"T_598b4_row4_col11\" class=\"data row4 col11\" >nan</td>\n",
       "                        <td id=\"T_598b4_row4_col12\" class=\"data row4 col12\" >Southampton</td>\n",
       "                        <td id=\"T_598b4_row4_col13\" class=\"data row4 col13\" >no</td>\n",
       "                        <td id=\"T_598b4_row4_col14\" class=\"data row4 col14\" >True</td>\n",
       "            </tr>\n",
       "    </tbody></table>"
      ],
      "text/plain": [
       "<pandas.io.formats.style.Styler at 0x7fb15dde77f0>"
      ]
     },
     "execution_count": 41,
     "metadata": {},
     "output_type": "execute_result"
    }
   ],
   "source": [
    "bp.style_cellx(df1,\"x['survived']==x['pclass']\")"
   ]
  }
 ],
 "metadata": {
  "kernelspec": {
   "display_name": "Python 3",
   "language": "python",
   "name": "python3"
  },
  "language_info": {
   "codemirror_mode": {
    "name": "ipython",
    "version": 3
   },
   "file_extension": ".py",
   "mimetype": "text/x-python",
   "name": "python",
   "nbconvert_exporter": "python",
   "pygments_lexer": "ipython3",
   "version": "3.8.5"
  },
  "toc": {
   "base_numbering": 1,
   "nav_menu": {},
   "number_sections": true,
   "sideBar": true,
   "skip_h1_title": false,
   "title_cell": "Table of Contents",
   "title_sidebar": "Contents",
   "toc_cell": true,
   "toc_position": {},
   "toc_section_display": true,
   "toc_window_display": false
  }
 },
 "nbformat": 4,
 "nbformat_minor": 5
}
