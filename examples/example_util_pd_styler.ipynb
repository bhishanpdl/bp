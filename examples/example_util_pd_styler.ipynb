{
 "cells": [
  {
   "cell_type": "code",
   "execution_count": 1,
   "id": "f33c8d37",
   "metadata": {},
   "outputs": [],
   "source": [
    "import numpy as np\n",
    "import pandas as pd\n",
    "\n",
    "from bhishan import bp"
   ]
  },
  {
   "cell_type": "code",
   "execution_count": null,
   "id": "7d1b359a",
   "metadata": {},
   "outputs": [],
   "source": [
    "df = pd.DataFrame({'A':[10,20,30],\n",
    "            'B':['USA','Japan','Germany'],\n",
    "            'C': [100,200,300],\n",
    "             'D': ['Washington','Tokyo','Brussles']})"
   ]
  },
  {
   "cell_type": "code",
   "execution_count": 7,
   "id": "aa99bec4",
   "metadata": {
    "scrolled": true
   },
   "outputs": [
    {
     "data": {
      "text/html": [
       "<style type=\"text/css\">\n",
       "#T_0a87a_row1_col0, #T_0a87a_row1_col1, #T_0a87a_row1_col2, #T_0a87a_row1_col3 {\n",
       "  background-color: lightblue;\n",
       "}\n",
       "</style>\n",
       "<table id=\"T_0a87a_\">\n",
       "  <thead>\n",
       "    <tr>\n",
       "      <th class=\"blank level0\" >&nbsp;</th>\n",
       "      <th class=\"col_heading level0 col0\" >A</th>\n",
       "      <th class=\"col_heading level0 col1\" >B</th>\n",
       "      <th class=\"col_heading level0 col2\" >C</th>\n",
       "      <th class=\"col_heading level0 col3\" >D</th>\n",
       "    </tr>\n",
       "  </thead>\n",
       "  <tbody>\n",
       "    <tr>\n",
       "      <th id=\"T_0a87a_level0_row0\" class=\"row_heading level0 row0\" >0</th>\n",
       "      <td id=\"T_0a87a_row0_col0\" class=\"data row0 col0\" >10</td>\n",
       "      <td id=\"T_0a87a_row0_col1\" class=\"data row0 col1\" >USA</td>\n",
       "      <td id=\"T_0a87a_row0_col2\" class=\"data row0 col2\" >100</td>\n",
       "      <td id=\"T_0a87a_row0_col3\" class=\"data row0 col3\" >Washington</td>\n",
       "    </tr>\n",
       "    <tr>\n",
       "      <th id=\"T_0a87a_level0_row1\" class=\"row_heading level0 row1\" >1</th>\n",
       "      <td id=\"T_0a87a_row1_col0\" class=\"data row1 col0\" >20</td>\n",
       "      <td id=\"T_0a87a_row1_col1\" class=\"data row1 col1\" >Japan</td>\n",
       "      <td id=\"T_0a87a_row1_col2\" class=\"data row1 col2\" >200</td>\n",
       "      <td id=\"T_0a87a_row1_col3\" class=\"data row1 col3\" >Tokyo</td>\n",
       "    </tr>\n",
       "    <tr>\n",
       "      <th id=\"T_0a87a_level0_row2\" class=\"row_heading level0 row2\" >2</th>\n",
       "      <td id=\"T_0a87a_row2_col0\" class=\"data row2 col0\" >30</td>\n",
       "      <td id=\"T_0a87a_row2_col1\" class=\"data row2 col1\" >Germany</td>\n",
       "      <td id=\"T_0a87a_row2_col2\" class=\"data row2 col2\" >300</td>\n",
       "      <td id=\"T_0a87a_row2_col3\" class=\"data row2 col3\" >Brussles</td>\n",
       "    </tr>\n",
       "  </tbody>\n",
       "</table>\n"
      ],
      "text/plain": [
       "<pandas.io.formats.style.Styler at 0x7f315b84cbb0>"
      ]
     },
     "execution_count": 7,
     "metadata": {},
     "output_type": "execute_result"
    }
   ],
   "source": [
    "bp.style_row(df,1)"
   ]
  },
  {
   "cell_type": "code",
   "execution_count": 10,
   "id": "fbba28b8",
   "metadata": {},
   "outputs": [
    {
     "data": {
      "text/html": [
       "<style type=\"text/css\">\n",
       "#T_a9ee8_row0_col1, #T_a9ee8_row1_col1, #T_a9ee8_row2_col1 {\n",
       "  background-color: salmon;\n",
       "}\n",
       "</style>\n",
       "<table id=\"T_a9ee8_\">\n",
       "  <thead>\n",
       "    <tr>\n",
       "      <th class=\"blank level0\" >&nbsp;</th>\n",
       "      <th class=\"col_heading level0 col0\" >A</th>\n",
       "      <th class=\"col_heading level0 col1\" >B</th>\n",
       "      <th class=\"col_heading level0 col2\" >C</th>\n",
       "      <th class=\"col_heading level0 col3\" >D</th>\n",
       "    </tr>\n",
       "  </thead>\n",
       "  <tbody>\n",
       "    <tr>\n",
       "      <th id=\"T_a9ee8_level0_row0\" class=\"row_heading level0 row0\" >0</th>\n",
       "      <td id=\"T_a9ee8_row0_col0\" class=\"data row0 col0\" >10</td>\n",
       "      <td id=\"T_a9ee8_row0_col1\" class=\"data row0 col1\" >USA</td>\n",
       "      <td id=\"T_a9ee8_row0_col2\" class=\"data row0 col2\" >100</td>\n",
       "      <td id=\"T_a9ee8_row0_col3\" class=\"data row0 col3\" >Washington</td>\n",
       "    </tr>\n",
       "    <tr>\n",
       "      <th id=\"T_a9ee8_level0_row1\" class=\"row_heading level0 row1\" >1</th>\n",
       "      <td id=\"T_a9ee8_row1_col0\" class=\"data row1 col0\" >20</td>\n",
       "      <td id=\"T_a9ee8_row1_col1\" class=\"data row1 col1\" >Japan</td>\n",
       "      <td id=\"T_a9ee8_row1_col2\" class=\"data row1 col2\" >200</td>\n",
       "      <td id=\"T_a9ee8_row1_col3\" class=\"data row1 col3\" >Tokyo</td>\n",
       "    </tr>\n",
       "    <tr>\n",
       "      <th id=\"T_a9ee8_level0_row2\" class=\"row_heading level0 row2\" >2</th>\n",
       "      <td id=\"T_a9ee8_row2_col0\" class=\"data row2 col0\" >30</td>\n",
       "      <td id=\"T_a9ee8_row2_col1\" class=\"data row2 col1\" >Germany</td>\n",
       "      <td id=\"T_a9ee8_row2_col2\" class=\"data row2 col2\" >300</td>\n",
       "      <td id=\"T_a9ee8_row2_col3\" class=\"data row2 col3\" >Brussles</td>\n",
       "    </tr>\n",
       "  </tbody>\n",
       "</table>\n"
      ],
      "text/plain": [
       "<pandas.io.formats.style.Styler at 0x7f30eb681790>"
      ]
     },
     "execution_count": 10,
     "metadata": {},
     "output_type": "execute_result"
    }
   ],
   "source": [
    "bp.style_col(df,1)"
   ]
  },
  {
   "cell_type": "code",
   "execution_count": 11,
   "id": "439bbf66",
   "metadata": {},
   "outputs": [
    {
     "data": {
      "text/html": [
       "<style type=\"text/css\">\n",
       "#T_cf304_row0_col0, #T_cf304_row0_col1, #T_cf304_row0_col2, #T_cf304_row0_col3, #T_cf304_row1_col0, #T_cf304_row1_col1, #T_cf304_row1_col2, #T_cf304_row1_col3 {\n",
       "  background: lightblue;\n",
       "}\n",
       "</style>\n",
       "<table id=\"T_cf304_\">\n",
       "  <thead>\n",
       "    <tr>\n",
       "      <th class=\"blank level0\" >&nbsp;</th>\n",
       "      <th class=\"col_heading level0 col0\" >A</th>\n",
       "      <th class=\"col_heading level0 col1\" >B</th>\n",
       "      <th class=\"col_heading level0 col2\" >C</th>\n",
       "      <th class=\"col_heading level0 col3\" >D</th>\n",
       "    </tr>\n",
       "  </thead>\n",
       "  <tbody>\n",
       "    <tr>\n",
       "      <th id=\"T_cf304_level0_row0\" class=\"row_heading level0 row0\" >0</th>\n",
       "      <td id=\"T_cf304_row0_col0\" class=\"data row0 col0\" >10</td>\n",
       "      <td id=\"T_cf304_row0_col1\" class=\"data row0 col1\" >USA</td>\n",
       "      <td id=\"T_cf304_row0_col2\" class=\"data row0 col2\" >100</td>\n",
       "      <td id=\"T_cf304_row0_col3\" class=\"data row0 col3\" >Washington</td>\n",
       "    </tr>\n",
       "    <tr>\n",
       "      <th id=\"T_cf304_level0_row1\" class=\"row_heading level0 row1\" >1</th>\n",
       "      <td id=\"T_cf304_row1_col0\" class=\"data row1 col0\" >20</td>\n",
       "      <td id=\"T_cf304_row1_col1\" class=\"data row1 col1\" >Japan</td>\n",
       "      <td id=\"T_cf304_row1_col2\" class=\"data row1 col2\" >200</td>\n",
       "      <td id=\"T_cf304_row1_col3\" class=\"data row1 col3\" >Tokyo</td>\n",
       "    </tr>\n",
       "    <tr>\n",
       "      <th id=\"T_cf304_level0_row2\" class=\"row_heading level0 row2\" >2</th>\n",
       "      <td id=\"T_cf304_row2_col0\" class=\"data row2 col0\" >30</td>\n",
       "      <td id=\"T_cf304_row2_col1\" class=\"data row2 col1\" >Germany</td>\n",
       "      <td id=\"T_cf304_row2_col2\" class=\"data row2 col2\" >300</td>\n",
       "      <td id=\"T_cf304_row2_col3\" class=\"data row2 col3\" >Brussles</td>\n",
       "    </tr>\n",
       "  </tbody>\n",
       "</table>\n"
      ],
      "text/plain": [
       "<pandas.io.formats.style.Styler at 0x7f30eb638730>"
      ]
     },
     "execution_count": 11,
     "metadata": {},
     "output_type": "execute_result"
    }
   ],
   "source": [
    "bp.style_rowcol(df,(0,1))"
   ]
  },
  {
   "cell_type": "code",
   "execution_count": 14,
   "id": "78c4b7ef",
   "metadata": {},
   "outputs": [
    {
     "data": {
      "text/html": [
       "<style type=\"text/css\">\n",
       "#T_44b0b_row0_col2, #T_44b0b_row1_col1, #T_44b0b_row2_col0 {\n",
       "  background-color: salmon;\n",
       "}\n",
       "</style>\n",
       "<table id=\"T_44b0b_\">\n",
       "  <thead>\n",
       "    <tr>\n",
       "      <th class=\"blank level0\" >&nbsp;</th>\n",
       "      <th class=\"col_heading level0 col0\" >A</th>\n",
       "      <th class=\"col_heading level0 col1\" >B</th>\n",
       "      <th class=\"col_heading level0 col2\" >C</th>\n",
       "      <th class=\"col_heading level0 col3\" >D</th>\n",
       "    </tr>\n",
       "  </thead>\n",
       "  <tbody>\n",
       "    <tr>\n",
       "      <th id=\"T_44b0b_level0_row0\" class=\"row_heading level0 row0\" >0</th>\n",
       "      <td id=\"T_44b0b_row0_col0\" class=\"data row0 col0\" >10</td>\n",
       "      <td id=\"T_44b0b_row0_col1\" class=\"data row0 col1\" >USA</td>\n",
       "      <td id=\"T_44b0b_row0_col2\" class=\"data row0 col2\" >100</td>\n",
       "      <td id=\"T_44b0b_row0_col3\" class=\"data row0 col3\" >Washington</td>\n",
       "    </tr>\n",
       "    <tr>\n",
       "      <th id=\"T_44b0b_level0_row1\" class=\"row_heading level0 row1\" >1</th>\n",
       "      <td id=\"T_44b0b_row1_col0\" class=\"data row1 col0\" >20</td>\n",
       "      <td id=\"T_44b0b_row1_col1\" class=\"data row1 col1\" >Japan</td>\n",
       "      <td id=\"T_44b0b_row1_col2\" class=\"data row1 col2\" >200</td>\n",
       "      <td id=\"T_44b0b_row1_col3\" class=\"data row1 col3\" >Tokyo</td>\n",
       "    </tr>\n",
       "    <tr>\n",
       "      <th id=\"T_44b0b_level0_row2\" class=\"row_heading level0 row2\" >2</th>\n",
       "      <td id=\"T_44b0b_row2_col0\" class=\"data row2 col0\" >30</td>\n",
       "      <td id=\"T_44b0b_row2_col1\" class=\"data row2 col1\" >Germany</td>\n",
       "      <td id=\"T_44b0b_row2_col2\" class=\"data row2 col2\" >300</td>\n",
       "      <td id=\"T_44b0b_row2_col3\" class=\"data row2 col3\" >Brussles</td>\n",
       "    </tr>\n",
       "  </tbody>\n",
       "</table>\n"
      ],
      "text/plain": [
       "<pandas.io.formats.style.Styler at 0x7f30eb655790>"
      ]
     },
     "execution_count": 14,
     "metadata": {},
     "output_type": "execute_result"
    }
   ],
   "source": [
    "bp.style_diag(df,diag='second')"
   ]
  },
  {
   "cell_type": "code",
   "execution_count": null,
   "id": "aac21a13",
   "metadata": {},
   "outputs": [],
   "source": []
  }
 ],
 "metadata": {
  "kernelspec": {
   "display_name": "Python 3 (ipykernel)",
   "language": "python",
   "name": "python3"
  },
  "language_info": {
   "codemirror_mode": {
    "name": "ipython",
    "version": 3
   },
   "file_extension": ".py",
   "mimetype": "text/x-python",
   "name": "python",
   "nbconvert_exporter": "python",
   "pygments_lexer": "ipython3",
   "version": "3.9.5"
  }
 },
 "nbformat": 4,
 "nbformat_minor": 5
}
