{
 "cells": [
  {
   "cell_type": "markdown",
   "metadata": {
    "toc": true
   },
   "source": [
    "<h1>Table of Contents<span class=\"tocSkip\"></span></h1>\n",
    "<div class=\"toc\"><ul class=\"toc-item\"><li><span><a href=\"#Imports\" data-toc-modified-id=\"Imports-1\"><span class=\"toc-item-num\">1&nbsp;&nbsp;</span>Imports</a></span></li><li><span><a href=\"#Load-data\" data-toc-modified-id=\"Load-data-2\"><span class=\"toc-item-num\">2&nbsp;&nbsp;</span>Load data</a></span></li><li><span><a href=\"#Modelling\" data-toc-modified-id=\"Modelling-3\"><span class=\"toc-item-num\">3&nbsp;&nbsp;</span>Modelling</a></span></li><li><span><a href=\"#Model-Evaluation-using-module-&quot;bp&quot;\" data-toc-modified-id=\"Model-Evaluation-using-module-&quot;bp&quot;-4\"><span class=\"toc-item-num\">4&nbsp;&nbsp;</span>Model Evaluation using module \"bp\"</a></span><ul class=\"toc-item\"><li><span><a href=\"#Accuracy-Precision-and-Recall\" data-toc-modified-id=\"Accuracy-Precision-and-Recall-4.1\"><span class=\"toc-item-num\">4.1&nbsp;&nbsp;</span>Accuracy Precision and Recall</a></span></li><li><span><a href=\"#Classificaion-Report\" data-toc-modified-id=\"Classificaion-Report-4.2\"><span class=\"toc-item-num\">4.2&nbsp;&nbsp;</span>Classificaion Report</a></span></li><li><span><a href=\"#Confusion-Matrix\" data-toc-modified-id=\"Confusion-Matrix-4.3\"><span class=\"toc-item-num\">4.3&nbsp;&nbsp;</span>Confusion Matrix</a></span></li><li><span><a href=\"#Area-Under-the-Curve\" data-toc-modified-id=\"Area-Under-the-Curve-4.4\"><span class=\"toc-item-num\">4.4&nbsp;&nbsp;</span>Area Under the Curve</a></span></li></ul></li></ul></div>"
   ]
  },
  {
   "cell_type": "markdown",
   "metadata": {},
   "source": [
    "# Imports"
   ]
  },
  {
   "cell_type": "code",
   "execution_count": 1,
   "metadata": {
    "ExecuteTime": {
     "end_time": "2021-07-11T16:22:57.907775Z",
     "start_time": "2021-07-11T16:22:56.588567Z"
    }
   },
   "outputs": [
    {
     "name": "stdout",
     "output_type": "stream",
     "text": [
      "Bhishan Poudel 2021-07-11 \n",
      "\n",
      "CPython 3.7.7\n",
      "IPython 7.22.0\n",
      "\n",
      "compiler   : Clang 4.0.1 (tags/RELEASE_401/final)\n",
      "system     : Darwin\n",
      "release    : 19.6.0\n",
      "machine    : x86_64\n",
      "processor  : i386\n",
      "CPU cores  : 4\n",
      "interpreter: 64bit\n",
      "pandas  1.2.4\n",
      "seaborn 0.11.0\n",
      "numpy   1.19.5\n",
      "\n"
     ]
    }
   ],
   "source": [
    "import numpy as np\n",
    "import pandas as pd\n",
    "import matplotlib.pyplot as plt\n",
    "import seaborn as sns\n",
    "\n",
    "%load_ext autoreload\n",
    "%load_ext watermark\n",
    "\n",
    "%autoreload 2\n",
    "%watermark -a \"Bhishan Poudel\" -d -v -m\n",
    "%watermark -iv"
   ]
  },
  {
   "cell_type": "code",
   "execution_count": 2,
   "metadata": {
    "ExecuteTime": {
     "end_time": "2021-07-11T16:22:58.559922Z",
     "start_time": "2021-07-11T16:22:57.911734Z"
    }
   },
   "outputs": [],
   "source": [
    "# my local library\n",
    "import sys\n",
    "sys.path.append(\"/Users/poudel/Dropbox/a00_Bhishan_Modules/\")\n",
    "sys.path.append(\"/Users/poudel/Dropbox/a00_Bhishan_Modules/bhishan\")\n",
    "from bhishan import bp"
   ]
  },
  {
   "cell_type": "code",
   "execution_count": 3,
   "metadata": {
    "ExecuteTime": {
     "end_time": "2021-07-11T16:22:58.601674Z",
     "start_time": "2021-07-11T16:22:58.562626Z"
    }
   },
   "outputs": [
    {
     "data": {
      "application/javascript": [
       "IPython.OutputArea.auto_scroll_threshold = 9999;\n"
      ],
      "text/plain": [
       "<IPython.core.display.Javascript object>"
      ]
     },
     "metadata": {},
     "output_type": "display_data"
    }
   ],
   "source": [
    "%%javascript\n",
    "IPython.OutputArea.auto_scroll_threshold = 9999;"
   ]
  },
  {
   "cell_type": "markdown",
   "metadata": {},
   "source": [
    "# Load data"
   ]
  },
  {
   "cell_type": "code",
   "execution_count": 4,
   "metadata": {
    "ExecuteTime": {
     "end_time": "2021-07-11T16:22:58.663245Z",
     "start_time": "2021-07-11T16:22:58.605090Z"
    }
   },
   "outputs": [
    {
     "data": {
      "text/html": [
       "<div>\n",
       "<style scoped>\n",
       "    .dataframe tbody tr th:only-of-type {\n",
       "        vertical-align: middle;\n",
       "    }\n",
       "\n",
       "    .dataframe tbody tr th {\n",
       "        vertical-align: top;\n",
       "    }\n",
       "\n",
       "    .dataframe thead th {\n",
       "        text-align: right;\n",
       "    }\n",
       "</style>\n",
       "<table border=\"1\" class=\"dataframe\">\n",
       "  <thead>\n",
       "    <tr style=\"text-align: right;\">\n",
       "      <th></th>\n",
       "      <th>survived</th>\n",
       "      <th>pclass</th>\n",
       "      <th>sex</th>\n",
       "      <th>age</th>\n",
       "      <th>sibsp</th>\n",
       "      <th>parch</th>\n",
       "      <th>fare</th>\n",
       "      <th>embarked</th>\n",
       "      <th>class</th>\n",
       "      <th>who</th>\n",
       "      <th>adult_male</th>\n",
       "      <th>deck</th>\n",
       "      <th>embark_town</th>\n",
       "      <th>alive</th>\n",
       "      <th>alone</th>\n",
       "    </tr>\n",
       "  </thead>\n",
       "  <tbody>\n",
       "    <tr>\n",
       "      <th>0</th>\n",
       "      <td>0</td>\n",
       "      <td>3</td>\n",
       "      <td>male</td>\n",
       "      <td>22.0</td>\n",
       "      <td>1</td>\n",
       "      <td>0</td>\n",
       "      <td>7.2500</td>\n",
       "      <td>S</td>\n",
       "      <td>Third</td>\n",
       "      <td>man</td>\n",
       "      <td>True</td>\n",
       "      <td>NaN</td>\n",
       "      <td>Southampton</td>\n",
       "      <td>no</td>\n",
       "      <td>False</td>\n",
       "    </tr>\n",
       "    <tr>\n",
       "      <th>1</th>\n",
       "      <td>1</td>\n",
       "      <td>1</td>\n",
       "      <td>female</td>\n",
       "      <td>38.0</td>\n",
       "      <td>1</td>\n",
       "      <td>0</td>\n",
       "      <td>71.2833</td>\n",
       "      <td>C</td>\n",
       "      <td>First</td>\n",
       "      <td>woman</td>\n",
       "      <td>False</td>\n",
       "      <td>C</td>\n",
       "      <td>Cherbourg</td>\n",
       "      <td>yes</td>\n",
       "      <td>False</td>\n",
       "    </tr>\n",
       "    <tr>\n",
       "      <th>2</th>\n",
       "      <td>1</td>\n",
       "      <td>3</td>\n",
       "      <td>female</td>\n",
       "      <td>26.0</td>\n",
       "      <td>0</td>\n",
       "      <td>0</td>\n",
       "      <td>7.9250</td>\n",
       "      <td>S</td>\n",
       "      <td>Third</td>\n",
       "      <td>woman</td>\n",
       "      <td>False</td>\n",
       "      <td>NaN</td>\n",
       "      <td>Southampton</td>\n",
       "      <td>yes</td>\n",
       "      <td>True</td>\n",
       "    </tr>\n",
       "    <tr>\n",
       "      <th>3</th>\n",
       "      <td>1</td>\n",
       "      <td>1</td>\n",
       "      <td>female</td>\n",
       "      <td>35.0</td>\n",
       "      <td>1</td>\n",
       "      <td>0</td>\n",
       "      <td>53.1000</td>\n",
       "      <td>S</td>\n",
       "      <td>First</td>\n",
       "      <td>woman</td>\n",
       "      <td>False</td>\n",
       "      <td>C</td>\n",
       "      <td>Southampton</td>\n",
       "      <td>yes</td>\n",
       "      <td>False</td>\n",
       "    </tr>\n",
       "    <tr>\n",
       "      <th>4</th>\n",
       "      <td>0</td>\n",
       "      <td>3</td>\n",
       "      <td>male</td>\n",
       "      <td>35.0</td>\n",
       "      <td>0</td>\n",
       "      <td>0</td>\n",
       "      <td>8.0500</td>\n",
       "      <td>S</td>\n",
       "      <td>Third</td>\n",
       "      <td>man</td>\n",
       "      <td>True</td>\n",
       "      <td>NaN</td>\n",
       "      <td>Southampton</td>\n",
       "      <td>no</td>\n",
       "      <td>True</td>\n",
       "    </tr>\n",
       "  </tbody>\n",
       "</table>\n",
       "</div>"
      ],
      "text/plain": [
       "   survived  pclass     sex   age  sibsp  parch     fare embarked  class  \\\n",
       "0         0       3    male  22.0      1      0   7.2500        S  Third   \n",
       "1         1       1  female  38.0      1      0  71.2833        C  First   \n",
       "2         1       3  female  26.0      0      0   7.9250        S  Third   \n",
       "3         1       1  female  35.0      1      0  53.1000        S  First   \n",
       "4         0       3    male  35.0      0      0   8.0500        S  Third   \n",
       "\n",
       "     who  adult_male deck  embark_town alive  alone  \n",
       "0    man        True  NaN  Southampton    no  False  \n",
       "1  woman       False    C    Cherbourg   yes  False  \n",
       "2  woman       False  NaN  Southampton   yes   True  \n",
       "3  woman       False    C  Southampton   yes  False  \n",
       "4    man        True  NaN  Southampton    no   True  "
      ]
     },
     "execution_count": 4,
     "metadata": {},
     "output_type": "execute_result"
    }
   ],
   "source": [
    "df = sns.load_dataset('titanic')\n",
    "df.head()"
   ]
  },
  {
   "cell_type": "code",
   "execution_count": 5,
   "metadata": {
    "ExecuteTime": {
     "end_time": "2021-07-11T16:22:58.893434Z",
     "start_time": "2021-07-11T16:22:58.665947Z"
    }
   },
   "outputs": [
    {
     "data": {
      "text/html": [
       "<style>.container { width:100% !important; }</style>"
      ],
      "text/plain": [
       "<IPython.core.display.HTML object>"
      ]
     },
     "metadata": {},
     "output_type": "display_data"
    },
    {
     "data": {
      "text/html": [
       "<style  type=\"text/css\" >\n",
       "#T_73868_row0_col1,#T_73868_row2_col1,#T_73868_row3_col1,#T_73868_row11_col1,#T_73868_row12_col1,#T_73868_row13_col1,#T_73868_row14_col1{\n",
       "            background:  salmon;\n",
       "        }#T_73868_row0_col6,#T_73868_row4_col8,#T_73868_row7_col10,#T_73868_row8_col10{\n",
       "            background-color:  #023858;\n",
       "            color:  #f1f1f1;\n",
       "        }#T_73868_row0_col8,#T_73868_row0_col10,#T_73868_row1_col8,#T_73868_row2_col6,#T_73868_row2_col8,#T_73868_row2_col10,#T_73868_row3_col6,#T_73868_row3_col8,#T_73868_row3_col10,#T_73868_row4_col6,#T_73868_row5_col6,#T_73868_row6_col6,#T_73868_row7_col6,#T_73868_row8_col6,#T_73868_row9_col6,#T_73868_row9_col10,#T_73868_row10_col6,#T_73868_row10_col8,#T_73868_row11_col6,#T_73868_row11_col8,#T_73868_row11_col10,#T_73868_row12_col6,#T_73868_row12_col8,#T_73868_row12_col10,#T_73868_row13_col6,#T_73868_row13_col8,#T_73868_row13_col10,#T_73868_row14_col6,#T_73868_row14_col8,#T_73868_row14_col10{\n",
       "            background-color:  #fff7fb;\n",
       "            color:  #000000;\n",
       "        }#T_73868_row1_col6{\n",
       "            background-color:  #ced0e6;\n",
       "            color:  #000000;\n",
       "        }#T_73868_row1_col10{\n",
       "            background-color:  #fdf5fa;\n",
       "            color:  #000000;\n",
       "        }#T_73868_row4_col10{\n",
       "            background-color:  #d7d6e9;\n",
       "            color:  #000000;\n",
       "        }#T_73868_row5_col8{\n",
       "            background-color:  #045483;\n",
       "            color:  #f1f1f1;\n",
       "        }#T_73868_row5_col10{\n",
       "            background-color:  #a1bbda;\n",
       "            color:  #000000;\n",
       "        }#T_73868_row6_col8{\n",
       "            background-color:  #05659f;\n",
       "            color:  #f1f1f1;\n",
       "        }#T_73868_row6_col10{\n",
       "            background-color:  #308cbe;\n",
       "            color:  #000000;\n",
       "        }#T_73868_row7_col8,#T_73868_row8_col8{\n",
       "            background-color:  #69a5cc;\n",
       "            color:  #000000;\n",
       "        }#T_73868_row9_col8{\n",
       "            background-color:  #fcf4fa;\n",
       "            color:  #000000;\n",
       "        }#T_73868_row10_col10{\n",
       "            background-color:  #9cb9d9;\n",
       "            color:  #000000;\n",
       "        }</style><table id=\"T_73868_\" ><thead>    <tr>        <th class=\"blank level0\" ></th>        <th class=\"col_heading level0 col0\" >Feature</th>        <th class=\"col_heading level0 col1\" >Type</th>        <th class=\"col_heading level0 col2\" >N</th>        <th class=\"col_heading level0 col3\" >Count</th>        <th class=\"col_heading level0 col4\" >Unique</th>        <th class=\"col_heading level0 col5\" >Missing</th>        <th class=\"col_heading level0 col6\" >MissingPct</th>        <th class=\"col_heading level0 col7\" >Zeros</th>        <th class=\"col_heading level0 col8\" >ZerosPct</th>        <th class=\"col_heading level0 col9\" >Ones</th>        <th class=\"col_heading level0 col10\" >OnesPct</th>        <th class=\"col_heading level0 col11\" >mean</th>        <th class=\"col_heading level0 col12\" >std</th>        <th class=\"col_heading level0 col13\" >min</th>        <th class=\"col_heading level0 col14\" >max</th>        <th class=\"col_heading level0 col15\" >25%</th>        <th class=\"col_heading level0 col16\" >50%</th>        <th class=\"col_heading level0 col17\" >75%</th>        <th class=\"col_heading level0 col18\" >Feature2</th>        <th class=\"col_heading level0 col19\" >smallest5</th>        <th class=\"col_heading level0 col20\" >largest5</th>        <th class=\"col_heading level0 col21\" >first5</th>        <th class=\"col_heading level0 col22\" >last5</th>    </tr></thead><tbody>\n",
       "                <tr>\n",
       "                        <th id=\"T_73868_level0_row0\" class=\"row_heading level0 row0\" >11</th>\n",
       "                        <td id=\"T_73868_row0_col0\" class=\"data row0 col0\" >deck</td>\n",
       "                        <td id=\"T_73868_row0_col1\" class=\"data row0 col1\" >category</td>\n",
       "                        <td id=\"T_73868_row0_col2\" class=\"data row0 col2\" >891</td>\n",
       "                        <td id=\"T_73868_row0_col3\" class=\"data row0 col3\" >203</td>\n",
       "                        <td id=\"T_73868_row0_col4\" class=\"data row0 col4\" >7</td>\n",
       "                        <td id=\"T_73868_row0_col5\" class=\"data row0 col5\" >688</td>\n",
       "                        <td id=\"T_73868_row0_col6\" class=\"data row0 col6\" >77.22</td>\n",
       "                        <td id=\"T_73868_row0_col7\" class=\"data row0 col7\" >0</td>\n",
       "                        <td id=\"T_73868_row0_col8\" class=\"data row0 col8\" >0.00</td>\n",
       "                        <td id=\"T_73868_row0_col9\" class=\"data row0 col9\" >0</td>\n",
       "                        <td id=\"T_73868_row0_col10\" class=\"data row0 col10\" >0.00</td>\n",
       "                        <td id=\"T_73868_row0_col11\" class=\"data row0 col11\" ></td>\n",
       "                        <td id=\"T_73868_row0_col12\" class=\"data row0 col12\" ></td>\n",
       "                        <td id=\"T_73868_row0_col13\" class=\"data row0 col13\" ></td>\n",
       "                        <td id=\"T_73868_row0_col14\" class=\"data row0 col14\" ></td>\n",
       "                        <td id=\"T_73868_row0_col15\" class=\"data row0 col15\" ></td>\n",
       "                        <td id=\"T_73868_row0_col16\" class=\"data row0 col16\" ></td>\n",
       "                        <td id=\"T_73868_row0_col17\" class=\"data row0 col17\" ></td>\n",
       "                        <td id=\"T_73868_row0_col18\" class=\"data row0 col18\" >deck</td>\n",
       "                        <td id=\"T_73868_row0_col19\" class=\"data row0 col19\" >['A', 'A', 'A', 'A', 'A']</td>\n",
       "                        <td id=\"T_73868_row0_col20\" class=\"data row0 col20\" >['G', 'G', 'G', 'G', 'F']</td>\n",
       "                        <td id=\"T_73868_row0_col21\" class=\"data row0 col21\" >[nan, 'C', nan, 'C', nan]</td>\n",
       "                        <td id=\"T_73868_row0_col22\" class=\"data row0 col22\" >[nan, 'B', nan, 'C', nan]</td>\n",
       "            </tr>\n",
       "            <tr>\n",
       "                        <th id=\"T_73868_level0_row1\" class=\"row_heading level0 row1\" >3</th>\n",
       "                        <td id=\"T_73868_row1_col0\" class=\"data row1 col0\" >age</td>\n",
       "                        <td id=\"T_73868_row1_col1\" class=\"data row1 col1\" >float64</td>\n",
       "                        <td id=\"T_73868_row1_col2\" class=\"data row1 col2\" >891</td>\n",
       "                        <td id=\"T_73868_row1_col3\" class=\"data row1 col3\" >714</td>\n",
       "                        <td id=\"T_73868_row1_col4\" class=\"data row1 col4\" >88</td>\n",
       "                        <td id=\"T_73868_row1_col5\" class=\"data row1 col5\" >177</td>\n",
       "                        <td id=\"T_73868_row1_col6\" class=\"data row1 col6\" >19.87</td>\n",
       "                        <td id=\"T_73868_row1_col7\" class=\"data row1 col7\" >0</td>\n",
       "                        <td id=\"T_73868_row1_col8\" class=\"data row1 col8\" >0.00</td>\n",
       "                        <td id=\"T_73868_row1_col9\" class=\"data row1 col9\" >7</td>\n",
       "                        <td id=\"T_73868_row1_col10\" class=\"data row1 col10\" >0.79</td>\n",
       "                        <td id=\"T_73868_row1_col11\" class=\"data row1 col11\" >29.70</td>\n",
       "                        <td id=\"T_73868_row1_col12\" class=\"data row1 col12\" >14.53</td>\n",
       "                        <td id=\"T_73868_row1_col13\" class=\"data row1 col13\" >0.42</td>\n",
       "                        <td id=\"T_73868_row1_col14\" class=\"data row1 col14\" >80.00</td>\n",
       "                        <td id=\"T_73868_row1_col15\" class=\"data row1 col15\" >20.12</td>\n",
       "                        <td id=\"T_73868_row1_col16\" class=\"data row1 col16\" >28.00</td>\n",
       "                        <td id=\"T_73868_row1_col17\" class=\"data row1 col17\" >38.00</td>\n",
       "                        <td id=\"T_73868_row1_col18\" class=\"data row1 col18\" >age</td>\n",
       "                        <td id=\"T_73868_row1_col19\" class=\"data row1 col19\" >[0.42, 0.67, 0.75, 0.75, 0.83]</td>\n",
       "                        <td id=\"T_73868_row1_col20\" class=\"data row1 col20\" >[80.0, 74.0, 71.0, 71.0, 70.5]</td>\n",
       "                        <td id=\"T_73868_row1_col21\" class=\"data row1 col21\" >[22.0, 38.0, 26.0, 35.0, 35.0]</td>\n",
       "                        <td id=\"T_73868_row1_col22\" class=\"data row1 col22\" >[27.0, 19.0, nan, 26.0, 32.0]</td>\n",
       "            </tr>\n",
       "            <tr>\n",
       "                        <th id=\"T_73868_level0_row2\" class=\"row_heading level0 row2\" >7</th>\n",
       "                        <td id=\"T_73868_row2_col0\" class=\"data row2 col0\" >embarked</td>\n",
       "                        <td id=\"T_73868_row2_col1\" class=\"data row2 col1\" >object</td>\n",
       "                        <td id=\"T_73868_row2_col2\" class=\"data row2 col2\" >891</td>\n",
       "                        <td id=\"T_73868_row2_col3\" class=\"data row2 col3\" >889</td>\n",
       "                        <td id=\"T_73868_row2_col4\" class=\"data row2 col4\" >3</td>\n",
       "                        <td id=\"T_73868_row2_col5\" class=\"data row2 col5\" >2</td>\n",
       "                        <td id=\"T_73868_row2_col6\" class=\"data row2 col6\" >0.22</td>\n",
       "                        <td id=\"T_73868_row2_col7\" class=\"data row2 col7\" >0</td>\n",
       "                        <td id=\"T_73868_row2_col8\" class=\"data row2 col8\" >0.00</td>\n",
       "                        <td id=\"T_73868_row2_col9\" class=\"data row2 col9\" >0</td>\n",
       "                        <td id=\"T_73868_row2_col10\" class=\"data row2 col10\" >0.00</td>\n",
       "                        <td id=\"T_73868_row2_col11\" class=\"data row2 col11\" ></td>\n",
       "                        <td id=\"T_73868_row2_col12\" class=\"data row2 col12\" ></td>\n",
       "                        <td id=\"T_73868_row2_col13\" class=\"data row2 col13\" ></td>\n",
       "                        <td id=\"T_73868_row2_col14\" class=\"data row2 col14\" ></td>\n",
       "                        <td id=\"T_73868_row2_col15\" class=\"data row2 col15\" ></td>\n",
       "                        <td id=\"T_73868_row2_col16\" class=\"data row2 col16\" ></td>\n",
       "                        <td id=\"T_73868_row2_col17\" class=\"data row2 col17\" ></td>\n",
       "                        <td id=\"T_73868_row2_col18\" class=\"data row2 col18\" >embarked</td>\n",
       "                        <td id=\"T_73868_row2_col19\" class=\"data row2 col19\" >['C', 'C', 'C', 'C', 'C']</td>\n",
       "                        <td id=\"T_73868_row2_col20\" class=\"data row2 col20\" >['S', 'S', 'S', 'S', 'S']</td>\n",
       "                        <td id=\"T_73868_row2_col21\" class=\"data row2 col21\" >['S', 'C', 'S', 'S', 'S']</td>\n",
       "                        <td id=\"T_73868_row2_col22\" class=\"data row2 col22\" >['S', 'S', 'S', 'C', 'Q']</td>\n",
       "            </tr>\n",
       "            <tr>\n",
       "                        <th id=\"T_73868_level0_row3\" class=\"row_heading level0 row3\" >12</th>\n",
       "                        <td id=\"T_73868_row3_col0\" class=\"data row3 col0\" >embark_town</td>\n",
       "                        <td id=\"T_73868_row3_col1\" class=\"data row3 col1\" >object</td>\n",
       "                        <td id=\"T_73868_row3_col2\" class=\"data row3 col2\" >891</td>\n",
       "                        <td id=\"T_73868_row3_col3\" class=\"data row3 col3\" >889</td>\n",
       "                        <td id=\"T_73868_row3_col4\" class=\"data row3 col4\" >3</td>\n",
       "                        <td id=\"T_73868_row3_col5\" class=\"data row3 col5\" >2</td>\n",
       "                        <td id=\"T_73868_row3_col6\" class=\"data row3 col6\" >0.22</td>\n",
       "                        <td id=\"T_73868_row3_col7\" class=\"data row3 col7\" >0</td>\n",
       "                        <td id=\"T_73868_row3_col8\" class=\"data row3 col8\" >0.00</td>\n",
       "                        <td id=\"T_73868_row3_col9\" class=\"data row3 col9\" >0</td>\n",
       "                        <td id=\"T_73868_row3_col10\" class=\"data row3 col10\" >0.00</td>\n",
       "                        <td id=\"T_73868_row3_col11\" class=\"data row3 col11\" ></td>\n",
       "                        <td id=\"T_73868_row3_col12\" class=\"data row3 col12\" ></td>\n",
       "                        <td id=\"T_73868_row3_col13\" class=\"data row3 col13\" ></td>\n",
       "                        <td id=\"T_73868_row3_col14\" class=\"data row3 col14\" ></td>\n",
       "                        <td id=\"T_73868_row3_col15\" class=\"data row3 col15\" ></td>\n",
       "                        <td id=\"T_73868_row3_col16\" class=\"data row3 col16\" ></td>\n",
       "                        <td id=\"T_73868_row3_col17\" class=\"data row3 col17\" ></td>\n",
       "                        <td id=\"T_73868_row3_col18\" class=\"data row3 col18\" >embark_town</td>\n",
       "                        <td id=\"T_73868_row3_col19\" class=\"data row3 col19\" >['Cherbourg', 'Cherbourg', 'Cherbourg', 'Cherbourg', 'Cherbourg']</td>\n",
       "                        <td id=\"T_73868_row3_col20\" class=\"data row3 col20\" >['Southampton', 'Southampton', 'Southampton', 'Southampton', 'Southampton']</td>\n",
       "                        <td id=\"T_73868_row3_col21\" class=\"data row3 col21\" >['Southampton', 'Cherbourg', 'Southampton', 'Southampton', 'Southampton']</td>\n",
       "                        <td id=\"T_73868_row3_col22\" class=\"data row3 col22\" >['Southampton', 'Southampton', 'Southampton', 'Cherbourg', 'Queenstown']</td>\n",
       "            </tr>\n",
       "            <tr>\n",
       "                        <th id=\"T_73868_level0_row4\" class=\"row_heading level0 row4\" >5</th>\n",
       "                        <td id=\"T_73868_row4_col0\" class=\"data row4 col0\" >parch</td>\n",
       "                        <td id=\"T_73868_row4_col1\" class=\"data row4 col1\" >int64</td>\n",
       "                        <td id=\"T_73868_row4_col2\" class=\"data row4 col2\" >891</td>\n",
       "                        <td id=\"T_73868_row4_col3\" class=\"data row4 col3\" >891</td>\n",
       "                        <td id=\"T_73868_row4_col4\" class=\"data row4 col4\" >7</td>\n",
       "                        <td id=\"T_73868_row4_col5\" class=\"data row4 col5\" >0</td>\n",
       "                        <td id=\"T_73868_row4_col6\" class=\"data row4 col6\" >0.00</td>\n",
       "                        <td id=\"T_73868_row4_col7\" class=\"data row4 col7\" >678</td>\n",
       "                        <td id=\"T_73868_row4_col8\" class=\"data row4 col8\" >76.09</td>\n",
       "                        <td id=\"T_73868_row4_col9\" class=\"data row4 col9\" >118</td>\n",
       "                        <td id=\"T_73868_row4_col10\" class=\"data row4 col10\" >13.24</td>\n",
       "                        <td id=\"T_73868_row4_col11\" class=\"data row4 col11\" >0.38</td>\n",
       "                        <td id=\"T_73868_row4_col12\" class=\"data row4 col12\" >0.81</td>\n",
       "                        <td id=\"T_73868_row4_col13\" class=\"data row4 col13\" >0.00</td>\n",
       "                        <td id=\"T_73868_row4_col14\" class=\"data row4 col14\" >6.00</td>\n",
       "                        <td id=\"T_73868_row4_col15\" class=\"data row4 col15\" >0.00</td>\n",
       "                        <td id=\"T_73868_row4_col16\" class=\"data row4 col16\" >0.00</td>\n",
       "                        <td id=\"T_73868_row4_col17\" class=\"data row4 col17\" >0.00</td>\n",
       "                        <td id=\"T_73868_row4_col18\" class=\"data row4 col18\" >parch</td>\n",
       "                        <td id=\"T_73868_row4_col19\" class=\"data row4 col19\" >[0, 0, 0, 0, 0]</td>\n",
       "                        <td id=\"T_73868_row4_col20\" class=\"data row4 col20\" >[6, 5, 5, 5, 5]</td>\n",
       "                        <td id=\"T_73868_row4_col21\" class=\"data row4 col21\" >[0, 0, 0, 0, 0]</td>\n",
       "                        <td id=\"T_73868_row4_col22\" class=\"data row4 col22\" >[0, 0, 2, 0, 0]</td>\n",
       "            </tr>\n",
       "            <tr>\n",
       "                        <th id=\"T_73868_level0_row5\" class=\"row_heading level0 row5\" >4</th>\n",
       "                        <td id=\"T_73868_row5_col0\" class=\"data row5 col0\" >sibsp</td>\n",
       "                        <td id=\"T_73868_row5_col1\" class=\"data row5 col1\" >int64</td>\n",
       "                        <td id=\"T_73868_row5_col2\" class=\"data row5 col2\" >891</td>\n",
       "                        <td id=\"T_73868_row5_col3\" class=\"data row5 col3\" >891</td>\n",
       "                        <td id=\"T_73868_row5_col4\" class=\"data row5 col4\" >7</td>\n",
       "                        <td id=\"T_73868_row5_col5\" class=\"data row5 col5\" >0</td>\n",
       "                        <td id=\"T_73868_row5_col6\" class=\"data row5 col6\" >0.00</td>\n",
       "                        <td id=\"T_73868_row5_col7\" class=\"data row5 col7\" >608</td>\n",
       "                        <td id=\"T_73868_row5_col8\" class=\"data row5 col8\" >68.24</td>\n",
       "                        <td id=\"T_73868_row5_col9\" class=\"data row5 col9\" >209</td>\n",
       "                        <td id=\"T_73868_row5_col10\" class=\"data row5 col10\" >23.46</td>\n",
       "                        <td id=\"T_73868_row5_col11\" class=\"data row5 col11\" >0.52</td>\n",
       "                        <td id=\"T_73868_row5_col12\" class=\"data row5 col12\" >1.10</td>\n",
       "                        <td id=\"T_73868_row5_col13\" class=\"data row5 col13\" >0.00</td>\n",
       "                        <td id=\"T_73868_row5_col14\" class=\"data row5 col14\" >8.00</td>\n",
       "                        <td id=\"T_73868_row5_col15\" class=\"data row5 col15\" >0.00</td>\n",
       "                        <td id=\"T_73868_row5_col16\" class=\"data row5 col16\" >0.00</td>\n",
       "                        <td id=\"T_73868_row5_col17\" class=\"data row5 col17\" >1.00</td>\n",
       "                        <td id=\"T_73868_row5_col18\" class=\"data row5 col18\" >sibsp</td>\n",
       "                        <td id=\"T_73868_row5_col19\" class=\"data row5 col19\" >[0, 0, 0, 0, 0]</td>\n",
       "                        <td id=\"T_73868_row5_col20\" class=\"data row5 col20\" >[8, 8, 8, 8, 8]</td>\n",
       "                        <td id=\"T_73868_row5_col21\" class=\"data row5 col21\" >[1, 1, 0, 1, 0]</td>\n",
       "                        <td id=\"T_73868_row5_col22\" class=\"data row5 col22\" >[0, 0, 1, 0, 0]</td>\n",
       "            </tr>\n",
       "            <tr>\n",
       "                        <th id=\"T_73868_level0_row6\" class=\"row_heading level0 row6\" >0</th>\n",
       "                        <td id=\"T_73868_row6_col0\" class=\"data row6 col0\" >survived</td>\n",
       "                        <td id=\"T_73868_row6_col1\" class=\"data row6 col1\" >int64</td>\n",
       "                        <td id=\"T_73868_row6_col2\" class=\"data row6 col2\" >891</td>\n",
       "                        <td id=\"T_73868_row6_col3\" class=\"data row6 col3\" >891</td>\n",
       "                        <td id=\"T_73868_row6_col4\" class=\"data row6 col4\" >2</td>\n",
       "                        <td id=\"T_73868_row6_col5\" class=\"data row6 col5\" >0</td>\n",
       "                        <td id=\"T_73868_row6_col6\" class=\"data row6 col6\" >0.00</td>\n",
       "                        <td id=\"T_73868_row6_col7\" class=\"data row6 col7\" >549</td>\n",
       "                        <td id=\"T_73868_row6_col8\" class=\"data row6 col8\" >61.62</td>\n",
       "                        <td id=\"T_73868_row6_col9\" class=\"data row6 col9\" >342</td>\n",
       "                        <td id=\"T_73868_row6_col10\" class=\"data row6 col10\" >38.38</td>\n",
       "                        <td id=\"T_73868_row6_col11\" class=\"data row6 col11\" >0.38</td>\n",
       "                        <td id=\"T_73868_row6_col12\" class=\"data row6 col12\" >0.49</td>\n",
       "                        <td id=\"T_73868_row6_col13\" class=\"data row6 col13\" >0.00</td>\n",
       "                        <td id=\"T_73868_row6_col14\" class=\"data row6 col14\" >1.00</td>\n",
       "                        <td id=\"T_73868_row6_col15\" class=\"data row6 col15\" >0.00</td>\n",
       "                        <td id=\"T_73868_row6_col16\" class=\"data row6 col16\" >0.00</td>\n",
       "                        <td id=\"T_73868_row6_col17\" class=\"data row6 col17\" >1.00</td>\n",
       "                        <td id=\"T_73868_row6_col18\" class=\"data row6 col18\" >survived</td>\n",
       "                        <td id=\"T_73868_row6_col19\" class=\"data row6 col19\" >[0, 0, 0, 0, 0]</td>\n",
       "                        <td id=\"T_73868_row6_col20\" class=\"data row6 col20\" >[1, 1, 1, 1, 1]</td>\n",
       "                        <td id=\"T_73868_row6_col21\" class=\"data row6 col21\" >[0, 1, 1, 1, 0]</td>\n",
       "                        <td id=\"T_73868_row6_col22\" class=\"data row6 col22\" >[0, 1, 0, 1, 0]</td>\n",
       "            </tr>\n",
       "            <tr>\n",
       "                        <th id=\"T_73868_level0_row7\" class=\"row_heading level0 row7\" >10</th>\n",
       "                        <td id=\"T_73868_row7_col0\" class=\"data row7 col0\" >adult_male</td>\n",
       "                        <td id=\"T_73868_row7_col1\" class=\"data row7 col1\" >bool</td>\n",
       "                        <td id=\"T_73868_row7_col2\" class=\"data row7 col2\" >891</td>\n",
       "                        <td id=\"T_73868_row7_col3\" class=\"data row7 col3\" >891</td>\n",
       "                        <td id=\"T_73868_row7_col4\" class=\"data row7 col4\" >2</td>\n",
       "                        <td id=\"T_73868_row7_col5\" class=\"data row7 col5\" >0</td>\n",
       "                        <td id=\"T_73868_row7_col6\" class=\"data row7 col6\" >0.00</td>\n",
       "                        <td id=\"T_73868_row7_col7\" class=\"data row7 col7\" >354</td>\n",
       "                        <td id=\"T_73868_row7_col8\" class=\"data row7 col8\" >39.73</td>\n",
       "                        <td id=\"T_73868_row7_col9\" class=\"data row7 col9\" >537</td>\n",
       "                        <td id=\"T_73868_row7_col10\" class=\"data row7 col10\" >60.27</td>\n",
       "                        <td id=\"T_73868_row7_col11\" class=\"data row7 col11\" ></td>\n",
       "                        <td id=\"T_73868_row7_col12\" class=\"data row7 col12\" ></td>\n",
       "                        <td id=\"T_73868_row7_col13\" class=\"data row7 col13\" ></td>\n",
       "                        <td id=\"T_73868_row7_col14\" class=\"data row7 col14\" ></td>\n",
       "                        <td id=\"T_73868_row7_col15\" class=\"data row7 col15\" ></td>\n",
       "                        <td id=\"T_73868_row7_col16\" class=\"data row7 col16\" ></td>\n",
       "                        <td id=\"T_73868_row7_col17\" class=\"data row7 col17\" ></td>\n",
       "                        <td id=\"T_73868_row7_col18\" class=\"data row7 col18\" >adult_male</td>\n",
       "                        <td id=\"T_73868_row7_col19\" class=\"data row7 col19\" >[False, False, False, False, False]</td>\n",
       "                        <td id=\"T_73868_row7_col20\" class=\"data row7 col20\" >[True, True, True, True, True]</td>\n",
       "                        <td id=\"T_73868_row7_col21\" class=\"data row7 col21\" >[True, False, False, False, True]</td>\n",
       "                        <td id=\"T_73868_row7_col22\" class=\"data row7 col22\" >[True, False, False, True, True]</td>\n",
       "            </tr>\n",
       "            <tr>\n",
       "                        <th id=\"T_73868_level0_row8\" class=\"row_heading level0 row8\" >14</th>\n",
       "                        <td id=\"T_73868_row8_col0\" class=\"data row8 col0\" >alone</td>\n",
       "                        <td id=\"T_73868_row8_col1\" class=\"data row8 col1\" >bool</td>\n",
       "                        <td id=\"T_73868_row8_col2\" class=\"data row8 col2\" >891</td>\n",
       "                        <td id=\"T_73868_row8_col3\" class=\"data row8 col3\" >891</td>\n",
       "                        <td id=\"T_73868_row8_col4\" class=\"data row8 col4\" >2</td>\n",
       "                        <td id=\"T_73868_row8_col5\" class=\"data row8 col5\" >0</td>\n",
       "                        <td id=\"T_73868_row8_col6\" class=\"data row8 col6\" >0.00</td>\n",
       "                        <td id=\"T_73868_row8_col7\" class=\"data row8 col7\" >354</td>\n",
       "                        <td id=\"T_73868_row8_col8\" class=\"data row8 col8\" >39.73</td>\n",
       "                        <td id=\"T_73868_row8_col9\" class=\"data row8 col9\" >537</td>\n",
       "                        <td id=\"T_73868_row8_col10\" class=\"data row8 col10\" >60.27</td>\n",
       "                        <td id=\"T_73868_row8_col11\" class=\"data row8 col11\" ></td>\n",
       "                        <td id=\"T_73868_row8_col12\" class=\"data row8 col12\" ></td>\n",
       "                        <td id=\"T_73868_row8_col13\" class=\"data row8 col13\" ></td>\n",
       "                        <td id=\"T_73868_row8_col14\" class=\"data row8 col14\" ></td>\n",
       "                        <td id=\"T_73868_row8_col15\" class=\"data row8 col15\" ></td>\n",
       "                        <td id=\"T_73868_row8_col16\" class=\"data row8 col16\" ></td>\n",
       "                        <td id=\"T_73868_row8_col17\" class=\"data row8 col17\" ></td>\n",
       "                        <td id=\"T_73868_row8_col18\" class=\"data row8 col18\" >alone</td>\n",
       "                        <td id=\"T_73868_row8_col19\" class=\"data row8 col19\" >[False, False, False, False, False]</td>\n",
       "                        <td id=\"T_73868_row8_col20\" class=\"data row8 col20\" >[True, True, True, True, True]</td>\n",
       "                        <td id=\"T_73868_row8_col21\" class=\"data row8 col21\" >[False, False, True, False, True]</td>\n",
       "                        <td id=\"T_73868_row8_col22\" class=\"data row8 col22\" >[True, True, False, True, True]</td>\n",
       "            </tr>\n",
       "            <tr>\n",
       "                        <th id=\"T_73868_level0_row9\" class=\"row_heading level0 row9\" >6</th>\n",
       "                        <td id=\"T_73868_row9_col0\" class=\"data row9 col0\" >fare</td>\n",
       "                        <td id=\"T_73868_row9_col1\" class=\"data row9 col1\" >float64</td>\n",
       "                        <td id=\"T_73868_row9_col2\" class=\"data row9 col2\" >891</td>\n",
       "                        <td id=\"T_73868_row9_col3\" class=\"data row9 col3\" >891</td>\n",
       "                        <td id=\"T_73868_row9_col4\" class=\"data row9 col4\" >248</td>\n",
       "                        <td id=\"T_73868_row9_col5\" class=\"data row9 col5\" >0</td>\n",
       "                        <td id=\"T_73868_row9_col6\" class=\"data row9 col6\" >0.00</td>\n",
       "                        <td id=\"T_73868_row9_col7\" class=\"data row9 col7\" >15</td>\n",
       "                        <td id=\"T_73868_row9_col8\" class=\"data row9 col8\" >1.68</td>\n",
       "                        <td id=\"T_73868_row9_col9\" class=\"data row9 col9\" >0</td>\n",
       "                        <td id=\"T_73868_row9_col10\" class=\"data row9 col10\" >0.00</td>\n",
       "                        <td id=\"T_73868_row9_col11\" class=\"data row9 col11\" >32.20</td>\n",
       "                        <td id=\"T_73868_row9_col12\" class=\"data row9 col12\" >49.69</td>\n",
       "                        <td id=\"T_73868_row9_col13\" class=\"data row9 col13\" >0.00</td>\n",
       "                        <td id=\"T_73868_row9_col14\" class=\"data row9 col14\" >512.33</td>\n",
       "                        <td id=\"T_73868_row9_col15\" class=\"data row9 col15\" >7.91</td>\n",
       "                        <td id=\"T_73868_row9_col16\" class=\"data row9 col16\" >14.45</td>\n",
       "                        <td id=\"T_73868_row9_col17\" class=\"data row9 col17\" >31.00</td>\n",
       "                        <td id=\"T_73868_row9_col18\" class=\"data row9 col18\" >fare</td>\n",
       "                        <td id=\"T_73868_row9_col19\" class=\"data row9 col19\" >[0.0, 0.0, 0.0, 0.0, 0.0]</td>\n",
       "                        <td id=\"T_73868_row9_col20\" class=\"data row9 col20\" >[512.3292, 512.3292, 512.3292, 263.0, 263.0]</td>\n",
       "                        <td id=\"T_73868_row9_col21\" class=\"data row9 col21\" >[7.25, 71.2833, 7.925, 53.1, 8.05]</td>\n",
       "                        <td id=\"T_73868_row9_col22\" class=\"data row9 col22\" >[13.0, 30.0, 23.45, 30.0, 7.75]</td>\n",
       "            </tr>\n",
       "            <tr>\n",
       "                        <th id=\"T_73868_level0_row10\" class=\"row_heading level0 row10\" >1</th>\n",
       "                        <td id=\"T_73868_row10_col0\" class=\"data row10 col0\" >pclass</td>\n",
       "                        <td id=\"T_73868_row10_col1\" class=\"data row10 col1\" >int64</td>\n",
       "                        <td id=\"T_73868_row10_col2\" class=\"data row10 col2\" >891</td>\n",
       "                        <td id=\"T_73868_row10_col3\" class=\"data row10 col3\" >891</td>\n",
       "                        <td id=\"T_73868_row10_col4\" class=\"data row10 col4\" >3</td>\n",
       "                        <td id=\"T_73868_row10_col5\" class=\"data row10 col5\" >0</td>\n",
       "                        <td id=\"T_73868_row10_col6\" class=\"data row10 col6\" >0.00</td>\n",
       "                        <td id=\"T_73868_row10_col7\" class=\"data row10 col7\" >0</td>\n",
       "                        <td id=\"T_73868_row10_col8\" class=\"data row10 col8\" >0.00</td>\n",
       "                        <td id=\"T_73868_row10_col9\" class=\"data row10 col9\" >216</td>\n",
       "                        <td id=\"T_73868_row10_col10\" class=\"data row10 col10\" >24.24</td>\n",
       "                        <td id=\"T_73868_row10_col11\" class=\"data row10 col11\" >2.31</td>\n",
       "                        <td id=\"T_73868_row10_col12\" class=\"data row10 col12\" >0.84</td>\n",
       "                        <td id=\"T_73868_row10_col13\" class=\"data row10 col13\" >1.00</td>\n",
       "                        <td id=\"T_73868_row10_col14\" class=\"data row10 col14\" >3.00</td>\n",
       "                        <td id=\"T_73868_row10_col15\" class=\"data row10 col15\" >2.00</td>\n",
       "                        <td id=\"T_73868_row10_col16\" class=\"data row10 col16\" >3.00</td>\n",
       "                        <td id=\"T_73868_row10_col17\" class=\"data row10 col17\" >3.00</td>\n",
       "                        <td id=\"T_73868_row10_col18\" class=\"data row10 col18\" >pclass</td>\n",
       "                        <td id=\"T_73868_row10_col19\" class=\"data row10 col19\" >[1, 1, 1, 1, 1]</td>\n",
       "                        <td id=\"T_73868_row10_col20\" class=\"data row10 col20\" >[3, 3, 3, 3, 3]</td>\n",
       "                        <td id=\"T_73868_row10_col21\" class=\"data row10 col21\" >[3, 1, 3, 1, 3]</td>\n",
       "                        <td id=\"T_73868_row10_col22\" class=\"data row10 col22\" >[2, 1, 3, 1, 3]</td>\n",
       "            </tr>\n",
       "            <tr>\n",
       "                        <th id=\"T_73868_level0_row11\" class=\"row_heading level0 row11\" >2</th>\n",
       "                        <td id=\"T_73868_row11_col0\" class=\"data row11 col0\" >sex</td>\n",
       "                        <td id=\"T_73868_row11_col1\" class=\"data row11 col1\" >object</td>\n",
       "                        <td id=\"T_73868_row11_col2\" class=\"data row11 col2\" >891</td>\n",
       "                        <td id=\"T_73868_row11_col3\" class=\"data row11 col3\" >891</td>\n",
       "                        <td id=\"T_73868_row11_col4\" class=\"data row11 col4\" >2</td>\n",
       "                        <td id=\"T_73868_row11_col5\" class=\"data row11 col5\" >0</td>\n",
       "                        <td id=\"T_73868_row11_col6\" class=\"data row11 col6\" >0.00</td>\n",
       "                        <td id=\"T_73868_row11_col7\" class=\"data row11 col7\" >0</td>\n",
       "                        <td id=\"T_73868_row11_col8\" class=\"data row11 col8\" >0.00</td>\n",
       "                        <td id=\"T_73868_row11_col9\" class=\"data row11 col9\" >0</td>\n",
       "                        <td id=\"T_73868_row11_col10\" class=\"data row11 col10\" >0.00</td>\n",
       "                        <td id=\"T_73868_row11_col11\" class=\"data row11 col11\" ></td>\n",
       "                        <td id=\"T_73868_row11_col12\" class=\"data row11 col12\" ></td>\n",
       "                        <td id=\"T_73868_row11_col13\" class=\"data row11 col13\" ></td>\n",
       "                        <td id=\"T_73868_row11_col14\" class=\"data row11 col14\" ></td>\n",
       "                        <td id=\"T_73868_row11_col15\" class=\"data row11 col15\" ></td>\n",
       "                        <td id=\"T_73868_row11_col16\" class=\"data row11 col16\" ></td>\n",
       "                        <td id=\"T_73868_row11_col17\" class=\"data row11 col17\" ></td>\n",
       "                        <td id=\"T_73868_row11_col18\" class=\"data row11 col18\" >sex</td>\n",
       "                        <td id=\"T_73868_row11_col19\" class=\"data row11 col19\" >['female', 'female', 'female', 'female', 'female']</td>\n",
       "                        <td id=\"T_73868_row11_col20\" class=\"data row11 col20\" >['male', 'male', 'male', 'male', 'male']</td>\n",
       "                        <td id=\"T_73868_row11_col21\" class=\"data row11 col21\" >['male', 'female', 'female', 'female', 'male']</td>\n",
       "                        <td id=\"T_73868_row11_col22\" class=\"data row11 col22\" >['male', 'female', 'female', 'male', 'male']</td>\n",
       "            </tr>\n",
       "            <tr>\n",
       "                        <th id=\"T_73868_level0_row12\" class=\"row_heading level0 row12\" >8</th>\n",
       "                        <td id=\"T_73868_row12_col0\" class=\"data row12 col0\" >class</td>\n",
       "                        <td id=\"T_73868_row12_col1\" class=\"data row12 col1\" >category</td>\n",
       "                        <td id=\"T_73868_row12_col2\" class=\"data row12 col2\" >891</td>\n",
       "                        <td id=\"T_73868_row12_col3\" class=\"data row12 col3\" >891</td>\n",
       "                        <td id=\"T_73868_row12_col4\" class=\"data row12 col4\" >3</td>\n",
       "                        <td id=\"T_73868_row12_col5\" class=\"data row12 col5\" >0</td>\n",
       "                        <td id=\"T_73868_row12_col6\" class=\"data row12 col6\" >0.00</td>\n",
       "                        <td id=\"T_73868_row12_col7\" class=\"data row12 col7\" >0</td>\n",
       "                        <td id=\"T_73868_row12_col8\" class=\"data row12 col8\" >0.00</td>\n",
       "                        <td id=\"T_73868_row12_col9\" class=\"data row12 col9\" >0</td>\n",
       "                        <td id=\"T_73868_row12_col10\" class=\"data row12 col10\" >0.00</td>\n",
       "                        <td id=\"T_73868_row12_col11\" class=\"data row12 col11\" ></td>\n",
       "                        <td id=\"T_73868_row12_col12\" class=\"data row12 col12\" ></td>\n",
       "                        <td id=\"T_73868_row12_col13\" class=\"data row12 col13\" ></td>\n",
       "                        <td id=\"T_73868_row12_col14\" class=\"data row12 col14\" ></td>\n",
       "                        <td id=\"T_73868_row12_col15\" class=\"data row12 col15\" ></td>\n",
       "                        <td id=\"T_73868_row12_col16\" class=\"data row12 col16\" ></td>\n",
       "                        <td id=\"T_73868_row12_col17\" class=\"data row12 col17\" ></td>\n",
       "                        <td id=\"T_73868_row12_col18\" class=\"data row12 col18\" >class</td>\n",
       "                        <td id=\"T_73868_row12_col19\" class=\"data row12 col19\" >['First', 'First', 'First', 'First', 'First']</td>\n",
       "                        <td id=\"T_73868_row12_col20\" class=\"data row12 col20\" >['Third', 'Third', 'Third', 'Third', 'Third']</td>\n",
       "                        <td id=\"T_73868_row12_col21\" class=\"data row12 col21\" >['Third', 'First', 'Third', 'First', 'Third']</td>\n",
       "                        <td id=\"T_73868_row12_col22\" class=\"data row12 col22\" >['Second', 'First', 'Third', 'First', 'Third']</td>\n",
       "            </tr>\n",
       "            <tr>\n",
       "                        <th id=\"T_73868_level0_row13\" class=\"row_heading level0 row13\" >9</th>\n",
       "                        <td id=\"T_73868_row13_col0\" class=\"data row13 col0\" >who</td>\n",
       "                        <td id=\"T_73868_row13_col1\" class=\"data row13 col1\" >object</td>\n",
       "                        <td id=\"T_73868_row13_col2\" class=\"data row13 col2\" >891</td>\n",
       "                        <td id=\"T_73868_row13_col3\" class=\"data row13 col3\" >891</td>\n",
       "                        <td id=\"T_73868_row13_col4\" class=\"data row13 col4\" >3</td>\n",
       "                        <td id=\"T_73868_row13_col5\" class=\"data row13 col5\" >0</td>\n",
       "                        <td id=\"T_73868_row13_col6\" class=\"data row13 col6\" >0.00</td>\n",
       "                        <td id=\"T_73868_row13_col7\" class=\"data row13 col7\" >0</td>\n",
       "                        <td id=\"T_73868_row13_col8\" class=\"data row13 col8\" >0.00</td>\n",
       "                        <td id=\"T_73868_row13_col9\" class=\"data row13 col9\" >0</td>\n",
       "                        <td id=\"T_73868_row13_col10\" class=\"data row13 col10\" >0.00</td>\n",
       "                        <td id=\"T_73868_row13_col11\" class=\"data row13 col11\" ></td>\n",
       "                        <td id=\"T_73868_row13_col12\" class=\"data row13 col12\" ></td>\n",
       "                        <td id=\"T_73868_row13_col13\" class=\"data row13 col13\" ></td>\n",
       "                        <td id=\"T_73868_row13_col14\" class=\"data row13 col14\" ></td>\n",
       "                        <td id=\"T_73868_row13_col15\" class=\"data row13 col15\" ></td>\n",
       "                        <td id=\"T_73868_row13_col16\" class=\"data row13 col16\" ></td>\n",
       "                        <td id=\"T_73868_row13_col17\" class=\"data row13 col17\" ></td>\n",
       "                        <td id=\"T_73868_row13_col18\" class=\"data row13 col18\" >who</td>\n",
       "                        <td id=\"T_73868_row13_col19\" class=\"data row13 col19\" >['child', 'child', 'child', 'child', 'child']</td>\n",
       "                        <td id=\"T_73868_row13_col20\" class=\"data row13 col20\" >['woman', 'woman', 'woman', 'woman', 'woman']</td>\n",
       "                        <td id=\"T_73868_row13_col21\" class=\"data row13 col21\" >['man', 'woman', 'woman', 'woman', 'man']</td>\n",
       "                        <td id=\"T_73868_row13_col22\" class=\"data row13 col22\" >['man', 'woman', 'woman', 'man', 'man']</td>\n",
       "            </tr>\n",
       "            <tr>\n",
       "                        <th id=\"T_73868_level0_row14\" class=\"row_heading level0 row14\" >13</th>\n",
       "                        <td id=\"T_73868_row14_col0\" class=\"data row14 col0\" >alive</td>\n",
       "                        <td id=\"T_73868_row14_col1\" class=\"data row14 col1\" >object</td>\n",
       "                        <td id=\"T_73868_row14_col2\" class=\"data row14 col2\" >891</td>\n",
       "                        <td id=\"T_73868_row14_col3\" class=\"data row14 col3\" >891</td>\n",
       "                        <td id=\"T_73868_row14_col4\" class=\"data row14 col4\" >2</td>\n",
       "                        <td id=\"T_73868_row14_col5\" class=\"data row14 col5\" >0</td>\n",
       "                        <td id=\"T_73868_row14_col6\" class=\"data row14 col6\" >0.00</td>\n",
       "                        <td id=\"T_73868_row14_col7\" class=\"data row14 col7\" >0</td>\n",
       "                        <td id=\"T_73868_row14_col8\" class=\"data row14 col8\" >0.00</td>\n",
       "                        <td id=\"T_73868_row14_col9\" class=\"data row14 col9\" >0</td>\n",
       "                        <td id=\"T_73868_row14_col10\" class=\"data row14 col10\" >0.00</td>\n",
       "                        <td id=\"T_73868_row14_col11\" class=\"data row14 col11\" ></td>\n",
       "                        <td id=\"T_73868_row14_col12\" class=\"data row14 col12\" ></td>\n",
       "                        <td id=\"T_73868_row14_col13\" class=\"data row14 col13\" ></td>\n",
       "                        <td id=\"T_73868_row14_col14\" class=\"data row14 col14\" ></td>\n",
       "                        <td id=\"T_73868_row14_col15\" class=\"data row14 col15\" ></td>\n",
       "                        <td id=\"T_73868_row14_col16\" class=\"data row14 col16\" ></td>\n",
       "                        <td id=\"T_73868_row14_col17\" class=\"data row14 col17\" ></td>\n",
       "                        <td id=\"T_73868_row14_col18\" class=\"data row14 col18\" >alive</td>\n",
       "                        <td id=\"T_73868_row14_col19\" class=\"data row14 col19\" >['no', 'no', 'no', 'no', 'no']</td>\n",
       "                        <td id=\"T_73868_row14_col20\" class=\"data row14 col20\" >['yes', 'yes', 'yes', 'yes', 'yes']</td>\n",
       "                        <td id=\"T_73868_row14_col21\" class=\"data row14 col21\" >['no', 'yes', 'yes', 'yes', 'no']</td>\n",
       "                        <td id=\"T_73868_row14_col22\" class=\"data row14 col22\" >['no', 'yes', 'no', 'yes', 'no']</td>\n",
       "            </tr>\n",
       "    </tbody></table>"
      ],
      "text/plain": [
       "<pandas.io.formats.style.Styler at 0x7fdca3694bd0>"
      ]
     },
     "execution_count": 5,
     "metadata": {},
     "output_type": "execute_result"
    }
   ],
   "source": [
    "# detailed description using my module bp\n",
    "from IPython.core.display import display, HTML\n",
    "display(HTML(\"<style>.container { width:100% !important; }</style>\"))\n",
    "\n",
    "\n",
    "df.bp.describe()"
   ]
  },
  {
   "cell_type": "markdown",
   "metadata": {},
   "source": [
    "# Modelling"
   ]
  },
  {
   "cell_type": "code",
   "execution_count": 6,
   "metadata": {
    "ExecuteTime": {
     "end_time": "2021-07-11T16:22:58.939397Z",
     "start_time": "2021-07-11T16:22:58.896274Z"
    }
   },
   "outputs": [],
   "source": [
    "from sklearn.linear_model import LogisticRegression\n",
    "from sklearn.model_selection import train_test_split"
   ]
  },
  {
   "cell_type": "code",
   "execution_count": 7,
   "metadata": {
    "ExecuteTime": {
     "end_time": "2021-07-11T16:22:59.023737Z",
     "start_time": "2021-07-11T16:22:58.947207Z"
    }
   },
   "outputs": [],
   "source": [
    "target = 'survived'\n",
    "features = ['pclass','age','sibsp','parch','fare','alone']\n",
    "df = df[features+[target]].dropna()\n",
    "\n",
    "X = df[features].astype(np.float32).values\n",
    "y = df[target]\n",
    "\n",
    "Xtrain,Xtest,ytrain,ytest = train_test_split(X,y,random_state=100,stratify=y)"
   ]
  },
  {
   "cell_type": "code",
   "execution_count": 8,
   "metadata": {
    "ExecuteTime": {
     "end_time": "2021-07-11T16:22:59.141301Z",
     "start_time": "2021-07-11T16:22:59.040496Z"
    }
   },
   "outputs": [],
   "source": [
    "clf_lr = LogisticRegression(random_state=100)\n",
    "clf_lr.fit(Xtrain,ytrain)\n",
    "\n",
    "ypreds_lr = clf_lr.predict(Xtest)"
   ]
  },
  {
   "cell_type": "markdown",
   "metadata": {
    "ExecuteTime": {
     "end_time": "2020-09-30T17:58:54.323788Z",
     "start_time": "2020-09-30T17:58:54.271181Z"
    }
   },
   "source": [
    "# Model Evaluation using module \"bp\""
   ]
  },
  {
   "cell_type": "code",
   "execution_count": 9,
   "metadata": {
    "ExecuteTime": {
     "end_time": "2021-07-11T16:22:59.183298Z",
     "start_time": "2021-07-11T16:22:59.144711Z"
    }
   },
   "outputs": [],
   "source": [
    "from bhishan import bp\n",
    "from sklearn import metrics as skmetrics"
   ]
  },
  {
   "cell_type": "markdown",
   "metadata": {},
   "source": [
    "## Accuracy Precision and Recall"
   ]
  },
  {
   "cell_type": "code",
   "execution_count": 10,
   "metadata": {
    "ExecuteTime": {
     "end_time": "2021-07-11T16:22:59.261951Z",
     "start_time": "2021-07-11T16:22:59.185561Z"
    }
   },
   "outputs": [
    {
     "data": {
      "text/html": [
       "<style  type=\"text/css\" >\n",
       "#T_d3051_row0_col4{\n",
       "            background:  lightblue;\n",
       "        }</style><table id=\"T_d3051_\" ><caption>Logistic Regression (Default)</caption><thead>    <tr>        <th class=\"blank level0\" ></th>        <th class=\"col_heading level0 col0\" >Model</th>        <th class=\"col_heading level0 col1\" >Description</th>        <th class=\"col_heading level0 col2\" >Accuracy</th>        <th class=\"col_heading level0 col3\" >Precision</th>        <th class=\"col_heading level0 col4\" >Recall</th>        <th class=\"col_heading level0 col5\" >F0.5</th>        <th class=\"col_heading level0 col6\" >F1</th>        <th class=\"col_heading level0 col7\" >F2</th>        <th class=\"col_heading level0 col8\" >Mathews_Correlation_Coefficient</th>        <th class=\"col_heading level0 col9\" >Cohens_Kappa</th>        <th class=\"col_heading level0 col10\" >Area_Under_Precision_Recall_Curve</th>        <th class=\"col_heading level0 col11\" >Area_Under_ROC_Curve</th>    </tr></thead><tbody>\n",
       "                <tr>\n",
       "                        <th id=\"T_d3051_level0_row0\" class=\"row_heading level0 row0\" >0</th>\n",
       "                        <td id=\"T_d3051_row0_col0\" class=\"data row0 col0\" >Logistic Regression</td>\n",
       "                        <td id=\"T_d3051_row0_col1\" class=\"data row0 col1\" >Default</td>\n",
       "                        <td id=\"T_d3051_row0_col2\" class=\"data row0 col2\" >0.743017</td>\n",
       "                        <td id=\"T_d3051_row0_col3\" class=\"data row0 col3\" >0.754717</td>\n",
       "                        <td id=\"T_d3051_row0_col4\" class=\"data row0 col4\" >0.547945</td>\n",
       "                        <td id=\"T_d3051_row0_col5\" class=\"data row0 col5\" >0.701754</td>\n",
       "                        <td id=\"T_d3051_row0_col6\" class=\"data row0 col6\" >0.634921</td>\n",
       "                        <td id=\"T_d3051_row0_col7\" class=\"data row0 col7\" >0.579710</td>\n",
       "                        <td id=\"T_d3051_row0_col8\" class=\"data row0 col8\" >0.457815</td>\n",
       "                        <td id=\"T_d3051_row0_col9\" class=\"data row0 col9\" >0.444249</td>\n",
       "                        <td id=\"T_d3051_row0_col10\" class=\"data row0 col10\" >0.730346</td>\n",
       "                        <td id=\"T_d3051_row0_col11\" class=\"data row0 col11\" >0.784247</td>\n",
       "            </tr>\n",
       "    </tbody></table>"
      ],
      "text/plain": [
       "<pandas.io.formats.style.Styler at 0x7fdca3719850>"
      ]
     },
     "metadata": {},
     "output_type": "display_data"
    }
   ],
   "source": [
    "# get a nice dataframe with various scaler model evaluation metrics\n",
    "df_eval = bp.get_binary_classification_scalar_metrics(\n",
    "    \"Logistic Regression\",\n",
    "    clf_lr,\n",
    "    Xtest,ytest,\n",
    "    ypreds_lr,\n",
    "    desc=\"Default\", df_eval=None)"
   ]
  },
  {
   "cell_type": "markdown",
   "metadata": {},
   "source": [
    "## Classificaion Report"
   ]
  },
  {
   "cell_type": "code",
   "execution_count": 11,
   "metadata": {
    "ExecuteTime": {
     "end_time": "2021-07-11T16:22:59.338694Z",
     "start_time": "2021-07-11T16:22:59.269137Z"
    }
   },
   "outputs": [
    {
     "data": {
      "text/html": [
       "<style  type=\"text/css\" >\n",
       "#T_6c694_row0_col5{\n",
       "            background:  lightblue;\n",
       "        }</style><table id=\"T_6c694_\" ><caption>Logistic Regression</caption><thead>    <tr>        <th class=\"blank level0\" ></th>        <th class=\"col_heading level0 col0\" >Model</th>        <th class=\"col_heading level0 col1\" >Description</th>        <th class=\"col_heading level0 col2\" >Precision_0</th>        <th class=\"col_heading level0 col3\" >Precision_1</th>        <th class=\"col_heading level0 col4\" >Recall_0</th>        <th class=\"col_heading level0 col5\" >Recall_1</th>        <th class=\"col_heading level0 col6\" >F1_Score_0</th>        <th class=\"col_heading level0 col7\" >F1_Score_1</th>        <th class=\"col_heading level0 col8\" >Support_0</th>        <th class=\"col_heading level0 col9\" >Support_1</th>    </tr></thead><tbody>\n",
       "                <tr>\n",
       "                        <th id=\"T_6c694_level0_row0\" class=\"row_heading level0 row0\" >0</th>\n",
       "                        <td id=\"T_6c694_row0_col0\" class=\"data row0 col0\" >Logistic Regression</td>\n",
       "                        <td id=\"T_6c694_row0_col1\" class=\"data row0 col1\" ></td>\n",
       "                        <td id=\"T_6c694_row0_col2\" class=\"data row0 col2\" >0.738095</td>\n",
       "                        <td id=\"T_6c694_row0_col3\" class=\"data row0 col3\" >0.754717</td>\n",
       "                        <td id=\"T_6c694_row0_col4\" class=\"data row0 col4\" >0.877358</td>\n",
       "                        <td id=\"T_6c694_row0_col5\" class=\"data row0 col5\" >0.547945</td>\n",
       "                        <td id=\"T_6c694_row0_col6\" class=\"data row0 col6\" >0.801724</td>\n",
       "                        <td id=\"T_6c694_row0_col7\" class=\"data row0 col7\" >0.634921</td>\n",
       "                        <td id=\"T_6c694_row0_col8\" class=\"data row0 col8\" >106.000000</td>\n",
       "                        <td id=\"T_6c694_row0_col9\" class=\"data row0 col9\" >73.000000</td>\n",
       "            </tr>\n",
       "    </tbody></table>"
      ],
      "text/plain": [
       "<pandas.io.formats.style.Styler at 0x7fdca390fe50>"
      ]
     },
     "metadata": {},
     "output_type": "display_data"
    }
   ],
   "source": [
    "# get classification report\n",
    "df_clf_report = bp.get_binary_classification_report(\"Logistic Regression\",\n",
    "  ytest,ypreds_lr,\n",
    "  desc='',\n",
    "  style_col='Recall_1',\n",
    "  df_clf_report=None)"
   ]
  },
  {
   "cell_type": "code",
   "execution_count": 12,
   "metadata": {
    "ExecuteTime": {
     "end_time": "2021-07-11T16:22:59.403575Z",
     "start_time": "2021-07-11T16:22:59.340966Z"
    }
   },
   "outputs": [
    {
     "name": "stdout",
     "output_type": "stream",
     "text": [
      "              precision    recall  f1-score   support\n",
      "\n",
      "           0       0.74      0.88      0.80       106\n",
      "           1       0.75      0.55      0.63        73\n",
      "\n",
      "    accuracy                           0.74       179\n",
      "   macro avg       0.75      0.71      0.72       179\n",
      "weighted avg       0.74      0.74      0.73       179\n",
      "\n"
     ]
    }
   ],
   "source": [
    "print(skmetrics.classification_report(ytest,ypreds_lr))"
   ]
  },
  {
   "cell_type": "markdown",
   "metadata": {},
   "source": [
    "## Confusion Matrix"
   ]
  },
  {
   "cell_type": "code",
   "execution_count": 13,
   "metadata": {
    "ExecuteTime": {
     "end_time": "2021-07-11T16:22:59.465275Z",
     "start_time": "2021-07-11T16:22:59.408937Z"
    }
   },
   "outputs": [
    {
     "data": {
      "text/html": [
       "<div>\n",
       "<style scoped>\n",
       "    .dataframe tbody tr th:only-of-type {\n",
       "        vertical-align: middle;\n",
       "    }\n",
       "\n",
       "    .dataframe tbody tr th {\n",
       "        vertical-align: top;\n",
       "    }\n",
       "\n",
       "    .dataframe thead th {\n",
       "        text-align: right;\n",
       "    }\n",
       "</style>\n",
       "<table border=\"1\" class=\"dataframe\">\n",
       "  <thead>\n",
       "    <tr style=\"text-align: right;\">\n",
       "      <th></th>\n",
       "      <th>ytest</th>\n",
       "      <th>ypreds</th>\n",
       "    </tr>\n",
       "  </thead>\n",
       "  <tbody>\n",
       "    <tr>\n",
       "      <th>9</th>\n",
       "      <td>1</td>\n",
       "      <td>1</td>\n",
       "    </tr>\n",
       "    <tr>\n",
       "      <th>374</th>\n",
       "      <td>0</td>\n",
       "      <td>0</td>\n",
       "    </tr>\n",
       "    <tr>\n",
       "      <th>733</th>\n",
       "      <td>0</td>\n",
       "      <td>0</td>\n",
       "    </tr>\n",
       "    <tr>\n",
       "      <th>821</th>\n",
       "      <td>1</td>\n",
       "      <td>0</td>\n",
       "    </tr>\n",
       "    <tr>\n",
       "      <th>528</th>\n",
       "      <td>0</td>\n",
       "      <td>0</td>\n",
       "    </tr>\n",
       "  </tbody>\n",
       "</table>\n",
       "</div>"
      ],
      "text/plain": [
       "     ytest  ypreds\n",
       "9        1       1\n",
       "374      0       0\n",
       "733      0       0\n",
       "821      1       0\n",
       "528      0       0"
      ]
     },
     "execution_count": 13,
     "metadata": {},
     "output_type": "execute_result"
    }
   ],
   "source": [
    "df_out = pd.DataFrame({'ytest': ytest, 'ypreds': ypreds_lr})\n",
    "df_out.head()"
   ]
  },
  {
   "cell_type": "code",
   "execution_count": 14,
   "metadata": {
    "ExecuteTime": {
     "end_time": "2021-07-11T16:22:59.541132Z",
     "start_time": "2021-07-11T16:22:59.471450Z"
    }
   },
   "outputs": [
    {
     "data": {
      "text/html": [
       "<div>\n",
       "<style scoped>\n",
       "    .dataframe tbody tr th:only-of-type {\n",
       "        vertical-align: middle;\n",
       "    }\n",
       "\n",
       "    .dataframe tbody tr th {\n",
       "        vertical-align: top;\n",
       "    }\n",
       "\n",
       "    .dataframe thead th {\n",
       "        text-align: right;\n",
       "    }\n",
       "</style>\n",
       "<table border=\"1\" class=\"dataframe\">\n",
       "  <thead>\n",
       "    <tr style=\"text-align: right;\">\n",
       "      <th>ypreds</th>\n",
       "      <th>0</th>\n",
       "      <th>1</th>\n",
       "    </tr>\n",
       "    <tr>\n",
       "      <th>ytest</th>\n",
       "      <th></th>\n",
       "      <th></th>\n",
       "    </tr>\n",
       "  </thead>\n",
       "  <tbody>\n",
       "    <tr>\n",
       "      <th>0</th>\n",
       "      <td>93</td>\n",
       "      <td>13</td>\n",
       "    </tr>\n",
       "    <tr>\n",
       "      <th>1</th>\n",
       "      <td>33</td>\n",
       "      <td>40</td>\n",
       "    </tr>\n",
       "  </tbody>\n",
       "</table>\n",
       "</div>"
      ],
      "text/plain": [
       "ypreds   0   1\n",
       "ytest         \n",
       "0       93  13\n",
       "1       33  40"
      ]
     },
     "execution_count": 14,
     "metadata": {},
     "output_type": "execute_result"
    }
   ],
   "source": [
    "pd.crosstab(df_out['ytest'],df_out['ypreds'])"
   ]
  },
  {
   "cell_type": "code",
   "execution_count": 15,
   "metadata": {
    "ExecuteTime": {
     "end_time": "2021-07-11T16:22:59.593123Z",
     "start_time": "2021-07-11T16:22:59.547927Z"
    }
   },
   "outputs": [
    {
     "name": "stdout",
     "output_type": "stream",
     "text": [
      "[[93 13]\n",
      " [33 40]]\n"
     ]
    }
   ],
   "source": [
    "cm = skmetrics.confusion_matrix(ytest,ypreds_lr)\n",
    "print(cm)"
   ]
  },
  {
   "cell_type": "code",
   "execution_count": 16,
   "metadata": {
    "ExecuteTime": {
     "end_time": "2021-07-11T16:22:59.681116Z",
     "start_time": "2021-07-11T16:22:59.595709Z"
    }
   },
   "outputs": [
    {
     "data": {
      "text/html": [
       "<style  type=\"text/css\" >\n",
       "#T_a1608_row0_col0,#T_a1608_row1_col1{\n",
       "            background-color:  #023858;\n",
       "            color:  #f1f1f1;\n",
       "        }#T_a1608_row0_col1,#T_a1608_row1_col0{\n",
       "            background-color:  #fff7fb;\n",
       "            color:  #000000;\n",
       "        }#T_a1608_row0_col5,#T_a1608_row1_col5{\n",
       "            background:  lightblue;\n",
       "        }#T_a1608_row0_col9,#T_a1608_row1_col9{\n",
       "            background:  salmon;\n",
       "        }</style><table id=\"T_a1608_\" ><caption>Logistic Regression</caption><thead>    <tr>        <th class=\"blank level0\" ></th>        <th class=\"col_heading level0 col0\" >Predicted_Alive</th>        <th class=\"col_heading level0 col1\" >Predicted_Dead</th>        <th class=\"col_heading level0 col2\" >Total_Alive</th>        <th class=\"col_heading level0 col3\" >Correct_Alive</th>        <th class=\"col_heading level0 col4\" >Incorrect_Alive</th>        <th class=\"col_heading level0 col5\" >Alive_Detection</th>        <th class=\"col_heading level0 col6\" >Total_Dead</th>        <th class=\"col_heading level0 col7\" >Correct_Dead</th>        <th class=\"col_heading level0 col8\" >Incorrect_Dead</th>        <th class=\"col_heading level0 col9\" >Dead_Detection</th>    </tr></thead><tbody>\n",
       "                <tr>\n",
       "                        <th id=\"T_a1608_level0_row0\" class=\"row_heading level0 row0\" >Alive</th>\n",
       "                        <td id=\"T_a1608_row0_col0\" class=\"data row0 col0\" >93</td>\n",
       "                        <td id=\"T_a1608_row0_col1\" class=\"data row0 col1\" >13</td>\n",
       "                        <td id=\"T_a1608_row0_col2\" class=\"data row0 col2\" >106</td>\n",
       "                        <td id=\"T_a1608_row0_col3\" class=\"data row0 col3\" >93</td>\n",
       "                        <td id=\"T_a1608_row0_col4\" class=\"data row0 col4\" >13</td>\n",
       "                        <td id=\"T_a1608_row0_col5\" class=\"data row0 col5\" >87.74%</td>\n",
       "                        <td id=\"T_a1608_row0_col6\" class=\"data row0 col6\" >73</td>\n",
       "                        <td id=\"T_a1608_row0_col7\" class=\"data row0 col7\" >40</td>\n",
       "                        <td id=\"T_a1608_row0_col8\" class=\"data row0 col8\" >33</td>\n",
       "                        <td id=\"T_a1608_row0_col9\" class=\"data row0 col9\" >54.79%</td>\n",
       "            </tr>\n",
       "            <tr>\n",
       "                        <th id=\"T_a1608_level0_row1\" class=\"row_heading level0 row1\" >Dead</th>\n",
       "                        <td id=\"T_a1608_row1_col0\" class=\"data row1 col0\" >33</td>\n",
       "                        <td id=\"T_a1608_row1_col1\" class=\"data row1 col1\" >40</td>\n",
       "                        <td id=\"T_a1608_row1_col2\" class=\"data row1 col2\" >106</td>\n",
       "                        <td id=\"T_a1608_row1_col3\" class=\"data row1 col3\" >93</td>\n",
       "                        <td id=\"T_a1608_row1_col4\" class=\"data row1 col4\" >13</td>\n",
       "                        <td id=\"T_a1608_row1_col5\" class=\"data row1 col5\" >87.74%</td>\n",
       "                        <td id=\"T_a1608_row1_col6\" class=\"data row1 col6\" >73</td>\n",
       "                        <td id=\"T_a1608_row1_col7\" class=\"data row1 col7\" >40</td>\n",
       "                        <td id=\"T_a1608_row1_col8\" class=\"data row1 col8\" >33</td>\n",
       "                        <td id=\"T_a1608_row1_col9\" class=\"data row1 col9\" >54.79%</td>\n",
       "            </tr>\n",
       "    </tbody></table>"
      ],
      "text/plain": [
       "<pandas.io.formats.style.Styler at 0x7fdca3940590>"
      ]
     },
     "metadata": {},
     "output_type": "display_data"
    }
   ],
   "source": [
    "df_cm = bp.print_confusion_matrix('Logistic Regression', ytest,ypreds_lr,\n",
    "                                  zero='Alive',one='Dead')"
   ]
  },
  {
   "cell_type": "code",
   "execution_count": 17,
   "metadata": {
    "ExecuteTime": {
     "end_time": "2021-07-11T16:23:00.317621Z",
     "start_time": "2021-07-11T16:22:59.683662Z"
    }
   },
   "outputs": [
    {
     "data": {
      "text/html": [
       "        <script type=\"text/javascript\">\n",
       "        window.PlotlyConfig = {MathJaxConfig: 'local'};\n",
       "        if (window.MathJax) {MathJax.Hub.Config({SVG: {font: \"STIX-Web\"}});}\n",
       "        if (typeof require !== 'undefined') {\n",
       "        require.undef(\"plotly\");\n",
       "        requirejs.config({\n",
       "            paths: {\n",
       "                'plotly': ['https://cdn.plot.ly/plotly-latest.min']\n",
       "            }\n",
       "        });\n",
       "        require(['plotly'], function(Plotly) {\n",
       "            window._Plotly = Plotly;\n",
       "        });\n",
       "        }\n",
       "        </script>\n",
       "        "
      ]
     },
     "metadata": {},
     "output_type": "display_data"
    },
    {
     "data": {
      "application/vnd.plotly.v1+json": {
       "config": {
        "linkText": "Export to plot.ly",
        "plotlyServerURL": "https://plot.ly",
        "showLink": false
       },
       "data": [
        {
         "colorscale": [
          [
           0,
           "#0d0887"
          ],
          [
           0.1111111111111111,
           "#46039f"
          ],
          [
           0.2222222222222222,
           "#7201a8"
          ],
          [
           0.3333333333333333,
           "#9c179e"
          ],
          [
           0.4444444444444444,
           "#bd3786"
          ],
          [
           0.5555555555555556,
           "#d8576b"
          ],
          [
           0.6666666666666666,
           "#ed7953"
          ],
          [
           0.7777777777777778,
           "#fb9f3a"
          ],
          [
           0.8888888888888888,
           "#fdca26"
          ],
          [
           1,
           "#f0f921"
          ]
         ],
         "reversescale": false,
         "showscale": false,
         "type": "heatmap",
         "x": [
          "Predicted_Alive",
          "Predicted_Dead",
          "Total",
          "Accuracy %"
         ],
         "y": [
          "Total",
          "Dead",
          "Alive"
         ],
         "z": [
          [
           126,
           53,
           179,
           74.3017
          ],
          [
           33,
           40,
           73,
           54.7945
          ],
          [
           93,
           13,
           106,
           87.7358
          ]
         ]
        }
       ],
       "layout": {
        "annotations": [
         {
          "font": {
           "color": "#000000"
          },
          "showarrow": false,
          "text": "126.0",
          "x": "Predicted_Alive",
          "xref": "x",
          "y": "Total",
          "yref": "y"
         },
         {
          "font": {
           "color": "#FFFFFF"
          },
          "showarrow": false,
          "text": "53.0",
          "x": "Predicted_Dead",
          "xref": "x",
          "y": "Total",
          "yref": "y"
         },
         {
          "font": {
           "color": "#000000"
          },
          "showarrow": false,
          "text": "179.0",
          "x": "Total",
          "xref": "x",
          "y": "Total",
          "yref": "y"
         },
         {
          "font": {
           "color": "#FFFFFF"
          },
          "showarrow": false,
          "text": "74.3017",
          "x": "Accuracy %",
          "xref": "x",
          "y": "Total",
          "yref": "y"
         },
         {
          "font": {
           "color": "#FFFFFF"
          },
          "showarrow": false,
          "text": "33.0",
          "x": "Predicted_Alive",
          "xref": "x",
          "y": "Dead",
          "yref": "y"
         },
         {
          "font": {
           "color": "#FFFFFF"
          },
          "showarrow": false,
          "text": "40.0",
          "x": "Predicted_Dead",
          "xref": "x",
          "y": "Dead",
          "yref": "y"
         },
         {
          "font": {
           "color": "#FFFFFF"
          },
          "showarrow": false,
          "text": "73.0",
          "x": "Total",
          "xref": "x",
          "y": "Dead",
          "yref": "y"
         },
         {
          "font": {
           "color": "#FFFFFF"
          },
          "showarrow": false,
          "text": "54.7945",
          "x": "Accuracy %",
          "xref": "x",
          "y": "Dead",
          "yref": "y"
         },
         {
          "font": {
           "color": "#FFFFFF"
          },
          "showarrow": false,
          "text": "93.0",
          "x": "Predicted_Alive",
          "xref": "x",
          "y": "Alive",
          "yref": "y"
         },
         {
          "font": {
           "color": "#FFFFFF"
          },
          "showarrow": false,
          "text": "13.0",
          "x": "Predicted_Dead",
          "xref": "x",
          "y": "Alive",
          "yref": "y"
         },
         {
          "font": {
           "color": "#000000"
          },
          "showarrow": false,
          "text": "106.0",
          "x": "Total",
          "xref": "x",
          "y": "Alive",
          "yref": "y"
         },
         {
          "font": {
           "color": "#FFFFFF"
          },
          "showarrow": false,
          "text": "87.7358",
          "x": "Accuracy %",
          "xref": "x",
          "y": "Alive",
          "yref": "y"
         }
        ],
        "template": {
         "data": {
          "bar": [
           {
            "error_x": {
             "color": "#2a3f5f"
            },
            "error_y": {
             "color": "#2a3f5f"
            },
            "marker": {
             "line": {
              "color": "#E5ECF6",
              "width": 0.5
             }
            },
            "type": "bar"
           }
          ],
          "barpolar": [
           {
            "marker": {
             "line": {
              "color": "#E5ECF6",
              "width": 0.5
             }
            },
            "type": "barpolar"
           }
          ],
          "carpet": [
           {
            "aaxis": {
             "endlinecolor": "#2a3f5f",
             "gridcolor": "white",
             "linecolor": "white",
             "minorgridcolor": "white",
             "startlinecolor": "#2a3f5f"
            },
            "baxis": {
             "endlinecolor": "#2a3f5f",
             "gridcolor": "white",
             "linecolor": "white",
             "minorgridcolor": "white",
             "startlinecolor": "#2a3f5f"
            },
            "type": "carpet"
           }
          ],
          "choropleth": [
           {
            "colorbar": {
             "outlinewidth": 0,
             "ticks": ""
            },
            "type": "choropleth"
           }
          ],
          "contour": [
           {
            "colorbar": {
             "outlinewidth": 0,
             "ticks": ""
            },
            "colorscale": [
             [
              0,
              "#0d0887"
             ],
             [
              0.1111111111111111,
              "#46039f"
             ],
             [
              0.2222222222222222,
              "#7201a8"
             ],
             [
              0.3333333333333333,
              "#9c179e"
             ],
             [
              0.4444444444444444,
              "#bd3786"
             ],
             [
              0.5555555555555556,
              "#d8576b"
             ],
             [
              0.6666666666666666,
              "#ed7953"
             ],
             [
              0.7777777777777778,
              "#fb9f3a"
             ],
             [
              0.8888888888888888,
              "#fdca26"
             ],
             [
              1,
              "#f0f921"
             ]
            ],
            "type": "contour"
           }
          ],
          "contourcarpet": [
           {
            "colorbar": {
             "outlinewidth": 0,
             "ticks": ""
            },
            "type": "contourcarpet"
           }
          ],
          "heatmap": [
           {
            "colorbar": {
             "outlinewidth": 0,
             "ticks": ""
            },
            "colorscale": [
             [
              0,
              "#0d0887"
             ],
             [
              0.1111111111111111,
              "#46039f"
             ],
             [
              0.2222222222222222,
              "#7201a8"
             ],
             [
              0.3333333333333333,
              "#9c179e"
             ],
             [
              0.4444444444444444,
              "#bd3786"
             ],
             [
              0.5555555555555556,
              "#d8576b"
             ],
             [
              0.6666666666666666,
              "#ed7953"
             ],
             [
              0.7777777777777778,
              "#fb9f3a"
             ],
             [
              0.8888888888888888,
              "#fdca26"
             ],
             [
              1,
              "#f0f921"
             ]
            ],
            "type": "heatmap"
           }
          ],
          "heatmapgl": [
           {
            "colorbar": {
             "outlinewidth": 0,
             "ticks": ""
            },
            "colorscale": [
             [
              0,
              "#0d0887"
             ],
             [
              0.1111111111111111,
              "#46039f"
             ],
             [
              0.2222222222222222,
              "#7201a8"
             ],
             [
              0.3333333333333333,
              "#9c179e"
             ],
             [
              0.4444444444444444,
              "#bd3786"
             ],
             [
              0.5555555555555556,
              "#d8576b"
             ],
             [
              0.6666666666666666,
              "#ed7953"
             ],
             [
              0.7777777777777778,
              "#fb9f3a"
             ],
             [
              0.8888888888888888,
              "#fdca26"
             ],
             [
              1,
              "#f0f921"
             ]
            ],
            "type": "heatmapgl"
           }
          ],
          "histogram": [
           {
            "marker": {
             "colorbar": {
              "outlinewidth": 0,
              "ticks": ""
             }
            },
            "type": "histogram"
           }
          ],
          "histogram2d": [
           {
            "colorbar": {
             "outlinewidth": 0,
             "ticks": ""
            },
            "colorscale": [
             [
              0,
              "#0d0887"
             ],
             [
              0.1111111111111111,
              "#46039f"
             ],
             [
              0.2222222222222222,
              "#7201a8"
             ],
             [
              0.3333333333333333,
              "#9c179e"
             ],
             [
              0.4444444444444444,
              "#bd3786"
             ],
             [
              0.5555555555555556,
              "#d8576b"
             ],
             [
              0.6666666666666666,
              "#ed7953"
             ],
             [
              0.7777777777777778,
              "#fb9f3a"
             ],
             [
              0.8888888888888888,
              "#fdca26"
             ],
             [
              1,
              "#f0f921"
             ]
            ],
            "type": "histogram2d"
           }
          ],
          "histogram2dcontour": [
           {
            "colorbar": {
             "outlinewidth": 0,
             "ticks": ""
            },
            "colorscale": [
             [
              0,
              "#0d0887"
             ],
             [
              0.1111111111111111,
              "#46039f"
             ],
             [
              0.2222222222222222,
              "#7201a8"
             ],
             [
              0.3333333333333333,
              "#9c179e"
             ],
             [
              0.4444444444444444,
              "#bd3786"
             ],
             [
              0.5555555555555556,
              "#d8576b"
             ],
             [
              0.6666666666666666,
              "#ed7953"
             ],
             [
              0.7777777777777778,
              "#fb9f3a"
             ],
             [
              0.8888888888888888,
              "#fdca26"
             ],
             [
              1,
              "#f0f921"
             ]
            ],
            "type": "histogram2dcontour"
           }
          ],
          "mesh3d": [
           {
            "colorbar": {
             "outlinewidth": 0,
             "ticks": ""
            },
            "type": "mesh3d"
           }
          ],
          "parcoords": [
           {
            "line": {
             "colorbar": {
              "outlinewidth": 0,
              "ticks": ""
             }
            },
            "type": "parcoords"
           }
          ],
          "pie": [
           {
            "automargin": true,
            "type": "pie"
           }
          ],
          "scatter": [
           {
            "marker": {
             "colorbar": {
              "outlinewidth": 0,
              "ticks": ""
             }
            },
            "type": "scatter"
           }
          ],
          "scatter3d": [
           {
            "line": {
             "colorbar": {
              "outlinewidth": 0,
              "ticks": ""
             }
            },
            "marker": {
             "colorbar": {
              "outlinewidth": 0,
              "ticks": ""
             }
            },
            "type": "scatter3d"
           }
          ],
          "scattercarpet": [
           {
            "marker": {
             "colorbar": {
              "outlinewidth": 0,
              "ticks": ""
             }
            },
            "type": "scattercarpet"
           }
          ],
          "scattergeo": [
           {
            "marker": {
             "colorbar": {
              "outlinewidth": 0,
              "ticks": ""
             }
            },
            "type": "scattergeo"
           }
          ],
          "scattergl": [
           {
            "marker": {
             "colorbar": {
              "outlinewidth": 0,
              "ticks": ""
             }
            },
            "type": "scattergl"
           }
          ],
          "scattermapbox": [
           {
            "marker": {
             "colorbar": {
              "outlinewidth": 0,
              "ticks": ""
             }
            },
            "type": "scattermapbox"
           }
          ],
          "scatterpolar": [
           {
            "marker": {
             "colorbar": {
              "outlinewidth": 0,
              "ticks": ""
             }
            },
            "type": "scatterpolar"
           }
          ],
          "scatterpolargl": [
           {
            "marker": {
             "colorbar": {
              "outlinewidth": 0,
              "ticks": ""
             }
            },
            "type": "scatterpolargl"
           }
          ],
          "scatterternary": [
           {
            "marker": {
             "colorbar": {
              "outlinewidth": 0,
              "ticks": ""
             }
            },
            "type": "scatterternary"
           }
          ],
          "surface": [
           {
            "colorbar": {
             "outlinewidth": 0,
             "ticks": ""
            },
            "colorscale": [
             [
              0,
              "#0d0887"
             ],
             [
              0.1111111111111111,
              "#46039f"
             ],
             [
              0.2222222222222222,
              "#7201a8"
             ],
             [
              0.3333333333333333,
              "#9c179e"
             ],
             [
              0.4444444444444444,
              "#bd3786"
             ],
             [
              0.5555555555555556,
              "#d8576b"
             ],
             [
              0.6666666666666666,
              "#ed7953"
             ],
             [
              0.7777777777777778,
              "#fb9f3a"
             ],
             [
              0.8888888888888888,
              "#fdca26"
             ],
             [
              1,
              "#f0f921"
             ]
            ],
            "type": "surface"
           }
          ],
          "table": [
           {
            "cells": {
             "fill": {
              "color": "#EBF0F8"
             },
             "line": {
              "color": "white"
             }
            },
            "header": {
             "fill": {
              "color": "#C8D4E3"
             },
             "line": {
              "color": "white"
             }
            },
            "type": "table"
           }
          ]
         },
         "layout": {
          "annotationdefaults": {
           "arrowcolor": "#2a3f5f",
           "arrowhead": 0,
           "arrowwidth": 1
          },
          "coloraxis": {
           "colorbar": {
            "outlinewidth": 0,
            "ticks": ""
           }
          },
          "colorscale": {
           "diverging": [
            [
             0,
             "#8e0152"
            ],
            [
             0.1,
             "#c51b7d"
            ],
            [
             0.2,
             "#de77ae"
            ],
            [
             0.3,
             "#f1b6da"
            ],
            [
             0.4,
             "#fde0ef"
            ],
            [
             0.5,
             "#f7f7f7"
            ],
            [
             0.6,
             "#e6f5d0"
            ],
            [
             0.7,
             "#b8e186"
            ],
            [
             0.8,
             "#7fbc41"
            ],
            [
             0.9,
             "#4d9221"
            ],
            [
             1,
             "#276419"
            ]
           ],
           "sequential": [
            [
             0,
             "#0d0887"
            ],
            [
             0.1111111111111111,
             "#46039f"
            ],
            [
             0.2222222222222222,
             "#7201a8"
            ],
            [
             0.3333333333333333,
             "#9c179e"
            ],
            [
             0.4444444444444444,
             "#bd3786"
            ],
            [
             0.5555555555555556,
             "#d8576b"
            ],
            [
             0.6666666666666666,
             "#ed7953"
            ],
            [
             0.7777777777777778,
             "#fb9f3a"
            ],
            [
             0.8888888888888888,
             "#fdca26"
            ],
            [
             1,
             "#f0f921"
            ]
           ],
           "sequentialminus": [
            [
             0,
             "#0d0887"
            ],
            [
             0.1111111111111111,
             "#46039f"
            ],
            [
             0.2222222222222222,
             "#7201a8"
            ],
            [
             0.3333333333333333,
             "#9c179e"
            ],
            [
             0.4444444444444444,
             "#bd3786"
            ],
            [
             0.5555555555555556,
             "#d8576b"
            ],
            [
             0.6666666666666666,
             "#ed7953"
            ],
            [
             0.7777777777777778,
             "#fb9f3a"
            ],
            [
             0.8888888888888888,
             "#fdca26"
            ],
            [
             1,
             "#f0f921"
            ]
           ]
          },
          "colorway": [
           "#636efa",
           "#EF553B",
           "#00cc96",
           "#ab63fa",
           "#FFA15A",
           "#19d3f3",
           "#FF6692",
           "#B6E880",
           "#FF97FF",
           "#FECB52"
          ],
          "font": {
           "color": "#2a3f5f"
          },
          "geo": {
           "bgcolor": "white",
           "lakecolor": "white",
           "landcolor": "#E5ECF6",
           "showlakes": true,
           "showland": true,
           "subunitcolor": "white"
          },
          "hoverlabel": {
           "align": "left"
          },
          "hovermode": "closest",
          "mapbox": {
           "style": "light"
          },
          "paper_bgcolor": "white",
          "plot_bgcolor": "#E5ECF6",
          "polar": {
           "angularaxis": {
            "gridcolor": "white",
            "linecolor": "white",
            "ticks": ""
           },
           "bgcolor": "#E5ECF6",
           "radialaxis": {
            "gridcolor": "white",
            "linecolor": "white",
            "ticks": ""
           }
          },
          "scene": {
           "xaxis": {
            "backgroundcolor": "#E5ECF6",
            "gridcolor": "white",
            "gridwidth": 2,
            "linecolor": "white",
            "showbackground": true,
            "ticks": "",
            "zerolinecolor": "white"
           },
           "yaxis": {
            "backgroundcolor": "#E5ECF6",
            "gridcolor": "white",
            "gridwidth": 2,
            "linecolor": "white",
            "showbackground": true,
            "ticks": "",
            "zerolinecolor": "white"
           },
           "zaxis": {
            "backgroundcolor": "#E5ECF6",
            "gridcolor": "white",
            "gridwidth": 2,
            "linecolor": "white",
            "showbackground": true,
            "ticks": "",
            "zerolinecolor": "white"
           }
          },
          "shapedefaults": {
           "line": {
            "color": "#2a3f5f"
           }
          },
          "ternary": {
           "aaxis": {
            "gridcolor": "white",
            "linecolor": "white",
            "ticks": ""
           },
           "baxis": {
            "gridcolor": "white",
            "linecolor": "white",
            "ticks": ""
           },
           "bgcolor": "#E5ECF6",
           "caxis": {
            "gridcolor": "white",
            "linecolor": "white",
            "ticks": ""
           }
          },
          "title": {
           "x": 0.05
          },
          "xaxis": {
           "automargin": true,
           "gridcolor": "white",
           "linecolor": "white",
           "ticks": "",
           "title": {
            "standoff": 15
           },
           "zerolinecolor": "white",
           "zerolinewidth": 2
          },
          "yaxis": {
           "automargin": true,
           "gridcolor": "white",
           "linecolor": "white",
           "ticks": "",
           "title": {
            "standoff": 15
           },
           "zerolinecolor": "white",
           "zerolinewidth": 2
          }
         }
        },
        "xaxis": {
         "dtick": 1,
         "gridcolor": "rgb(0, 0, 0)",
         "side": "top",
         "ticks": ""
        },
        "yaxis": {
         "dtick": 1,
         "ticks": "",
         "ticksuffix": "  "
        }
       }
      },
      "text/html": [
       "<div>\n",
       "        \n",
       "        \n",
       "            <div id=\"e721a740-4433-4b14-a873-202800e8053e\" class=\"plotly-graph-div\" style=\"height:525px; width:100%;\"></div>\n",
       "            <script type=\"text/javascript\">\n",
       "                require([\"plotly\"], function(Plotly) {\n",
       "                    window.PLOTLYENV=window.PLOTLYENV || {};\n",
       "                    \n",
       "                if (document.getElementById(\"e721a740-4433-4b14-a873-202800e8053e\")) {\n",
       "                    Plotly.newPlot(\n",
       "                        'e721a740-4433-4b14-a873-202800e8053e',\n",
       "                        [{\"colorscale\": [[0.0, \"#0d0887\"], [0.1111111111111111, \"#46039f\"], [0.2222222222222222, \"#7201a8\"], [0.3333333333333333, \"#9c179e\"], [0.4444444444444444, \"#bd3786\"], [0.5555555555555556, \"#d8576b\"], [0.6666666666666666, \"#ed7953\"], [0.7777777777777778, \"#fb9f3a\"], [0.8888888888888888, \"#fdca26\"], [1.0, \"#f0f921\"]], \"reversescale\": false, \"showscale\": false, \"type\": \"heatmap\", \"x\": [\"Predicted_Alive\", \"Predicted_Dead\", \"Total\", \"Accuracy %\"], \"y\": [\"Total\", \"Dead\", \"Alive\"], \"z\": [[126.0, 53.0, 179.0, 74.3017], [33.0, 40.0, 73.0, 54.7945], [93.0, 13.0, 106.0, 87.7358]]}],\n",
       "                        {\"annotations\": [{\"font\": {\"color\": \"#000000\"}, \"showarrow\": false, \"text\": \"126.0\", \"x\": \"Predicted_Alive\", \"xref\": \"x\", \"y\": \"Total\", \"yref\": \"y\"}, {\"font\": {\"color\": \"#FFFFFF\"}, \"showarrow\": false, \"text\": \"53.0\", \"x\": \"Predicted_Dead\", \"xref\": \"x\", \"y\": \"Total\", \"yref\": \"y\"}, {\"font\": {\"color\": \"#000000\"}, \"showarrow\": false, \"text\": \"179.0\", \"x\": \"Total\", \"xref\": \"x\", \"y\": \"Total\", \"yref\": \"y\"}, {\"font\": {\"color\": \"#FFFFFF\"}, \"showarrow\": false, \"text\": \"74.3017\", \"x\": \"Accuracy %\", \"xref\": \"x\", \"y\": \"Total\", \"yref\": \"y\"}, {\"font\": {\"color\": \"#FFFFFF\"}, \"showarrow\": false, \"text\": \"33.0\", \"x\": \"Predicted_Alive\", \"xref\": \"x\", \"y\": \"Dead\", \"yref\": \"y\"}, {\"font\": {\"color\": \"#FFFFFF\"}, \"showarrow\": false, \"text\": \"40.0\", \"x\": \"Predicted_Dead\", \"xref\": \"x\", \"y\": \"Dead\", \"yref\": \"y\"}, {\"font\": {\"color\": \"#FFFFFF\"}, \"showarrow\": false, \"text\": \"73.0\", \"x\": \"Total\", \"xref\": \"x\", \"y\": \"Dead\", \"yref\": \"y\"}, {\"font\": {\"color\": \"#FFFFFF\"}, \"showarrow\": false, \"text\": \"54.7945\", \"x\": \"Accuracy %\", \"xref\": \"x\", \"y\": \"Dead\", \"yref\": \"y\"}, {\"font\": {\"color\": \"#FFFFFF\"}, \"showarrow\": false, \"text\": \"93.0\", \"x\": \"Predicted_Alive\", \"xref\": \"x\", \"y\": \"Alive\", \"yref\": \"y\"}, {\"font\": {\"color\": \"#FFFFFF\"}, \"showarrow\": false, \"text\": \"13.0\", \"x\": \"Predicted_Dead\", \"xref\": \"x\", \"y\": \"Alive\", \"yref\": \"y\"}, {\"font\": {\"color\": \"#000000\"}, \"showarrow\": false, \"text\": \"106.0\", \"x\": \"Total\", \"xref\": \"x\", \"y\": \"Alive\", \"yref\": \"y\"}, {\"font\": {\"color\": \"#FFFFFF\"}, \"showarrow\": false, \"text\": \"87.7358\", \"x\": \"Accuracy %\", \"xref\": \"x\", \"y\": \"Alive\", \"yref\": \"y\"}], \"template\": {\"data\": {\"bar\": [{\"error_x\": {\"color\": \"#2a3f5f\"}, \"error_y\": {\"color\": \"#2a3f5f\"}, \"marker\": {\"line\": {\"color\": \"#E5ECF6\", \"width\": 0.5}}, \"type\": \"bar\"}], \"barpolar\": [{\"marker\": {\"line\": {\"color\": \"#E5ECF6\", \"width\": 0.5}}, \"type\": \"barpolar\"}], \"carpet\": [{\"aaxis\": {\"endlinecolor\": \"#2a3f5f\", \"gridcolor\": \"white\", \"linecolor\": \"white\", \"minorgridcolor\": \"white\", \"startlinecolor\": \"#2a3f5f\"}, \"baxis\": {\"endlinecolor\": \"#2a3f5f\", \"gridcolor\": \"white\", \"linecolor\": \"white\", \"minorgridcolor\": \"white\", \"startlinecolor\": \"#2a3f5f\"}, \"type\": \"carpet\"}], \"choropleth\": [{\"colorbar\": {\"outlinewidth\": 0, \"ticks\": \"\"}, \"type\": \"choropleth\"}], \"contour\": [{\"colorbar\": {\"outlinewidth\": 0, \"ticks\": \"\"}, \"colorscale\": [[0.0, \"#0d0887\"], [0.1111111111111111, \"#46039f\"], [0.2222222222222222, \"#7201a8\"], [0.3333333333333333, \"#9c179e\"], [0.4444444444444444, \"#bd3786\"], [0.5555555555555556, \"#d8576b\"], [0.6666666666666666, \"#ed7953\"], [0.7777777777777778, \"#fb9f3a\"], [0.8888888888888888, \"#fdca26\"], [1.0, \"#f0f921\"]], \"type\": \"contour\"}], \"contourcarpet\": [{\"colorbar\": {\"outlinewidth\": 0, \"ticks\": \"\"}, \"type\": \"contourcarpet\"}], \"heatmap\": [{\"colorbar\": {\"outlinewidth\": 0, \"ticks\": \"\"}, \"colorscale\": [[0.0, \"#0d0887\"], [0.1111111111111111, \"#46039f\"], [0.2222222222222222, \"#7201a8\"], [0.3333333333333333, \"#9c179e\"], [0.4444444444444444, \"#bd3786\"], [0.5555555555555556, \"#d8576b\"], [0.6666666666666666, \"#ed7953\"], [0.7777777777777778, \"#fb9f3a\"], [0.8888888888888888, \"#fdca26\"], [1.0, \"#f0f921\"]], \"type\": \"heatmap\"}], \"heatmapgl\": [{\"colorbar\": {\"outlinewidth\": 0, \"ticks\": \"\"}, \"colorscale\": [[0.0, \"#0d0887\"], [0.1111111111111111, \"#46039f\"], [0.2222222222222222, \"#7201a8\"], [0.3333333333333333, \"#9c179e\"], [0.4444444444444444, \"#bd3786\"], [0.5555555555555556, \"#d8576b\"], [0.6666666666666666, \"#ed7953\"], [0.7777777777777778, \"#fb9f3a\"], [0.8888888888888888, \"#fdca26\"], [1.0, \"#f0f921\"]], \"type\": \"heatmapgl\"}], \"histogram\": [{\"marker\": {\"colorbar\": {\"outlinewidth\": 0, \"ticks\": \"\"}}, \"type\": \"histogram\"}], \"histogram2d\": [{\"colorbar\": {\"outlinewidth\": 0, \"ticks\": \"\"}, \"colorscale\": [[0.0, \"#0d0887\"], [0.1111111111111111, \"#46039f\"], [0.2222222222222222, \"#7201a8\"], [0.3333333333333333, \"#9c179e\"], [0.4444444444444444, \"#bd3786\"], [0.5555555555555556, \"#d8576b\"], [0.6666666666666666, \"#ed7953\"], [0.7777777777777778, \"#fb9f3a\"], [0.8888888888888888, \"#fdca26\"], [1.0, \"#f0f921\"]], \"type\": \"histogram2d\"}], \"histogram2dcontour\": [{\"colorbar\": {\"outlinewidth\": 0, \"ticks\": \"\"}, \"colorscale\": [[0.0, \"#0d0887\"], [0.1111111111111111, \"#46039f\"], [0.2222222222222222, \"#7201a8\"], [0.3333333333333333, \"#9c179e\"], [0.4444444444444444, \"#bd3786\"], [0.5555555555555556, \"#d8576b\"], [0.6666666666666666, \"#ed7953\"], [0.7777777777777778, \"#fb9f3a\"], [0.8888888888888888, \"#fdca26\"], [1.0, \"#f0f921\"]], \"type\": \"histogram2dcontour\"}], \"mesh3d\": [{\"colorbar\": {\"outlinewidth\": 0, \"ticks\": \"\"}, \"type\": \"mesh3d\"}], \"parcoords\": [{\"line\": {\"colorbar\": {\"outlinewidth\": 0, \"ticks\": \"\"}}, \"type\": \"parcoords\"}], \"pie\": [{\"automargin\": true, \"type\": \"pie\"}], \"scatter\": [{\"marker\": {\"colorbar\": {\"outlinewidth\": 0, \"ticks\": \"\"}}, \"type\": \"scatter\"}], \"scatter3d\": [{\"line\": {\"colorbar\": {\"outlinewidth\": 0, \"ticks\": \"\"}}, \"marker\": {\"colorbar\": {\"outlinewidth\": 0, \"ticks\": \"\"}}, \"type\": \"scatter3d\"}], \"scattercarpet\": [{\"marker\": {\"colorbar\": {\"outlinewidth\": 0, \"ticks\": \"\"}}, \"type\": \"scattercarpet\"}], \"scattergeo\": [{\"marker\": {\"colorbar\": {\"outlinewidth\": 0, \"ticks\": \"\"}}, \"type\": \"scattergeo\"}], \"scattergl\": [{\"marker\": {\"colorbar\": {\"outlinewidth\": 0, \"ticks\": \"\"}}, \"type\": \"scattergl\"}], \"scattermapbox\": [{\"marker\": {\"colorbar\": {\"outlinewidth\": 0, \"ticks\": \"\"}}, \"type\": \"scattermapbox\"}], \"scatterpolar\": [{\"marker\": {\"colorbar\": {\"outlinewidth\": 0, \"ticks\": \"\"}}, \"type\": \"scatterpolar\"}], \"scatterpolargl\": [{\"marker\": {\"colorbar\": {\"outlinewidth\": 0, \"ticks\": \"\"}}, \"type\": \"scatterpolargl\"}], \"scatterternary\": [{\"marker\": {\"colorbar\": {\"outlinewidth\": 0, \"ticks\": \"\"}}, \"type\": \"scatterternary\"}], \"surface\": [{\"colorbar\": {\"outlinewidth\": 0, \"ticks\": \"\"}, \"colorscale\": [[0.0, \"#0d0887\"], [0.1111111111111111, \"#46039f\"], [0.2222222222222222, \"#7201a8\"], [0.3333333333333333, \"#9c179e\"], [0.4444444444444444, \"#bd3786\"], [0.5555555555555556, \"#d8576b\"], [0.6666666666666666, \"#ed7953\"], [0.7777777777777778, \"#fb9f3a\"], [0.8888888888888888, \"#fdca26\"], [1.0, \"#f0f921\"]], \"type\": \"surface\"}], \"table\": [{\"cells\": {\"fill\": {\"color\": \"#EBF0F8\"}, \"line\": {\"color\": \"white\"}}, \"header\": {\"fill\": {\"color\": \"#C8D4E3\"}, \"line\": {\"color\": \"white\"}}, \"type\": \"table\"}]}, \"layout\": {\"annotationdefaults\": {\"arrowcolor\": \"#2a3f5f\", \"arrowhead\": 0, \"arrowwidth\": 1}, \"coloraxis\": {\"colorbar\": {\"outlinewidth\": 0, \"ticks\": \"\"}}, \"colorscale\": {\"diverging\": [[0, \"#8e0152\"], [0.1, \"#c51b7d\"], [0.2, \"#de77ae\"], [0.3, \"#f1b6da\"], [0.4, \"#fde0ef\"], [0.5, \"#f7f7f7\"], [0.6, \"#e6f5d0\"], [0.7, \"#b8e186\"], [0.8, \"#7fbc41\"], [0.9, \"#4d9221\"], [1, \"#276419\"]], \"sequential\": [[0.0, \"#0d0887\"], [0.1111111111111111, \"#46039f\"], [0.2222222222222222, \"#7201a8\"], [0.3333333333333333, \"#9c179e\"], [0.4444444444444444, \"#bd3786\"], [0.5555555555555556, \"#d8576b\"], [0.6666666666666666, \"#ed7953\"], [0.7777777777777778, \"#fb9f3a\"], [0.8888888888888888, \"#fdca26\"], [1.0, \"#f0f921\"]], \"sequentialminus\": [[0.0, \"#0d0887\"], [0.1111111111111111, \"#46039f\"], [0.2222222222222222, \"#7201a8\"], [0.3333333333333333, \"#9c179e\"], [0.4444444444444444, \"#bd3786\"], [0.5555555555555556, \"#d8576b\"], [0.6666666666666666, \"#ed7953\"], [0.7777777777777778, \"#fb9f3a\"], [0.8888888888888888, \"#fdca26\"], [1.0, \"#f0f921\"]]}, \"colorway\": [\"#636efa\", \"#EF553B\", \"#00cc96\", \"#ab63fa\", \"#FFA15A\", \"#19d3f3\", \"#FF6692\", \"#B6E880\", \"#FF97FF\", \"#FECB52\"], \"font\": {\"color\": \"#2a3f5f\"}, \"geo\": {\"bgcolor\": \"white\", \"lakecolor\": \"white\", \"landcolor\": \"#E5ECF6\", \"showlakes\": true, \"showland\": true, \"subunitcolor\": \"white\"}, \"hoverlabel\": {\"align\": \"left\"}, \"hovermode\": \"closest\", \"mapbox\": {\"style\": \"light\"}, \"paper_bgcolor\": \"white\", \"plot_bgcolor\": \"#E5ECF6\", \"polar\": {\"angularaxis\": {\"gridcolor\": \"white\", \"linecolor\": \"white\", \"ticks\": \"\"}, \"bgcolor\": \"#E5ECF6\", \"radialaxis\": {\"gridcolor\": \"white\", \"linecolor\": \"white\", \"ticks\": \"\"}}, \"scene\": {\"xaxis\": {\"backgroundcolor\": \"#E5ECF6\", \"gridcolor\": \"white\", \"gridwidth\": 2, \"linecolor\": \"white\", \"showbackground\": true, \"ticks\": \"\", \"zerolinecolor\": \"white\"}, \"yaxis\": {\"backgroundcolor\": \"#E5ECF6\", \"gridcolor\": \"white\", \"gridwidth\": 2, \"linecolor\": \"white\", \"showbackground\": true, \"ticks\": \"\", \"zerolinecolor\": \"white\"}, \"zaxis\": {\"backgroundcolor\": \"#E5ECF6\", \"gridcolor\": \"white\", \"gridwidth\": 2, \"linecolor\": \"white\", \"showbackground\": true, \"ticks\": \"\", \"zerolinecolor\": \"white\"}}, \"shapedefaults\": {\"line\": {\"color\": \"#2a3f5f\"}}, \"ternary\": {\"aaxis\": {\"gridcolor\": \"white\", \"linecolor\": \"white\", \"ticks\": \"\"}, \"baxis\": {\"gridcolor\": \"white\", \"linecolor\": \"white\", \"ticks\": \"\"}, \"bgcolor\": \"#E5ECF6\", \"caxis\": {\"gridcolor\": \"white\", \"linecolor\": \"white\", \"ticks\": \"\"}}, \"title\": {\"x\": 0.05}, \"xaxis\": {\"automargin\": true, \"gridcolor\": \"white\", \"linecolor\": \"white\", \"ticks\": \"\", \"title\": {\"standoff\": 15}, \"zerolinecolor\": \"white\", \"zerolinewidth\": 2}, \"yaxis\": {\"automargin\": true, \"gridcolor\": \"white\", \"linecolor\": \"white\", \"ticks\": \"\", \"title\": {\"standoff\": 15}, \"zerolinecolor\": \"white\", \"zerolinewidth\": 2}}}, \"xaxis\": {\"dtick\": 1, \"gridcolor\": \"rgb(0, 0, 0)\", \"side\": \"top\", \"ticks\": \"\"}, \"yaxis\": {\"dtick\": 1, \"ticks\": \"\", \"ticksuffix\": \"  \"}},\n",
       "                        {\"responsive\": true}\n",
       "                    ).then(function(){\n",
       "                            \n",
       "var gd = document.getElementById('e721a740-4433-4b14-a873-202800e8053e');\n",
       "var x = new MutationObserver(function (mutations, observer) {{\n",
       "        var display = window.getComputedStyle(gd).display;\n",
       "        if (!display || display === 'none') {{\n",
       "            console.log([gd, 'removed!']);\n",
       "            Plotly.purge(gd);\n",
       "            observer.disconnect();\n",
       "        }}\n",
       "}});\n",
       "\n",
       "// Listen for the removal of the full notebook cells\n",
       "var notebookContainer = gd.closest('#notebook-container');\n",
       "if (notebookContainer) {{\n",
       "    x.observe(notebookContainer, {childList: true});\n",
       "}}\n",
       "\n",
       "// Listen for the clearing of the current output cell\n",
       "var outputEl = gd.closest('.output');\n",
       "if (outputEl) {{\n",
       "    x.observe(outputEl, {childList: true});\n",
       "}}\n",
       "\n",
       "                        })\n",
       "                };\n",
       "                });\n",
       "            </script>\n",
       "        </div>"
      ]
     },
     "metadata": {},
     "output_type": "display_data"
    }
   ],
   "source": [
    "bp.plot_confusion_matrix_plotly(ytest,ypreds_lr,labels=['Alive','Dead'])"
   ]
  },
  {
   "cell_type": "markdown",
   "metadata": {
    "ExecuteTime": {
     "end_time": "2020-09-30T19:05:28.739723Z",
     "start_time": "2020-09-30T19:05:28.691027Z"
    }
   },
   "source": [
    "## Area Under the Curve"
   ]
  },
  {
   "cell_type": "code",
   "execution_count": 18,
   "metadata": {
    "ExecuteTime": {
     "end_time": "2021-07-11T16:23:00.383848Z",
     "start_time": "2021-07-11T16:23:00.319694Z"
    }
   },
   "outputs": [
    {
     "data": {
      "text/plain": [
       "array([[0.31097563, 0.68902437],\n",
       "       [0.68147744, 0.31852256],\n",
       "       [0.52856291, 0.47143709],\n",
       "       [0.79029474, 0.20970526],\n",
       "       [0.86451932, 0.13548068]])"
      ]
     },
     "execution_count": 18,
     "metadata": {},
     "output_type": "execute_result"
    }
   ],
   "source": [
    "yprobs = clf_lr.predict_proba(Xtest)\n",
    "yprobs[:5]"
   ]
  },
  {
   "cell_type": "code",
   "execution_count": 19,
   "metadata": {
    "ExecuteTime": {
     "end_time": "2021-07-11T16:23:00.467705Z",
     "start_time": "2021-07-11T16:23:00.386068Z"
    }
   },
   "outputs": [],
   "source": [
    "# help(bp.show_methods)"
   ]
  },
  {
   "cell_type": "code",
   "execution_count": 20,
   "metadata": {
    "ExecuteTime": {
     "end_time": "2021-07-11T16:23:00.570102Z",
     "start_time": "2021-07-11T16:23:00.470168Z"
    }
   },
   "outputs": [
    {
     "data": {
      "text/html": [
       "<div>\n",
       "<style scoped>\n",
       "    .dataframe tbody tr th:only-of-type {\n",
       "        vertical-align: middle;\n",
       "    }\n",
       "\n",
       "    .dataframe tbody tr th {\n",
       "        vertical-align: top;\n",
       "    }\n",
       "\n",
       "    .dataframe thead th {\n",
       "        text-align: right;\n",
       "    }\n",
       "</style>\n",
       "<table border=\"1\" class=\"dataframe\">\n",
       "  <thead>\n",
       "    <tr style=\"text-align: right;\">\n",
       "      <th></th>\n",
       "      <th>0</th>\n",
       "      <th>1</th>\n",
       "      <th>2</th>\n",
       "    </tr>\n",
       "  </thead>\n",
       "  <tbody>\n",
       "    <tr>\n",
       "      <th>0</th>\n",
       "      <td>plot_roc_auc</td>\n",
       "      <td></td>\n",
       "      <td></td>\n",
       "    </tr>\n",
       "  </tbody>\n",
       "</table>\n",
       "</div>"
      ],
      "text/plain": [
       "              0 1 2\n",
       "0  plot_roc_auc    "
      ]
     },
     "execution_count": 20,
     "metadata": {},
     "output_type": "execute_result"
    }
   ],
   "source": [
    "bp.show_methods(bp,contains='auc')"
   ]
  },
  {
   "cell_type": "code",
   "execution_count": 21,
   "metadata": {
    "ExecuteTime": {
     "end_time": "2021-07-11T16:23:00.652945Z",
     "start_time": "2021-07-11T16:23:00.588049Z"
    }
   },
   "outputs": [
    {
     "data": {
      "text/plain": [
       "((179,), (179, 2))"
      ]
     },
     "execution_count": 21,
     "metadata": {},
     "output_type": "execute_result"
    }
   ],
   "source": [
    "ytest.shape, yprobs.shape"
   ]
  },
  {
   "cell_type": "code",
   "execution_count": 22,
   "metadata": {
    "ExecuteTime": {
     "end_time": "2021-07-11T16:23:00.961025Z",
     "start_time": "2021-07-11T16:23:00.657341Z"
    }
   },
   "outputs": [
    {
     "data": {
      "image/png": "[encoded data removed]",
      "text/plain": [
       "<Figure size 432x288 with 1 Axes>"
      ]
     },
     "metadata": {},
     "output_type": "display_data"
    }
   ],
   "source": [
    "bp.plot_roc_auc(ytest,yprobs)"
   ]
  },
  {
   "cell_type": "code",
   "execution_count": 23,
   "metadata": {
    "ExecuteTime": {
     "end_time": "2021-07-11T16:23:01.020873Z",
     "start_time": "2021-07-11T16:23:00.968408Z"
    }
   },
   "outputs": [],
   "source": [
    "# using scikitplot"
   ]
  },
  {
   "cell_type": "code",
   "execution_count": 24,
   "metadata": {
    "ExecuteTime": {
     "end_time": "2021-07-11T16:23:01.083815Z",
     "start_time": "2021-07-11T16:23:01.025573Z"
    }
   },
   "outputs": [],
   "source": [
    "from scikitplot import metrics as skpmetrics"
   ]
  },
  {
   "cell_type": "code",
   "execution_count": 26,
   "metadata": {
    "ExecuteTime": {
     "end_time": "2021-07-11T16:23:07.742714Z",
     "start_time": "2021-07-11T16:23:07.673120Z"
    }
   },
   "outputs": [
    {
     "data": {
      "text/html": [
       "<div>\n",
       "<style scoped>\n",
       "    .dataframe tbody tr th:only-of-type {\n",
       "        vertical-align: middle;\n",
       "    }\n",
       "\n",
       "    .dataframe tbody tr th {\n",
       "        vertical-align: top;\n",
       "    }\n",
       "\n",
       "    .dataframe thead th {\n",
       "        text-align: right;\n",
       "    }\n",
       "</style>\n",
       "<table border=\"1\" class=\"dataframe\">\n",
       "  <thead>\n",
       "    <tr style=\"text-align: right;\">\n",
       "      <th></th>\n",
       "      <th>0</th>\n",
       "      <th>1</th>\n",
       "      <th>2</th>\n",
       "    </tr>\n",
       "  </thead>\n",
       "  <tbody>\n",
       "    <tr>\n",
       "      <th>0</th>\n",
       "      <td>plot_calibration_curve</td>\n",
       "      <td>plot_lift_curve</td>\n",
       "      <td>plot_roc</td>\n",
       "    </tr>\n",
       "    <tr>\n",
       "      <th>1</th>\n",
       "      <td>plot_confusion_matrix</td>\n",
       "      <td>plot_precision_recall</td>\n",
       "      <td>plot_roc_curve</td>\n",
       "    </tr>\n",
       "    <tr>\n",
       "      <th>2</th>\n",
       "      <td>plot_cumulative_gain</td>\n",
       "      <td>plot_precision_recall_curve</td>\n",
       "      <td>plot_silhouette</td>\n",
       "    </tr>\n",
       "    <tr>\n",
       "      <th>3</th>\n",
       "      <td>plot_ks_statistic</td>\n",
       "      <td></td>\n",
       "      <td></td>\n",
       "    </tr>\n",
       "  </tbody>\n",
       "</table>\n",
       "</div>"
      ],
      "text/plain": [
       "                        0                            1                2\n",
       "0  plot_calibration_curve              plot_lift_curve         plot_roc\n",
       "1   plot_confusion_matrix        plot_precision_recall   plot_roc_curve\n",
       "2    plot_cumulative_gain  plot_precision_recall_curve  plot_silhouette\n",
       "3       plot_ks_statistic                                              "
      ]
     },
     "execution_count": 26,
     "metadata": {},
     "output_type": "execute_result"
    }
   ],
   "source": [
    "bp.show_methods(skpmetrics,starts='plot')"
   ]
  },
  {
   "cell_type": "code",
   "execution_count": null,
   "metadata": {
    "ExecuteTime": {
     "end_time": "2021-07-11T16:23:01.524146Z",
     "start_time": "2021-07-11T16:22:56.647Z"
    }
   },
   "outputs": [],
   "source": [
    "skpmetrics.plot_roc(ytest,yprobs)"
   ]
  },
  {
   "cell_type": "code",
   "execution_count": null,
   "metadata": {},
   "outputs": [],
   "source": []
  }
 ],
 "metadata": {
  "kernelspec": {
   "display_name": "Python (dataSc)",
   "language": "python",
   "name": "datasc"
  },
  "language_info": {
   "codemirror_mode": {
    "name": "ipython",
    "version": 3
   },
   "file_extension": ".py",
   "mimetype": "text/x-python",
   "name": "python",
   "nbconvert_exporter": "python",
   "pygments_lexer": "ipython3",
   "version": "3.7.7"
  },
  "toc": {
   "base_numbering": 1,
   "nav_menu": {},
   "number_sections": true,
   "sideBar": true,
   "skip_h1_title": false,
   "title_cell": "Table of Contents",
   "title_sidebar": "Contents",
   "toc_cell": true,
   "toc_position": {},
   "toc_section_display": true,
   "toc_window_display": false
  },
  "varInspector": {
   "cols": {
    "lenName": 16,
    "lenType": 16,
    "lenVar": 40
   },
   "kernels_config": {
    "python": {
     "delete_cmd_postfix": "",
     "delete_cmd_prefix": "del ",
     "library": "var_list.py",
     "varRefreshCmd": "print(var_dic_list())"
    },
    "r": {
     "delete_cmd_postfix": ") ",
     "delete_cmd_prefix": "rm(",
     "library": "var_list.r",
     "varRefreshCmd": "cat(var_dic_list()) "
    }
   },
   "types_to_exclude": [
    "module",
    "function",
    "builtin_function_or_method",
    "instance",
    "_Feature"
   ],
   "window_display": false
  }
 },
 "nbformat": 4,
 "nbformat_minor": 4
}
