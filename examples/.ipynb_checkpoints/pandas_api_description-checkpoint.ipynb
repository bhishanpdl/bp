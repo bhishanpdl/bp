{
 "cells": [
  {
   "cell_type": "markdown",
   "metadata": {
    "toc": true
   },
   "source": [
    "<h1>Table of Contents<span class=\"tocSkip\"></span></h1>\n",
    "<div class=\"toc\"><ul class=\"toc-item\"><li><span><a href=\"#Description\" data-toc-modified-id=\"Description-1\"><span class=\"toc-item-num\">1&nbsp;&nbsp;</span>Description</a></span></li><li><span><a href=\"#Imports\" data-toc-modified-id=\"Imports-2\"><span class=\"toc-item-num\">2&nbsp;&nbsp;</span>Imports</a></span></li><li><span><a href=\"#Using-plotly-api-in-module-bhishan\" data-toc-modified-id=\"Using-plotly-api-in-module-bhishan-3\"><span class=\"toc-item-num\">3&nbsp;&nbsp;</span>Using plotly api in module bhishan</a></span></li></ul></div>"
   ]
  },
  {
   "cell_type": "markdown",
   "metadata": {},
   "source": [
    "# Description\n",
    "This is an example tutorial to use my module bhishan for the plotly\n",
    "extension for pandas.\n"
   ]
  },
  {
   "cell_type": "markdown",
   "metadata": {},
   "source": [
    "# Imports"
   ]
  },
  {
   "cell_type": "code",
   "execution_count": 22,
   "metadata": {
    "ExecuteTime": {
     "end_time": "2020-06-21T21:07:25.467616Z",
     "start_time": "2020-06-21T21:07:24.868294Z"
    }
   },
   "outputs": [
    {
     "name": "stderr",
     "output_type": "stream",
     "text": [
      "/Users/poudel/Dropbox/a00_Bhishan_Modules/bhishan/pandas_api.py:33: UserWarning:\n",
      "\n",
      "registration of accessor <class 'bhishan.pandas_api.BPAccessor'> under name 'bp' for type <class 'pandas.core.frame.DataFrame'> is overriding a preexistingattribute with the same name.\n",
      "\n"
     ]
    },
    {
     "data": {
      "text/plain": [
       "[('numpy', '1.18.4'), ('pandas', '1.0.3'), ('seaborn', '0.10.1')]"
      ]
     },
     "execution_count": 22,
     "metadata": {},
     "output_type": "execute_result"
    }
   ],
   "source": [
    "import numpy as np\n",
    "import pandas as pd\n",
    "import seaborn as sns\n",
    "import os\n",
    "\n",
    "from tqdm import tqdm_notebook as tqdm\n",
    "import matplotlib.pyplot as plt\n",
    "\n",
    "%matplotlib inline\n",
    "%config InlineBackend.figure_format = 'retina'\n",
    "plt.style.use('ggplot') \n",
    "\n",
    "# random state\n",
    "SEED=100\n",
    "\n",
    "home = os.path.expanduser('~')\n",
    "\n",
    "[(x.__name__,x.__version__) for x in [np,pd,sns]]"
   ]
  },
  {
   "cell_type": "code",
   "execution_count": 23,
   "metadata": {
    "ExecuteTime": {
     "end_time": "2020-06-21T21:07:25.573738Z",
     "start_time": "2020-06-21T21:07:25.482969Z"
    }
   },
   "outputs": [
    {
     "name": "stdout",
     "output_type": "stream",
     "text": [
      "The autoreload extension is already loaded. To reload it, use:\n",
      "  %reload_ext autoreload\n"
     ]
    }
   ],
   "source": [
    "%load_ext autoreload"
   ]
  },
  {
   "cell_type": "code",
   "execution_count": 24,
   "metadata": {
    "ExecuteTime": {
     "end_time": "2020-06-21T21:07:25.660744Z",
     "start_time": "2020-06-21T21:07:25.583708Z"
    }
   },
   "outputs": [],
   "source": [
    "%autoreload 2"
   ]
  },
  {
   "cell_type": "code",
   "execution_count": 25,
   "metadata": {
    "ExecuteTime": {
     "end_time": "2020-06-21T21:07:25.749788Z",
     "start_time": "2020-06-21T21:07:25.666550Z"
    }
   },
   "outputs": [],
   "source": [
    "import bhishan"
   ]
  },
  {
   "cell_type": "markdown",
   "metadata": {},
   "source": [
    "# Using plotly api in module bhishan"
   ]
  },
  {
   "cell_type": "code",
   "execution_count": 26,
   "metadata": {
    "ExecuteTime": {
     "end_time": "2020-06-21T21:07:25.846902Z",
     "start_time": "2020-06-21T21:07:25.753237Z"
    }
   },
   "outputs": [],
   "source": [
    "# print(sns.get_dataset_names())"
   ]
  },
  {
   "cell_type": "code",
   "execution_count": 27,
   "metadata": {
    "ExecuteTime": {
     "end_time": "2020-06-21T21:07:25.978667Z",
     "start_time": "2020-06-21T21:07:25.854505Z"
    }
   },
   "outputs": [
    {
     "data": {
      "text/html": [
       "<div>\n",
       "<style scoped>\n",
       "    .dataframe tbody tr th:only-of-type {\n",
       "        vertical-align: middle;\n",
       "    }\n",
       "\n",
       "    .dataframe tbody tr th {\n",
       "        vertical-align: top;\n",
       "    }\n",
       "\n",
       "    .dataframe thead th {\n",
       "        text-align: right;\n",
       "    }\n",
       "</style>\n",
       "<table border=\"1\" class=\"dataframe\">\n",
       "  <thead>\n",
       "    <tr style=\"text-align: right;\">\n",
       "      <th></th>\n",
       "      <th>survived</th>\n",
       "      <th>pclass</th>\n",
       "      <th>sex</th>\n",
       "      <th>age</th>\n",
       "      <th>sibsp</th>\n",
       "      <th>parch</th>\n",
       "      <th>fare</th>\n",
       "      <th>embarked</th>\n",
       "      <th>class</th>\n",
       "      <th>who</th>\n",
       "      <th>adult_male</th>\n",
       "      <th>deck</th>\n",
       "      <th>embark_town</th>\n",
       "      <th>alive</th>\n",
       "      <th>alone</th>\n",
       "    </tr>\n",
       "  </thead>\n",
       "  <tbody>\n",
       "    <tr>\n",
       "      <th>0</th>\n",
       "      <td>0</td>\n",
       "      <td>3</td>\n",
       "      <td>male</td>\n",
       "      <td>22.0</td>\n",
       "      <td>1</td>\n",
       "      <td>0</td>\n",
       "      <td>7.2500</td>\n",
       "      <td>S</td>\n",
       "      <td>Third</td>\n",
       "      <td>man</td>\n",
       "      <td>True</td>\n",
       "      <td>NaN</td>\n",
       "      <td>Southampton</td>\n",
       "      <td>no</td>\n",
       "      <td>False</td>\n",
       "    </tr>\n",
       "    <tr>\n",
       "      <th>1</th>\n",
       "      <td>1</td>\n",
       "      <td>1</td>\n",
       "      <td>female</td>\n",
       "      <td>38.0</td>\n",
       "      <td>1</td>\n",
       "      <td>0</td>\n",
       "      <td>71.2833</td>\n",
       "      <td>C</td>\n",
       "      <td>First</td>\n",
       "      <td>woman</td>\n",
       "      <td>False</td>\n",
       "      <td>C</td>\n",
       "      <td>Cherbourg</td>\n",
       "      <td>yes</td>\n",
       "      <td>False</td>\n",
       "    </tr>\n",
       "    <tr>\n",
       "      <th>2</th>\n",
       "      <td>1</td>\n",
       "      <td>3</td>\n",
       "      <td>female</td>\n",
       "      <td>26.0</td>\n",
       "      <td>0</td>\n",
       "      <td>0</td>\n",
       "      <td>7.9250</td>\n",
       "      <td>S</td>\n",
       "      <td>Third</td>\n",
       "      <td>woman</td>\n",
       "      <td>False</td>\n",
       "      <td>NaN</td>\n",
       "      <td>Southampton</td>\n",
       "      <td>yes</td>\n",
       "      <td>True</td>\n",
       "    </tr>\n",
       "    <tr>\n",
       "      <th>3</th>\n",
       "      <td>1</td>\n",
       "      <td>1</td>\n",
       "      <td>female</td>\n",
       "      <td>35.0</td>\n",
       "      <td>1</td>\n",
       "      <td>0</td>\n",
       "      <td>53.1000</td>\n",
       "      <td>S</td>\n",
       "      <td>First</td>\n",
       "      <td>woman</td>\n",
       "      <td>False</td>\n",
       "      <td>C</td>\n",
       "      <td>Southampton</td>\n",
       "      <td>yes</td>\n",
       "      <td>False</td>\n",
       "    </tr>\n",
       "    <tr>\n",
       "      <th>4</th>\n",
       "      <td>0</td>\n",
       "      <td>3</td>\n",
       "      <td>male</td>\n",
       "      <td>35.0</td>\n",
       "      <td>0</td>\n",
       "      <td>0</td>\n",
       "      <td>8.0500</td>\n",
       "      <td>S</td>\n",
       "      <td>Third</td>\n",
       "      <td>man</td>\n",
       "      <td>True</td>\n",
       "      <td>NaN</td>\n",
       "      <td>Southampton</td>\n",
       "      <td>no</td>\n",
       "      <td>True</td>\n",
       "    </tr>\n",
       "  </tbody>\n",
       "</table>\n",
       "</div>"
      ],
      "text/plain": [
       "   survived  pclass     sex   age  sibsp  parch     fare embarked  class  \\\n",
       "0         0       3    male  22.0      1      0   7.2500        S  Third   \n",
       "1         1       1  female  38.0      1      0  71.2833        C  First   \n",
       "2         1       3  female  26.0      0      0   7.9250        S  Third   \n",
       "3         1       1  female  35.0      1      0  53.1000        S  First   \n",
       "4         0       3    male  35.0      0      0   8.0500        S  Third   \n",
       "\n",
       "     who  adult_male deck  embark_town alive  alone  \n",
       "0    man        True  NaN  Southampton    no  False  \n",
       "1  woman       False    C    Cherbourg   yes  False  \n",
       "2  woman       False  NaN  Southampton   yes   True  \n",
       "3  woman       False    C  Southampton   yes  False  \n",
       "4    man        True  NaN  Southampton    no   True  "
      ]
     },
     "execution_count": 27,
     "metadata": {},
     "output_type": "execute_result"
    }
   ],
   "source": [
    "df = sns.load_dataset('titanic')\n",
    "df.head()"
   ]
  },
  {
   "cell_type": "code",
   "execution_count": 28,
   "metadata": {
    "ExecuteTime": {
     "end_time": "2020-06-21T21:07:26.103371Z",
     "start_time": "2020-06-21T21:07:25.986035Z"
    }
   },
   "outputs": [
    {
     "data": {
      "text/html": [
       "<style  type=\"text/css\" >\n",
       "</style><table id=\"T_3555b0b2_b403_11ea_b2d9_acde48001122\" ><thead>    <tr>        <th class=\"blank level0\" ></th>        <th class=\"col_heading level0 col0\" >embarked</th>        <th class=\"col_heading level0 col1\" >Count</th>        <th class=\"col_heading level0 col2\" >Percent</th>        <th class=\"col_heading level0 col3\" >Cumulative Count</th>        <th class=\"col_heading level0 col4\" >Cumulative Percent</th>    </tr></thead><tbody>\n",
       "                <tr>\n",
       "                        <th id=\"T_3555b0b2_b403_11ea_b2d9_acde48001122level0_row0\" class=\"row_heading level0 row0\" >0</th>\n",
       "                        <td id=\"T_3555b0b2_b403_11ea_b2d9_acde48001122row0_col0\" class=\"data row0 col0\" >S</td>\n",
       "                        <td id=\"T_3555b0b2_b403_11ea_b2d9_acde48001122row0_col1\" class=\"data row0 col1\" >644</td>\n",
       "                        <td id=\"T_3555b0b2_b403_11ea_b2d9_acde48001122row0_col2\" class=\"data row0 col2\" >72.44%</td>\n",
       "                        <td id=\"T_3555b0b2_b403_11ea_b2d9_acde48001122row0_col3\" class=\"data row0 col3\" >644</td>\n",
       "                        <td id=\"T_3555b0b2_b403_11ea_b2d9_acde48001122row0_col4\" class=\"data row0 col4\" >72.44%</td>\n",
       "            </tr>\n",
       "            <tr>\n",
       "                        <th id=\"T_3555b0b2_b403_11ea_b2d9_acde48001122level0_row1\" class=\"row_heading level0 row1\" >1</th>\n",
       "                        <td id=\"T_3555b0b2_b403_11ea_b2d9_acde48001122row1_col0\" class=\"data row1 col0\" >C</td>\n",
       "                        <td id=\"T_3555b0b2_b403_11ea_b2d9_acde48001122row1_col1\" class=\"data row1 col1\" >168</td>\n",
       "                        <td id=\"T_3555b0b2_b403_11ea_b2d9_acde48001122row1_col2\" class=\"data row1 col2\" >18.90%</td>\n",
       "                        <td id=\"T_3555b0b2_b403_11ea_b2d9_acde48001122row1_col3\" class=\"data row1 col3\" >812</td>\n",
       "                        <td id=\"T_3555b0b2_b403_11ea_b2d9_acde48001122row1_col4\" class=\"data row1 col4\" >91.34%</td>\n",
       "            </tr>\n",
       "            <tr>\n",
       "                        <th id=\"T_3555b0b2_b403_11ea_b2d9_acde48001122level0_row2\" class=\"row_heading level0 row2\" >2</th>\n",
       "                        <td id=\"T_3555b0b2_b403_11ea_b2d9_acde48001122row2_col0\" class=\"data row2 col0\" >Q</td>\n",
       "                        <td id=\"T_3555b0b2_b403_11ea_b2d9_acde48001122row2_col1\" class=\"data row2 col1\" >77</td>\n",
       "                        <td id=\"T_3555b0b2_b403_11ea_b2d9_acde48001122row2_col2\" class=\"data row2 col2\" >8.66%</td>\n",
       "                        <td id=\"T_3555b0b2_b403_11ea_b2d9_acde48001122row2_col3\" class=\"data row2 col3\" >889</td>\n",
       "                        <td id=\"T_3555b0b2_b403_11ea_b2d9_acde48001122row2_col4\" class=\"data row2 col4\" >100.00%</td>\n",
       "            </tr>\n",
       "    </tbody></table>"
      ],
      "text/plain": [
       "<pandas.io.formats.style.Styler at 0x7fc5277f1dd0>"
      ]
     },
     "execution_count": 28,
     "metadata": {},
     "output_type": "execute_result"
    }
   ],
   "source": [
    "df.bp.freq(['embarked'],style=True)"
   ]
  },
  {
   "cell_type": "code",
   "execution_count": 29,
   "metadata": {
    "ExecuteTime": {
     "end_time": "2020-06-21T21:07:26.538663Z",
     "start_time": "2020-06-21T21:07:26.120091Z"
    }
   },
   "outputs": [
    {
     "data": {
      "text/html": [
       "<style  type=\"text/css\" >\n",
       "    #T_3595f6ea_b403_11ea_b2d9_acde48001122row0_col5 {\n",
       "            : ;\n",
       "            background-color:  #023858;\n",
       "            color:  #f1f1f1;\n",
       "        }    #T_3595f6ea_b403_11ea_b2d9_acde48001122row0_col7 {\n",
       "            : ;\n",
       "            background-color:  #fff7fb;\n",
       "            color:  #000000;\n",
       "        }    #T_3595f6ea_b403_11ea_b2d9_acde48001122row1_col5 {\n",
       "            : ;\n",
       "            background-color:  #ced0e6;\n",
       "            color:  #000000;\n",
       "        }    #T_3595f6ea_b403_11ea_b2d9_acde48001122row1_col7 {\n",
       "            : ;\n",
       "            background-color:  #fff7fb;\n",
       "            color:  #000000;\n",
       "        }    #T_3595f6ea_b403_11ea_b2d9_acde48001122row2_col1 {\n",
       "            background:  salmon;\n",
       "        }    #T_3595f6ea_b403_11ea_b2d9_acde48001122row2_col5 {\n",
       "            : ;\n",
       "            background-color:  #fff7fb;\n",
       "            color:  #000000;\n",
       "        }    #T_3595f6ea_b403_11ea_b2d9_acde48001122row2_col7 {\n",
       "            : ;\n",
       "            background-color:  #fff7fb;\n",
       "            color:  #000000;\n",
       "        }    #T_3595f6ea_b403_11ea_b2d9_acde48001122row3_col1 {\n",
       "            background:  salmon;\n",
       "        }    #T_3595f6ea_b403_11ea_b2d9_acde48001122row3_col5 {\n",
       "            : ;\n",
       "            background-color:  #fff7fb;\n",
       "            color:  #000000;\n",
       "        }    #T_3595f6ea_b403_11ea_b2d9_acde48001122row3_col7 {\n",
       "            : ;\n",
       "            background-color:  #fff7fb;\n",
       "            color:  #000000;\n",
       "        }    #T_3595f6ea_b403_11ea_b2d9_acde48001122row4_col5 {\n",
       "            : ;\n",
       "            background-color:  #fff7fb;\n",
       "            color:  #000000;\n",
       "        }    #T_3595f6ea_b403_11ea_b2d9_acde48001122row4_col7 {\n",
       "            : ;\n",
       "            background-color:  #023858;\n",
       "            color:  #f1f1f1;\n",
       "        }    #T_3595f6ea_b403_11ea_b2d9_acde48001122row5_col5 {\n",
       "            : ;\n",
       "            background-color:  #fff7fb;\n",
       "            color:  #000000;\n",
       "        }    #T_3595f6ea_b403_11ea_b2d9_acde48001122row5_col7 {\n",
       "            : ;\n",
       "            background-color:  #045483;\n",
       "            color:  #f1f1f1;\n",
       "        }    #T_3595f6ea_b403_11ea_b2d9_acde48001122row6_col5 {\n",
       "            : ;\n",
       "            background-color:  #fff7fb;\n",
       "            color:  #000000;\n",
       "        }    #T_3595f6ea_b403_11ea_b2d9_acde48001122row6_col7 {\n",
       "            : ;\n",
       "            background-color:  #05659f;\n",
       "            color:  #f1f1f1;\n",
       "        }    #T_3595f6ea_b403_11ea_b2d9_acde48001122row7_col5 {\n",
       "            : ;\n",
       "            background-color:  #fff7fb;\n",
       "            color:  #000000;\n",
       "        }    #T_3595f6ea_b403_11ea_b2d9_acde48001122row7_col7 {\n",
       "            : ;\n",
       "            background-color:  #69a5cc;\n",
       "            color:  #000000;\n",
       "        }    #T_3595f6ea_b403_11ea_b2d9_acde48001122row8_col5 {\n",
       "            : ;\n",
       "            background-color:  #fff7fb;\n",
       "            color:  #000000;\n",
       "        }    #T_3595f6ea_b403_11ea_b2d9_acde48001122row8_col7 {\n",
       "            : ;\n",
       "            background-color:  #69a5cc;\n",
       "            color:  #000000;\n",
       "        }    #T_3595f6ea_b403_11ea_b2d9_acde48001122row9_col5 {\n",
       "            : ;\n",
       "            background-color:  #fff7fb;\n",
       "            color:  #000000;\n",
       "        }    #T_3595f6ea_b403_11ea_b2d9_acde48001122row9_col7 {\n",
       "            : ;\n",
       "            background-color:  #fcf4fa;\n",
       "            color:  #000000;\n",
       "        }    #T_3595f6ea_b403_11ea_b2d9_acde48001122row10_col5 {\n",
       "            : ;\n",
       "            background-color:  #fff7fb;\n",
       "            color:  #000000;\n",
       "        }    #T_3595f6ea_b403_11ea_b2d9_acde48001122row10_col7 {\n",
       "            : ;\n",
       "            background-color:  #fff7fb;\n",
       "            color:  #000000;\n",
       "        }    #T_3595f6ea_b403_11ea_b2d9_acde48001122row11_col1 {\n",
       "            background:  salmon;\n",
       "        }    #T_3595f6ea_b403_11ea_b2d9_acde48001122row11_col5 {\n",
       "            : ;\n",
       "            background-color:  #fff7fb;\n",
       "            color:  #000000;\n",
       "        }    #T_3595f6ea_b403_11ea_b2d9_acde48001122row11_col7 {\n",
       "            : ;\n",
       "            background-color:  #fff7fb;\n",
       "            color:  #000000;\n",
       "        }    #T_3595f6ea_b403_11ea_b2d9_acde48001122row12_col5 {\n",
       "            : ;\n",
       "            background-color:  #fff7fb;\n",
       "            color:  #000000;\n",
       "        }    #T_3595f6ea_b403_11ea_b2d9_acde48001122row12_col7 {\n",
       "            : ;\n",
       "            background-color:  #fff7fb;\n",
       "            color:  #000000;\n",
       "        }    #T_3595f6ea_b403_11ea_b2d9_acde48001122row13_col1 {\n",
       "            background:  salmon;\n",
       "        }    #T_3595f6ea_b403_11ea_b2d9_acde48001122row13_col5 {\n",
       "            : ;\n",
       "            background-color:  #fff7fb;\n",
       "            color:  #000000;\n",
       "        }    #T_3595f6ea_b403_11ea_b2d9_acde48001122row13_col7 {\n",
       "            : ;\n",
       "            background-color:  #fff7fb;\n",
       "            color:  #000000;\n",
       "        }    #T_3595f6ea_b403_11ea_b2d9_acde48001122row14_col1 {\n",
       "            background:  salmon;\n",
       "        }    #T_3595f6ea_b403_11ea_b2d9_acde48001122row14_col5 {\n",
       "            : ;\n",
       "            background-color:  #fff7fb;\n",
       "            color:  #000000;\n",
       "        }    #T_3595f6ea_b403_11ea_b2d9_acde48001122row14_col7 {\n",
       "            : ;\n",
       "            background-color:  #fff7fb;\n",
       "            color:  #000000;\n",
       "        }</style><table id=\"T_3595f6ea_b403_11ea_b2d9_acde48001122\" ><thead>    <tr>        <th class=\"blank level0\" ></th>        <th class=\"col_heading level0 col0\" >Feature</th>        <th class=\"col_heading level0 col1\" >Type</th>        <th class=\"col_heading level0 col2\" >Count</th>        <th class=\"col_heading level0 col3\" >Unique</th>        <th class=\"col_heading level0 col4\" >Missing</th>        <th class=\"col_heading level0 col5\" >MissingPct</th>        <th class=\"col_heading level0 col6\" >Zeros</th>        <th class=\"col_heading level0 col7\" >ZerosPct</th>        <th class=\"col_heading level0 col8\" >count</th>        <th class=\"col_heading level0 col9\" >mean</th>        <th class=\"col_heading level0 col10\" >std</th>        <th class=\"col_heading level0 col11\" >min</th>        <th class=\"col_heading level0 col12\" >25%</th>        <th class=\"col_heading level0 col13\" >50%</th>        <th class=\"col_heading level0 col14\" >75%</th>        <th class=\"col_heading level0 col15\" >max</th>    </tr></thead><tbody>\n",
       "                <tr>\n",
       "                        <th id=\"T_3595f6ea_b403_11ea_b2d9_acde48001122level0_row0\" class=\"row_heading level0 row0\" >11</th>\n",
       "                        <td id=\"T_3595f6ea_b403_11ea_b2d9_acde48001122row0_col0\" class=\"data row0 col0\" >deck</td>\n",
       "                        <td id=\"T_3595f6ea_b403_11ea_b2d9_acde48001122row0_col1\" class=\"data row0 col1\" >category</td>\n",
       "                        <td id=\"T_3595f6ea_b403_11ea_b2d9_acde48001122row0_col2\" class=\"data row0 col2\" >891</td>\n",
       "                        <td id=\"T_3595f6ea_b403_11ea_b2d9_acde48001122row0_col3\" class=\"data row0 col3\" >7</td>\n",
       "                        <td id=\"T_3595f6ea_b403_11ea_b2d9_acde48001122row0_col4\" class=\"data row0 col4\" >688</td>\n",
       "                        <td id=\"T_3595f6ea_b403_11ea_b2d9_acde48001122row0_col5\" class=\"data row0 col5\" >77.220000</td>\n",
       "                        <td id=\"T_3595f6ea_b403_11ea_b2d9_acde48001122row0_col6\" class=\"data row0 col6\" >0</td>\n",
       "                        <td id=\"T_3595f6ea_b403_11ea_b2d9_acde48001122row0_col7\" class=\"data row0 col7\" >0.000000</td>\n",
       "                        <td id=\"T_3595f6ea_b403_11ea_b2d9_acde48001122row0_col8\" class=\"data row0 col8\" ></td>\n",
       "                        <td id=\"T_3595f6ea_b403_11ea_b2d9_acde48001122row0_col9\" class=\"data row0 col9\" ></td>\n",
       "                        <td id=\"T_3595f6ea_b403_11ea_b2d9_acde48001122row0_col10\" class=\"data row0 col10\" ></td>\n",
       "                        <td id=\"T_3595f6ea_b403_11ea_b2d9_acde48001122row0_col11\" class=\"data row0 col11\" ></td>\n",
       "                        <td id=\"T_3595f6ea_b403_11ea_b2d9_acde48001122row0_col12\" class=\"data row0 col12\" ></td>\n",
       "                        <td id=\"T_3595f6ea_b403_11ea_b2d9_acde48001122row0_col13\" class=\"data row0 col13\" ></td>\n",
       "                        <td id=\"T_3595f6ea_b403_11ea_b2d9_acde48001122row0_col14\" class=\"data row0 col14\" ></td>\n",
       "                        <td id=\"T_3595f6ea_b403_11ea_b2d9_acde48001122row0_col15\" class=\"data row0 col15\" ></td>\n",
       "            </tr>\n",
       "            <tr>\n",
       "                        <th id=\"T_3595f6ea_b403_11ea_b2d9_acde48001122level0_row1\" class=\"row_heading level0 row1\" >3</th>\n",
       "                        <td id=\"T_3595f6ea_b403_11ea_b2d9_acde48001122row1_col0\" class=\"data row1 col0\" >age</td>\n",
       "                        <td id=\"T_3595f6ea_b403_11ea_b2d9_acde48001122row1_col1\" class=\"data row1 col1\" >float64</td>\n",
       "                        <td id=\"T_3595f6ea_b403_11ea_b2d9_acde48001122row1_col2\" class=\"data row1 col2\" >891</td>\n",
       "                        <td id=\"T_3595f6ea_b403_11ea_b2d9_acde48001122row1_col3\" class=\"data row1 col3\" >88</td>\n",
       "                        <td id=\"T_3595f6ea_b403_11ea_b2d9_acde48001122row1_col4\" class=\"data row1 col4\" >177</td>\n",
       "                        <td id=\"T_3595f6ea_b403_11ea_b2d9_acde48001122row1_col5\" class=\"data row1 col5\" >19.870000</td>\n",
       "                        <td id=\"T_3595f6ea_b403_11ea_b2d9_acde48001122row1_col6\" class=\"data row1 col6\" >0</td>\n",
       "                        <td id=\"T_3595f6ea_b403_11ea_b2d9_acde48001122row1_col7\" class=\"data row1 col7\" >0.000000</td>\n",
       "                        <td id=\"T_3595f6ea_b403_11ea_b2d9_acde48001122row1_col8\" class=\"data row1 col8\" >714.000000</td>\n",
       "                        <td id=\"T_3595f6ea_b403_11ea_b2d9_acde48001122row1_col9\" class=\"data row1 col9\" >29.699118</td>\n",
       "                        <td id=\"T_3595f6ea_b403_11ea_b2d9_acde48001122row1_col10\" class=\"data row1 col10\" >14.526497</td>\n",
       "                        <td id=\"T_3595f6ea_b403_11ea_b2d9_acde48001122row1_col11\" class=\"data row1 col11\" >0.420000</td>\n",
       "                        <td id=\"T_3595f6ea_b403_11ea_b2d9_acde48001122row1_col12\" class=\"data row1 col12\" >20.125000</td>\n",
       "                        <td id=\"T_3595f6ea_b403_11ea_b2d9_acde48001122row1_col13\" class=\"data row1 col13\" >28.000000</td>\n",
       "                        <td id=\"T_3595f6ea_b403_11ea_b2d9_acde48001122row1_col14\" class=\"data row1 col14\" >38.000000</td>\n",
       "                        <td id=\"T_3595f6ea_b403_11ea_b2d9_acde48001122row1_col15\" class=\"data row1 col15\" >80.000000</td>\n",
       "            </tr>\n",
       "            <tr>\n",
       "                        <th id=\"T_3595f6ea_b403_11ea_b2d9_acde48001122level0_row2\" class=\"row_heading level0 row2\" >7</th>\n",
       "                        <td id=\"T_3595f6ea_b403_11ea_b2d9_acde48001122row2_col0\" class=\"data row2 col0\" >embarked</td>\n",
       "                        <td id=\"T_3595f6ea_b403_11ea_b2d9_acde48001122row2_col1\" class=\"data row2 col1\" >object</td>\n",
       "                        <td id=\"T_3595f6ea_b403_11ea_b2d9_acde48001122row2_col2\" class=\"data row2 col2\" >891</td>\n",
       "                        <td id=\"T_3595f6ea_b403_11ea_b2d9_acde48001122row2_col3\" class=\"data row2 col3\" >3</td>\n",
       "                        <td id=\"T_3595f6ea_b403_11ea_b2d9_acde48001122row2_col4\" class=\"data row2 col4\" >2</td>\n",
       "                        <td id=\"T_3595f6ea_b403_11ea_b2d9_acde48001122row2_col5\" class=\"data row2 col5\" >0.220000</td>\n",
       "                        <td id=\"T_3595f6ea_b403_11ea_b2d9_acde48001122row2_col6\" class=\"data row2 col6\" >0</td>\n",
       "                        <td id=\"T_3595f6ea_b403_11ea_b2d9_acde48001122row2_col7\" class=\"data row2 col7\" >0.000000</td>\n",
       "                        <td id=\"T_3595f6ea_b403_11ea_b2d9_acde48001122row2_col8\" class=\"data row2 col8\" ></td>\n",
       "                        <td id=\"T_3595f6ea_b403_11ea_b2d9_acde48001122row2_col9\" class=\"data row2 col9\" ></td>\n",
       "                        <td id=\"T_3595f6ea_b403_11ea_b2d9_acde48001122row2_col10\" class=\"data row2 col10\" ></td>\n",
       "                        <td id=\"T_3595f6ea_b403_11ea_b2d9_acde48001122row2_col11\" class=\"data row2 col11\" ></td>\n",
       "                        <td id=\"T_3595f6ea_b403_11ea_b2d9_acde48001122row2_col12\" class=\"data row2 col12\" ></td>\n",
       "                        <td id=\"T_3595f6ea_b403_11ea_b2d9_acde48001122row2_col13\" class=\"data row2 col13\" ></td>\n",
       "                        <td id=\"T_3595f6ea_b403_11ea_b2d9_acde48001122row2_col14\" class=\"data row2 col14\" ></td>\n",
       "                        <td id=\"T_3595f6ea_b403_11ea_b2d9_acde48001122row2_col15\" class=\"data row2 col15\" ></td>\n",
       "            </tr>\n",
       "            <tr>\n",
       "                        <th id=\"T_3595f6ea_b403_11ea_b2d9_acde48001122level0_row3\" class=\"row_heading level0 row3\" >12</th>\n",
       "                        <td id=\"T_3595f6ea_b403_11ea_b2d9_acde48001122row3_col0\" class=\"data row3 col0\" >embark_town</td>\n",
       "                        <td id=\"T_3595f6ea_b403_11ea_b2d9_acde48001122row3_col1\" class=\"data row3 col1\" >object</td>\n",
       "                        <td id=\"T_3595f6ea_b403_11ea_b2d9_acde48001122row3_col2\" class=\"data row3 col2\" >891</td>\n",
       "                        <td id=\"T_3595f6ea_b403_11ea_b2d9_acde48001122row3_col3\" class=\"data row3 col3\" >3</td>\n",
       "                        <td id=\"T_3595f6ea_b403_11ea_b2d9_acde48001122row3_col4\" class=\"data row3 col4\" >2</td>\n",
       "                        <td id=\"T_3595f6ea_b403_11ea_b2d9_acde48001122row3_col5\" class=\"data row3 col5\" >0.220000</td>\n",
       "                        <td id=\"T_3595f6ea_b403_11ea_b2d9_acde48001122row3_col6\" class=\"data row3 col6\" >0</td>\n",
       "                        <td id=\"T_3595f6ea_b403_11ea_b2d9_acde48001122row3_col7\" class=\"data row3 col7\" >0.000000</td>\n",
       "                        <td id=\"T_3595f6ea_b403_11ea_b2d9_acde48001122row3_col8\" class=\"data row3 col8\" ></td>\n",
       "                        <td id=\"T_3595f6ea_b403_11ea_b2d9_acde48001122row3_col9\" class=\"data row3 col9\" ></td>\n",
       "                        <td id=\"T_3595f6ea_b403_11ea_b2d9_acde48001122row3_col10\" class=\"data row3 col10\" ></td>\n",
       "                        <td id=\"T_3595f6ea_b403_11ea_b2d9_acde48001122row3_col11\" class=\"data row3 col11\" ></td>\n",
       "                        <td id=\"T_3595f6ea_b403_11ea_b2d9_acde48001122row3_col12\" class=\"data row3 col12\" ></td>\n",
       "                        <td id=\"T_3595f6ea_b403_11ea_b2d9_acde48001122row3_col13\" class=\"data row3 col13\" ></td>\n",
       "                        <td id=\"T_3595f6ea_b403_11ea_b2d9_acde48001122row3_col14\" class=\"data row3 col14\" ></td>\n",
       "                        <td id=\"T_3595f6ea_b403_11ea_b2d9_acde48001122row3_col15\" class=\"data row3 col15\" ></td>\n",
       "            </tr>\n",
       "            <tr>\n",
       "                        <th id=\"T_3595f6ea_b403_11ea_b2d9_acde48001122level0_row4\" class=\"row_heading level0 row4\" >5</th>\n",
       "                        <td id=\"T_3595f6ea_b403_11ea_b2d9_acde48001122row4_col0\" class=\"data row4 col0\" >parch</td>\n",
       "                        <td id=\"T_3595f6ea_b403_11ea_b2d9_acde48001122row4_col1\" class=\"data row4 col1\" >int64</td>\n",
       "                        <td id=\"T_3595f6ea_b403_11ea_b2d9_acde48001122row4_col2\" class=\"data row4 col2\" >891</td>\n",
       "                        <td id=\"T_3595f6ea_b403_11ea_b2d9_acde48001122row4_col3\" class=\"data row4 col3\" >7</td>\n",
       "                        <td id=\"T_3595f6ea_b403_11ea_b2d9_acde48001122row4_col4\" class=\"data row4 col4\" >0</td>\n",
       "                        <td id=\"T_3595f6ea_b403_11ea_b2d9_acde48001122row4_col5\" class=\"data row4 col5\" >0.000000</td>\n",
       "                        <td id=\"T_3595f6ea_b403_11ea_b2d9_acde48001122row4_col6\" class=\"data row4 col6\" >678</td>\n",
       "                        <td id=\"T_3595f6ea_b403_11ea_b2d9_acde48001122row4_col7\" class=\"data row4 col7\" >76.090000</td>\n",
       "                        <td id=\"T_3595f6ea_b403_11ea_b2d9_acde48001122row4_col8\" class=\"data row4 col8\" >891.000000</td>\n",
       "                        <td id=\"T_3595f6ea_b403_11ea_b2d9_acde48001122row4_col9\" class=\"data row4 col9\" >0.381594</td>\n",
       "                        <td id=\"T_3595f6ea_b403_11ea_b2d9_acde48001122row4_col10\" class=\"data row4 col10\" >0.806057</td>\n",
       "                        <td id=\"T_3595f6ea_b403_11ea_b2d9_acde48001122row4_col11\" class=\"data row4 col11\" >0.000000</td>\n",
       "                        <td id=\"T_3595f6ea_b403_11ea_b2d9_acde48001122row4_col12\" class=\"data row4 col12\" >0.000000</td>\n",
       "                        <td id=\"T_3595f6ea_b403_11ea_b2d9_acde48001122row4_col13\" class=\"data row4 col13\" >0.000000</td>\n",
       "                        <td id=\"T_3595f6ea_b403_11ea_b2d9_acde48001122row4_col14\" class=\"data row4 col14\" >0.000000</td>\n",
       "                        <td id=\"T_3595f6ea_b403_11ea_b2d9_acde48001122row4_col15\" class=\"data row4 col15\" >6.000000</td>\n",
       "            </tr>\n",
       "            <tr>\n",
       "                        <th id=\"T_3595f6ea_b403_11ea_b2d9_acde48001122level0_row5\" class=\"row_heading level0 row5\" >4</th>\n",
       "                        <td id=\"T_3595f6ea_b403_11ea_b2d9_acde48001122row5_col0\" class=\"data row5 col0\" >sibsp</td>\n",
       "                        <td id=\"T_3595f6ea_b403_11ea_b2d9_acde48001122row5_col1\" class=\"data row5 col1\" >int64</td>\n",
       "                        <td id=\"T_3595f6ea_b403_11ea_b2d9_acde48001122row5_col2\" class=\"data row5 col2\" >891</td>\n",
       "                        <td id=\"T_3595f6ea_b403_11ea_b2d9_acde48001122row5_col3\" class=\"data row5 col3\" >7</td>\n",
       "                        <td id=\"T_3595f6ea_b403_11ea_b2d9_acde48001122row5_col4\" class=\"data row5 col4\" >0</td>\n",
       "                        <td id=\"T_3595f6ea_b403_11ea_b2d9_acde48001122row5_col5\" class=\"data row5 col5\" >0.000000</td>\n",
       "                        <td id=\"T_3595f6ea_b403_11ea_b2d9_acde48001122row5_col6\" class=\"data row5 col6\" >608</td>\n",
       "                        <td id=\"T_3595f6ea_b403_11ea_b2d9_acde48001122row5_col7\" class=\"data row5 col7\" >68.240000</td>\n",
       "                        <td id=\"T_3595f6ea_b403_11ea_b2d9_acde48001122row5_col8\" class=\"data row5 col8\" >891.000000</td>\n",
       "                        <td id=\"T_3595f6ea_b403_11ea_b2d9_acde48001122row5_col9\" class=\"data row5 col9\" >0.523008</td>\n",
       "                        <td id=\"T_3595f6ea_b403_11ea_b2d9_acde48001122row5_col10\" class=\"data row5 col10\" >1.102743</td>\n",
       "                        <td id=\"T_3595f6ea_b403_11ea_b2d9_acde48001122row5_col11\" class=\"data row5 col11\" >0.000000</td>\n",
       "                        <td id=\"T_3595f6ea_b403_11ea_b2d9_acde48001122row5_col12\" class=\"data row5 col12\" >0.000000</td>\n",
       "                        <td id=\"T_3595f6ea_b403_11ea_b2d9_acde48001122row5_col13\" class=\"data row5 col13\" >0.000000</td>\n",
       "                        <td id=\"T_3595f6ea_b403_11ea_b2d9_acde48001122row5_col14\" class=\"data row5 col14\" >1.000000</td>\n",
       "                        <td id=\"T_3595f6ea_b403_11ea_b2d9_acde48001122row5_col15\" class=\"data row5 col15\" >8.000000</td>\n",
       "            </tr>\n",
       "            <tr>\n",
       "                        <th id=\"T_3595f6ea_b403_11ea_b2d9_acde48001122level0_row6\" class=\"row_heading level0 row6\" >0</th>\n",
       "                        <td id=\"T_3595f6ea_b403_11ea_b2d9_acde48001122row6_col0\" class=\"data row6 col0\" >survived</td>\n",
       "                        <td id=\"T_3595f6ea_b403_11ea_b2d9_acde48001122row6_col1\" class=\"data row6 col1\" >int64</td>\n",
       "                        <td id=\"T_3595f6ea_b403_11ea_b2d9_acde48001122row6_col2\" class=\"data row6 col2\" >891</td>\n",
       "                        <td id=\"T_3595f6ea_b403_11ea_b2d9_acde48001122row6_col3\" class=\"data row6 col3\" >2</td>\n",
       "                        <td id=\"T_3595f6ea_b403_11ea_b2d9_acde48001122row6_col4\" class=\"data row6 col4\" >0</td>\n",
       "                        <td id=\"T_3595f6ea_b403_11ea_b2d9_acde48001122row6_col5\" class=\"data row6 col5\" >0.000000</td>\n",
       "                        <td id=\"T_3595f6ea_b403_11ea_b2d9_acde48001122row6_col6\" class=\"data row6 col6\" >549</td>\n",
       "                        <td id=\"T_3595f6ea_b403_11ea_b2d9_acde48001122row6_col7\" class=\"data row6 col7\" >61.620000</td>\n",
       "                        <td id=\"T_3595f6ea_b403_11ea_b2d9_acde48001122row6_col8\" class=\"data row6 col8\" >891.000000</td>\n",
       "                        <td id=\"T_3595f6ea_b403_11ea_b2d9_acde48001122row6_col9\" class=\"data row6 col9\" >0.383838</td>\n",
       "                        <td id=\"T_3595f6ea_b403_11ea_b2d9_acde48001122row6_col10\" class=\"data row6 col10\" >0.486592</td>\n",
       "                        <td id=\"T_3595f6ea_b403_11ea_b2d9_acde48001122row6_col11\" class=\"data row6 col11\" >0.000000</td>\n",
       "                        <td id=\"T_3595f6ea_b403_11ea_b2d9_acde48001122row6_col12\" class=\"data row6 col12\" >0.000000</td>\n",
       "                        <td id=\"T_3595f6ea_b403_11ea_b2d9_acde48001122row6_col13\" class=\"data row6 col13\" >0.000000</td>\n",
       "                        <td id=\"T_3595f6ea_b403_11ea_b2d9_acde48001122row6_col14\" class=\"data row6 col14\" >1.000000</td>\n",
       "                        <td id=\"T_3595f6ea_b403_11ea_b2d9_acde48001122row6_col15\" class=\"data row6 col15\" >1.000000</td>\n",
       "            </tr>\n",
       "            <tr>\n",
       "                        <th id=\"T_3595f6ea_b403_11ea_b2d9_acde48001122level0_row7\" class=\"row_heading level0 row7\" >10</th>\n",
       "                        <td id=\"T_3595f6ea_b403_11ea_b2d9_acde48001122row7_col0\" class=\"data row7 col0\" >adult_male</td>\n",
       "                        <td id=\"T_3595f6ea_b403_11ea_b2d9_acde48001122row7_col1\" class=\"data row7 col1\" >bool</td>\n",
       "                        <td id=\"T_3595f6ea_b403_11ea_b2d9_acde48001122row7_col2\" class=\"data row7 col2\" >891</td>\n",
       "                        <td id=\"T_3595f6ea_b403_11ea_b2d9_acde48001122row7_col3\" class=\"data row7 col3\" >2</td>\n",
       "                        <td id=\"T_3595f6ea_b403_11ea_b2d9_acde48001122row7_col4\" class=\"data row7 col4\" >0</td>\n",
       "                        <td id=\"T_3595f6ea_b403_11ea_b2d9_acde48001122row7_col5\" class=\"data row7 col5\" >0.000000</td>\n",
       "                        <td id=\"T_3595f6ea_b403_11ea_b2d9_acde48001122row7_col6\" class=\"data row7 col6\" >354</td>\n",
       "                        <td id=\"T_3595f6ea_b403_11ea_b2d9_acde48001122row7_col7\" class=\"data row7 col7\" >39.730000</td>\n",
       "                        <td id=\"T_3595f6ea_b403_11ea_b2d9_acde48001122row7_col8\" class=\"data row7 col8\" ></td>\n",
       "                        <td id=\"T_3595f6ea_b403_11ea_b2d9_acde48001122row7_col9\" class=\"data row7 col9\" ></td>\n",
       "                        <td id=\"T_3595f6ea_b403_11ea_b2d9_acde48001122row7_col10\" class=\"data row7 col10\" ></td>\n",
       "                        <td id=\"T_3595f6ea_b403_11ea_b2d9_acde48001122row7_col11\" class=\"data row7 col11\" ></td>\n",
       "                        <td id=\"T_3595f6ea_b403_11ea_b2d9_acde48001122row7_col12\" class=\"data row7 col12\" ></td>\n",
       "                        <td id=\"T_3595f6ea_b403_11ea_b2d9_acde48001122row7_col13\" class=\"data row7 col13\" ></td>\n",
       "                        <td id=\"T_3595f6ea_b403_11ea_b2d9_acde48001122row7_col14\" class=\"data row7 col14\" ></td>\n",
       "                        <td id=\"T_3595f6ea_b403_11ea_b2d9_acde48001122row7_col15\" class=\"data row7 col15\" ></td>\n",
       "            </tr>\n",
       "            <tr>\n",
       "                        <th id=\"T_3595f6ea_b403_11ea_b2d9_acde48001122level0_row8\" class=\"row_heading level0 row8\" >14</th>\n",
       "                        <td id=\"T_3595f6ea_b403_11ea_b2d9_acde48001122row8_col0\" class=\"data row8 col0\" >alone</td>\n",
       "                        <td id=\"T_3595f6ea_b403_11ea_b2d9_acde48001122row8_col1\" class=\"data row8 col1\" >bool</td>\n",
       "                        <td id=\"T_3595f6ea_b403_11ea_b2d9_acde48001122row8_col2\" class=\"data row8 col2\" >891</td>\n",
       "                        <td id=\"T_3595f6ea_b403_11ea_b2d9_acde48001122row8_col3\" class=\"data row8 col3\" >2</td>\n",
       "                        <td id=\"T_3595f6ea_b403_11ea_b2d9_acde48001122row8_col4\" class=\"data row8 col4\" >0</td>\n",
       "                        <td id=\"T_3595f6ea_b403_11ea_b2d9_acde48001122row8_col5\" class=\"data row8 col5\" >0.000000</td>\n",
       "                        <td id=\"T_3595f6ea_b403_11ea_b2d9_acde48001122row8_col6\" class=\"data row8 col6\" >354</td>\n",
       "                        <td id=\"T_3595f6ea_b403_11ea_b2d9_acde48001122row8_col7\" class=\"data row8 col7\" >39.730000</td>\n",
       "                        <td id=\"T_3595f6ea_b403_11ea_b2d9_acde48001122row8_col8\" class=\"data row8 col8\" ></td>\n",
       "                        <td id=\"T_3595f6ea_b403_11ea_b2d9_acde48001122row8_col9\" class=\"data row8 col9\" ></td>\n",
       "                        <td id=\"T_3595f6ea_b403_11ea_b2d9_acde48001122row8_col10\" class=\"data row8 col10\" ></td>\n",
       "                        <td id=\"T_3595f6ea_b403_11ea_b2d9_acde48001122row8_col11\" class=\"data row8 col11\" ></td>\n",
       "                        <td id=\"T_3595f6ea_b403_11ea_b2d9_acde48001122row8_col12\" class=\"data row8 col12\" ></td>\n",
       "                        <td id=\"T_3595f6ea_b403_11ea_b2d9_acde48001122row8_col13\" class=\"data row8 col13\" ></td>\n",
       "                        <td id=\"T_3595f6ea_b403_11ea_b2d9_acde48001122row8_col14\" class=\"data row8 col14\" ></td>\n",
       "                        <td id=\"T_3595f6ea_b403_11ea_b2d9_acde48001122row8_col15\" class=\"data row8 col15\" ></td>\n",
       "            </tr>\n",
       "            <tr>\n",
       "                        <th id=\"T_3595f6ea_b403_11ea_b2d9_acde48001122level0_row9\" class=\"row_heading level0 row9\" >6</th>\n",
       "                        <td id=\"T_3595f6ea_b403_11ea_b2d9_acde48001122row9_col0\" class=\"data row9 col0\" >fare</td>\n",
       "                        <td id=\"T_3595f6ea_b403_11ea_b2d9_acde48001122row9_col1\" class=\"data row9 col1\" >float64</td>\n",
       "                        <td id=\"T_3595f6ea_b403_11ea_b2d9_acde48001122row9_col2\" class=\"data row9 col2\" >891</td>\n",
       "                        <td id=\"T_3595f6ea_b403_11ea_b2d9_acde48001122row9_col3\" class=\"data row9 col3\" >248</td>\n",
       "                        <td id=\"T_3595f6ea_b403_11ea_b2d9_acde48001122row9_col4\" class=\"data row9 col4\" >0</td>\n",
       "                        <td id=\"T_3595f6ea_b403_11ea_b2d9_acde48001122row9_col5\" class=\"data row9 col5\" >0.000000</td>\n",
       "                        <td id=\"T_3595f6ea_b403_11ea_b2d9_acde48001122row9_col6\" class=\"data row9 col6\" >15</td>\n",
       "                        <td id=\"T_3595f6ea_b403_11ea_b2d9_acde48001122row9_col7\" class=\"data row9 col7\" >1.680000</td>\n",
       "                        <td id=\"T_3595f6ea_b403_11ea_b2d9_acde48001122row9_col8\" class=\"data row9 col8\" >891.000000</td>\n",
       "                        <td id=\"T_3595f6ea_b403_11ea_b2d9_acde48001122row9_col9\" class=\"data row9 col9\" >32.204208</td>\n",
       "                        <td id=\"T_3595f6ea_b403_11ea_b2d9_acde48001122row9_col10\" class=\"data row9 col10\" >49.693429</td>\n",
       "                        <td id=\"T_3595f6ea_b403_11ea_b2d9_acde48001122row9_col11\" class=\"data row9 col11\" >0.000000</td>\n",
       "                        <td id=\"T_3595f6ea_b403_11ea_b2d9_acde48001122row9_col12\" class=\"data row9 col12\" >7.910400</td>\n",
       "                        <td id=\"T_3595f6ea_b403_11ea_b2d9_acde48001122row9_col13\" class=\"data row9 col13\" >14.454200</td>\n",
       "                        <td id=\"T_3595f6ea_b403_11ea_b2d9_acde48001122row9_col14\" class=\"data row9 col14\" >31.000000</td>\n",
       "                        <td id=\"T_3595f6ea_b403_11ea_b2d9_acde48001122row9_col15\" class=\"data row9 col15\" >512.329200</td>\n",
       "            </tr>\n",
       "            <tr>\n",
       "                        <th id=\"T_3595f6ea_b403_11ea_b2d9_acde48001122level0_row10\" class=\"row_heading level0 row10\" >1</th>\n",
       "                        <td id=\"T_3595f6ea_b403_11ea_b2d9_acde48001122row10_col0\" class=\"data row10 col0\" >pclass</td>\n",
       "                        <td id=\"T_3595f6ea_b403_11ea_b2d9_acde48001122row10_col1\" class=\"data row10 col1\" >int64</td>\n",
       "                        <td id=\"T_3595f6ea_b403_11ea_b2d9_acde48001122row10_col2\" class=\"data row10 col2\" >891</td>\n",
       "                        <td id=\"T_3595f6ea_b403_11ea_b2d9_acde48001122row10_col3\" class=\"data row10 col3\" >3</td>\n",
       "                        <td id=\"T_3595f6ea_b403_11ea_b2d9_acde48001122row10_col4\" class=\"data row10 col4\" >0</td>\n",
       "                        <td id=\"T_3595f6ea_b403_11ea_b2d9_acde48001122row10_col5\" class=\"data row10 col5\" >0.000000</td>\n",
       "                        <td id=\"T_3595f6ea_b403_11ea_b2d9_acde48001122row10_col6\" class=\"data row10 col6\" >0</td>\n",
       "                        <td id=\"T_3595f6ea_b403_11ea_b2d9_acde48001122row10_col7\" class=\"data row10 col7\" >0.000000</td>\n",
       "                        <td id=\"T_3595f6ea_b403_11ea_b2d9_acde48001122row10_col8\" class=\"data row10 col8\" >891.000000</td>\n",
       "                        <td id=\"T_3595f6ea_b403_11ea_b2d9_acde48001122row10_col9\" class=\"data row10 col9\" >2.308642</td>\n",
       "                        <td id=\"T_3595f6ea_b403_11ea_b2d9_acde48001122row10_col10\" class=\"data row10 col10\" >0.836071</td>\n",
       "                        <td id=\"T_3595f6ea_b403_11ea_b2d9_acde48001122row10_col11\" class=\"data row10 col11\" >1.000000</td>\n",
       "                        <td id=\"T_3595f6ea_b403_11ea_b2d9_acde48001122row10_col12\" class=\"data row10 col12\" >2.000000</td>\n",
       "                        <td id=\"T_3595f6ea_b403_11ea_b2d9_acde48001122row10_col13\" class=\"data row10 col13\" >3.000000</td>\n",
       "                        <td id=\"T_3595f6ea_b403_11ea_b2d9_acde48001122row10_col14\" class=\"data row10 col14\" >3.000000</td>\n",
       "                        <td id=\"T_3595f6ea_b403_11ea_b2d9_acde48001122row10_col15\" class=\"data row10 col15\" >3.000000</td>\n",
       "            </tr>\n",
       "            <tr>\n",
       "                        <th id=\"T_3595f6ea_b403_11ea_b2d9_acde48001122level0_row11\" class=\"row_heading level0 row11\" >2</th>\n",
       "                        <td id=\"T_3595f6ea_b403_11ea_b2d9_acde48001122row11_col0\" class=\"data row11 col0\" >sex</td>\n",
       "                        <td id=\"T_3595f6ea_b403_11ea_b2d9_acde48001122row11_col1\" class=\"data row11 col1\" >object</td>\n",
       "                        <td id=\"T_3595f6ea_b403_11ea_b2d9_acde48001122row11_col2\" class=\"data row11 col2\" >891</td>\n",
       "                        <td id=\"T_3595f6ea_b403_11ea_b2d9_acde48001122row11_col3\" class=\"data row11 col3\" >2</td>\n",
       "                        <td id=\"T_3595f6ea_b403_11ea_b2d9_acde48001122row11_col4\" class=\"data row11 col4\" >0</td>\n",
       "                        <td id=\"T_3595f6ea_b403_11ea_b2d9_acde48001122row11_col5\" class=\"data row11 col5\" >0.000000</td>\n",
       "                        <td id=\"T_3595f6ea_b403_11ea_b2d9_acde48001122row11_col6\" class=\"data row11 col6\" >0</td>\n",
       "                        <td id=\"T_3595f6ea_b403_11ea_b2d9_acde48001122row11_col7\" class=\"data row11 col7\" >0.000000</td>\n",
       "                        <td id=\"T_3595f6ea_b403_11ea_b2d9_acde48001122row11_col8\" class=\"data row11 col8\" ></td>\n",
       "                        <td id=\"T_3595f6ea_b403_11ea_b2d9_acde48001122row11_col9\" class=\"data row11 col9\" ></td>\n",
       "                        <td id=\"T_3595f6ea_b403_11ea_b2d9_acde48001122row11_col10\" class=\"data row11 col10\" ></td>\n",
       "                        <td id=\"T_3595f6ea_b403_11ea_b2d9_acde48001122row11_col11\" class=\"data row11 col11\" ></td>\n",
       "                        <td id=\"T_3595f6ea_b403_11ea_b2d9_acde48001122row11_col12\" class=\"data row11 col12\" ></td>\n",
       "                        <td id=\"T_3595f6ea_b403_11ea_b2d9_acde48001122row11_col13\" class=\"data row11 col13\" ></td>\n",
       "                        <td id=\"T_3595f6ea_b403_11ea_b2d9_acde48001122row11_col14\" class=\"data row11 col14\" ></td>\n",
       "                        <td id=\"T_3595f6ea_b403_11ea_b2d9_acde48001122row11_col15\" class=\"data row11 col15\" ></td>\n",
       "            </tr>\n",
       "            <tr>\n",
       "                        <th id=\"T_3595f6ea_b403_11ea_b2d9_acde48001122level0_row12\" class=\"row_heading level0 row12\" >8</th>\n",
       "                        <td id=\"T_3595f6ea_b403_11ea_b2d9_acde48001122row12_col0\" class=\"data row12 col0\" >class</td>\n",
       "                        <td id=\"T_3595f6ea_b403_11ea_b2d9_acde48001122row12_col1\" class=\"data row12 col1\" >category</td>\n",
       "                        <td id=\"T_3595f6ea_b403_11ea_b2d9_acde48001122row12_col2\" class=\"data row12 col2\" >891</td>\n",
       "                        <td id=\"T_3595f6ea_b403_11ea_b2d9_acde48001122row12_col3\" class=\"data row12 col3\" >3</td>\n",
       "                        <td id=\"T_3595f6ea_b403_11ea_b2d9_acde48001122row12_col4\" class=\"data row12 col4\" >0</td>\n",
       "                        <td id=\"T_3595f6ea_b403_11ea_b2d9_acde48001122row12_col5\" class=\"data row12 col5\" >0.000000</td>\n",
       "                        <td id=\"T_3595f6ea_b403_11ea_b2d9_acde48001122row12_col6\" class=\"data row12 col6\" >0</td>\n",
       "                        <td id=\"T_3595f6ea_b403_11ea_b2d9_acde48001122row12_col7\" class=\"data row12 col7\" >0.000000</td>\n",
       "                        <td id=\"T_3595f6ea_b403_11ea_b2d9_acde48001122row12_col8\" class=\"data row12 col8\" ></td>\n",
       "                        <td id=\"T_3595f6ea_b403_11ea_b2d9_acde48001122row12_col9\" class=\"data row12 col9\" ></td>\n",
       "                        <td id=\"T_3595f6ea_b403_11ea_b2d9_acde48001122row12_col10\" class=\"data row12 col10\" ></td>\n",
       "                        <td id=\"T_3595f6ea_b403_11ea_b2d9_acde48001122row12_col11\" class=\"data row12 col11\" ></td>\n",
       "                        <td id=\"T_3595f6ea_b403_11ea_b2d9_acde48001122row12_col12\" class=\"data row12 col12\" ></td>\n",
       "                        <td id=\"T_3595f6ea_b403_11ea_b2d9_acde48001122row12_col13\" class=\"data row12 col13\" ></td>\n",
       "                        <td id=\"T_3595f6ea_b403_11ea_b2d9_acde48001122row12_col14\" class=\"data row12 col14\" ></td>\n",
       "                        <td id=\"T_3595f6ea_b403_11ea_b2d9_acde48001122row12_col15\" class=\"data row12 col15\" ></td>\n",
       "            </tr>\n",
       "            <tr>\n",
       "                        <th id=\"T_3595f6ea_b403_11ea_b2d9_acde48001122level0_row13\" class=\"row_heading level0 row13\" >9</th>\n",
       "                        <td id=\"T_3595f6ea_b403_11ea_b2d9_acde48001122row13_col0\" class=\"data row13 col0\" >who</td>\n",
       "                        <td id=\"T_3595f6ea_b403_11ea_b2d9_acde48001122row13_col1\" class=\"data row13 col1\" >object</td>\n",
       "                        <td id=\"T_3595f6ea_b403_11ea_b2d9_acde48001122row13_col2\" class=\"data row13 col2\" >891</td>\n",
       "                        <td id=\"T_3595f6ea_b403_11ea_b2d9_acde48001122row13_col3\" class=\"data row13 col3\" >3</td>\n",
       "                        <td id=\"T_3595f6ea_b403_11ea_b2d9_acde48001122row13_col4\" class=\"data row13 col4\" >0</td>\n",
       "                        <td id=\"T_3595f6ea_b403_11ea_b2d9_acde48001122row13_col5\" class=\"data row13 col5\" >0.000000</td>\n",
       "                        <td id=\"T_3595f6ea_b403_11ea_b2d9_acde48001122row13_col6\" class=\"data row13 col6\" >0</td>\n",
       "                        <td id=\"T_3595f6ea_b403_11ea_b2d9_acde48001122row13_col7\" class=\"data row13 col7\" >0.000000</td>\n",
       "                        <td id=\"T_3595f6ea_b403_11ea_b2d9_acde48001122row13_col8\" class=\"data row13 col8\" ></td>\n",
       "                        <td id=\"T_3595f6ea_b403_11ea_b2d9_acde48001122row13_col9\" class=\"data row13 col9\" ></td>\n",
       "                        <td id=\"T_3595f6ea_b403_11ea_b2d9_acde48001122row13_col10\" class=\"data row13 col10\" ></td>\n",
       "                        <td id=\"T_3595f6ea_b403_11ea_b2d9_acde48001122row13_col11\" class=\"data row13 col11\" ></td>\n",
       "                        <td id=\"T_3595f6ea_b403_11ea_b2d9_acde48001122row13_col12\" class=\"data row13 col12\" ></td>\n",
       "                        <td id=\"T_3595f6ea_b403_11ea_b2d9_acde48001122row13_col13\" class=\"data row13 col13\" ></td>\n",
       "                        <td id=\"T_3595f6ea_b403_11ea_b2d9_acde48001122row13_col14\" class=\"data row13 col14\" ></td>\n",
       "                        <td id=\"T_3595f6ea_b403_11ea_b2d9_acde48001122row13_col15\" class=\"data row13 col15\" ></td>\n",
       "            </tr>\n",
       "            <tr>\n",
       "                        <th id=\"T_3595f6ea_b403_11ea_b2d9_acde48001122level0_row14\" class=\"row_heading level0 row14\" >13</th>\n",
       "                        <td id=\"T_3595f6ea_b403_11ea_b2d9_acde48001122row14_col0\" class=\"data row14 col0\" >alive</td>\n",
       "                        <td id=\"T_3595f6ea_b403_11ea_b2d9_acde48001122row14_col1\" class=\"data row14 col1\" >object</td>\n",
       "                        <td id=\"T_3595f6ea_b403_11ea_b2d9_acde48001122row14_col2\" class=\"data row14 col2\" >891</td>\n",
       "                        <td id=\"T_3595f6ea_b403_11ea_b2d9_acde48001122row14_col3\" class=\"data row14 col3\" >2</td>\n",
       "                        <td id=\"T_3595f6ea_b403_11ea_b2d9_acde48001122row14_col4\" class=\"data row14 col4\" >0</td>\n",
       "                        <td id=\"T_3595f6ea_b403_11ea_b2d9_acde48001122row14_col5\" class=\"data row14 col5\" >0.000000</td>\n",
       "                        <td id=\"T_3595f6ea_b403_11ea_b2d9_acde48001122row14_col6\" class=\"data row14 col6\" >0</td>\n",
       "                        <td id=\"T_3595f6ea_b403_11ea_b2d9_acde48001122row14_col7\" class=\"data row14 col7\" >0.000000</td>\n",
       "                        <td id=\"T_3595f6ea_b403_11ea_b2d9_acde48001122row14_col8\" class=\"data row14 col8\" ></td>\n",
       "                        <td id=\"T_3595f6ea_b403_11ea_b2d9_acde48001122row14_col9\" class=\"data row14 col9\" ></td>\n",
       "                        <td id=\"T_3595f6ea_b403_11ea_b2d9_acde48001122row14_col10\" class=\"data row14 col10\" ></td>\n",
       "                        <td id=\"T_3595f6ea_b403_11ea_b2d9_acde48001122row14_col11\" class=\"data row14 col11\" ></td>\n",
       "                        <td id=\"T_3595f6ea_b403_11ea_b2d9_acde48001122row14_col12\" class=\"data row14 col12\" ></td>\n",
       "                        <td id=\"T_3595f6ea_b403_11ea_b2d9_acde48001122row14_col13\" class=\"data row14 col13\" ></td>\n",
       "                        <td id=\"T_3595f6ea_b403_11ea_b2d9_acde48001122row14_col14\" class=\"data row14 col14\" ></td>\n",
       "                        <td id=\"T_3595f6ea_b403_11ea_b2d9_acde48001122row14_col15\" class=\"data row14 col15\" ></td>\n",
       "            </tr>\n",
       "    </tbody></table>"
      ],
      "text/plain": [
       "<pandas.io.formats.style.Styler at 0x7fc52809d810>"
      ]
     },
     "execution_count": 29,
     "metadata": {},
     "output_type": "execute_result"
    }
   ],
   "source": [
    "df.bp.get_column_descriptions()"
   ]
  },
  {
   "cell_type": "code",
   "execution_count": 30,
   "metadata": {
    "ExecuteTime": {
     "end_time": "2020-06-21T21:07:26.670379Z",
     "start_time": "2020-06-21T21:07:26.554577Z"
    }
   },
   "outputs": [
    {
     "data": {
      "text/plain": [
       "[]"
      ]
     },
     "execution_count": 30,
     "metadata": {},
     "output_type": "execute_result"
    }
   ],
   "source": [
    "df.bp.get_duplicate_columns()"
   ]
  },
  {
   "cell_type": "code",
   "execution_count": 31,
   "metadata": {
    "ExecuteTime": {
     "end_time": "2020-06-21T21:07:26.755436Z",
     "start_time": "2020-06-21T21:07:26.676342Z"
    }
   },
   "outputs": [
    {
     "data": {
      "text/plain": [
       "survived         int64\n",
       "pclass           int64\n",
       "sex             object\n",
       "age            float64\n",
       "sibsp            int64\n",
       "parch            int64\n",
       "fare           float64\n",
       "embarked        object\n",
       "class           object\n",
       "who             object\n",
       "adult_male        bool\n",
       "deck            object\n",
       "embark_town     object\n",
       "alive           object\n",
       "alone             bool\n",
       "dtype: object"
      ]
     },
     "execution_count": 31,
     "metadata": {},
     "output_type": "execute_result"
    }
   ],
   "source": [
    "df.dtypes"
   ]
  },
  {
   "cell_type": "code",
   "execution_count": 32,
   "metadata": {
    "ExecuteTime": {
     "end_time": "2020-06-21T21:07:26.895820Z",
     "start_time": "2020-06-21T21:07:26.786334Z"
    }
   },
   "outputs": [
    {
     "data": {
      "text/html": [
       "<div>\n",
       "<style scoped>\n",
       "    .dataframe tbody tr th:only-of-type {\n",
       "        vertical-align: middle;\n",
       "    }\n",
       "\n",
       "    .dataframe tbody tr th {\n",
       "        vertical-align: top;\n",
       "    }\n",
       "\n",
       "    .dataframe thead th {\n",
       "        text-align: right;\n",
       "    }\n",
       "</style>\n",
       "<table border=\"1\" class=\"dataframe\">\n",
       "  <thead>\n",
       "    <tr style=\"text-align: right;\">\n",
       "      <th></th>\n",
       "      <th>a</th>\n",
       "      <th>b</th>\n",
       "      <th>a_dup</th>\n",
       "    </tr>\n",
       "  </thead>\n",
       "  <tbody>\n",
       "    <tr>\n",
       "      <th>0</th>\n",
       "      <td>0</td>\n",
       "      <td>1</td>\n",
       "      <td>0</td>\n",
       "    </tr>\n",
       "    <tr>\n",
       "      <th>1</th>\n",
       "      <td>1</td>\n",
       "      <td>2</td>\n",
       "      <td>1</td>\n",
       "    </tr>\n",
       "    <tr>\n",
       "      <th>2</th>\n",
       "      <td>2</td>\n",
       "      <td>3</td>\n",
       "      <td>2</td>\n",
       "    </tr>\n",
       "  </tbody>\n",
       "</table>\n",
       "</div>"
      ],
      "text/plain": [
       "   a  b  a_dup\n",
       "0  0  1      0\n",
       "1  1  2      1\n",
       "2  2  3      2"
      ]
     },
     "execution_count": 32,
     "metadata": {},
     "output_type": "execute_result"
    }
   ],
   "source": [
    "df1 = pd.DataFrame({'a': range(3),'b':range(1,4),'a_dup':range(3)})\n",
    "df1"
   ]
  },
  {
   "cell_type": "code",
   "execution_count": 33,
   "metadata": {
    "ExecuteTime": {
     "end_time": "2020-06-21T21:07:27.012096Z",
     "start_time": "2020-06-21T21:07:26.903605Z"
    }
   },
   "outputs": [
    {
     "name": "stdout",
     "output_type": "stream",
     "text": [
      "a == a_dup\n"
     ]
    },
    {
     "data": {
      "text/plain": [
       "['a_dup']"
      ]
     },
     "execution_count": 33,
     "metadata": {},
     "output_type": "execute_result"
    }
   ],
   "source": [
    "df1.bp.get_duplicate_columns()"
   ]
  },
  {
   "cell_type": "code",
   "execution_count": 35,
   "metadata": {
    "ExecuteTime": {
     "end_time": "2020-06-21T21:07:53.676948Z",
     "start_time": "2020-06-21T21:07:51.689769Z"
    }
   },
   "outputs": [
    {
     "name": "stdout",
     "output_type": "stream",
     "text": [
      "\n",
      "Number of missing values features: 4\n",
      "cols_missing_high = []\n",
      "cols_missing_low = ['deck', 'age', 'embarked', 'embark_town']\n"
     ]
    },
    {
     "data": {
      "text/html": [
       "<style  type=\"text/css\" >\n",
       "    #T_4589eafc_b403_11ea_b2d9_acde48001122row0_col1 {\n",
       "            background:  salmon;\n",
       "        }    #T_4589eafc_b403_11ea_b2d9_acde48001122row0_col6 {\n",
       "            : ;\n",
       "            background-color:  #023858;\n",
       "            color:  #f1f1f1;\n",
       "        }    #T_4589eafc_b403_11ea_b2d9_acde48001122row0_col7 {\n",
       "            : ;\n",
       "            background-color:  #fff7fb;\n",
       "            color:  #000000;\n",
       "        }    #T_4589eafc_b403_11ea_b2d9_acde48001122row1_col6 {\n",
       "            : ;\n",
       "            background-color:  #ced0e6;\n",
       "            color:  #000000;\n",
       "        }    #T_4589eafc_b403_11ea_b2d9_acde48001122row1_col7 {\n",
       "            : ;\n",
       "            background-color:  #fff7fb;\n",
       "            color:  #000000;\n",
       "        }    #T_4589eafc_b403_11ea_b2d9_acde48001122row2_col1 {\n",
       "            background:  salmon;\n",
       "        }    #T_4589eafc_b403_11ea_b2d9_acde48001122row2_col6 {\n",
       "            : ;\n",
       "            background-color:  #fff7fb;\n",
       "            color:  #000000;\n",
       "        }    #T_4589eafc_b403_11ea_b2d9_acde48001122row2_col7 {\n",
       "            : ;\n",
       "            background-color:  #fff7fb;\n",
       "            color:  #000000;\n",
       "        }    #T_4589eafc_b403_11ea_b2d9_acde48001122row3_col1 {\n",
       "            background:  salmon;\n",
       "        }    #T_4589eafc_b403_11ea_b2d9_acde48001122row3_col6 {\n",
       "            : ;\n",
       "            background-color:  #fff7fb;\n",
       "            color:  #000000;\n",
       "        }    #T_4589eafc_b403_11ea_b2d9_acde48001122row3_col7 {\n",
       "            : ;\n",
       "            background-color:  #fff7fb;\n",
       "            color:  #000000;\n",
       "        }</style><table id=\"T_4589eafc_b403_11ea_b2d9_acde48001122\" ><thead>    <tr>        <th class=\"blank level0\" ></th>        <th class=\"col_heading level0 col0\" >Feature</th>        <th class=\"col_heading level0 col1\" >Type</th>        <th class=\"col_heading level0 col2\" >Count</th>        <th class=\"col_heading level0 col3\" >Missing</th>        <th class=\"col_heading level0 col4\" >Zeros</th>        <th class=\"col_heading level0 col5\" >Unique</th>        <th class=\"col_heading level0 col6\" >MissingPct</th>        <th class=\"col_heading level0 col7\" >ZerosPct</th>        <th class=\"col_heading level0 col8\" >count</th>        <th class=\"col_heading level0 col9\" >mean</th>        <th class=\"col_heading level0 col10\" >std</th>        <th class=\"col_heading level0 col11\" >min</th>        <th class=\"col_heading level0 col12\" >25%</th>        <th class=\"col_heading level0 col13\" >50%</th>        <th class=\"col_heading level0 col14\" >75%</th>        <th class=\"col_heading level0 col15\" >max</th>    </tr></thead><tbody>\n",
       "                <tr>\n",
       "                        <th id=\"T_4589eafc_b403_11ea_b2d9_acde48001122level0_row0\" class=\"row_heading level0 row0\" >11</th>\n",
       "                        <td id=\"T_4589eafc_b403_11ea_b2d9_acde48001122row0_col0\" class=\"data row0 col0\" >deck</td>\n",
       "                        <td id=\"T_4589eafc_b403_11ea_b2d9_acde48001122row0_col1\" class=\"data row0 col1\" >object</td>\n",
       "                        <td id=\"T_4589eafc_b403_11ea_b2d9_acde48001122row0_col2\" class=\"data row0 col2\" >891</td>\n",
       "                        <td id=\"T_4589eafc_b403_11ea_b2d9_acde48001122row0_col3\" class=\"data row0 col3\" >688</td>\n",
       "                        <td id=\"T_4589eafc_b403_11ea_b2d9_acde48001122row0_col4\" class=\"data row0 col4\" >0</td>\n",
       "                        <td id=\"T_4589eafc_b403_11ea_b2d9_acde48001122row0_col5\" class=\"data row0 col5\" >7</td>\n",
       "                        <td id=\"T_4589eafc_b403_11ea_b2d9_acde48001122row0_col6\" class=\"data row0 col6\" >77.220000</td>\n",
       "                        <td id=\"T_4589eafc_b403_11ea_b2d9_acde48001122row0_col7\" class=\"data row0 col7\" >0.000000</td>\n",
       "                        <td id=\"T_4589eafc_b403_11ea_b2d9_acde48001122row0_col8\" class=\"data row0 col8\" ></td>\n",
       "                        <td id=\"T_4589eafc_b403_11ea_b2d9_acde48001122row0_col9\" class=\"data row0 col9\" ></td>\n",
       "                        <td id=\"T_4589eafc_b403_11ea_b2d9_acde48001122row0_col10\" class=\"data row0 col10\" ></td>\n",
       "                        <td id=\"T_4589eafc_b403_11ea_b2d9_acde48001122row0_col11\" class=\"data row0 col11\" ></td>\n",
       "                        <td id=\"T_4589eafc_b403_11ea_b2d9_acde48001122row0_col12\" class=\"data row0 col12\" ></td>\n",
       "                        <td id=\"T_4589eafc_b403_11ea_b2d9_acde48001122row0_col13\" class=\"data row0 col13\" ></td>\n",
       "                        <td id=\"T_4589eafc_b403_11ea_b2d9_acde48001122row0_col14\" class=\"data row0 col14\" ></td>\n",
       "                        <td id=\"T_4589eafc_b403_11ea_b2d9_acde48001122row0_col15\" class=\"data row0 col15\" ></td>\n",
       "            </tr>\n",
       "            <tr>\n",
       "                        <th id=\"T_4589eafc_b403_11ea_b2d9_acde48001122level0_row1\" class=\"row_heading level0 row1\" >3</th>\n",
       "                        <td id=\"T_4589eafc_b403_11ea_b2d9_acde48001122row1_col0\" class=\"data row1 col0\" >age</td>\n",
       "                        <td id=\"T_4589eafc_b403_11ea_b2d9_acde48001122row1_col1\" class=\"data row1 col1\" >float64</td>\n",
       "                        <td id=\"T_4589eafc_b403_11ea_b2d9_acde48001122row1_col2\" class=\"data row1 col2\" >891</td>\n",
       "                        <td id=\"T_4589eafc_b403_11ea_b2d9_acde48001122row1_col3\" class=\"data row1 col3\" >177</td>\n",
       "                        <td id=\"T_4589eafc_b403_11ea_b2d9_acde48001122row1_col4\" class=\"data row1 col4\" >0</td>\n",
       "                        <td id=\"T_4589eafc_b403_11ea_b2d9_acde48001122row1_col5\" class=\"data row1 col5\" >88</td>\n",
       "                        <td id=\"T_4589eafc_b403_11ea_b2d9_acde48001122row1_col6\" class=\"data row1 col6\" >19.870000</td>\n",
       "                        <td id=\"T_4589eafc_b403_11ea_b2d9_acde48001122row1_col7\" class=\"data row1 col7\" >0.000000</td>\n",
       "                        <td id=\"T_4589eafc_b403_11ea_b2d9_acde48001122row1_col8\" class=\"data row1 col8\" >714.000000</td>\n",
       "                        <td id=\"T_4589eafc_b403_11ea_b2d9_acde48001122row1_col9\" class=\"data row1 col9\" >29.699118</td>\n",
       "                        <td id=\"T_4589eafc_b403_11ea_b2d9_acde48001122row1_col10\" class=\"data row1 col10\" >14.526497</td>\n",
       "                        <td id=\"T_4589eafc_b403_11ea_b2d9_acde48001122row1_col11\" class=\"data row1 col11\" >0.420000</td>\n",
       "                        <td id=\"T_4589eafc_b403_11ea_b2d9_acde48001122row1_col12\" class=\"data row1 col12\" >20.125000</td>\n",
       "                        <td id=\"T_4589eafc_b403_11ea_b2d9_acde48001122row1_col13\" class=\"data row1 col13\" >28.000000</td>\n",
       "                        <td id=\"T_4589eafc_b403_11ea_b2d9_acde48001122row1_col14\" class=\"data row1 col14\" >38.000000</td>\n",
       "                        <td id=\"T_4589eafc_b403_11ea_b2d9_acde48001122row1_col15\" class=\"data row1 col15\" >80.000000</td>\n",
       "            </tr>\n",
       "            <tr>\n",
       "                        <th id=\"T_4589eafc_b403_11ea_b2d9_acde48001122level0_row2\" class=\"row_heading level0 row2\" >7</th>\n",
       "                        <td id=\"T_4589eafc_b403_11ea_b2d9_acde48001122row2_col0\" class=\"data row2 col0\" >embarked</td>\n",
       "                        <td id=\"T_4589eafc_b403_11ea_b2d9_acde48001122row2_col1\" class=\"data row2 col1\" >object</td>\n",
       "                        <td id=\"T_4589eafc_b403_11ea_b2d9_acde48001122row2_col2\" class=\"data row2 col2\" >891</td>\n",
       "                        <td id=\"T_4589eafc_b403_11ea_b2d9_acde48001122row2_col3\" class=\"data row2 col3\" >2</td>\n",
       "                        <td id=\"T_4589eafc_b403_11ea_b2d9_acde48001122row2_col4\" class=\"data row2 col4\" >0</td>\n",
       "                        <td id=\"T_4589eafc_b403_11ea_b2d9_acde48001122row2_col5\" class=\"data row2 col5\" >3</td>\n",
       "                        <td id=\"T_4589eafc_b403_11ea_b2d9_acde48001122row2_col6\" class=\"data row2 col6\" >0.220000</td>\n",
       "                        <td id=\"T_4589eafc_b403_11ea_b2d9_acde48001122row2_col7\" class=\"data row2 col7\" >0.000000</td>\n",
       "                        <td id=\"T_4589eafc_b403_11ea_b2d9_acde48001122row2_col8\" class=\"data row2 col8\" ></td>\n",
       "                        <td id=\"T_4589eafc_b403_11ea_b2d9_acde48001122row2_col9\" class=\"data row2 col9\" ></td>\n",
       "                        <td id=\"T_4589eafc_b403_11ea_b2d9_acde48001122row2_col10\" class=\"data row2 col10\" ></td>\n",
       "                        <td id=\"T_4589eafc_b403_11ea_b2d9_acde48001122row2_col11\" class=\"data row2 col11\" ></td>\n",
       "                        <td id=\"T_4589eafc_b403_11ea_b2d9_acde48001122row2_col12\" class=\"data row2 col12\" ></td>\n",
       "                        <td id=\"T_4589eafc_b403_11ea_b2d9_acde48001122row2_col13\" class=\"data row2 col13\" ></td>\n",
       "                        <td id=\"T_4589eafc_b403_11ea_b2d9_acde48001122row2_col14\" class=\"data row2 col14\" ></td>\n",
       "                        <td id=\"T_4589eafc_b403_11ea_b2d9_acde48001122row2_col15\" class=\"data row2 col15\" ></td>\n",
       "            </tr>\n",
       "            <tr>\n",
       "                        <th id=\"T_4589eafc_b403_11ea_b2d9_acde48001122level0_row3\" class=\"row_heading level0 row3\" >12</th>\n",
       "                        <td id=\"T_4589eafc_b403_11ea_b2d9_acde48001122row3_col0\" class=\"data row3 col0\" >embark_town</td>\n",
       "                        <td id=\"T_4589eafc_b403_11ea_b2d9_acde48001122row3_col1\" class=\"data row3 col1\" >object</td>\n",
       "                        <td id=\"T_4589eafc_b403_11ea_b2d9_acde48001122row3_col2\" class=\"data row3 col2\" >891</td>\n",
       "                        <td id=\"T_4589eafc_b403_11ea_b2d9_acde48001122row3_col3\" class=\"data row3 col3\" >2</td>\n",
       "                        <td id=\"T_4589eafc_b403_11ea_b2d9_acde48001122row3_col4\" class=\"data row3 col4\" >0</td>\n",
       "                        <td id=\"T_4589eafc_b403_11ea_b2d9_acde48001122row3_col5\" class=\"data row3 col5\" >3</td>\n",
       "                        <td id=\"T_4589eafc_b403_11ea_b2d9_acde48001122row3_col6\" class=\"data row3 col6\" >0.220000</td>\n",
       "                        <td id=\"T_4589eafc_b403_11ea_b2d9_acde48001122row3_col7\" class=\"data row3 col7\" >0.000000</td>\n",
       "                        <td id=\"T_4589eafc_b403_11ea_b2d9_acde48001122row3_col8\" class=\"data row3 col8\" ></td>\n",
       "                        <td id=\"T_4589eafc_b403_11ea_b2d9_acde48001122row3_col9\" class=\"data row3 col9\" ></td>\n",
       "                        <td id=\"T_4589eafc_b403_11ea_b2d9_acde48001122row3_col10\" class=\"data row3 col10\" ></td>\n",
       "                        <td id=\"T_4589eafc_b403_11ea_b2d9_acde48001122row3_col11\" class=\"data row3 col11\" ></td>\n",
       "                        <td id=\"T_4589eafc_b403_11ea_b2d9_acde48001122row3_col12\" class=\"data row3 col12\" ></td>\n",
       "                        <td id=\"T_4589eafc_b403_11ea_b2d9_acde48001122row3_col13\" class=\"data row3 col13\" ></td>\n",
       "                        <td id=\"T_4589eafc_b403_11ea_b2d9_acde48001122row3_col14\" class=\"data row3 col14\" ></td>\n",
       "                        <td id=\"T_4589eafc_b403_11ea_b2d9_acde48001122row3_col15\" class=\"data row3 col15\" ></td>\n",
       "            </tr>\n",
       "    </tbody></table>"
      ],
      "text/plain": [
       "<pandas.io.formats.style.Styler at 0x7fc528b425d0>"
      ]
     },
     "execution_count": 35,
     "metadata": {},
     "output_type": "execute_result"
    },
    {
     "data": {
      "image/png": "[encoded data removed]",
      "text/plain": [
       "<Figure size 576x432 with 1 Axes>"
      ]
     },
     "metadata": {
      "image/png": {
       "height": 425,
       "width": 570
      }
     },
     "output_type": "display_data"
    }
   ],
   "source": [
    "df.bp.missing()"
   ]
  },
  {
   "cell_type": "code",
   "execution_count": null,
   "metadata": {},
   "outputs": [],
   "source": []
  }
 ],
 "metadata": {
  "kernelspec": {
   "display_name": "Python (dataSc)",
   "language": "python",
   "name": "datasc"
  },
  "language_info": {
   "codemirror_mode": {
    "name": "ipython",
    "version": 3
   },
   "file_extension": ".py",
   "mimetype": "text/x-python",
   "name": "python",
   "nbconvert_exporter": "python",
   "pygments_lexer": "ipython3",
   "version": "3.7.7"
  },
  "toc": {
   "base_numbering": 1,
   "nav_menu": {},
   "number_sections": true,
   "sideBar": true,
   "skip_h1_title": false,
   "title_cell": "Table of Contents",
   "title_sidebar": "Contents",
   "toc_cell": true,
   "toc_position": {},
   "toc_section_display": true,
   "toc_window_display": true
  }
 },
 "nbformat": 4,
 "nbformat_minor": 4
}
