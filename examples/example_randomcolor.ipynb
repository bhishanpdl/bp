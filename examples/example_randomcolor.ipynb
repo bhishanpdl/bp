{
 "cells": [
  {
   "cell_type": "markdown",
   "metadata": {
    "toc": true
   },
   "source": [
    "<h1>Table of Contents<span class=\"tocSkip\"></span></h1>\n",
    "<div class=\"toc\"><ul class=\"toc-item\"><li><span><a href=\"#Imports\" data-toc-modified-id=\"Imports-1\"><span class=\"toc-item-num\">1&nbsp;&nbsp;</span>Imports</a></span></li><li><span><a href=\"#Introduction\" data-toc-modified-id=\"Introduction-2\"><span class=\"toc-item-num\">2&nbsp;&nbsp;</span>Introduction</a></span><ul class=\"toc-item\"><li><ul class=\"toc-item\"><li><span><a href=\"#Options\" data-toc-modified-id=\"Options-2.0.1\"><span class=\"toc-item-num\">2.0.1&nbsp;&nbsp;</span>Options</a></span></li></ul></li></ul></li></ul></div>"
   ]
  },
  {
   "cell_type": "markdown",
   "metadata": {
    "ExecuteTime": {
     "end_time": "2020-07-29T14:45:02.928789Z",
     "start_time": "2020-07-29T14:45:02.926372Z"
    }
   },
   "source": [
    "# Imports"
   ]
  },
  {
   "cell_type": "code",
   "execution_count": 4,
   "metadata": {
    "ExecuteTime": {
     "end_time": "2021-07-11T15:56:04.431441Z",
     "start_time": "2021-07-11T15:56:04.365692Z"
    }
   },
   "outputs": [
    {
     "name": "stdout",
     "output_type": "stream",
     "text": [
      "The autoreload extension is already loaded. To reload it, use:\n",
      "  %reload_ext autoreload\n",
      "The watermark extension is already loaded. To reload it, use:\n",
      "  %reload_ext watermark\n",
      "Bhishan Poudel 2021-07-11 \n",
      "\n",
      "CPython 3.7.7\n",
      "IPython 7.22.0\n",
      "\n",
      "compiler   : Clang 4.0.1 (tags/RELEASE_401/final)\n",
      "system     : Darwin\n",
      "release    : 19.6.0\n",
      "machine    : x86_64\n",
      "processor  : i386\n",
      "CPU cores  : 4\n",
      "interpreter: 64bit\n",
      "numpy   1.19.5\n",
      "pandas  1.2.4\n",
      "seaborn 0.11.0\n",
      "\n"
     ]
    }
   ],
   "source": [
    "import numpy as np\n",
    "import pandas as pd\n",
    "import seaborn as sns\n",
    "\n",
    "%load_ext autoreload\n",
    "%load_ext watermark\n",
    "\n",
    "%autoreload 2\n",
    "%watermark -a \"Bhishan Poudel\" -d -v -m\n",
    "%watermark -iv"
   ]
  },
  {
   "cell_type": "code",
   "execution_count": 5,
   "metadata": {
    "ExecuteTime": {
     "end_time": "2021-07-11T15:56:04.488015Z",
     "start_time": "2021-07-11T15:56:04.435777Z"
    }
   },
   "outputs": [],
   "source": [
    "# my local library\n",
    "import sys\n",
    "sys.path.append(\"/Users/poudel/Dropbox/a00_Bhishan_Modules/\")\n",
    "sys.path.append(\"/Users/poudel/Dropbox/a00_Bhishan_Modules/bhishan\")\n",
    "from bhishan import bp"
   ]
  },
  {
   "cell_type": "code",
   "execution_count": 6,
   "metadata": {
    "ExecuteTime": {
     "end_time": "2021-07-11T15:56:04.530261Z",
     "start_time": "2021-07-11T15:56:04.491356Z"
    }
   },
   "outputs": [],
   "source": [
    "from bhishan import randomcolor"
   ]
  },
  {
   "cell_type": "markdown",
   "metadata": {},
   "source": [
    "# Introduction\n",
    "\n",
    "This projects is adapted from https://github.com/kevinwuhoo/randomcolor-py\n",
    "\n",
    "- https://github.com/davidmerfield/randomColor/blob/0.4.4/README.md\n",
    "\n",
    "### Options\n",
    "\n",
    "You can pass an options object to influence the type of color it produces. The options object accepts the following properties:\n",
    "\n",
    "**Hue** – Controls the hue of the generated color. You can pass a string representing a color name: ```red```, ```green```, ```blue```,  ```orange```, ```yellow```,  ```purple```, ```pink``` and ```monochrome``` are currently supported. RGB MYPPO\n",
    "\n",
    "**Luminosity** – Controls the luminosity of the generated color. You can specify a string containing ```bright```, ```light``` or ```dark```.\n",
    "\n",
    "**Count** – An integer which specifies the number of colors to generate.\n",
    "\n",
    "**Seed** - An integer or string which when passed will cause randomColor to return the same color each time.\n",
    "\n",
    "**Format** – A string which specifies the format of the generated color. Possible values are ```rgb```, ```rgbArray```, ```hsl```, ```hslArray``` and ```hex``` (default)."
   ]
  },
  {
   "cell_type": "code",
   "execution_count": 7,
   "metadata": {
    "ExecuteTime": {
     "end_time": "2021-07-11T15:56:04.571578Z",
     "start_time": "2021-07-11T15:56:04.533189Z"
    }
   },
   "outputs": [],
   "source": [
    "rand_color = randomcolor.RandomColor(42)"
   ]
  },
  {
   "cell_type": "code",
   "execution_count": 8,
   "metadata": {
    "ExecuteTime": {
     "end_time": "2021-07-11T15:56:04.615162Z",
     "start_time": "2021-07-11T15:56:04.573867Z"
    }
   },
   "outputs": [
    {
     "data": {
      "text/plain": [
       "['#e5a997', '#e87183', '#fca9c2']"
      ]
     },
     "execution_count": 8,
     "metadata": {},
     "output_type": "execute_result"
    }
   ],
   "source": [
    "from bhishan.randomcolor import RandomColor as RC\n",
    "\n",
    "RC(42).generate('red', count=3)"
   ]
  },
  {
   "cell_type": "code",
   "execution_count": 9,
   "metadata": {
    "ExecuteTime": {
     "end_time": "2021-07-11T15:56:04.665043Z",
     "start_time": "2021-07-11T15:56:04.617598Z"
    }
   },
   "outputs": [
    {
     "data": {
      "text/plain": [
       "['#e094be']"
      ]
     },
     "execution_count": 9,
     "metadata": {},
     "output_type": "execute_result"
    }
   ],
   "source": [
    "rand_color.generate()"
   ]
  },
  {
   "cell_type": "code",
   "execution_count": 10,
   "metadata": {
    "ExecuteTime": {
     "end_time": "2021-07-11T15:56:04.719017Z",
     "start_time": "2021-07-11T15:56:04.667595Z"
    }
   },
   "outputs": [
    {
     "data": {
      "text/plain": [
       "['#628fc9', '#92c8db', '#37217f']"
      ]
     },
     "execution_count": 10,
     "metadata": {},
     "output_type": "execute_result"
    }
   ],
   "source": [
    "rand_color.generate(hue=\"blue\", count=3)"
   ]
  },
  {
   "cell_type": "code",
   "execution_count": 11,
   "metadata": {
    "ExecuteTime": {
     "end_time": "2021-07-11T15:56:04.770912Z",
     "start_time": "2021-07-11T15:56:04.723553Z"
    }
   },
   "outputs": [
    {
     "data": {
      "text/plain": [
       "['#a0e5e8']"
      ]
     },
     "execution_count": 11,
     "metadata": {},
     "output_type": "execute_result"
    }
   ],
   "source": [
    "rand_color.generate(\"blue\", 3) # ONLY gives one color"
   ]
  },
  {
   "cell_type": "code",
   "execution_count": 12,
   "metadata": {
    "ExecuteTime": {
     "end_time": "2021-07-11T15:56:04.829093Z",
     "start_time": "2021-07-11T15:56:04.775327Z"
    }
   },
   "outputs": [
    {
     "data": {
      "text/plain": [
       "['#21ea1e', '#aa3211', '#e5026c']"
      ]
     },
     "execution_count": 12,
     "metadata": {},
     "output_type": "execute_result"
    }
   ],
   "source": [
    "rand_color.generate(luminosity='bright', count=3)"
   ]
  },
  {
   "cell_type": "code",
   "execution_count": 13,
   "metadata": {
    "ExecuteTime": {
     "end_time": "2021-07-11T15:56:04.882924Z",
     "start_time": "2021-07-11T15:56:04.833219Z"
    }
   },
   "outputs": [
    {
     "data": {
      "text/plain": [
       "['#d6790e', '#b2720a', '#d39c10']"
      ]
     },
     "execution_count": 13,
     "metadata": {},
     "output_type": "execute_result"
    }
   ],
   "source": [
    "rand_color.generate(hue='orange', luminosity='dark',count=3)"
   ]
  },
  {
   "cell_type": "code",
   "execution_count": 14,
   "metadata": {
    "ExecuteTime": {
     "end_time": "2021-07-11T15:56:04.936827Z",
     "start_time": "2021-07-11T15:56:04.886566Z"
    }
   },
   "outputs": [
    {
     "data": {
      "text/plain": [
       "['rgb(89, 89, 89)']"
      ]
     },
     "execution_count": 14,
     "metadata": {},
     "output_type": "execute_result"
    }
   ],
   "source": [
    "rand_color.generate(hue='monochrome', format_='rgb')"
   ]
  },
  {
   "cell_type": "code",
   "execution_count": null,
   "metadata": {},
   "outputs": [],
   "source": []
  }
 ],
 "metadata": {
  "kernelspec": {
   "display_name": "Python (dataSc)",
   "language": "python",
   "name": "datasc"
  },
  "language_info": {
   "codemirror_mode": {
    "name": "ipython",
    "version": 3
   },
   "file_extension": ".py",
   "mimetype": "text/x-python",
   "name": "python",
   "nbconvert_exporter": "python",
   "pygments_lexer": "ipython3",
   "version": "3.7.7"
  },
  "toc": {
   "base_numbering": 1,
   "nav_menu": {},
   "number_sections": true,
   "sideBar": true,
   "skip_h1_title": false,
   "title_cell": "Table of Contents",
   "title_sidebar": "Contents",
   "toc_cell": true,
   "toc_position": {},
   "toc_section_display": true,
   "toc_window_display": true
  },
  "varInspector": {
   "cols": {
    "lenName": 16,
    "lenType": 16,
    "lenVar": 40
   },
   "kernels_config": {
    "python": {
     "delete_cmd_postfix": "",
     "delete_cmd_prefix": "del ",
     "library": "var_list.py",
     "varRefreshCmd": "print(var_dic_list())"
    },
    "r": {
     "delete_cmd_postfix": ") ",
     "delete_cmd_prefix": "rm(",
     "library": "var_list.r",
     "varRefreshCmd": "cat(var_dic_list()) "
    }
   },
   "types_to_exclude": [
    "module",
    "function",
    "builtin_function_or_method",
    "instance",
    "_Feature"
   ],
   "window_display": false
  }
 },
 "nbformat": 4,
 "nbformat_minor": 4
}
