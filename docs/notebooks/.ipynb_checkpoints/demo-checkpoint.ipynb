{
 "cells": [
  {
   "cell_type": "markdown",
   "metadata": {
    "toc": true
   },
   "source": [
    "<h1>Table of Contents<span class=\"tocSkip\"></span></h1>\n",
    "<div class=\"toc\"><ul class=\"toc-item\"><li><span><a href=\"#bp-Demo\" data-toc-modified-id=\"bp-Demo-1\"><span class=\"toc-item-num\">1&nbsp;&nbsp;</span><code>bp</code> Demo</a></span></li><li><span><a href=\"#Parse-json-files\" data-toc-modified-id=\"Parse-json-files-2\"><span class=\"toc-item-num\">2&nbsp;&nbsp;</span>Parse json files</a></span><ul class=\"toc-item\"><li><span><a href=\"#Approximating-a-Gaussian\" data-toc-modified-id=\"Approximating-a-Gaussian-2.1\"><span class=\"toc-item-num\">2.1&nbsp;&nbsp;</span>Approximating a Gaussian</a></span><ul class=\"toc-item\"><li><span><a href=\"#Samples\" data-toc-modified-id=\"Samples-2.1.1\"><span class=\"toc-item-num\">2.1.1&nbsp;&nbsp;</span>Samples</a></span></li><li><span><a href=\"#Quantile-Parametrization\" data-toc-modified-id=\"Quantile-Parametrization-2.1.2\"><span class=\"toc-item-num\">2.1.2&nbsp;&nbsp;</span>Quantile Parametrization</a></span></li><li><span><a href=\"#Histogram-Parametrization\" data-toc-modified-id=\"Histogram-Parametrization-2.1.3\"><span class=\"toc-item-num\">2.1.3&nbsp;&nbsp;</span>Histogram Parametrization</a></span></li><li><span><a href=\"#Evaluating-the-Approximate-PDF-by-Interpolation\" data-toc-modified-id=\"Evaluating-the-Approximate-PDF-by-Interpolation-2.1.4\"><span class=\"toc-item-num\">2.1.4&nbsp;&nbsp;</span>Evaluating the Approximate PDF by Interpolation</a></span></li><li><span><a href=\"#The-&quot;Evaluated&quot;-or-&quot;Gridded&quot;-Parametrization\" data-toc-modified-id=\"The-&quot;Evaluated&quot;-or-&quot;Gridded&quot;-Parametrization-2.1.5\"><span class=\"toc-item-num\">2.1.5&nbsp;&nbsp;</span>The \"Evaluated\" or \"Gridded\" Parametrization</a></span></li><li><span><a href=\"#Mixture-Model-Fit\" data-toc-modified-id=\"Mixture-Model-Fit-2.1.6\"><span class=\"toc-item-num\">2.1.6&nbsp;&nbsp;</span>Mixture Model Fit</a></span></li></ul></li><li><span><a href=\"#Comparing-Parametrizations\" data-toc-modified-id=\"Comparing-Parametrizations-2.2\"><span class=\"toc-item-num\">2.2&nbsp;&nbsp;</span>Comparing Parametrizations</a></span><ul class=\"toc-item\"><li><span><a href=\"#Qualitative-Comparisons:-Plotting\" data-toc-modified-id=\"Qualitative-Comparisons:-Plotting-2.2.1\"><span class=\"toc-item-num\">2.2.1&nbsp;&nbsp;</span>Qualitative Comparisons: Plotting</a></span></li><li><span><a href=\"#Quantitative-Comparisons\" data-toc-modified-id=\"Quantitative-Comparisons-2.2.2\"><span class=\"toc-item-num\">2.2.2&nbsp;&nbsp;</span>Quantitative Comparisons</a></span></li></ul></li><li><span><a href=\"#Advanced-Usage\" data-toc-modified-id=\"Advanced-Usage-2.3\"><span class=\"toc-item-num\">2.3&nbsp;&nbsp;</span>Advanced Usage</a></span><ul class=\"toc-item\"><li><span><a href=\"#Composite-PDFs\" data-toc-modified-id=\"Composite-PDFs-2.3.1\"><span class=\"toc-item-num\">2.3.1&nbsp;&nbsp;</span>Composite PDFs</a></span></li><li><span><a href=\"#PDF-Ensembles\" data-toc-modified-id=\"PDF-Ensembles-2.3.2\"><span class=\"toc-item-num\">2.3.2&nbsp;&nbsp;</span>PDF Ensembles</a></span></li></ul></li></ul></li></ul></div>"
   ]
  },
  {
   "cell_type": "markdown",
   "metadata": {},
   "source": [
    "# `bp` Demo\n",
    "\n",
    "_Bhishan Poudel_\n",
    "\n",
    "In this notebook we use the `bp` module to test some of the functionalities.\n",
    "\n",
    " "
   ]
  },
  {
   "cell_type": "code",
   "execution_count": 1,
   "metadata": {
    "ExecuteTime": {
     "end_time": "2020-01-18T22:15:57.226926Z",
     "start_time": "2020-01-18T22:15:56.118099Z"
    }
   },
   "outputs": [],
   "source": [
    "import numpy as np\n",
    "import pandas as pd\n",
    "\n",
    "import matplotlib\n",
    "matplotlib.use('Agg')\n",
    "import matplotlib.pyplot as plt\n",
    "%matplotlib inline\n",
    "\n",
    "import bp\n",
    "\n",
    "pd.options.display.max_colwidth = 999"
   ]
  },
  {
   "cell_type": "markdown",
   "metadata": {},
   "source": [
    "# Parse json files\n",
    "\n",
    "This class parses the json column of a pandas dataframe."
   ]
  },
  {
   "cell_type": "code",
   "execution_count": 2,
   "metadata": {
    "ExecuteTime": {
     "end_time": "2020-01-18T22:15:57.306910Z",
     "start_time": "2020-01-18T22:15:57.230647Z"
    }
   },
   "outputs": [
    {
     "data": {
      "text/html": [
       "<div>\n",
       "<style scoped>\n",
       "    .dataframe tbody tr th:only-of-type {\n",
       "        vertical-align: middle;\n",
       "    }\n",
       "\n",
       "    .dataframe tbody tr th {\n",
       "        vertical-align: top;\n",
       "    }\n",
       "\n",
       "    .dataframe thead th {\n",
       "        text-align: right;\n",
       "    }\n",
       "</style>\n",
       "<table border=\"1\" class=\"dataframe\">\n",
       "  <thead>\n",
       "    <tr style=\"text-align: right;\">\n",
       "      <th></th>\n",
       "      <th>id</th>\n",
       "      <th>payload</th>\n",
       "    </tr>\n",
       "  </thead>\n",
       "  <tbody>\n",
       "    <tr>\n",
       "      <th>0</th>\n",
       "      <td>0</td>\n",
       "      <td>{\"analytics\": {\"device\": \"Desktop\",\\n                                        \"email_open_rate_pct\": 14.0},\\n                        \"industry\": \"Construction\",\\n                        \"time_in_product_mins\": 62.45}</td>\n",
       "    </tr>\n",
       "  </tbody>\n",
       "</table>\n",
       "</div>"
      ],
      "text/plain": [
       "   id  \\\n",
       "0   0   \n",
       "\n",
       "                                                                                                                                                                                                                   payload  \n",
       "0  {\"analytics\": {\"device\": \"Desktop\",\\n                                        \"email_open_rate_pct\": 14.0},\\n                        \"industry\": \"Construction\",\\n                        \"time_in_product_mins\": 62.45}  "
      ]
     },
     "execution_count": 2,
     "metadata": {},
     "output_type": "execute_result"
    }
   ],
   "source": [
    "df = pd.DataFrame({'id': [0],\n",
    "        'payload': [\"\"\"{\"analytics\": {\"device\": \"Desktop\",\n",
    "                                        \"email_open_rate_pct\": 14.0},\n",
    "                        \"industry\": \"Construction\",\n",
    "                        \"time_in_product_mins\": 62.45}\"\"\"]\n",
    "        })\n",
    "\n",
    "df"
   ]
  },
  {
   "cell_type": "code",
   "execution_count": 6,
   "metadata": {
    "ExecuteTime": {
     "end_time": "2020-01-18T22:16:59.017397Z",
     "start_time": "2020-01-18T22:16:58.990912Z"
    }
   },
   "outputs": [],
   "source": [
    "mj = bp.MyJson()\n",
    "\n",
    "df_out = mj.parse_json_col(df,'payload')"
   ]
  },
  {
   "cell_type": "code",
   "execution_count": 7,
   "metadata": {
    "ExecuteTime": {
     "end_time": "2020-01-18T22:17:07.074805Z",
     "start_time": "2020-01-18T22:17:07.040971Z"
    }
   },
   "outputs": [
    {
     "data": {
      "text/html": [
       "<div>\n",
       "<style scoped>\n",
       "    .dataframe tbody tr th:only-of-type {\n",
       "        vertical-align: middle;\n",
       "    }\n",
       "\n",
       "    .dataframe tbody tr th {\n",
       "        vertical-align: top;\n",
       "    }\n",
       "\n",
       "    .dataframe thead th {\n",
       "        text-align: right;\n",
       "    }\n",
       "</style>\n",
       "<table border=\"1\" class=\"dataframe\">\n",
       "  <thead>\n",
       "    <tr style=\"text-align: right;\">\n",
       "      <th></th>\n",
       "      <th>id</th>\n",
       "      <th>industry</th>\n",
       "      <th>time_in_product_mins</th>\n",
       "      <th>analytics.device</th>\n",
       "      <th>analytics.email_open_rate_pct</th>\n",
       "    </tr>\n",
       "    <tr>\n",
       "      <th>index</th>\n",
       "      <th></th>\n",
       "      <th></th>\n",
       "      <th></th>\n",
       "      <th></th>\n",
       "      <th></th>\n",
       "    </tr>\n",
       "  </thead>\n",
       "  <tbody>\n",
       "    <tr>\n",
       "      <th>0</th>\n",
       "      <td>0</td>\n",
       "      <td>Construction</td>\n",
       "      <td>62.45</td>\n",
       "      <td>Desktop</td>\n",
       "      <td>14.0</td>\n",
       "    </tr>\n",
       "  </tbody>\n",
       "</table>\n",
       "</div>"
      ],
      "text/plain": [
       "       id      industry  time_in_product_mins analytics.device  \\\n",
       "index                                                            \n",
       "0       0  Construction                 62.45          Desktop   \n",
       "\n",
       "       analytics.email_open_rate_pct  \n",
       "index                                 \n",
       "0                               14.0  "
      ]
     },
     "execution_count": 7,
     "metadata": {},
     "output_type": "execute_result"
    }
   ],
   "source": [
    "df_out"
   ]
  },
  {
   "cell_type": "code",
   "execution_count": null,
   "metadata": {},
   "outputs": [],
   "source": []
  }
 ],
 "metadata": {
  "kernelspec": {
   "display_name": "Python (tf2)",
   "language": "python",
   "name": "tf2"
  },
  "language_info": {
   "codemirror_mode": {
    "name": "ipython",
    "version": 3
   },
   "file_extension": ".py",
   "mimetype": "text/x-python",
   "name": "python",
   "nbconvert_exporter": "python",
   "pygments_lexer": "ipython3",
   "version": "3.7.5"
  },
  "toc": {
   "base_numbering": 1,
   "nav_menu": {},
   "number_sections": true,
   "sideBar": true,
   "skip_h1_title": false,
   "title_cell": "Table of Contents",
   "title_sidebar": "Contents",
   "toc_cell": true,
   "toc_position": {},
   "toc_section_display": true,
   "toc_window_display": true
  }
 },
 "nbformat": 4,
 "nbformat_minor": 1
}
